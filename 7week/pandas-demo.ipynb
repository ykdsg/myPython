{
 "cells": [
  {
   "cell_type": "code",
   "execution_count": null,
   "metadata": {
    "collapsed": true
   },
   "outputs": [],
   "source": [
    "# http://www.woshipm.com/data-analysis/756741.html\n",
    "import pandas as pd\n",
    "import numpy as np\n",
    "\n",
    "df = pd.read_csv('/Users/ykdsg/Documents/数据分析/7周数据分析练习/DataAnalyst.csv',encoding='gb2312')\n",
    "\n",
    "df"
   ]
  },
  {
   "cell_type": "code",
   "execution_count": null,
   "outputs": [],
   "source": [
    "df.info\n"
   ],
   "metadata": {
    "collapsed": false,
    "pycharm": {
     "name": "#%%\n"
    }
   }
  },
  {
   "cell_type": "code",
   "execution_count": null,
   "outputs": [],
   "source": [
    "len(df.positionId.unique())"
   ],
   "metadata": {
    "collapsed": false,
    "pycharm": {
     "name": "#%%\n"
    }
   }
  },
  {
   "cell_type": "code",
   "execution_count": null,
   "outputs": [],
   "source": [
    "# drop_duplicates函数通过subset参数选择以哪个列为去重基准。keep参数则是保留方式，first是保留第一个\n",
    "df_duplicates= df.drop_duplicates(subset='positionId',keep='first')\n",
    "df_duplicates.head(5)\n"
   ],
   "metadata": {
    "collapsed": false,
    "pycharm": {
     "name": "#%%\n"
    }
   }
  },
  {
   "cell_type": "code",
   "execution_count": null,
   "outputs": [],
   "source": [
    "def cut_word(word: str,method='bottom'):\n",
    "    position= word.find('-')\n",
    "    length = len(word)\n",
    "    if position != -1:\n",
    "        bottomSalary=int(word[:position-1])\n",
    "        topSalary=int(word[position+1:length-1])\n",
    "    else:\n",
    "        bottomSalary=int(word[:word.upper().find('K')])\n",
    "        topSalary=bottomSalary\n",
    "\n",
    "    if method=='top':\n",
    "        return topSalary\n",
    "    else:\n",
    "        return bottomSalary\n",
    "# apply将word_cut函数应用在salary列的所有行\n",
    "df_duplicates['bottomSalary']= df_duplicates.salary.apply(cut_word)\n",
    "df_duplicates['topSalary']= df_duplicates.salary.apply(cut_word,method='top')\n",
    "\n",
    "# df_duplicates.topSalary\n",
    "df_duplicates.bottomSalary=df_duplicates.bottomSalary.astype('int')\n",
    "df_duplicates.topSalary=df_duplicates.topSalary.astype('int')"
   ],
   "metadata": {
    "collapsed": false,
    "pycharm": {
     "name": "#%%\n"
    }
   }
  },
  {
   "cell_type": "code",
   "execution_count": null,
   "outputs": [],
   "source": [
    "df_duplicates['avgSalary']=df_duplicates.apply(lambda x:(x.bottomSalary+x.topSalary)/2,axis=1)\n"
   ],
   "metadata": {
    "collapsed": false,
    "pycharm": {
     "name": "#%%\n"
    }
   }
  },
  {
   "cell_type": "code",
   "execution_count": null,
   "outputs": [],
   "source": [
    "df_clean=df_duplicates[['city','companyShortName','companySize','education','positionName','positionLables','workYear','avgSalary']]\n",
    "df_clean.head"
   ],
   "metadata": {
    "collapsed": false,
    "pycharm": {
     "name": "#%%\n"
    }
   }
  },
  {
   "cell_type": "code",
   "execution_count": null,
   "outputs": [],
   "source": [
    "df_clean.city.value_counts()"
   ],
   "metadata": {
    "collapsed": false,
    "pycharm": {
     "name": "#%%\n"
    }
   }
  },
  {
   "cell_type": "code",
   "execution_count": null,
   "outputs": [],
   "source": [
    "# describe能快速生成各类统计指标\n",
    "df_clean.describe()"
   ],
   "metadata": {
    "collapsed": false,
    "pycharm": {
     "name": "#%%\n"
    }
   }
  },
  {
   "cell_type": "code",
   "execution_count": null,
   "outputs": [],
   "source": [
    "import matplotlib.pyplot as plt\n",
    "# plt.style.use(‘ggplot’)使用R语言中的ggplot2配色作为绘图风格，纯粹为了好看。\n",
    "plt.style.use('ggplot')\n",
    "# 用hist函数很方便的就绘制除出直方图\n",
    "df_clean.avgSalary.hist()"
   ],
   "metadata": {
    "collapsed": false,
    "pycharm": {
     "name": "#%%\n"
    }
   }
  },
  {
   "cell_type": "code",
   "execution_count": null,
   "outputs": [],
   "source": [
    "# 为了更细的粒度,将直方图的宽距继续缩小\n",
    "df_clean.avgSalary.hist(bins=15)\n",
    "\n"
   ],
   "metadata": {
    "collapsed": false,
    "pycharm": {
     "name": "#%%\n"
    }
   }
  },
  {
   "cell_type": "code",
   "execution_count": null,
   "outputs": [],
   "source": [
    "from matplotlib.font_manager import FontProperties\n",
    "# 图表默认用英文字体，而这里的都是中文，导致了冲突。所以需要改用matplotlib\n",
    "font_zh=FontProperties(fname='/Library/Fonts/Microsoft/Microsoft Yahei.ttf')\n",
    "# 箱型图，城市维度\n",
    "ax=df_clean.boxplot(column='avgSalary',by='city',figsize=(9,7))\n",
    "for label in ax.get_xticklabels():\n",
    "    label.set_fontproperties(font_zh)\n",
    "\n"
   ],
   "metadata": {
    "collapsed": false,
    "pycharm": {
     "name": "#%%\n"
    }
   }
  },
  {
   "cell_type": "code",
   "execution_count": null,
   "outputs": [],
   "source": [
    "# 箱型图，学历维度\n",
    "ax=df_clean.boxplot(column='avgSalary',by='education',figsize=(9,7))\n",
    "for label in ax.get_xticklabels():\n",
    "    label.set_fontproperties(font_zh)\n",
    "\n"
   ],
   "metadata": {
    "collapsed": false,
    "pycharm": {
     "name": "#%%\n"
    }
   }
  },
  {
   "cell_type": "code",
   "execution_count": null,
   "outputs": [],
   "source": [
    "# 箱型图，工作年限维度\n",
    "df_clean.sort_values('workYear')\n",
    "ax=df_clean.boxplot(column='avgSalary',by='workYear',figsize=(9,7))\n",
    "for label in ax.get_xticklabels():\n",
    "    label.set_fontproperties(font_zh)"
   ],
   "metadata": {
    "collapsed": false,
    "pycharm": {
     "name": "#%%\n"
    }
   }
  },
  {
   "cell_type": "code",
   "execution_count": null,
   "outputs": [],
   "source": [
    "# 箱型图，分析北京、上海学历维度\n",
    "df_sh_bj=df_clean[df_clean['city'].isin(['上海','北京'])]\n",
    "\n",
    "ax=df_sh_bj.boxplot(column='avgSalary',by=['education','city'],figsize=(14,6))\n",
    "for label in ax.get_xticklabels():\n",
    "    label.set_fontproperties(font_zh)\n"
   ],
   "metadata": {
    "collapsed": false,
    "pycharm": {
     "name": "#%%\n"
    }
   }
  },
  {
   "cell_type": "code",
   "execution_count": null,
   "outputs": [],
   "source": [
    "# 针对不同城市进行了分组,返回的是不同城市的各列计数结果\n",
    "df_clean.groupby('city').count()\n"
   ],
   "metadata": {
    "collapsed": false,
    "pycharm": {
     "name": "#%%\n"
    }
   }
  },
  {
   "cell_type": "code",
   "execution_count": null,
   "outputs": [],
   "source": [
    "# 计算出了不同城市的平均薪资。因为mean方法只针对数值，而各列中只有avgSalary是数值，于是返回了这个唯一结果。\n",
    "df_clean.groupby('city').mean()\n"
   ],
   "metadata": {
    "collapsed": false,
    "pycharm": {
     "name": "#%%\n"
    }
   }
  },
  {
   "cell_type": "code",
   "execution_count": null,
   "outputs": [],
   "source": [
    "# groupby可以传递一组列表，这时得到一组层次化的Series。按城市和学历分组计算了平均薪资\n",
    "# 再调用unstack方法，进行行列转置，这样看的就更清楚了\n",
    "df_clean.groupby(['city','education']).mean().unstack()"
   ],
   "metadata": {
    "collapsed": false,
    "pycharm": {
     "name": "#%%\n"
    }
   }
  },
  {
   "cell_type": "code",
   "execution_count": null,
   "outputs": [],
   "source": [
    "# 在groupby后面加一个avgSalary，说明只统计avgSalary的计数结果，不用混入相同数据\n",
    "df_clean.groupby(['city','education']).avgSalary.count().unstack()\n",
    "# 要求博士学历的岗位只有6个，所谓的平均薪资，也只取决于公司开出的价码，波动性很强，毕竟这只是招聘薪资，不代表真实的博士在职薪资\n"
   ],
   "metadata": {
    "collapsed": false,
    "pycharm": {
     "name": "#%%\n"
    }
   }
  },
  {
   "cell_type": "code",
   "execution_count": null,
   "outputs": [],
   "source": [
    "# agg函数，同时传入count和mean方法，然后返回了不同公司的计数和平均值两个结果\n",
    "# agg是一个很方便的函数，它能针对分组后的列数据进行丰富多彩的计算\n",
    "df_clean.groupby('companyShortName').avgSalary.agg(['count','mean']).sort_values(by='count',ascending=False)\n"
   ],
   "metadata": {
    "collapsed": false,
    "pycharm": {
     "name": "#%%\n"
    }
   }
  },
  {
   "cell_type": "code",
   "execution_count": null,
   "outputs": [],
   "source": [
    "# 计算出不同城市，招聘数据分析师需求前5的公司\n",
    "def topN(df,n=5):\n",
    "    counts=df.value_counts()\n",
    "    return counts.sort_values(ascending=False)[:n]\n",
    "\n",
    "df_clean.groupby('city').companyShortName.apply(topN)\n",
    "\n",
    "# agg和apply是不同的，虽然某些方法相近，比如求sum，count等，但是apply支持更细的粒度，它能按组进行复杂运算，将数据拆分合并，而agg则必须固定为列"
   ],
   "metadata": {
    "collapsed": false,
    "pycharm": {
     "name": "#%%\n"
    }
   }
  },
  {
   "cell_type": "code",
   "execution_count": 27,
   "outputs": [
    {
     "name": "stderr",
     "output_type": "stream",
     "text": [
      "/Users/ykdsg/anaconda3/lib/python3.7/site-packages/ipykernel_launcher.py:3: SettingWithCopyWarning: \n",
      "A value is trying to be set on a copy of a slice from a DataFrame.\n",
      "Try using .loc[row_indexer,col_indexer] = value instead\n",
      "\n",
      "See the caveats in the documentation: http://pandas.pydata.org/pandas-docs/stable/indexing.html#indexing-view-versus-copy\n",
      "  This is separate from the ipykernel package so we can avoid doing imports until\n"
     ]
    },
    {
     "data": {
      "text/plain": "      avgSalary  level\n0           8.0   5-10\n1          12.5  10-15\n2           5.0    3-5\n3           7.0   5-10\n4           2.5    0-3\n5          12.5  10-15\n6          10.5  10-15\n7           6.0   5-10\n8           6.0   5-10\n9           3.0    0-3\n10          5.5   5-10\n11          3.0    0-3\n12          2.5    0-3\n13          5.0    3-5\n14          6.0   5-10\n15         12.5  10-15\n16         12.5  10-15\n17          7.0   5-10\n18          2.5    0-3\n19          3.5    3-5\n20         14.0  10-15\n21          4.5    3-5\n22          7.0   5-10\n23          5.0    3-5\n24          5.0    3-5\n25          2.5    0-3\n26          4.5    3-5\n27         15.0  10-15\n28         12.5  10-15\n29          7.0   5-10\n...         ...    ...\n5019       30.0  20-30\n5020       20.0  15-20\n5021       11.5  10-15\n5022        7.0   5-10\n5023        6.5   5-10\n5024        3.0    0-3\n5025        6.0   5-10\n5026        7.0   5-10\n5027        7.5   5-10\n5028        6.5   5-10\n5029        5.0    3-5\n5030        4.0    3-5\n5031       12.5  10-15\n5032        9.0   5-10\n5033       11.5  10-15\n5034       15.0  10-15\n5035        9.0   5-10\n5036       17.5  15-20\n5037        4.5    3-5\n5038        5.0    3-5\n5039        7.0   5-10\n5040       16.0  15-20\n5041        3.5    3-5\n5042        4.0    3-5\n5043       11.5  10-15\n6054       20.0  15-20\n6330       22.5  20-30\n6465       35.0    30+\n6605        5.0    3-5\n6766       22.5  20-30\n\n[5031 rows x 2 columns]",
      "text/html": "<div>\n<style scoped>\n    .dataframe tbody tr th:only-of-type {\n        vertical-align: middle;\n    }\n\n    .dataframe tbody tr th {\n        vertical-align: top;\n    }\n\n    .dataframe thead th {\n        text-align: right;\n    }\n</style>\n<table border=\"1\" class=\"dataframe\">\n  <thead>\n    <tr style=\"text-align: right;\">\n      <th></th>\n      <th>avgSalary</th>\n      <th>level</th>\n    </tr>\n  </thead>\n  <tbody>\n    <tr>\n      <th>0</th>\n      <td>8.0</td>\n      <td>5-10</td>\n    </tr>\n    <tr>\n      <th>1</th>\n      <td>12.5</td>\n      <td>10-15</td>\n    </tr>\n    <tr>\n      <th>2</th>\n      <td>5.0</td>\n      <td>3-5</td>\n    </tr>\n    <tr>\n      <th>3</th>\n      <td>7.0</td>\n      <td>5-10</td>\n    </tr>\n    <tr>\n      <th>4</th>\n      <td>2.5</td>\n      <td>0-3</td>\n    </tr>\n    <tr>\n      <th>5</th>\n      <td>12.5</td>\n      <td>10-15</td>\n    </tr>\n    <tr>\n      <th>6</th>\n      <td>10.5</td>\n      <td>10-15</td>\n    </tr>\n    <tr>\n      <th>7</th>\n      <td>6.0</td>\n      <td>5-10</td>\n    </tr>\n    <tr>\n      <th>8</th>\n      <td>6.0</td>\n      <td>5-10</td>\n    </tr>\n    <tr>\n      <th>9</th>\n      <td>3.0</td>\n      <td>0-3</td>\n    </tr>\n    <tr>\n      <th>10</th>\n      <td>5.5</td>\n      <td>5-10</td>\n    </tr>\n    <tr>\n      <th>11</th>\n      <td>3.0</td>\n      <td>0-3</td>\n    </tr>\n    <tr>\n      <th>12</th>\n      <td>2.5</td>\n      <td>0-3</td>\n    </tr>\n    <tr>\n      <th>13</th>\n      <td>5.0</td>\n      <td>3-5</td>\n    </tr>\n    <tr>\n      <th>14</th>\n      <td>6.0</td>\n      <td>5-10</td>\n    </tr>\n    <tr>\n      <th>15</th>\n      <td>12.5</td>\n      <td>10-15</td>\n    </tr>\n    <tr>\n      <th>16</th>\n      <td>12.5</td>\n      <td>10-15</td>\n    </tr>\n    <tr>\n      <th>17</th>\n      <td>7.0</td>\n      <td>5-10</td>\n    </tr>\n    <tr>\n      <th>18</th>\n      <td>2.5</td>\n      <td>0-3</td>\n    </tr>\n    <tr>\n      <th>19</th>\n      <td>3.5</td>\n      <td>3-5</td>\n    </tr>\n    <tr>\n      <th>20</th>\n      <td>14.0</td>\n      <td>10-15</td>\n    </tr>\n    <tr>\n      <th>21</th>\n      <td>4.5</td>\n      <td>3-5</td>\n    </tr>\n    <tr>\n      <th>22</th>\n      <td>7.0</td>\n      <td>5-10</td>\n    </tr>\n    <tr>\n      <th>23</th>\n      <td>5.0</td>\n      <td>3-5</td>\n    </tr>\n    <tr>\n      <th>24</th>\n      <td>5.0</td>\n      <td>3-5</td>\n    </tr>\n    <tr>\n      <th>25</th>\n      <td>2.5</td>\n      <td>0-3</td>\n    </tr>\n    <tr>\n      <th>26</th>\n      <td>4.5</td>\n      <td>3-5</td>\n    </tr>\n    <tr>\n      <th>27</th>\n      <td>15.0</td>\n      <td>10-15</td>\n    </tr>\n    <tr>\n      <th>28</th>\n      <td>12.5</td>\n      <td>10-15</td>\n    </tr>\n    <tr>\n      <th>29</th>\n      <td>7.0</td>\n      <td>5-10</td>\n    </tr>\n    <tr>\n      <th>...</th>\n      <td>...</td>\n      <td>...</td>\n    </tr>\n    <tr>\n      <th>5019</th>\n      <td>30.0</td>\n      <td>20-30</td>\n    </tr>\n    <tr>\n      <th>5020</th>\n      <td>20.0</td>\n      <td>15-20</td>\n    </tr>\n    <tr>\n      <th>5021</th>\n      <td>11.5</td>\n      <td>10-15</td>\n    </tr>\n    <tr>\n      <th>5022</th>\n      <td>7.0</td>\n      <td>5-10</td>\n    </tr>\n    <tr>\n      <th>5023</th>\n      <td>6.5</td>\n      <td>5-10</td>\n    </tr>\n    <tr>\n      <th>5024</th>\n      <td>3.0</td>\n      <td>0-3</td>\n    </tr>\n    <tr>\n      <th>5025</th>\n      <td>6.0</td>\n      <td>5-10</td>\n    </tr>\n    <tr>\n      <th>5026</th>\n      <td>7.0</td>\n      <td>5-10</td>\n    </tr>\n    <tr>\n      <th>5027</th>\n      <td>7.5</td>\n      <td>5-10</td>\n    </tr>\n    <tr>\n      <th>5028</th>\n      <td>6.5</td>\n      <td>5-10</td>\n    </tr>\n    <tr>\n      <th>5029</th>\n      <td>5.0</td>\n      <td>3-5</td>\n    </tr>\n    <tr>\n      <th>5030</th>\n      <td>4.0</td>\n      <td>3-5</td>\n    </tr>\n    <tr>\n      <th>5031</th>\n      <td>12.5</td>\n      <td>10-15</td>\n    </tr>\n    <tr>\n      <th>5032</th>\n      <td>9.0</td>\n      <td>5-10</td>\n    </tr>\n    <tr>\n      <th>5033</th>\n      <td>11.5</td>\n      <td>10-15</td>\n    </tr>\n    <tr>\n      <th>5034</th>\n      <td>15.0</td>\n      <td>10-15</td>\n    </tr>\n    <tr>\n      <th>5035</th>\n      <td>9.0</td>\n      <td>5-10</td>\n    </tr>\n    <tr>\n      <th>5036</th>\n      <td>17.5</td>\n      <td>15-20</td>\n    </tr>\n    <tr>\n      <th>5037</th>\n      <td>4.5</td>\n      <td>3-5</td>\n    </tr>\n    <tr>\n      <th>5038</th>\n      <td>5.0</td>\n      <td>3-5</td>\n    </tr>\n    <tr>\n      <th>5039</th>\n      <td>7.0</td>\n      <td>5-10</td>\n    </tr>\n    <tr>\n      <th>5040</th>\n      <td>16.0</td>\n      <td>15-20</td>\n    </tr>\n    <tr>\n      <th>5041</th>\n      <td>3.5</td>\n      <td>3-5</td>\n    </tr>\n    <tr>\n      <th>5042</th>\n      <td>4.0</td>\n      <td>3-5</td>\n    </tr>\n    <tr>\n      <th>5043</th>\n      <td>11.5</td>\n      <td>10-15</td>\n    </tr>\n    <tr>\n      <th>6054</th>\n      <td>20.0</td>\n      <td>15-20</td>\n    </tr>\n    <tr>\n      <th>6330</th>\n      <td>22.5</td>\n      <td>20-30</td>\n    </tr>\n    <tr>\n      <th>6465</th>\n      <td>35.0</td>\n      <td>30+</td>\n    </tr>\n    <tr>\n      <th>6605</th>\n      <td>5.0</td>\n      <td>3-5</td>\n    </tr>\n    <tr>\n      <th>6766</th>\n      <td>22.5</td>\n      <td>20-30</td>\n    </tr>\n  </tbody>\n</table>\n<p>5031 rows × 2 columns</p>\n</div>"
     },
     "execution_count": 27,
     "metadata": {},
     "output_type": "execute_result"
    }
   ],
   "source": [
    "bins=[0,3,5,10,15,20,30,100]\n",
    "level=['0-3','3-5','5-10','10-15','15-20','20-30','30+']\n",
    "df_clean['level']=pd.cut(df_clean['avgSalary'],bins=bins,labels=level)\n",
    "# cut的作用是分桶，它也是数据分析常用的一种方法，将不同数据划分出不同等级，也就是将数值型数据加工成分类数据，在机器学习的特征工程中应用比较多。cut可以等距划分，传入一个数字就好。这里为了更好的区分，我传入了一组列表进行人工划分，加工成相应的标签\n",
    "\n",
    "df_clean[['avgSalary','level']]"
   ],
   "metadata": {
    "collapsed": false,
    "pycharm": {
     "name": "#%%\n"
    }
   }
  },
  {
   "cell_type": "code",
   "execution_count": 28,
   "outputs": [
    {
     "data": {
      "text/plain": "<Figure size 1008x432 with 1 Axes>",
      "image/png": "[encoded data removed]"
     },
     "metadata": {
      "needs_background": "light"
     },
     "output_type": "display_data"
    }
   ],
   "source": [
    "df_level = df_clean.groupby(['city','level']).avgSalary.count().unstack()\n",
    "df_level_prop=df_level.apply(lambda x:x/x.sum(),axis=1)\n",
    "ax=df_level_prop.plot.bar(stacked=True,figsize=(14,6))\n",
    "for label in ax.get_xticklabels():\n",
    "    label.set_fontproperties(font_zh)\n",
    "\n",
    "# 用lambda转换百分比，然后作堆积百分比柱形图(matplotlib好像没有直接调用的函数)。这里可以较为清晰的看到不同等级在不同地区的薪资占比。它比箱线图和直方图的好处在于，通过人工划分，具备业务含义。0～3是实习生的价位，3～6是刚毕业没有基础的新人，整理数据那种，6～10是有一定基础的，以此类推"
   ],
   "metadata": {
    "collapsed": false,
    "pycharm": {
     "name": "#%%\n"
    }
   }
  },
  {
   "cell_type": "code",
   "execution_count": null,
   "outputs": [],
   "source": [
    "\n"
   ],
   "metadata": {
    "collapsed": false,
    "pycharm": {
     "name": "#%%\n"
    }
   }
  }
 ],
 "metadata": {
  "kernelspec": {
   "display_name": "Python 3",
   "language": "python",
   "name": "python3"
  },
  "language_info": {
   "codemirror_mode": {
    "name": "ipython",
    "version": 2
   },
   "file_extension": ".py",
   "mimetype": "text/x-python",
   "name": "python",
   "nbconvert_exporter": "python",
   "pygments_lexer": "ipython2",
   "version": "2.7.6"
  }
 },
 "nbformat": 4,
 "nbformat_minor": 0
}