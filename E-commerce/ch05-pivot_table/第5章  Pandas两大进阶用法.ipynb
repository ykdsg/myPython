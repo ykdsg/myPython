{
 "cells": [
  {
   "metadata": {},
   "cell_type": "markdown",
   "source": "# 5.1 数据透视表",
   "id": "66273078fbfc804c"
  },
  {
   "cell_type": "code",
   "id": "initial_id",
   "metadata": {
    "collapsed": true,
    "ExecuteTime": {
     "end_time": "2025-07-14T02:59:59.270880Z",
     "start_time": "2025-07-14T02:59:59.002674Z"
    }
   },
   "source": [
    "import pandas as pd\n",
    "import os\n",
    "import warnings\n",
    "from common_util.openDataDir import getFullPath\n",
    "\n",
    "#忽略警告\n",
    "warnings.filterwarnings('ignore')\n",
    "#当数值过大时，Jupyter会默认显示科学计数法，这行代码设置不显示科学计数法，保留显示两位小数\n",
    "pd.set_option('display.float_format', lambda x: '%.2f' % x)"
   ],
   "outputs": [],
   "execution_count": 1
  },
  {
   "metadata": {
    "ExecuteTime": {
     "end_time": "2025-07-14T02:59:59.700847Z",
     "start_time": "2025-07-14T02:59:59.377079Z"
    }
   },
   "cell_type": "code",
   "source": [
    "filePath = getFullPath('第5章 Pandas两大进阶用法', '第5章 数据透视表案例数据.xlsx')\n",
    "data = pd.read_excel(filePath)\n",
    "print(data.info())\n",
    "data.head()"
   ],
   "id": "bdf63376d34e753",
   "outputs": [
    {
     "name": "stdout",
     "output_type": "stream",
     "text": [
      "<class 'pandas.core.frame.DataFrame'>\n",
      "RangeIndex: 1944 entries, 0 to 1943\n",
      "Data columns (total 7 columns):\n",
      " #   Column      Non-Null Count  Dtype  \n",
      "---  ------      --------------  -----  \n",
      " 0   user_id     1944 non-null   object \n",
      " 1   pay_month   1944 non-null   object \n",
      " 2   province    1944 non-null   object \n",
      " 3   city        1944 non-null   object \n",
      " 4   product_id  1944 non-null   object \n",
      " 5   payment     1944 non-null   float64\n",
      " 6   ct          1944 non-null   int64  \n",
      "dtypes: float64(1), int64(1), object(5)\n",
      "memory usage: 106.4+ KB\n",
      "None\n"
     ]
    },
    {
     "data": {
      "text/plain": [
       "   user_id pay_month province city product_id  payment  ct\n",
       "0  u000027   2023年1月      浙江省  金华市    PD00054    10.01   1\n",
       "1  u000027   2023年1月      浙江省  温州市    PD00008    89.79   1\n",
       "2  u000056   2023年1月      浙江省  绍兴市    PD00176   211.08   1\n",
       "3  u000209   2023年1月      江苏省  南京市    PD00476    48.92   2\n",
       "4  u000231   2023年1月      江苏省  徐州市    PD00237    14.90   1"
      ],
      "text/html": [
       "<div>\n",
       "<style scoped>\n",
       "    .dataframe tbody tr th:only-of-type {\n",
       "        vertical-align: middle;\n",
       "    }\n",
       "\n",
       "    .dataframe tbody tr th {\n",
       "        vertical-align: top;\n",
       "    }\n",
       "\n",
       "    .dataframe thead th {\n",
       "        text-align: right;\n",
       "    }\n",
       "</style>\n",
       "<table border=\"1\" class=\"dataframe\">\n",
       "  <thead>\n",
       "    <tr style=\"text-align: right;\">\n",
       "      <th></th>\n",
       "      <th>user_id</th>\n",
       "      <th>pay_month</th>\n",
       "      <th>province</th>\n",
       "      <th>city</th>\n",
       "      <th>product_id</th>\n",
       "      <th>payment</th>\n",
       "      <th>ct</th>\n",
       "    </tr>\n",
       "  </thead>\n",
       "  <tbody>\n",
       "    <tr>\n",
       "      <th>0</th>\n",
       "      <td>u000027</td>\n",
       "      <td>2023年1月</td>\n",
       "      <td>浙江省</td>\n",
       "      <td>金华市</td>\n",
       "      <td>PD00054</td>\n",
       "      <td>10.01</td>\n",
       "      <td>1</td>\n",
       "    </tr>\n",
       "    <tr>\n",
       "      <th>1</th>\n",
       "      <td>u000027</td>\n",
       "      <td>2023年1月</td>\n",
       "      <td>浙江省</td>\n",
       "      <td>温州市</td>\n",
       "      <td>PD00008</td>\n",
       "      <td>89.79</td>\n",
       "      <td>1</td>\n",
       "    </tr>\n",
       "    <tr>\n",
       "      <th>2</th>\n",
       "      <td>u000056</td>\n",
       "      <td>2023年1月</td>\n",
       "      <td>浙江省</td>\n",
       "      <td>绍兴市</td>\n",
       "      <td>PD00176</td>\n",
       "      <td>211.08</td>\n",
       "      <td>1</td>\n",
       "    </tr>\n",
       "    <tr>\n",
       "      <th>3</th>\n",
       "      <td>u000209</td>\n",
       "      <td>2023年1月</td>\n",
       "      <td>江苏省</td>\n",
       "      <td>南京市</td>\n",
       "      <td>PD00476</td>\n",
       "      <td>48.92</td>\n",
       "      <td>2</td>\n",
       "    </tr>\n",
       "    <tr>\n",
       "      <th>4</th>\n",
       "      <td>u000231</td>\n",
       "      <td>2023年1月</td>\n",
       "      <td>江苏省</td>\n",
       "      <td>徐州市</td>\n",
       "      <td>PD00237</td>\n",
       "      <td>14.90</td>\n",
       "      <td>1</td>\n",
       "    </tr>\n",
       "  </tbody>\n",
       "</table>\n",
       "</div>"
      ]
     },
     "execution_count": 2,
     "metadata": {},
     "output_type": "execute_result"
    }
   ],
   "execution_count": 2
  },
  {
   "metadata": {},
   "cell_type": "markdown",
   "source": "### 1.计算各省份的总销售金额（payment）和总购买商品件数（ct）",
   "id": "52f179af6def7ddb"
  },
  {
   "metadata": {
    "ExecuteTime": {
     "end_time": "2025-07-14T02:59:59.735804Z",
     "start_time": "2025-07-14T02:59:59.728276Z"
    }
   },
   "cell_type": "code",
   "source": [
    "# data：传入要进行透视的原始数据\n",
    "# index：行分组字段，用什么字段作为索引\n",
    "# columns：列分组字段\n",
    "# values：值字段，传入哪个字段的值参与计算\n",
    "# aggfunc：用什么方式计算，默认用均值\n",
    "t1 = pd.pivot_table(data, index='province', values=['payment', 'ct'], aggfunc='sum')\n",
    "\n",
    "t1.sort_values('payment', ascending=False).head()"
   ],
   "id": "ec512bb0227762c4",
   "outputs": [
    {
     "data": {
      "text/plain": [
       "           ct  payment\n",
       "province              \n",
       "上海市       233 85436.48\n",
       "浙江省       395 59970.63\n",
       "福建省       155 24312.67\n",
       "山东省       130 19757.25\n",
       "安徽省       200 18359.88"
      ],
      "text/html": [
       "<div>\n",
       "<style scoped>\n",
       "    .dataframe tbody tr th:only-of-type {\n",
       "        vertical-align: middle;\n",
       "    }\n",
       "\n",
       "    .dataframe tbody tr th {\n",
       "        vertical-align: top;\n",
       "    }\n",
       "\n",
       "    .dataframe thead th {\n",
       "        text-align: right;\n",
       "    }\n",
       "</style>\n",
       "<table border=\"1\" class=\"dataframe\">\n",
       "  <thead>\n",
       "    <tr style=\"text-align: right;\">\n",
       "      <th></th>\n",
       "      <th>ct</th>\n",
       "      <th>payment</th>\n",
       "    </tr>\n",
       "    <tr>\n",
       "      <th>province</th>\n",
       "      <th></th>\n",
       "      <th></th>\n",
       "    </tr>\n",
       "  </thead>\n",
       "  <tbody>\n",
       "    <tr>\n",
       "      <th>上海市</th>\n",
       "      <td>233</td>\n",
       "      <td>85436.48</td>\n",
       "    </tr>\n",
       "    <tr>\n",
       "      <th>浙江省</th>\n",
       "      <td>395</td>\n",
       "      <td>59970.63</td>\n",
       "    </tr>\n",
       "    <tr>\n",
       "      <th>福建省</th>\n",
       "      <td>155</td>\n",
       "      <td>24312.67</td>\n",
       "    </tr>\n",
       "    <tr>\n",
       "      <th>山东省</th>\n",
       "      <td>130</td>\n",
       "      <td>19757.25</td>\n",
       "    </tr>\n",
       "    <tr>\n",
       "      <th>安徽省</th>\n",
       "      <td>200</td>\n",
       "      <td>18359.88</td>\n",
       "    </tr>\n",
       "  </tbody>\n",
       "</table>\n",
       "</div>"
      ]
     },
     "execution_count": 3,
     "metadata": {},
     "output_type": "execute_result"
    }
   ],
   "execution_count": 3
  },
  {
   "metadata": {},
   "cell_type": "markdown",
   "source": "### 2.计算各省、市平均销售金额",
   "id": "3f46fc72d5a716e7"
  },
  {
   "metadata": {
    "ExecuteTime": {
     "end_time": "2025-07-14T02:59:59.827696Z",
     "start_time": "2025-07-14T02:59:59.816080Z"
    }
   },
   "cell_type": "code",
   "source": [
    "t2 = pd.pivot_table(data, index=['province', 'city'], values='payment', aggfunc='mean')\n",
    "\n",
    "t2.head(4)"
   ],
   "id": "d20b650e23907508",
   "outputs": [
    {
     "data": {
      "text/plain": [
       "               payment\n",
       "province city         \n",
       "上海市      上海市    540.74\n",
       "云南省      昆明市    194.78\n",
       "         普洱市     69.00\n",
       "         曲靖市     72.27"
      ],
      "text/html": [
       "<div>\n",
       "<style scoped>\n",
       "    .dataframe tbody tr th:only-of-type {\n",
       "        vertical-align: middle;\n",
       "    }\n",
       "\n",
       "    .dataframe tbody tr th {\n",
       "        vertical-align: top;\n",
       "    }\n",
       "\n",
       "    .dataframe thead th {\n",
       "        text-align: right;\n",
       "    }\n",
       "</style>\n",
       "<table border=\"1\" class=\"dataframe\">\n",
       "  <thead>\n",
       "    <tr style=\"text-align: right;\">\n",
       "      <th></th>\n",
       "      <th></th>\n",
       "      <th>payment</th>\n",
       "    </tr>\n",
       "    <tr>\n",
       "      <th>province</th>\n",
       "      <th>city</th>\n",
       "      <th></th>\n",
       "    </tr>\n",
       "  </thead>\n",
       "  <tbody>\n",
       "    <tr>\n",
       "      <th>上海市</th>\n",
       "      <th>上海市</th>\n",
       "      <td>540.74</td>\n",
       "    </tr>\n",
       "    <tr>\n",
       "      <th rowspan=\"3\" valign=\"top\">云南省</th>\n",
       "      <th>昆明市</th>\n",
       "      <td>194.78</td>\n",
       "    </tr>\n",
       "    <tr>\n",
       "      <th>普洱市</th>\n",
       "      <td>69.00</td>\n",
       "    </tr>\n",
       "    <tr>\n",
       "      <th>曲靖市</th>\n",
       "      <td>72.27</td>\n",
       "    </tr>\n",
       "  </tbody>\n",
       "</table>\n",
       "</div>"
      ]
     },
     "execution_count": 4,
     "metadata": {},
     "output_type": "execute_result"
    }
   ],
   "execution_count": 4
  },
  {
   "metadata": {},
   "cell_type": "markdown",
   "source": "### 3.计算各省、市不同月份的金额",
   "id": "666540fd69383fd0"
  },
  {
   "metadata": {
    "ExecuteTime": {
     "end_time": "2025-07-14T03:00:39.054501Z",
     "start_time": "2025-07-14T03:00:39.046819Z"
    }
   },
   "cell_type": "code",
   "source": [
    "t2 = pd.pivot_table(data, index=['province', 'city'], columns=['pay_month'], values='payment', aggfunc='sum',\n",
    "                    fill_value=0)\n",
    "\n",
    "t2.head(4)"
   ],
   "id": "19dc2f19e9eef8bb",
   "outputs": [
    {
     "data": {
      "text/plain": [
       "pay_month      2023年1月  2023年2月  2023年3月  2023年4月  2023年5月  2023年6月\n",
       "province city                                                      \n",
       "上海市      上海市  20372.08 12855.85 12309.89 17910.81 12421.65  9566.20\n",
       "云南省      昆明市    415.00   239.00     0.00   125.11     0.00     0.00\n",
       "         普洱市      0.00     0.00     0.00    69.00     0.00     0.00\n",
       "         曲靖市    161.50   214.70   195.10   168.00   128.00     0.00"
      ],
      "text/html": [
       "<div>\n",
       "<style scoped>\n",
       "    .dataframe tbody tr th:only-of-type {\n",
       "        vertical-align: middle;\n",
       "    }\n",
       "\n",
       "    .dataframe tbody tr th {\n",
       "        vertical-align: top;\n",
       "    }\n",
       "\n",
       "    .dataframe thead th {\n",
       "        text-align: right;\n",
       "    }\n",
       "</style>\n",
       "<table border=\"1\" class=\"dataframe\">\n",
       "  <thead>\n",
       "    <tr style=\"text-align: right;\">\n",
       "      <th></th>\n",
       "      <th>pay_month</th>\n",
       "      <th>2023年1月</th>\n",
       "      <th>2023年2月</th>\n",
       "      <th>2023年3月</th>\n",
       "      <th>2023年4月</th>\n",
       "      <th>2023年5月</th>\n",
       "      <th>2023年6月</th>\n",
       "    </tr>\n",
       "    <tr>\n",
       "      <th>province</th>\n",
       "      <th>city</th>\n",
       "      <th></th>\n",
       "      <th></th>\n",
       "      <th></th>\n",
       "      <th></th>\n",
       "      <th></th>\n",
       "      <th></th>\n",
       "    </tr>\n",
       "  </thead>\n",
       "  <tbody>\n",
       "    <tr>\n",
       "      <th>上海市</th>\n",
       "      <th>上海市</th>\n",
       "      <td>20372.08</td>\n",
       "      <td>12855.85</td>\n",
       "      <td>12309.89</td>\n",
       "      <td>17910.81</td>\n",
       "      <td>12421.65</td>\n",
       "      <td>9566.20</td>\n",
       "    </tr>\n",
       "    <tr>\n",
       "      <th rowspan=\"3\" valign=\"top\">云南省</th>\n",
       "      <th>昆明市</th>\n",
       "      <td>415.00</td>\n",
       "      <td>239.00</td>\n",
       "      <td>0.00</td>\n",
       "      <td>125.11</td>\n",
       "      <td>0.00</td>\n",
       "      <td>0.00</td>\n",
       "    </tr>\n",
       "    <tr>\n",
       "      <th>普洱市</th>\n",
       "      <td>0.00</td>\n",
       "      <td>0.00</td>\n",
       "      <td>0.00</td>\n",
       "      <td>69.00</td>\n",
       "      <td>0.00</td>\n",
       "      <td>0.00</td>\n",
       "    </tr>\n",
       "    <tr>\n",
       "      <th>曲靖市</th>\n",
       "      <td>161.50</td>\n",
       "      <td>214.70</td>\n",
       "      <td>195.10</td>\n",
       "      <td>168.00</td>\n",
       "      <td>128.00</td>\n",
       "      <td>0.00</td>\n",
       "    </tr>\n",
       "  </tbody>\n",
       "</table>\n",
       "</div>"
      ]
     },
     "execution_count": 6,
     "metadata": {},
     "output_type": "execute_result"
    }
   ],
   "execution_count": 6
  },
  {
   "metadata": {},
   "cell_type": "markdown",
   "source": "# 5.2 强大又灵活的apply",
   "id": "37cc68fe53c87929"
  },
  {
   "metadata": {},
   "cell_type": "markdown",
   "source": "## 5.2.2 apply计算最好、最差成绩",
   "id": "b9a2df3893177ba2"
  },
  {
   "metadata": {},
   "cell_type": "markdown",
   "source": [
    "### 1.背景和思路\n",
    "\n",
    "背景：我们拿到了一份4位同学三次模拟考试的成绩，想知道每位同学历次模拟中最好成绩和最差成绩分别是多少。\n",
    "\n",
    "思路：最好和最差，分别对应着max与min，我们先按姓名分组，再用apply函数返回对应的最大和最小值，最后将结果合并。"
   ],
   "id": "6000c13444d3bc11"
  },
  {
   "metadata": {
    "ExecuteTime": {
     "end_time": "2025-07-07T03:01:21.973266Z",
     "start_time": "2025-07-07T03:01:21.958063Z"
    }
   },
   "cell_type": "code",
   "source": [
    "filePath = getFullPath('第5章 Pandas两大进阶用法', '第5章 apply案例数据.xlsx')\n",
    "score = pd.read_excel(filePath, sheet_name='成绩表')\n",
    "score.head(6)"
   ],
   "id": "49acb36f826258b4",
   "outputs": [
    {
     "data": {
      "text/plain": [
       "   姓名  科目  综合成绩\n",
       "0  李华  一模   651\n",
       "1  李华  二模   579\n",
       "2  李华  三模   580\n",
       "3  王雷  一模   475\n",
       "4  王雷  二模   455\n",
       "5  王雷  三模   432"
      ],
      "text/html": [
       "<div>\n",
       "<style scoped>\n",
       "    .dataframe tbody tr th:only-of-type {\n",
       "        vertical-align: middle;\n",
       "    }\n",
       "\n",
       "    .dataframe tbody tr th {\n",
       "        vertical-align: top;\n",
       "    }\n",
       "\n",
       "    .dataframe thead th {\n",
       "        text-align: right;\n",
       "    }\n",
       "</style>\n",
       "<table border=\"1\" class=\"dataframe\">\n",
       "  <thead>\n",
       "    <tr style=\"text-align: right;\">\n",
       "      <th></th>\n",
       "      <th>姓名</th>\n",
       "      <th>科目</th>\n",
       "      <th>综合成绩</th>\n",
       "    </tr>\n",
       "  </thead>\n",
       "  <tbody>\n",
       "    <tr>\n",
       "      <th>0</th>\n",
       "      <td>李华</td>\n",
       "      <td>一模</td>\n",
       "      <td>651</td>\n",
       "    </tr>\n",
       "    <tr>\n",
       "      <th>1</th>\n",
       "      <td>李华</td>\n",
       "      <td>二模</td>\n",
       "      <td>579</td>\n",
       "    </tr>\n",
       "    <tr>\n",
       "      <th>2</th>\n",
       "      <td>李华</td>\n",
       "      <td>三模</td>\n",
       "      <td>580</td>\n",
       "    </tr>\n",
       "    <tr>\n",
       "      <th>3</th>\n",
       "      <td>王雷</td>\n",
       "      <td>一模</td>\n",
       "      <td>475</td>\n",
       "    </tr>\n",
       "    <tr>\n",
       "      <th>4</th>\n",
       "      <td>王雷</td>\n",
       "      <td>二模</td>\n",
       "      <td>455</td>\n",
       "    </tr>\n",
       "    <tr>\n",
       "      <th>5</th>\n",
       "      <td>王雷</td>\n",
       "      <td>三模</td>\n",
       "      <td>432</td>\n",
       "    </tr>\n",
       "  </tbody>\n",
       "</table>\n",
       "</div>"
      ]
     },
     "execution_count": 8,
     "metadata": {},
     "output_type": "execute_result"
    }
   ],
   "execution_count": 8
  },
  {
   "metadata": {},
   "cell_type": "markdown",
   "source": "#### 每位同学最高成绩",
   "id": "e491275b6e9ac3f"
  },
  {
   "metadata": {
    "ExecuteTime": {
     "end_time": "2025-07-07T03:04:03.903153Z",
     "start_time": "2025-07-07T03:04:03.897279Z"
    }
   },
   "cell_type": "code",
   "source": [
    "max_score = score.groupby('姓名')['综合成绩'].apply(max).reset_index()\n",
    "max_score"
   ],
   "id": "a851f24d5b9e3732",
   "outputs": [
    {
     "data": {
      "text/plain": [
       "    姓名  综合成绩\n",
       "0  张建国   691\n",
       "1   李华   651\n",
       "2  李子明   577\n",
       "3   王雷   475"
      ],
      "text/html": [
       "<div>\n",
       "<style scoped>\n",
       "    .dataframe tbody tr th:only-of-type {\n",
       "        vertical-align: middle;\n",
       "    }\n",
       "\n",
       "    .dataframe tbody tr th {\n",
       "        vertical-align: top;\n",
       "    }\n",
       "\n",
       "    .dataframe thead th {\n",
       "        text-align: right;\n",
       "    }\n",
       "</style>\n",
       "<table border=\"1\" class=\"dataframe\">\n",
       "  <thead>\n",
       "    <tr style=\"text-align: right;\">\n",
       "      <th></th>\n",
       "      <th>姓名</th>\n",
       "      <th>综合成绩</th>\n",
       "    </tr>\n",
       "  </thead>\n",
       "  <tbody>\n",
       "    <tr>\n",
       "      <th>0</th>\n",
       "      <td>张建国</td>\n",
       "      <td>691</td>\n",
       "    </tr>\n",
       "    <tr>\n",
       "      <th>1</th>\n",
       "      <td>李华</td>\n",
       "      <td>651</td>\n",
       "    </tr>\n",
       "    <tr>\n",
       "      <th>2</th>\n",
       "      <td>李子明</td>\n",
       "      <td>577</td>\n",
       "    </tr>\n",
       "    <tr>\n",
       "      <th>3</th>\n",
       "      <td>王雷</td>\n",
       "      <td>475</td>\n",
       "    </tr>\n",
       "  </tbody>\n",
       "</table>\n",
       "</div>"
      ]
     },
     "execution_count": 11,
     "metadata": {},
     "output_type": "execute_result"
    }
   ],
   "execution_count": 11
  },
  {
   "metadata": {
    "ExecuteTime": {
     "end_time": "2025-07-07T03:09:57.862082Z",
     "start_time": "2025-07-07T03:09:57.856569Z"
    }
   },
   "cell_type": "code",
   "source": [
    "# 使用上一章的agg 也可以实现同样功能\n",
    "max_score = score.groupby('姓名')['综合成绩'].agg(['max']).reset_index()\n",
    "max_score"
   ],
   "id": "e620999684bfcf3b",
   "outputs": [
    {
     "data": {
      "text/plain": [
       "    姓名  max\n",
       "0  张建国  691\n",
       "1   李华  651\n",
       "2  李子明  577\n",
       "3   王雷  475"
      ],
      "text/html": [
       "<div>\n",
       "<style scoped>\n",
       "    .dataframe tbody tr th:only-of-type {\n",
       "        vertical-align: middle;\n",
       "    }\n",
       "\n",
       "    .dataframe tbody tr th {\n",
       "        vertical-align: top;\n",
       "    }\n",
       "\n",
       "    .dataframe thead th {\n",
       "        text-align: right;\n",
       "    }\n",
       "</style>\n",
       "<table border=\"1\" class=\"dataframe\">\n",
       "  <thead>\n",
       "    <tr style=\"text-align: right;\">\n",
       "      <th></th>\n",
       "      <th>姓名</th>\n",
       "      <th>max</th>\n",
       "    </tr>\n",
       "  </thead>\n",
       "  <tbody>\n",
       "    <tr>\n",
       "      <th>0</th>\n",
       "      <td>张建国</td>\n",
       "      <td>691</td>\n",
       "    </tr>\n",
       "    <tr>\n",
       "      <th>1</th>\n",
       "      <td>李华</td>\n",
       "      <td>651</td>\n",
       "    </tr>\n",
       "    <tr>\n",
       "      <th>2</th>\n",
       "      <td>李子明</td>\n",
       "      <td>577</td>\n",
       "    </tr>\n",
       "    <tr>\n",
       "      <th>3</th>\n",
       "      <td>王雷</td>\n",
       "      <td>475</td>\n",
       "    </tr>\n",
       "  </tbody>\n",
       "</table>\n",
       "</div>"
      ]
     },
     "execution_count": 13,
     "metadata": {},
     "output_type": "execute_result"
    }
   ],
   "execution_count": 13
  },
  {
   "metadata": {
    "ExecuteTime": {
     "end_time": "2025-07-07T03:08:06.381703Z",
     "start_time": "2025-07-07T03:08:06.376499Z"
    }
   },
   "cell_type": "code",
   "source": [
    "# 最低成绩\n",
    "min_score = score.groupby('姓名')['综合成绩'].apply(min).reset_index()\n",
    "min_score"
   ],
   "id": "104e682ff87a9ff2",
   "outputs": [
    {
     "data": {
      "text/plain": [
       "    姓名  综合成绩\n",
       "0  张建国   553\n",
       "1   李华   579\n",
       "2  李子明   490\n",
       "3   王雷   432"
      ],
      "text/html": [
       "<div>\n",
       "<style scoped>\n",
       "    .dataframe tbody tr th:only-of-type {\n",
       "        vertical-align: middle;\n",
       "    }\n",
       "\n",
       "    .dataframe tbody tr th {\n",
       "        vertical-align: top;\n",
       "    }\n",
       "\n",
       "    .dataframe thead th {\n",
       "        text-align: right;\n",
       "    }\n",
       "</style>\n",
       "<table border=\"1\" class=\"dataframe\">\n",
       "  <thead>\n",
       "    <tr style=\"text-align: right;\">\n",
       "      <th></th>\n",
       "      <th>姓名</th>\n",
       "      <th>综合成绩</th>\n",
       "    </tr>\n",
       "  </thead>\n",
       "  <tbody>\n",
       "    <tr>\n",
       "      <th>0</th>\n",
       "      <td>张建国</td>\n",
       "      <td>553</td>\n",
       "    </tr>\n",
       "    <tr>\n",
       "      <th>1</th>\n",
       "      <td>李华</td>\n",
       "      <td>579</td>\n",
       "    </tr>\n",
       "    <tr>\n",
       "      <th>2</th>\n",
       "      <td>李子明</td>\n",
       "      <td>490</td>\n",
       "    </tr>\n",
       "    <tr>\n",
       "      <th>3</th>\n",
       "      <td>王雷</td>\n",
       "      <td>432</td>\n",
       "    </tr>\n",
       "  </tbody>\n",
       "</table>\n",
       "</div>"
      ]
     },
     "execution_count": 12,
     "metadata": {},
     "output_type": "execute_result"
    }
   ],
   "execution_count": 12
  },
  {
   "metadata": {},
   "cell_type": "markdown",
   "source": "#### 按姓名合并最好和最差成绩",
   "id": "ebdfe1c7af6092b"
  },
  {
   "metadata": {
    "ExecuteTime": {
     "end_time": "2025-07-07T03:14:16.437678Z",
     "start_time": "2025-07-07T03:14:16.427443Z"
    }
   },
   "cell_type": "code",
   "source": [
    "score_comb = pd.merge(max_score, min_score, left_on='姓名', right_on='姓名', how='inner')\n",
    "score_comb.columns = ['姓名', '最好成绩', '最差成绩']\n",
    "score_comb"
   ],
   "id": "5a3f5e8a08f8b4df",
   "outputs": [
    {
     "data": {
      "text/plain": [
       "    姓名  最好成绩  最差成绩\n",
       "0  张建国   691   553\n",
       "1   李华   651   579\n",
       "2  李子明   577   490\n",
       "3   王雷   475   432"
      ],
      "text/html": [
       "<div>\n",
       "<style scoped>\n",
       "    .dataframe tbody tr th:only-of-type {\n",
       "        vertical-align: middle;\n",
       "    }\n",
       "\n",
       "    .dataframe tbody tr th {\n",
       "        vertical-align: top;\n",
       "    }\n",
       "\n",
       "    .dataframe thead th {\n",
       "        text-align: right;\n",
       "    }\n",
       "</style>\n",
       "<table border=\"1\" class=\"dataframe\">\n",
       "  <thead>\n",
       "    <tr style=\"text-align: right;\">\n",
       "      <th></th>\n",
       "      <th>姓名</th>\n",
       "      <th>最好成绩</th>\n",
       "      <th>最差成绩</th>\n",
       "    </tr>\n",
       "  </thead>\n",
       "  <tbody>\n",
       "    <tr>\n",
       "      <th>0</th>\n",
       "      <td>张建国</td>\n",
       "      <td>691</td>\n",
       "      <td>553</td>\n",
       "    </tr>\n",
       "    <tr>\n",
       "      <th>1</th>\n",
       "      <td>李华</td>\n",
       "      <td>651</td>\n",
       "      <td>579</td>\n",
       "    </tr>\n",
       "    <tr>\n",
       "      <th>2</th>\n",
       "      <td>李子明</td>\n",
       "      <td>577</td>\n",
       "      <td>490</td>\n",
       "    </tr>\n",
       "    <tr>\n",
       "      <th>3</th>\n",
       "      <td>王雷</td>\n",
       "      <td>475</td>\n",
       "      <td>432</td>\n",
       "    </tr>\n",
       "  </tbody>\n",
       "</table>\n",
       "</div>"
      ]
     },
     "execution_count": 14,
     "metadata": {},
     "output_type": "execute_result"
    }
   ],
   "execution_count": 14
  },
  {
   "metadata": {
    "ExecuteTime": {
     "end_time": "2025-07-07T03:30:08.580901Z",
     "start_time": "2025-07-07T03:30:08.574989Z"
    }
   },
   "cell_type": "code",
   "source": [
    "# 这个例子使用agg貌似更简单、更合适\n",
    "score_comb = score.groupby('姓名')['综合成绩'].agg(['max', 'min']).reset_index()\n",
    "score_comb.columns = ['姓名', '最好成绩', '最差成绩']\n",
    "score_comb"
   ],
   "id": "32820f875c6d645d",
   "outputs": [
    {
     "data": {
      "text/plain": [
       "    姓名  最好成绩  最差成绩\n",
       "0  张建国   691   553\n",
       "1   李华   651   579\n",
       "2  李子明   577   490\n",
       "3   王雷   475   432"
      ],
      "text/html": [
       "<div>\n",
       "<style scoped>\n",
       "    .dataframe tbody tr th:only-of-type {\n",
       "        vertical-align: middle;\n",
       "    }\n",
       "\n",
       "    .dataframe tbody tr th {\n",
       "        vertical-align: top;\n",
       "    }\n",
       "\n",
       "    .dataframe thead th {\n",
       "        text-align: right;\n",
       "    }\n",
       "</style>\n",
       "<table border=\"1\" class=\"dataframe\">\n",
       "  <thead>\n",
       "    <tr style=\"text-align: right;\">\n",
       "      <th></th>\n",
       "      <th>姓名</th>\n",
       "      <th>最好成绩</th>\n",
       "      <th>最差成绩</th>\n",
       "    </tr>\n",
       "  </thead>\n",
       "  <tbody>\n",
       "    <tr>\n",
       "      <th>0</th>\n",
       "      <td>张建国</td>\n",
       "      <td>691</td>\n",
       "      <td>553</td>\n",
       "    </tr>\n",
       "    <tr>\n",
       "      <th>1</th>\n",
       "      <td>李华</td>\n",
       "      <td>651</td>\n",
       "      <td>579</td>\n",
       "    </tr>\n",
       "    <tr>\n",
       "      <th>2</th>\n",
       "      <td>李子明</td>\n",
       "      <td>577</td>\n",
       "      <td>490</td>\n",
       "    </tr>\n",
       "    <tr>\n",
       "      <th>3</th>\n",
       "      <td>王雷</td>\n",
       "      <td>475</td>\n",
       "      <td>432</td>\n",
       "    </tr>\n",
       "  </tbody>\n",
       "</table>\n",
       "</div>"
      ]
     },
     "execution_count": 27,
     "metadata": {},
     "output_type": "execute_result"
    }
   ],
   "execution_count": 27
  },
  {
   "metadata": {},
   "cell_type": "markdown",
   "source": "## 5.2.3 筛选每个分组下的第三名",
   "id": "af772b84afa77e21"
  },
  {
   "metadata": {},
   "cell_type": "markdown",
   "source": [
    "### 1.背景和思路\n",
    "每个省份销售排名第3的都是哪些城市，以及它们的销售额情况"
   ],
   "id": "a09fe4bff1ae5799"
  },
  {
   "metadata": {
    "ExecuteTime": {
     "end_time": "2025-07-07T03:19:23.081895Z",
     "start_time": "2025-07-07T03:19:23.063010Z"
    }
   },
   "cell_type": "code",
   "source": [
    "order = pd.read_excel(filePath, sheet_name='省市销售数据')\n",
    "print(order.info())\n",
    "order.head()"
   ],
   "id": "b646d7cb2528011c",
   "outputs": [
    {
     "name": "stdout",
     "output_type": "stream",
     "text": [
      "<class 'pandas.core.frame.DataFrame'>\n",
      "RangeIndex: 210 entries, 0 to 209\n",
      "Data columns (total 3 columns):\n",
      " #   Column  Non-Null Count  Dtype \n",
      "---  ------  --------------  ----- \n",
      " 0   省份      210 non-null    object\n",
      " 1   城市      210 non-null    object\n",
      " 2   近1月销售额  210 non-null    int64 \n",
      "dtypes: int64(1), object(2)\n",
      "memory usage: 5.1+ KB\n",
      "None\n"
     ]
    },
    {
     "data": {
      "text/plain": [
       "    省份   城市  近1月销售额\n",
       "0   重庆  重庆市  255343\n",
       "1  浙江省  金华市  302624\n",
       "2  浙江省  台州市  147853\n",
       "3  浙江省  舟山市  136547\n",
       "4  浙江省  杭州市  109073"
      ],
      "text/html": [
       "<div>\n",
       "<style scoped>\n",
       "    .dataframe tbody tr th:only-of-type {\n",
       "        vertical-align: middle;\n",
       "    }\n",
       "\n",
       "    .dataframe tbody tr th {\n",
       "        vertical-align: top;\n",
       "    }\n",
       "\n",
       "    .dataframe thead th {\n",
       "        text-align: right;\n",
       "    }\n",
       "</style>\n",
       "<table border=\"1\" class=\"dataframe\">\n",
       "  <thead>\n",
       "    <tr style=\"text-align: right;\">\n",
       "      <th></th>\n",
       "      <th>省份</th>\n",
       "      <th>城市</th>\n",
       "      <th>近1月销售额</th>\n",
       "    </tr>\n",
       "  </thead>\n",
       "  <tbody>\n",
       "    <tr>\n",
       "      <th>0</th>\n",
       "      <td>重庆</td>\n",
       "      <td>重庆市</td>\n",
       "      <td>255343</td>\n",
       "    </tr>\n",
       "    <tr>\n",
       "      <th>1</th>\n",
       "      <td>浙江省</td>\n",
       "      <td>金华市</td>\n",
       "      <td>302624</td>\n",
       "    </tr>\n",
       "    <tr>\n",
       "      <th>2</th>\n",
       "      <td>浙江省</td>\n",
       "      <td>台州市</td>\n",
       "      <td>147853</td>\n",
       "    </tr>\n",
       "    <tr>\n",
       "      <th>3</th>\n",
       "      <td>浙江省</td>\n",
       "      <td>舟山市</td>\n",
       "      <td>136547</td>\n",
       "    </tr>\n",
       "    <tr>\n",
       "      <th>4</th>\n",
       "      <td>浙江省</td>\n",
       "      <td>杭州市</td>\n",
       "      <td>109073</td>\n",
       "    </tr>\n",
       "  </tbody>\n",
       "</table>\n",
       "</div>"
      ]
     },
     "execution_count": 17,
     "metadata": {},
     "output_type": "execute_result"
    }
   ],
   "execution_count": 17
  },
  {
   "metadata": {},
   "cell_type": "markdown",
   "source": "#### 筛选每个省份销售排名第3的城市，要先进行排序",
   "id": "affed3281a53e858"
  },
  {
   "metadata": {
    "ExecuteTime": {
     "end_time": "2025-07-07T03:20:29.647103Z",
     "start_time": "2025-07-07T03:20:29.639121Z"
    }
   },
   "cell_type": "code",
   "source": [
    "order_rank = order.sort_values(['省份', '近1月销售额'], ascending=False)\n",
    "order_rank.head()"
   ],
   "id": "7ff248c5e2642590",
   "outputs": [
    {
     "data": {
      "text/plain": [
       "     省份   城市  近1月销售额\n",
       "37  陕西省  西安市  450490\n",
       "38  陕西省  延安市  120161\n",
       "39  陕西省  安康市   60456\n",
       "40  陕西省  汉中市   59391\n",
       "41  陕西省  咸阳市   47411"
      ],
      "text/html": [
       "<div>\n",
       "<style scoped>\n",
       "    .dataframe tbody tr th:only-of-type {\n",
       "        vertical-align: middle;\n",
       "    }\n",
       "\n",
       "    .dataframe tbody tr th {\n",
       "        vertical-align: top;\n",
       "    }\n",
       "\n",
       "    .dataframe thead th {\n",
       "        text-align: right;\n",
       "    }\n",
       "</style>\n",
       "<table border=\"1\" class=\"dataframe\">\n",
       "  <thead>\n",
       "    <tr style=\"text-align: right;\">\n",
       "      <th></th>\n",
       "      <th>省份</th>\n",
       "      <th>城市</th>\n",
       "      <th>近1月销售额</th>\n",
       "    </tr>\n",
       "  </thead>\n",
       "  <tbody>\n",
       "    <tr>\n",
       "      <th>37</th>\n",
       "      <td>陕西省</td>\n",
       "      <td>西安市</td>\n",
       "      <td>450490</td>\n",
       "    </tr>\n",
       "    <tr>\n",
       "      <th>38</th>\n",
       "      <td>陕西省</td>\n",
       "      <td>延安市</td>\n",
       "      <td>120161</td>\n",
       "    </tr>\n",
       "    <tr>\n",
       "      <th>39</th>\n",
       "      <td>陕西省</td>\n",
       "      <td>安康市</td>\n",
       "      <td>60456</td>\n",
       "    </tr>\n",
       "    <tr>\n",
       "      <th>40</th>\n",
       "      <td>陕西省</td>\n",
       "      <td>汉中市</td>\n",
       "      <td>59391</td>\n",
       "    </tr>\n",
       "    <tr>\n",
       "      <th>41</th>\n",
       "      <td>陕西省</td>\n",
       "      <td>咸阳市</td>\n",
       "      <td>47411</td>\n",
       "    </tr>\n",
       "  </tbody>\n",
       "</table>\n",
       "</div>"
      ]
     },
     "execution_count": 18,
     "metadata": {},
     "output_type": "execute_result"
    }
   ],
   "execution_count": 18
  },
  {
   "metadata": {},
   "cell_type": "markdown",
   "source": "#### 定义一个函数，用于筛选排名第三的值",
   "id": "a4a53cf959d35f6b"
  },
  {
   "metadata": {
    "ExecuteTime": {
     "end_time": "2025-07-07T03:23:46.032123Z",
     "start_time": "2025-07-07T03:23:46.029865Z"
    }
   },
   "cell_type": "code",
   "source": [
    "# 入参是一个DataFrame\n",
    "def get_third(x):\n",
    "    #如果分组长度小于或等于1，意味着该省份为直辖市\n",
    "    if len(x) <= 1:\n",
    "        #返回第0行的所有值，即直辖市本身的数据\n",
    "        return x.iloc[0, :]\n",
    "\n",
    "    #针对非直辖市\n",
    "    else:\n",
    "        #直接返回第3行（排名第3，索引是2）所有值（城市，近1月销售额）\n",
    "        return x.iloc[2, :]"
   ],
   "id": "622c7ea5e2195ed4",
   "outputs": [],
   "execution_count": 24
  },
  {
   "metadata": {},
   "cell_type": "markdown",
   "source": "#### 将函数和apply结合",
   "id": "4edcc56894d5fa4f"
  },
  {
   "metadata": {
    "ExecuteTime": {
     "end_time": "2025-07-07T03:24:20.065017Z",
     "start_time": "2025-07-07T03:23:56.733734Z"
    }
   },
   "cell_type": "code",
   "source": "order_rank.groupby('省份')[['城市', '近1月销售额']].apply(get_third)",
   "id": "b5069d60e61f4a04",
   "outputs": [
    {
     "data": {
      "text/plain": [
       "          城市  近1月销售额\n",
       "省份                  \n",
       "上海       上海市  139261\n",
       "云南省      昆明市  203210\n",
       "内蒙古自治区   兴安盟  258106\n",
       "北京       北京市  154682\n",
       "四川省      达州市  427285\n",
       "天津       天津市  510720\n",
       "安徽省      合肥市  179518\n",
       "山东省      菏泽市  187375\n",
       "山西省      临汾市  186931\n",
       "广东省      肇庆市  321218\n",
       "江苏省      镇江市  139625\n",
       "江西省      南昌市  141011\n",
       "河北省      邯郸市  127017\n",
       "河南省      焦作市  151812\n",
       "浙江省      舟山市  136547\n",
       "湖北省      襄阳市  194910\n",
       "湖南省      长沙市  163263\n",
       "甘肃省      天水市  119378\n",
       "福建省      莆田市  209084\n",
       "辽宁省     葫芦岛市  392363\n",
       "重庆       重庆市  255343\n",
       "陕西省      安康市   60456"
      ],
      "text/html": [
       "<div>\n",
       "<style scoped>\n",
       "    .dataframe tbody tr th:only-of-type {\n",
       "        vertical-align: middle;\n",
       "    }\n",
       "\n",
       "    .dataframe tbody tr th {\n",
       "        vertical-align: top;\n",
       "    }\n",
       "\n",
       "    .dataframe thead th {\n",
       "        text-align: right;\n",
       "    }\n",
       "</style>\n",
       "<table border=\"1\" class=\"dataframe\">\n",
       "  <thead>\n",
       "    <tr style=\"text-align: right;\">\n",
       "      <th></th>\n",
       "      <th>城市</th>\n",
       "      <th>近1月销售额</th>\n",
       "    </tr>\n",
       "    <tr>\n",
       "      <th>省份</th>\n",
       "      <th></th>\n",
       "      <th></th>\n",
       "    </tr>\n",
       "  </thead>\n",
       "  <tbody>\n",
       "    <tr>\n",
       "      <th>上海</th>\n",
       "      <td>上海市</td>\n",
       "      <td>139261</td>\n",
       "    </tr>\n",
       "    <tr>\n",
       "      <th>云南省</th>\n",
       "      <td>昆明市</td>\n",
       "      <td>203210</td>\n",
       "    </tr>\n",
       "    <tr>\n",
       "      <th>内蒙古自治区</th>\n",
       "      <td>兴安盟</td>\n",
       "      <td>258106</td>\n",
       "    </tr>\n",
       "    <tr>\n",
       "      <th>北京</th>\n",
       "      <td>北京市</td>\n",
       "      <td>154682</td>\n",
       "    </tr>\n",
       "    <tr>\n",
       "      <th>四川省</th>\n",
       "      <td>达州市</td>\n",
       "      <td>427285</td>\n",
       "    </tr>\n",
       "    <tr>\n",
       "      <th>天津</th>\n",
       "      <td>天津市</td>\n",
       "      <td>510720</td>\n",
       "    </tr>\n",
       "    <tr>\n",
       "      <th>安徽省</th>\n",
       "      <td>合肥市</td>\n",
       "      <td>179518</td>\n",
       "    </tr>\n",
       "    <tr>\n",
       "      <th>山东省</th>\n",
       "      <td>菏泽市</td>\n",
       "      <td>187375</td>\n",
       "    </tr>\n",
       "    <tr>\n",
       "      <th>山西省</th>\n",
       "      <td>临汾市</td>\n",
       "      <td>186931</td>\n",
       "    </tr>\n",
       "    <tr>\n",
       "      <th>广东省</th>\n",
       "      <td>肇庆市</td>\n",
       "      <td>321218</td>\n",
       "    </tr>\n",
       "    <tr>\n",
       "      <th>江苏省</th>\n",
       "      <td>镇江市</td>\n",
       "      <td>139625</td>\n",
       "    </tr>\n",
       "    <tr>\n",
       "      <th>江西省</th>\n",
       "      <td>南昌市</td>\n",
       "      <td>141011</td>\n",
       "    </tr>\n",
       "    <tr>\n",
       "      <th>河北省</th>\n",
       "      <td>邯郸市</td>\n",
       "      <td>127017</td>\n",
       "    </tr>\n",
       "    <tr>\n",
       "      <th>河南省</th>\n",
       "      <td>焦作市</td>\n",
       "      <td>151812</td>\n",
       "    </tr>\n",
       "    <tr>\n",
       "      <th>浙江省</th>\n",
       "      <td>舟山市</td>\n",
       "      <td>136547</td>\n",
       "    </tr>\n",
       "    <tr>\n",
       "      <th>湖北省</th>\n",
       "      <td>襄阳市</td>\n",
       "      <td>194910</td>\n",
       "    </tr>\n",
       "    <tr>\n",
       "      <th>湖南省</th>\n",
       "      <td>长沙市</td>\n",
       "      <td>163263</td>\n",
       "    </tr>\n",
       "    <tr>\n",
       "      <th>甘肃省</th>\n",
       "      <td>天水市</td>\n",
       "      <td>119378</td>\n",
       "    </tr>\n",
       "    <tr>\n",
       "      <th>福建省</th>\n",
       "      <td>莆田市</td>\n",
       "      <td>209084</td>\n",
       "    </tr>\n",
       "    <tr>\n",
       "      <th>辽宁省</th>\n",
       "      <td>葫芦岛市</td>\n",
       "      <td>392363</td>\n",
       "    </tr>\n",
       "    <tr>\n",
       "      <th>重庆</th>\n",
       "      <td>重庆市</td>\n",
       "      <td>255343</td>\n",
       "    </tr>\n",
       "    <tr>\n",
       "      <th>陕西省</th>\n",
       "      <td>安康市</td>\n",
       "      <td>60456</td>\n",
       "    </tr>\n",
       "  </tbody>\n",
       "</table>\n",
       "</div>"
      ]
     },
     "execution_count": 26,
     "metadata": {},
     "output_type": "execute_result"
    }
   ],
   "execution_count": 26
  }
 ],
 "metadata": {
  "kernelspec": {
   "display_name": "Python 3",
   "language": "python",
   "name": "python3"
  },
  "language_info": {
   "codemirror_mode": {
    "name": "ipython",
    "version": 2
   },
   "file_extension": ".py",
   "mimetype": "text/x-python",
   "name": "python",
   "nbconvert_exporter": "python",
   "pygments_lexer": "ipython2",
   "version": "2.7.6"
  }
 },
 "nbformat": 4,
 "nbformat_minor": 5
}
