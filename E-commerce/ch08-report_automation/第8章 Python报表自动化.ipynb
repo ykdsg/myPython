{
 "cells": [
  {
   "metadata": {},
   "cell_type": "markdown",
   "source": "# 8.1 行业数据报表自动化",
   "id": "82a83c87e58bbaf0"
  },
  {
   "metadata": {},
   "cell_type": "markdown",
   "source": [
    "## 8.1.1 案例背景\n",
    "#### 目标：筛选出2023年销售额总额TOP5的品牌以及对应的销售额\n",
    "#### 现在各行业数据杂乱分布在100多张表中"
   ],
   "id": "5e6b3af92f154413"
  },
  {
   "cell_type": "code",
   "id": "initial_id",
   "metadata": {
    "collapsed": true,
    "ExecuteTime": {
     "end_time": "2025-07-10T13:56:01.670100Z",
     "start_time": "2025-07-10T13:56:01.667242Z"
    }
   },
   "source": [
    "import os\n",
    "import pandas as pd\n",
    "from common_util.openDataDir import getFullPath\n",
    "import warnings\n",
    "\n",
    "#忽略警告\n",
    "warnings.filterwarnings('ignore')\n"
   ],
   "outputs": [],
   "execution_count": 20
  },
  {
   "metadata": {},
   "cell_type": "markdown",
   "source": "## 8.1.2 单个表格处理",
   "id": "727ce127d55a3665"
  },
  {
   "metadata": {
    "ExecuteTime": {
     "end_time": "2025-07-10T13:49:41.869596Z",
     "start_time": "2025-07-10T13:49:41.839704Z"
    }
   },
   "cell_type": "code",
   "source": [
    "fileName = '垂钓装备&绑钩器.xlsx'\n",
    "filePath = getFullPath('第8章 Python报表自动化/相关数据', fileName)\n",
    "df = pd.read_excel(filePath)\n",
    "df.head()"
   ],
   "id": "bb326f6d9365be73",
   "outputs": [
    {
     "data": {
      "text/plain": [
       "        日期     品牌     访客数  转化率  客单价 三级类目      详细类目\n",
       "0  2023-12  品牌-17  343731 0.03   40  绑钩器  垂钓装备&绑钩器\n",
       "1  2023-12  品牌-12   21850 0.02  286  绑钩器  垂钓装备&绑钩器\n",
       "2  2023-12  品牌-20  117047 0.08   14  绑钩器  垂钓装备&绑钩器\n",
       "3  2023-12  品牌-13  132785 0.02   50  绑钩器  垂钓装备&绑钩器\n",
       "4  2023-12   品牌-1   37010 0.05   54  绑钩器  垂钓装备&绑钩器"
      ],
      "text/html": [
       "<div>\n",
       "<style scoped>\n",
       "    .dataframe tbody tr th:only-of-type {\n",
       "        vertical-align: middle;\n",
       "    }\n",
       "\n",
       "    .dataframe tbody tr th {\n",
       "        vertical-align: top;\n",
       "    }\n",
       "\n",
       "    .dataframe thead th {\n",
       "        text-align: right;\n",
       "    }\n",
       "</style>\n",
       "<table border=\"1\" class=\"dataframe\">\n",
       "  <thead>\n",
       "    <tr style=\"text-align: right;\">\n",
       "      <th></th>\n",
       "      <th>日期</th>\n",
       "      <th>品牌</th>\n",
       "      <th>访客数</th>\n",
       "      <th>转化率</th>\n",
       "      <th>客单价</th>\n",
       "      <th>三级类目</th>\n",
       "      <th>详细类目</th>\n",
       "    </tr>\n",
       "  </thead>\n",
       "  <tbody>\n",
       "    <tr>\n",
       "      <th>0</th>\n",
       "      <td>2023-12</td>\n",
       "      <td>品牌-17</td>\n",
       "      <td>343731</td>\n",
       "      <td>0.03</td>\n",
       "      <td>40</td>\n",
       "      <td>绑钩器</td>\n",
       "      <td>垂钓装备&amp;绑钩器</td>\n",
       "    </tr>\n",
       "    <tr>\n",
       "      <th>1</th>\n",
       "      <td>2023-12</td>\n",
       "      <td>品牌-12</td>\n",
       "      <td>21850</td>\n",
       "      <td>0.02</td>\n",
       "      <td>286</td>\n",
       "      <td>绑钩器</td>\n",
       "      <td>垂钓装备&amp;绑钩器</td>\n",
       "    </tr>\n",
       "    <tr>\n",
       "      <th>2</th>\n",
       "      <td>2023-12</td>\n",
       "      <td>品牌-20</td>\n",
       "      <td>117047</td>\n",
       "      <td>0.08</td>\n",
       "      <td>14</td>\n",
       "      <td>绑钩器</td>\n",
       "      <td>垂钓装备&amp;绑钩器</td>\n",
       "    </tr>\n",
       "    <tr>\n",
       "      <th>3</th>\n",
       "      <td>2023-12</td>\n",
       "      <td>品牌-13</td>\n",
       "      <td>132785</td>\n",
       "      <td>0.02</td>\n",
       "      <td>50</td>\n",
       "      <td>绑钩器</td>\n",
       "      <td>垂钓装备&amp;绑钩器</td>\n",
       "    </tr>\n",
       "    <tr>\n",
       "      <th>4</th>\n",
       "      <td>2023-12</td>\n",
       "      <td>品牌-1</td>\n",
       "      <td>37010</td>\n",
       "      <td>0.05</td>\n",
       "      <td>54</td>\n",
       "      <td>绑钩器</td>\n",
       "      <td>垂钓装备&amp;绑钩器</td>\n",
       "    </tr>\n",
       "  </tbody>\n",
       "</table>\n",
       "</div>"
      ]
     },
     "execution_count": 12,
     "metadata": {},
     "output_type": "execute_result"
    }
   ],
   "execution_count": 12
  },
  {
   "metadata": {},
   "cell_type": "markdown",
   "source": "#### 查看日期是否正确",
   "id": "4cd8ef4d0e1ebf2d"
  },
  {
   "metadata": {
    "ExecuteTime": {
     "end_time": "2025-07-10T13:49:41.909273Z",
     "start_time": "2025-07-10T13:49:41.906633Z"
    }
   },
   "cell_type": "code",
   "source": [
    "# 得到列的去重结果，评估数据样本\n",
    "df['日期'].unique()"
   ],
   "id": "29b798edced7dbaa",
   "outputs": [
    {
     "data": {
      "text/plain": [
       "array(['2023-12', '2023-11', '2023-10', '2023-09', '2023-08', '2023-07',\n",
       "       '2023-06', '2023-05', '2023-04', '2023-03', '2023-02', '2023-01',\n",
       "       '2022-12', '2022-11', '2022-10', '2022-09', '2022-08', '2022-07',\n",
       "       '2022-06', '2022-05', '2022-04', '2022-03', '2022-02', '2022-01'],\n",
       "      dtype=object)"
      ]
     },
     "execution_count": 13,
     "metadata": {},
     "output_type": "execute_result"
    }
   ],
   "execution_count": 13
  },
  {
   "metadata": {},
   "cell_type": "markdown",
   "source": "#### 最终的目标是筛选出2023年相关的数据，因此需要做时间筛选",
   "id": "2b7dd80199e255cc"
  },
  {
   "metadata": {
    "ExecuteTime": {
     "end_time": "2025-07-10T13:49:41.953118Z",
     "start_time": "2025-07-10T13:49:41.947333Z"
    }
   },
   "cell_type": "code",
   "source": [
    "df_2023 = df.loc[df['日期'].str[:4] == '2023', :]\n",
    "df_2023"
   ],
   "id": "66e855cbc6fe1d5c",
   "outputs": [
    {
     "data": {
      "text/plain": [
       "          日期     品牌     访客数  转化率  客单价 三级类目      详细类目\n",
       "0    2023-12  品牌-17  343731 0.03   40  绑钩器  垂钓装备&绑钩器\n",
       "1    2023-12  品牌-12   21850 0.02  286  绑钩器  垂钓装备&绑钩器\n",
       "2    2023-12  品牌-20  117047 0.08   14  绑钩器  垂钓装备&绑钩器\n",
       "3    2023-12  品牌-13  132785 0.02   50  绑钩器  垂钓装备&绑钩器\n",
       "4    2023-12   品牌-1   37010 0.05   54  绑钩器  垂钓装备&绑钩器\n",
       "..       ...    ...     ...  ...  ...  ...       ...\n",
       "235  2023-01  品牌-18   16487 0.02   52  绑钩器  垂钓装备&绑钩器\n",
       "236  2023-01  品牌-19    5542 0.06   52  绑钩器  垂钓装备&绑钩器\n",
       "237  2023-01  品牌-12    4378 0.04   71  绑钩器  垂钓装备&绑钩器\n",
       "238  2023-01  品牌-11   10898 0.02   56  绑钩器  垂钓装备&绑钩器\n",
       "239  2023-01   品牌-3   36468 0.02   18  绑钩器  垂钓装备&绑钩器\n",
       "\n",
       "[240 rows x 7 columns]"
      ],
      "text/html": [
       "<div>\n",
       "<style scoped>\n",
       "    .dataframe tbody tr th:only-of-type {\n",
       "        vertical-align: middle;\n",
       "    }\n",
       "\n",
       "    .dataframe tbody tr th {\n",
       "        vertical-align: top;\n",
       "    }\n",
       "\n",
       "    .dataframe thead th {\n",
       "        text-align: right;\n",
       "    }\n",
       "</style>\n",
       "<table border=\"1\" class=\"dataframe\">\n",
       "  <thead>\n",
       "    <tr style=\"text-align: right;\">\n",
       "      <th></th>\n",
       "      <th>日期</th>\n",
       "      <th>品牌</th>\n",
       "      <th>访客数</th>\n",
       "      <th>转化率</th>\n",
       "      <th>客单价</th>\n",
       "      <th>三级类目</th>\n",
       "      <th>详细类目</th>\n",
       "    </tr>\n",
       "  </thead>\n",
       "  <tbody>\n",
       "    <tr>\n",
       "      <th>0</th>\n",
       "      <td>2023-12</td>\n",
       "      <td>品牌-17</td>\n",
       "      <td>343731</td>\n",
       "      <td>0.03</td>\n",
       "      <td>40</td>\n",
       "      <td>绑钩器</td>\n",
       "      <td>垂钓装备&amp;绑钩器</td>\n",
       "    </tr>\n",
       "    <tr>\n",
       "      <th>1</th>\n",
       "      <td>2023-12</td>\n",
       "      <td>品牌-12</td>\n",
       "      <td>21850</td>\n",
       "      <td>0.02</td>\n",
       "      <td>286</td>\n",
       "      <td>绑钩器</td>\n",
       "      <td>垂钓装备&amp;绑钩器</td>\n",
       "    </tr>\n",
       "    <tr>\n",
       "      <th>2</th>\n",
       "      <td>2023-12</td>\n",
       "      <td>品牌-20</td>\n",
       "      <td>117047</td>\n",
       "      <td>0.08</td>\n",
       "      <td>14</td>\n",
       "      <td>绑钩器</td>\n",
       "      <td>垂钓装备&amp;绑钩器</td>\n",
       "    </tr>\n",
       "    <tr>\n",
       "      <th>3</th>\n",
       "      <td>2023-12</td>\n",
       "      <td>品牌-13</td>\n",
       "      <td>132785</td>\n",
       "      <td>0.02</td>\n",
       "      <td>50</td>\n",
       "      <td>绑钩器</td>\n",
       "      <td>垂钓装备&amp;绑钩器</td>\n",
       "    </tr>\n",
       "    <tr>\n",
       "      <th>4</th>\n",
       "      <td>2023-12</td>\n",
       "      <td>品牌-1</td>\n",
       "      <td>37010</td>\n",
       "      <td>0.05</td>\n",
       "      <td>54</td>\n",
       "      <td>绑钩器</td>\n",
       "      <td>垂钓装备&amp;绑钩器</td>\n",
       "    </tr>\n",
       "    <tr>\n",
       "      <th>...</th>\n",
       "      <td>...</td>\n",
       "      <td>...</td>\n",
       "      <td>...</td>\n",
       "      <td>...</td>\n",
       "      <td>...</td>\n",
       "      <td>...</td>\n",
       "      <td>...</td>\n",
       "    </tr>\n",
       "    <tr>\n",
       "      <th>235</th>\n",
       "      <td>2023-01</td>\n",
       "      <td>品牌-18</td>\n",
       "      <td>16487</td>\n",
       "      <td>0.02</td>\n",
       "      <td>52</td>\n",
       "      <td>绑钩器</td>\n",
       "      <td>垂钓装备&amp;绑钩器</td>\n",
       "    </tr>\n",
       "    <tr>\n",
       "      <th>236</th>\n",
       "      <td>2023-01</td>\n",
       "      <td>品牌-19</td>\n",
       "      <td>5542</td>\n",
       "      <td>0.06</td>\n",
       "      <td>52</td>\n",
       "      <td>绑钩器</td>\n",
       "      <td>垂钓装备&amp;绑钩器</td>\n",
       "    </tr>\n",
       "    <tr>\n",
       "      <th>237</th>\n",
       "      <td>2023-01</td>\n",
       "      <td>品牌-12</td>\n",
       "      <td>4378</td>\n",
       "      <td>0.04</td>\n",
       "      <td>71</td>\n",
       "      <td>绑钩器</td>\n",
       "      <td>垂钓装备&amp;绑钩器</td>\n",
       "    </tr>\n",
       "    <tr>\n",
       "      <th>238</th>\n",
       "      <td>2023-01</td>\n",
       "      <td>品牌-11</td>\n",
       "      <td>10898</td>\n",
       "      <td>0.02</td>\n",
       "      <td>56</td>\n",
       "      <td>绑钩器</td>\n",
       "      <td>垂钓装备&amp;绑钩器</td>\n",
       "    </tr>\n",
       "    <tr>\n",
       "      <th>239</th>\n",
       "      <td>2023-01</td>\n",
       "      <td>品牌-3</td>\n",
       "      <td>36468</td>\n",
       "      <td>0.02</td>\n",
       "      <td>18</td>\n",
       "      <td>绑钩器</td>\n",
       "      <td>垂钓装备&amp;绑钩器</td>\n",
       "    </tr>\n",
       "  </tbody>\n",
       "</table>\n",
       "<p>240 rows × 7 columns</p>\n",
       "</div>"
      ]
     },
     "execution_count": 14,
     "metadata": {},
     "output_type": "execute_result"
    }
   ],
   "execution_count": 14
  },
  {
   "metadata": {
    "ExecuteTime": {
     "end_time": "2025-07-10T13:49:42.035105Z",
     "start_time": "2025-07-10T13:49:42.030456Z"
    }
   },
   "cell_type": "code",
   "source": [
    "df_2023['销售额'] = df_2023['访客数'] * df_2023['转化率'] * df_2023['客单价']\n",
    "df_2023.head()"
   ],
   "id": "54dbb33dd053e8d2",
   "outputs": [
    {
     "data": {
      "text/plain": [
       "        日期     品牌     访客数  转化率  客单价 三级类目      详细类目       销售额\n",
       "0  2023-12  品牌-17  343731 0.03   40  绑钩器  垂钓装备&绑钩器 413657.34\n",
       "1  2023-12  品牌-12   21850 0.02  286  绑钩器  垂钓装备&绑钩器 143076.32\n",
       "2  2023-12  品牌-20  117047 0.08   14  绑钩器  垂钓装备&绑钩器 124956.34\n",
       "3  2023-12  品牌-13  132785 0.02   50  绑钩器  垂钓装备&绑钩器 123114.73\n",
       "4  2023-12   品牌-1   37010 0.05   54  绑钩器  垂钓装备&绑钩器  90947.94"
      ],
      "text/html": [
       "<div>\n",
       "<style scoped>\n",
       "    .dataframe tbody tr th:only-of-type {\n",
       "        vertical-align: middle;\n",
       "    }\n",
       "\n",
       "    .dataframe tbody tr th {\n",
       "        vertical-align: top;\n",
       "    }\n",
       "\n",
       "    .dataframe thead th {\n",
       "        text-align: right;\n",
       "    }\n",
       "</style>\n",
       "<table border=\"1\" class=\"dataframe\">\n",
       "  <thead>\n",
       "    <tr style=\"text-align: right;\">\n",
       "      <th></th>\n",
       "      <th>日期</th>\n",
       "      <th>品牌</th>\n",
       "      <th>访客数</th>\n",
       "      <th>转化率</th>\n",
       "      <th>客单价</th>\n",
       "      <th>三级类目</th>\n",
       "      <th>详细类目</th>\n",
       "      <th>销售额</th>\n",
       "    </tr>\n",
       "  </thead>\n",
       "  <tbody>\n",
       "    <tr>\n",
       "      <th>0</th>\n",
       "      <td>2023-12</td>\n",
       "      <td>品牌-17</td>\n",
       "      <td>343731</td>\n",
       "      <td>0.03</td>\n",
       "      <td>40</td>\n",
       "      <td>绑钩器</td>\n",
       "      <td>垂钓装备&amp;绑钩器</td>\n",
       "      <td>413657.34</td>\n",
       "    </tr>\n",
       "    <tr>\n",
       "      <th>1</th>\n",
       "      <td>2023-12</td>\n",
       "      <td>品牌-12</td>\n",
       "      <td>21850</td>\n",
       "      <td>0.02</td>\n",
       "      <td>286</td>\n",
       "      <td>绑钩器</td>\n",
       "      <td>垂钓装备&amp;绑钩器</td>\n",
       "      <td>143076.32</td>\n",
       "    </tr>\n",
       "    <tr>\n",
       "      <th>2</th>\n",
       "      <td>2023-12</td>\n",
       "      <td>品牌-20</td>\n",
       "      <td>117047</td>\n",
       "      <td>0.08</td>\n",
       "      <td>14</td>\n",
       "      <td>绑钩器</td>\n",
       "      <td>垂钓装备&amp;绑钩器</td>\n",
       "      <td>124956.34</td>\n",
       "    </tr>\n",
       "    <tr>\n",
       "      <th>3</th>\n",
       "      <td>2023-12</td>\n",
       "      <td>品牌-13</td>\n",
       "      <td>132785</td>\n",
       "      <td>0.02</td>\n",
       "      <td>50</td>\n",
       "      <td>绑钩器</td>\n",
       "      <td>垂钓装备&amp;绑钩器</td>\n",
       "      <td>123114.73</td>\n",
       "    </tr>\n",
       "    <tr>\n",
       "      <th>4</th>\n",
       "      <td>2023-12</td>\n",
       "      <td>品牌-1</td>\n",
       "      <td>37010</td>\n",
       "      <td>0.05</td>\n",
       "      <td>54</td>\n",
       "      <td>绑钩器</td>\n",
       "      <td>垂钓装备&amp;绑钩器</td>\n",
       "      <td>90947.94</td>\n",
       "    </tr>\n",
       "  </tbody>\n",
       "</table>\n",
       "</div>"
      ]
     },
     "execution_count": 15,
     "metadata": {},
     "output_type": "execute_result"
    }
   ],
   "execution_count": 15
  },
  {
   "metadata": {},
   "cell_type": "markdown",
   "source": "#### 按品牌汇总，统计2023年对应行业销售额数据",
   "id": "22c2037f10d25972"
  },
  {
   "metadata": {
    "ExecuteTime": {
     "end_time": "2025-07-10T13:49:42.128442Z",
     "start_time": "2025-07-10T13:49:42.124316Z"
    }
   },
   "cell_type": "code",
   "source": [
    "pd.set_option('display.float_format', lambda x: '%.2f' % x)\n",
    "df_sum = df_2023.groupby('品牌')['销售额'].sum().reset_index()\n",
    "df_sum.head()\n"
   ],
   "id": "7d37ac1ec7abd688",
   "outputs": [
    {
     "data": {
      "text/plain": [
       "      品牌        销售额\n",
       "0   品牌-1 1160411.73\n",
       "1  品牌-10  476567.07\n",
       "2  品牌-11  720308.05\n",
       "3  品牌-12 1069478.32\n",
       "4  品牌-13  955096.04"
      ],
      "text/html": [
       "<div>\n",
       "<style scoped>\n",
       "    .dataframe tbody tr th:only-of-type {\n",
       "        vertical-align: middle;\n",
       "    }\n",
       "\n",
       "    .dataframe tbody tr th {\n",
       "        vertical-align: top;\n",
       "    }\n",
       "\n",
       "    .dataframe thead th {\n",
       "        text-align: right;\n",
       "    }\n",
       "</style>\n",
       "<table border=\"1\" class=\"dataframe\">\n",
       "  <thead>\n",
       "    <tr style=\"text-align: right;\">\n",
       "      <th></th>\n",
       "      <th>品牌</th>\n",
       "      <th>销售额</th>\n",
       "    </tr>\n",
       "  </thead>\n",
       "  <tbody>\n",
       "    <tr>\n",
       "      <th>0</th>\n",
       "      <td>品牌-1</td>\n",
       "      <td>1160411.73</td>\n",
       "    </tr>\n",
       "    <tr>\n",
       "      <th>1</th>\n",
       "      <td>品牌-10</td>\n",
       "      <td>476567.07</td>\n",
       "    </tr>\n",
       "    <tr>\n",
       "      <th>2</th>\n",
       "      <td>品牌-11</td>\n",
       "      <td>720308.05</td>\n",
       "    </tr>\n",
       "    <tr>\n",
       "      <th>3</th>\n",
       "      <td>品牌-12</td>\n",
       "      <td>1069478.32</td>\n",
       "    </tr>\n",
       "    <tr>\n",
       "      <th>4</th>\n",
       "      <td>品牌-13</td>\n",
       "      <td>955096.04</td>\n",
       "    </tr>\n",
       "  </tbody>\n",
       "</table>\n",
       "</div>"
      ]
     },
     "execution_count": 16,
     "metadata": {},
     "output_type": "execute_result"
    }
   ],
   "execution_count": 16
  },
  {
   "metadata": {},
   "cell_type": "markdown",
   "source": "#### 在汇总数据上加一个行业标识",
   "id": "747022e886804be2"
  },
  {
   "metadata": {
    "ExecuteTime": {
     "end_time": "2025-07-10T13:49:44.333617Z",
     "start_time": "2025-07-10T13:49:44.329165Z"
    }
   },
   "cell_type": "code",
   "source": [
    "df_sum['行业'] = fileName.replace('.xlsx', '')\n",
    "df_sum.head()"
   ],
   "id": "ae7de33e69ca612c",
   "outputs": [
    {
     "data": {
      "text/plain": [
       "      品牌        销售额        行业\n",
       "0   品牌-1 1160411.73  垂钓装备&绑钩器\n",
       "1  品牌-10  476567.07  垂钓装备&绑钩器\n",
       "2  品牌-11  720308.05  垂钓装备&绑钩器\n",
       "3  品牌-12 1069478.32  垂钓装备&绑钩器\n",
       "4  品牌-13  955096.04  垂钓装备&绑钩器"
      ],
      "text/html": [
       "<div>\n",
       "<style scoped>\n",
       "    .dataframe tbody tr th:only-of-type {\n",
       "        vertical-align: middle;\n",
       "    }\n",
       "\n",
       "    .dataframe tbody tr th {\n",
       "        vertical-align: top;\n",
       "    }\n",
       "\n",
       "    .dataframe thead th {\n",
       "        text-align: right;\n",
       "    }\n",
       "</style>\n",
       "<table border=\"1\" class=\"dataframe\">\n",
       "  <thead>\n",
       "    <tr style=\"text-align: right;\">\n",
       "      <th></th>\n",
       "      <th>品牌</th>\n",
       "      <th>销售额</th>\n",
       "      <th>行业</th>\n",
       "    </tr>\n",
       "  </thead>\n",
       "  <tbody>\n",
       "    <tr>\n",
       "      <th>0</th>\n",
       "      <td>品牌-1</td>\n",
       "      <td>1160411.73</td>\n",
       "      <td>垂钓装备&amp;绑钩器</td>\n",
       "    </tr>\n",
       "    <tr>\n",
       "      <th>1</th>\n",
       "      <td>品牌-10</td>\n",
       "      <td>476567.07</td>\n",
       "      <td>垂钓装备&amp;绑钩器</td>\n",
       "    </tr>\n",
       "    <tr>\n",
       "      <th>2</th>\n",
       "      <td>品牌-11</td>\n",
       "      <td>720308.05</td>\n",
       "      <td>垂钓装备&amp;绑钩器</td>\n",
       "    </tr>\n",
       "    <tr>\n",
       "      <th>3</th>\n",
       "      <td>品牌-12</td>\n",
       "      <td>1069478.32</td>\n",
       "      <td>垂钓装备&amp;绑钩器</td>\n",
       "    </tr>\n",
       "    <tr>\n",
       "      <th>4</th>\n",
       "      <td>品牌-13</td>\n",
       "      <td>955096.04</td>\n",
       "      <td>垂钓装备&amp;绑钩器</td>\n",
       "    </tr>\n",
       "  </tbody>\n",
       "</table>\n",
       "</div>"
      ]
     },
     "execution_count": 17,
     "metadata": {},
     "output_type": "execute_result"
    }
   ],
   "execution_count": 17
  },
  {
   "metadata": {
    "ExecuteTime": {
     "end_time": "2025-07-10T14:07:29.329614Z",
     "start_time": "2025-07-10T14:07:29.326657Z"
    }
   },
   "cell_type": "code",
   "source": [
    "import itertools\n",
    "from pathlib import Path\n",
    "\n",
    "dirPath = Path(filePath).parent\n",
    "list(itertools.islice(dirPath.rglob('*'), 5))"
   ],
   "id": "d3f744f4ef6e9c20",
   "outputs": [
    {
     "data": {
      "text/plain": [
       "[PosixPath('/Users/ykdsg/Documents/个人/数据分析/《Python电商数据分析实战》随书数据源及代码/相关数据源/第8章 Python报表自动化/相关数据/户外服装&潜水服.xlsx'),\n",
       " PosixPath('/Users/ykdsg/Documents/个人/数据分析/《Python电商数据分析实战》随书数据源及代码/相关数据源/第8章 Python报表自动化/相关数据/户外照明&头灯.xlsx'),\n",
       " PosixPath('/Users/ykdsg/Documents/个人/数据分析/《Python电商数据分析实战》随书数据源及代码/相关数据源/第8章 Python报表自动化/相关数据/垂钓装备&钓鱼伞.xlsx'),\n",
       " PosixPath('/Users/ykdsg/Documents/个人/数据分析/《Python电商数据分析实战》随书数据源及代码/相关数据源/第8章 Python报表自动化/相关数据/专项户外运动装备&潜水袜.xlsx'),\n",
       " PosixPath('/Users/ykdsg/Documents/个人/数据分析/《Python电商数据分析实战》随书数据源及代码/相关数据源/第8章 Python报表自动化/相关数据/户外服装&户外休闲裤.xlsx')]"
      ]
     },
     "execution_count": 25,
     "metadata": {},
     "output_type": "execute_result"
    }
   ],
   "execution_count": 25
  },
  {
   "metadata": {},
   "cell_type": "markdown",
   "source": [
    "#### 批量循环\n",
    "\n",
    "#### 主体用的都是上面单表处理的代码，只是加了循环，形成自动化"
   ],
   "id": "d2fbadf9851c79de"
  },
  {
   "metadata": {
    "ExecuteTime": {
     "end_time": "2025-07-10T14:17:14.523173Z",
     "start_time": "2025-07-10T14:17:11.839285Z"
    }
   },
   "cell_type": "code",
   "source": [
    "import time\n",
    "\n",
    "start = time.time()\n",
    "\n",
    "result = pd.DataFrame()\n",
    "for filePath in list(dirPath.rglob('*')):\n",
    "    df = pd.read_excel(filePath)\n",
    "    df_2023 = df.loc[df['日期'].str[:4] == '2023', :]\n",
    "    df_2023['销售额'] = df_2023['访客数'] * df_2023['转化率'] * df_2023['客单价']\n",
    "    df_sum = df_2023.groupby('品牌')['销售额'].sum().reset_index()\n",
    "    df_sum['类目'] = filePath.name.replace('.xlsx', '')\n",
    "    result = pd.concat([result, df_sum])\n",
    "\n",
    "#对最终结果按销售额进行排序\n",
    "final = result.groupby('品牌')['销售额'].sum().reset_index().sort_values('销售额', ascending=False)\n",
    "\n",
    "#结束时间\n",
    "end = time.time()\n",
    "print('用Python操作所花费时间：{} s'.format(end - start))\n",
    "final.head()\n"
   ],
   "id": "71ad4aac1cdd2525",
   "outputs": [
    {
     "name": "stdout",
     "output_type": "stream",
     "text": [
      "用Python操作所花费时间：2.6796810626983643 s\n"
     ]
    },
    {
     "data": {
      "text/plain": [
       "       品牌           销售额\n",
       "15   品牌-5 2814286376.98\n",
       "8   品牌-17 2735897004.88\n",
       "2   品牌-11 2617557159.86\n",
       "4   品牌-13 2614862151.29\n",
       "3   品牌-12 2590192538.85"
      ],
      "text/html": [
       "<div>\n",
       "<style scoped>\n",
       "    .dataframe tbody tr th:only-of-type {\n",
       "        vertical-align: middle;\n",
       "    }\n",
       "\n",
       "    .dataframe tbody tr th {\n",
       "        vertical-align: top;\n",
       "    }\n",
       "\n",
       "    .dataframe thead th {\n",
       "        text-align: right;\n",
       "    }\n",
       "</style>\n",
       "<table border=\"1\" class=\"dataframe\">\n",
       "  <thead>\n",
       "    <tr style=\"text-align: right;\">\n",
       "      <th></th>\n",
       "      <th>品牌</th>\n",
       "      <th>销售额</th>\n",
       "    </tr>\n",
       "  </thead>\n",
       "  <tbody>\n",
       "    <tr>\n",
       "      <th>15</th>\n",
       "      <td>品牌-5</td>\n",
       "      <td>2814286376.98</td>\n",
       "    </tr>\n",
       "    <tr>\n",
       "      <th>8</th>\n",
       "      <td>品牌-17</td>\n",
       "      <td>2735897004.88</td>\n",
       "    </tr>\n",
       "    <tr>\n",
       "      <th>2</th>\n",
       "      <td>品牌-11</td>\n",
       "      <td>2617557159.86</td>\n",
       "    </tr>\n",
       "    <tr>\n",
       "      <th>4</th>\n",
       "      <td>品牌-13</td>\n",
       "      <td>2614862151.29</td>\n",
       "    </tr>\n",
       "    <tr>\n",
       "      <th>3</th>\n",
       "      <td>品牌-12</td>\n",
       "      <td>2590192538.85</td>\n",
       "    </tr>\n",
       "  </tbody>\n",
       "</table>\n",
       "</div>"
      ]
     },
     "execution_count": 29,
     "metadata": {},
     "output_type": "execute_result"
    }
   ],
   "execution_count": 29
  },
  {
   "metadata": {},
   "cell_type": "markdown",
   "source": "# 8.2 批量处理与品牌投放分析",
   "id": "2b3406a238bd2b3d"
  },
  {
   "metadata": {},
   "cell_type": "markdown",
   "source": [
    "#### 目标：找到近一年（2023年）投放效果还不错的品牌，分析分析，年度表彰用\n",
    "## 8.2.2 数据预览\n"
   ],
   "id": "3bd6af30ab361499"
  },
  {
   "metadata": {
    "ExecuteTime": {
     "end_time": "2025-07-11T01:54:09.033906Z",
     "start_time": "2025-07-11T01:54:09.031756Z"
    }
   },
   "cell_type": "code",
   "source": [
    "fileName = '2023-12.xlsx'\n",
    "filePath = getFullPath('第8章 Python报表自动化/投放数据', fileName)"
   ],
   "id": "2bef8aa29fd21c9d",
   "outputs": [],
   "execution_count": 30
  },
  {
   "metadata": {
    "ExecuteTime": {
     "end_time": "2025-07-11T01:54:10.623339Z",
     "start_time": "2025-07-11T01:54:10.565630Z"
    }
   },
   "cell_type": "code",
   "source": [
    "data = pd.read_excel(filePath)\n",
    "print(data.info())\n",
    "data.head()"
   ],
   "id": "bbb93f638ec8f160",
   "outputs": [
    {
     "name": "stdout",
     "output_type": "stream",
     "text": [
      "<class 'pandas.core.frame.DataFrame'>\n",
      "RangeIndex: 50 entries, 0 to 49\n",
      "Data columns (total 4 columns):\n",
      " #   Column  Non-Null Count  Dtype \n",
      "---  ------  --------------  ----- \n",
      " 0   品牌      50 non-null     object\n",
      " 1   品牌搜索人数  50 non-null     int64 \n",
      " 2   点击人数    50 non-null     int64 \n",
      " 3   支付人数    50 non-null     int64 \n",
      "dtypes: int64(3), object(1)\n",
      "memory usage: 1.7+ KB\n",
      "None\n"
     ]
    },
    {
     "data": {
      "text/plain": [
       "   品牌  品牌搜索人数   点击人数  支付人数\n",
       "0  七喜    6896   3841   140\n",
       "1  万迅    6394   3014    83\n",
       "2  东方   16453  11114  1445\n",
       "3  九方   53371  36682   942\n",
       "4  佳禾   52686  28308   818"
      ],
      "text/html": [
       "<div>\n",
       "<style scoped>\n",
       "    .dataframe tbody tr th:only-of-type {\n",
       "        vertical-align: middle;\n",
       "    }\n",
       "\n",
       "    .dataframe tbody tr th {\n",
       "        vertical-align: top;\n",
       "    }\n",
       "\n",
       "    .dataframe thead th {\n",
       "        text-align: right;\n",
       "    }\n",
       "</style>\n",
       "<table border=\"1\" class=\"dataframe\">\n",
       "  <thead>\n",
       "    <tr style=\"text-align: right;\">\n",
       "      <th></th>\n",
       "      <th>品牌</th>\n",
       "      <th>品牌搜索人数</th>\n",
       "      <th>点击人数</th>\n",
       "      <th>支付人数</th>\n",
       "    </tr>\n",
       "  </thead>\n",
       "  <tbody>\n",
       "    <tr>\n",
       "      <th>0</th>\n",
       "      <td>七喜</td>\n",
       "      <td>6896</td>\n",
       "      <td>3841</td>\n",
       "      <td>140</td>\n",
       "    </tr>\n",
       "    <tr>\n",
       "      <th>1</th>\n",
       "      <td>万迅</td>\n",
       "      <td>6394</td>\n",
       "      <td>3014</td>\n",
       "      <td>83</td>\n",
       "    </tr>\n",
       "    <tr>\n",
       "      <th>2</th>\n",
       "      <td>东方</td>\n",
       "      <td>16453</td>\n",
       "      <td>11114</td>\n",
       "      <td>1445</td>\n",
       "    </tr>\n",
       "    <tr>\n",
       "      <th>3</th>\n",
       "      <td>九方</td>\n",
       "      <td>53371</td>\n",
       "      <td>36682</td>\n",
       "      <td>942</td>\n",
       "    </tr>\n",
       "    <tr>\n",
       "      <th>4</th>\n",
       "      <td>佳禾</td>\n",
       "      <td>52686</td>\n",
       "      <td>28308</td>\n",
       "      <td>818</td>\n",
       "    </tr>\n",
       "  </tbody>\n",
       "</table>\n",
       "</div>"
      ]
     },
     "execution_count": 31,
     "metadata": {},
     "output_type": "execute_result"
    }
   ],
   "execution_count": 31
  },
  {
   "metadata": {},
   "cell_type": "markdown",
   "source": "#### 循环批量汇总",
   "id": "1fafeb27d66ff7f6"
  },
  {
   "metadata": {
    "ExecuteTime": {
     "end_time": "2025-07-11T02:01:59.617903Z",
     "start_time": "2025-07-11T02:01:59.496632Z"
    }
   },
   "cell_type": "code",
   "source": [
    "result = pd.DataFrame()\n",
    "dirPath = Path(filePath).parent\n",
    "for filePath in list(dirPath.rglob('*')):\n",
    "    df = pd.read_excel(filePath)\n",
    "    df['日期'] = filePath.name[:4]\n",
    "    result = pd.concat([result, df])\n",
    "\n",
    "final = result.loc[result['日期'] == '2023', :]\n",
    "print('数据行数：{}', len(final))\n",
    "final.head()"
   ],
   "id": "d74e133d967d6596",
   "outputs": [
    {
     "name": "stdout",
     "output_type": "stream",
     "text": [
      "数据行数：{} 600\n"
     ]
    },
    {
     "data": {
      "text/plain": [
       "   品牌  品牌搜索人数   点击人数  支付人数    日期\n",
       "0  七喜    1228    518    41  2023\n",
       "1  万迅   35027  17722   676  2023\n",
       "2  东方    2061   1421    21  2023\n",
       "3  九方    1811    846    31  2023\n",
       "4  佳禾   11725   5808   710  2023"
      ],
      "text/html": [
       "<div>\n",
       "<style scoped>\n",
       "    .dataframe tbody tr th:only-of-type {\n",
       "        vertical-align: middle;\n",
       "    }\n",
       "\n",
       "    .dataframe tbody tr th {\n",
       "        vertical-align: top;\n",
       "    }\n",
       "\n",
       "    .dataframe thead th {\n",
       "        text-align: right;\n",
       "    }\n",
       "</style>\n",
       "<table border=\"1\" class=\"dataframe\">\n",
       "  <thead>\n",
       "    <tr style=\"text-align: right;\">\n",
       "      <th></th>\n",
       "      <th>品牌</th>\n",
       "      <th>品牌搜索人数</th>\n",
       "      <th>点击人数</th>\n",
       "      <th>支付人数</th>\n",
       "      <th>日期</th>\n",
       "    </tr>\n",
       "  </thead>\n",
       "  <tbody>\n",
       "    <tr>\n",
       "      <th>0</th>\n",
       "      <td>七喜</td>\n",
       "      <td>1228</td>\n",
       "      <td>518</td>\n",
       "      <td>41</td>\n",
       "      <td>2023</td>\n",
       "    </tr>\n",
       "    <tr>\n",
       "      <th>1</th>\n",
       "      <td>万迅</td>\n",
       "      <td>35027</td>\n",
       "      <td>17722</td>\n",
       "      <td>676</td>\n",
       "      <td>2023</td>\n",
       "    </tr>\n",
       "    <tr>\n",
       "      <th>2</th>\n",
       "      <td>东方</td>\n",
       "      <td>2061</td>\n",
       "      <td>1421</td>\n",
       "      <td>21</td>\n",
       "      <td>2023</td>\n",
       "    </tr>\n",
       "    <tr>\n",
       "      <th>3</th>\n",
       "      <td>九方</td>\n",
       "      <td>1811</td>\n",
       "      <td>846</td>\n",
       "      <td>31</td>\n",
       "      <td>2023</td>\n",
       "    </tr>\n",
       "    <tr>\n",
       "      <th>4</th>\n",
       "      <td>佳禾</td>\n",
       "      <td>11725</td>\n",
       "      <td>5808</td>\n",
       "      <td>710</td>\n",
       "      <td>2023</td>\n",
       "    </tr>\n",
       "  </tbody>\n",
       "</table>\n",
       "</div>"
      ]
     },
     "execution_count": 32,
     "metadata": {},
     "output_type": "execute_result"
    }
   ],
   "execution_count": 32
  },
  {
   "metadata": {},
   "cell_type": "markdown",
   "source": "#### 品牌维度的汇总",
   "id": "bfb12502b8c5998c"
  },
  {
   "metadata": {
    "ExecuteTime": {
     "end_time": "2025-07-11T02:06:18.214004Z",
     "start_time": "2025-07-11T02:06:18.205821Z"
    }
   },
   "cell_type": "code",
   "source": [
    "gp = final.groupby('品牌')[['品牌搜索人数', '点击人数', '支付人数']].sum().reset_index().sort_values('品牌搜索人数',\n",
    "                                                                                                     ascending=False)\n",
    "gp.head()"
   ],
   "id": "495b318dea78ab37",
   "outputs": [
    {
     "data": {
      "text/plain": [
       "    品牌   品牌搜索人数    点击人数    支付人数\n",
       "12  双敏  1604198  571399   61244\n",
       "3   九方  1552916  712139  101217\n",
       "20  巨奥  1417267  512847   45790\n",
       "15  商软  1002679  544392   72050\n",
       "24  戴硕   920350  540284   30371"
      ],
      "text/html": [
       "<div>\n",
       "<style scoped>\n",
       "    .dataframe tbody tr th:only-of-type {\n",
       "        vertical-align: middle;\n",
       "    }\n",
       "\n",
       "    .dataframe tbody tr th {\n",
       "        vertical-align: top;\n",
       "    }\n",
       "\n",
       "    .dataframe thead th {\n",
       "        text-align: right;\n",
       "    }\n",
       "</style>\n",
       "<table border=\"1\" class=\"dataframe\">\n",
       "  <thead>\n",
       "    <tr style=\"text-align: right;\">\n",
       "      <th></th>\n",
       "      <th>品牌</th>\n",
       "      <th>品牌搜索人数</th>\n",
       "      <th>点击人数</th>\n",
       "      <th>支付人数</th>\n",
       "    </tr>\n",
       "  </thead>\n",
       "  <tbody>\n",
       "    <tr>\n",
       "      <th>12</th>\n",
       "      <td>双敏</td>\n",
       "      <td>1604198</td>\n",
       "      <td>571399</td>\n",
       "      <td>61244</td>\n",
       "    </tr>\n",
       "    <tr>\n",
       "      <th>3</th>\n",
       "      <td>九方</td>\n",
       "      <td>1552916</td>\n",
       "      <td>712139</td>\n",
       "      <td>101217</td>\n",
       "    </tr>\n",
       "    <tr>\n",
       "      <th>20</th>\n",
       "      <td>巨奥</td>\n",
       "      <td>1417267</td>\n",
       "      <td>512847</td>\n",
       "      <td>45790</td>\n",
       "    </tr>\n",
       "    <tr>\n",
       "      <th>15</th>\n",
       "      <td>商软</td>\n",
       "      <td>1002679</td>\n",
       "      <td>544392</td>\n",
       "      <td>72050</td>\n",
       "    </tr>\n",
       "    <tr>\n",
       "      <th>24</th>\n",
       "      <td>戴硕</td>\n",
       "      <td>920350</td>\n",
       "      <td>540284</td>\n",
       "      <td>30371</td>\n",
       "    </tr>\n",
       "  </tbody>\n",
       "</table>\n",
       "</div>"
      ]
     },
     "execution_count": 33,
     "metadata": {},
     "output_type": "execute_result"
    }
   ],
   "execution_count": 33
  },
  {
   "metadata": {},
   "cell_type": "markdown",
   "source": "#### 计算对应的搜索-点击转化率、点击-支付转化率",
   "id": "75cdcc0275b43cec"
  },
  {
   "metadata": {
    "ExecuteTime": {
     "end_time": "2025-07-11T02:07:01.485096Z",
     "start_time": "2025-07-11T02:07:01.479695Z"
    }
   },
   "cell_type": "code",
   "source": [
    "gp['搜索-点击转化率'] = gp['点击人数'] / gp['品牌搜索人数']\n",
    "gp['点击-支付转化率'] = gp['支付人数'] / gp['点击人数']\n",
    "gp.head()"
   ],
   "id": "69d7cecbade0ec94",
   "outputs": [
    {
     "data": {
      "text/plain": [
       "    品牌   品牌搜索人数    点击人数    支付人数  搜索-点击转化率  点击-支付转化率\n",
       "12  双敏  1604198  571399   61244      0.36      0.11\n",
       "3   九方  1552916  712139  101217      0.46      0.14\n",
       "20  巨奥  1417267  512847   45790      0.36      0.09\n",
       "15  商软  1002679  544392   72050      0.54      0.13\n",
       "24  戴硕   920350  540284   30371      0.59      0.06"
      ],
      "text/html": [
       "<div>\n",
       "<style scoped>\n",
       "    .dataframe tbody tr th:only-of-type {\n",
       "        vertical-align: middle;\n",
       "    }\n",
       "\n",
       "    .dataframe tbody tr th {\n",
       "        vertical-align: top;\n",
       "    }\n",
       "\n",
       "    .dataframe thead th {\n",
       "        text-align: right;\n",
       "    }\n",
       "</style>\n",
       "<table border=\"1\" class=\"dataframe\">\n",
       "  <thead>\n",
       "    <tr style=\"text-align: right;\">\n",
       "      <th></th>\n",
       "      <th>品牌</th>\n",
       "      <th>品牌搜索人数</th>\n",
       "      <th>点击人数</th>\n",
       "      <th>支付人数</th>\n",
       "      <th>搜索-点击转化率</th>\n",
       "      <th>点击-支付转化率</th>\n",
       "    </tr>\n",
       "  </thead>\n",
       "  <tbody>\n",
       "    <tr>\n",
       "      <th>12</th>\n",
       "      <td>双敏</td>\n",
       "      <td>1604198</td>\n",
       "      <td>571399</td>\n",
       "      <td>61244</td>\n",
       "      <td>0.36</td>\n",
       "      <td>0.11</td>\n",
       "    </tr>\n",
       "    <tr>\n",
       "      <th>3</th>\n",
       "      <td>九方</td>\n",
       "      <td>1552916</td>\n",
       "      <td>712139</td>\n",
       "      <td>101217</td>\n",
       "      <td>0.46</td>\n",
       "      <td>0.14</td>\n",
       "    </tr>\n",
       "    <tr>\n",
       "      <th>20</th>\n",
       "      <td>巨奥</td>\n",
       "      <td>1417267</td>\n",
       "      <td>512847</td>\n",
       "      <td>45790</td>\n",
       "      <td>0.36</td>\n",
       "      <td>0.09</td>\n",
       "    </tr>\n",
       "    <tr>\n",
       "      <th>15</th>\n",
       "      <td>商软</td>\n",
       "      <td>1002679</td>\n",
       "      <td>544392</td>\n",
       "      <td>72050</td>\n",
       "      <td>0.54</td>\n",
       "      <td>0.13</td>\n",
       "    </tr>\n",
       "    <tr>\n",
       "      <th>24</th>\n",
       "      <td>戴硕</td>\n",
       "      <td>920350</td>\n",
       "      <td>540284</td>\n",
       "      <td>30371</td>\n",
       "      <td>0.59</td>\n",
       "      <td>0.06</td>\n",
       "    </tr>\n",
       "  </tbody>\n",
       "</table>\n",
       "</div>"
      ]
     },
     "execution_count": 34,
     "metadata": {},
     "output_type": "execute_result"
    }
   ],
   "execution_count": 34
  },
  {
   "metadata": {},
   "cell_type": "markdown",
   "source": [
    "## 8.2.5 数据分析\n",
    "#### 绘图呈现"
   ],
   "id": "9c1e556ccacc4e9f"
  },
  {
   "metadata": {
    "ExecuteTime": {
     "end_time": "2025-07-11T02:26:39.168374Z",
     "start_time": "2025-07-11T02:26:39.047237Z"
    }
   },
   "cell_type": "code",
   "source": [
    "from matplotlib import pyplot as plt\n",
    "%config InlineBackend.figure_format = 'svg'\n",
    "%matplotlib inline\n",
    "plt.rcParams['font.sans-serif'] = [\n",
    "    'SimHei',  # Windows 黑体\n",
    "    'Microsoft YaHei',  # Windows 雅黑\n",
    "    'PingFang SC',  # macOS 苹方\n",
    "    'Hiragino Sans GB',  # macOS 冬青黑体\n",
    "    'Noto Sans CJK SC',  # Linux/通用（需安装）\n",
    "    'Arial Unicode MS'  # 跨平台（需安装）\n",
    "]\n",
    "\n",
    "#筛选出TOP15的品牌\n",
    "draw_data = gp.iloc[:15, :]\n",
    "#设置画布大小\n",
    "plt.figure(figsize=(12, 7))\n",
    "\n",
    "#筛选对应的x，y值和标签名\n",
    "x = draw_data['搜索-点击转化率'].to_list()\n",
    "y = draw_data['点击-支付转化率'].to_list()\n",
    "z = draw_data['品牌搜索人数']\n",
    "text = draw_data['品牌'].tolist()\n",
    "\n",
    "#绘制气泡图\n",
    "plt.scatter(\n",
    "    x,  # x轴数据\n",
    "    y,  # y轴数据\n",
    "    s=z / 1000,  # 点的大小（z值缩放1000倍）\n",
    "    c=x,  # 颜色映射基于x值\n",
    "    cmap=\"Reds\",  # 红色系颜色映射\n",
    "    alpha=0.7,  # 透明度70%\n",
    "    edgecolors=\"grey\",  # 点边缘为灰色\n",
    "    linewidth=1  # 边缘线宽1像素\n",
    ")\n",
    "\n",
    "#为每个值打上对应品牌名\n",
    "for i, txt in enumerate(text):\n",
    "    plt.text(x=x[i], y=y[i], s=txt, size=11, horizontalalignment='center', verticalalignment='center')\n",
    "\n",
    "# 添加黑色虚线水平辅助线\n",
    "plt.axhline(y=0.12, color='black', linestyle='--', alpha=0.5)\n",
    "\n",
    "# 添加黑色虚线垂直辅助线\n",
    "plt.axvline(x=0.465, color='black', linestyle='--', alpha=0.5)\n",
    "\n",
    "plt.xlabel(\"搜索-点击转化率\")\n",
    "plt.ylabel(\"点击-支付转化率\")\n",
    "plt.title(\"TOP15品牌搜索分布\", size=15)"
   ],
   "id": "ce10212605043606",
   "outputs": [
    {
     "data": {
      "text/plain": [
       "Text(0.5, 1.0, 'TOP15品牌搜索分布')"
      ]
     },
     "execution_count": 36,
     "metadata": {},
     "output_type": "execute_result"
    },
    {
     "data": {
      "text/plain": [
       "<Figure size 1200x700 with 1 Axes>"
      ],
      "image/svg+xml": "<?xml version=\"1.0\" encoding=\"utf-8\" standalone=\"no\"?>\n<!DOCTYPE svg PUBLIC \"-//W3C//DTD SVG 1.1//EN\"\n  \"http://www.w3.org/Graphics/SVG/1.1/DTD/svg11.dtd\">\n<svg xmlns:xlink=\"http://www.w3.org/1999/xlink\" width=\"726.85pt\" height=\"450.369062pt\" viewBox=\"0 0 726.85 450.369062\" xmlns=\"http://www.w3.org/2000/svg\" version=\"1.1\">\n <metadata>\n  <rdf:RDF xmlns:dc=\"http://purl.org/dc/elements/1.1/\" xmlns:cc=\"http://creativecommons.org/ns#\" xmlns:rdf=\"http://www.w3.org/1999/02/22-rdf-syntax-ns#\">\n   <cc:Work>\n    <dc:type rdf:resource=\"http://purl.org/dc/dcmitype/StillImage\"/>\n    <dc:date>2025-07-11T10:26:39.143053</dc:date>\n    <dc:format>image/svg+xml</dc:format>\n    <dc:creator>\n     <cc:Agent>\n      <dc:title>Matplotlib v3.7.0, https://matplotlib.org/</dc:title>\n     </cc:Agent>\n    </dc:creator>\n   </cc:Work>\n  </rdf:RDF>\n </metadata>\n <defs>\n  <style type=\"text/css\">*{stroke-linejoin: round; stroke-linecap: butt}</style>\n </defs>\n <g id=\"figure_1\">\n  <g id=\"patch_1\">\n   <path d=\"M 0 450.369062 \nL 726.85 450.369062 \nL 726.85 -0 \nL 0 -0 \nz\n\" style=\"fill: #ffffff\"/>\n  </g>\n  <g id=\"axes_1\">\n   <g id=\"patch_2\">\n    <path d=\"M 50.05 412.769062 \nL 719.65 412.769062 \nL 719.65 24.689062 \nL 50.05 24.689062 \nz\n\" style=\"fill: #ffffff\"/>\n   </g>\n   <g id=\"PathCollection_1\">\n    <path d=\"M 165.194947 268.313769 \nC 170.505963 268.313769 175.600168 266.20368 179.355624 262.448225 \nC 183.111079 258.69277 185.221168 253.598565 185.221168 248.287549 \nC 185.221168 242.976533 183.111079 237.882328 179.355624 234.126873 \nC 175.600168 230.371418 170.505963 228.261329 165.194947 228.261329 \nC 159.883932 228.261329 154.789726 230.371418 151.034271 234.126873 \nC 147.278816 237.882328 145.168727 242.976533 145.168727 248.287549 \nC 145.168727 253.598565 147.278816 258.69277 151.034271 262.448225 \nC 154.789726 266.20368 159.883932 268.313769 165.194947 268.313769 \nz\n\" clip-path=\"url(#p297abf71d0)\" style=\"fill: #fedccd; fill-opacity: 0.7; stroke: #808080; stroke-opacity: 0.7\"/>\n    <path d=\"M 378.048782 181.154876 \nC 383.274219 181.154876 388.286338 179.078788 391.98128 175.383847 \nC 395.676222 171.688905 397.75231 166.676785 397.75231 161.451349 \nC 397.75231 156.225912 395.676222 151.213792 391.98128 147.518851 \nC 388.286338 143.823909 383.274219 141.747821 378.048782 141.747821 \nC 372.823345 141.747821 367.811226 143.823909 364.116284 147.518851 \nC 360.421342 151.213792 358.345254 156.225912 358.345254 161.451349 \nC 358.345254 166.676785 360.421342 171.688905 364.116284 175.383847 \nC 367.811226 179.078788 372.823345 181.154876 378.048782 181.154876 \nz\n\" clip-path=\"url(#p297abf71d0)\" style=\"fill: #fb6d4d; fill-opacity: 0.7; stroke: #808080; stroke-opacity: 0.7\"/>\n    <path d=\"M 176.974511 311.578616 \nC 181.966509 311.578616 186.75472 309.595274 190.284596 306.065398 \nC 193.814472 302.535522 195.797814 297.747311 195.797814 292.755313 \nC 195.797814 287.763314 193.814472 282.975103 190.284596 279.445227 \nC 186.75472 275.915351 181.966509 273.932009 176.974511 273.932009 \nC 171.982512 273.932009 167.194301 275.915351 163.664425 279.445227 \nC 160.134549 282.975103 158.151207 287.763314 158.151207 292.755313 \nC 158.151207 297.747311 160.134549 302.535522 163.664425 306.065398 \nC 167.194301 309.595274 171.982512 311.578616 176.974511 311.578616 \nz\n\" clip-path=\"url(#p297abf71d0)\" style=\"fill: #fdd7c6; fill-opacity: 0.7; stroke: #808080; stroke-opacity: 0.7\"/>\n    <path d=\"M 553.408531 201.587903 \nC 557.607373 201.587903 561.634807 199.919686 564.603837 196.950656 \nC 567.572867 193.981626 569.241085 189.954192 569.241085 185.75535 \nC 569.241085 181.556508 567.572867 177.529074 564.603837 174.560044 \nC 561.634807 171.591014 557.607373 169.922796 553.408531 169.922796 \nC 549.209689 169.922796 545.182255 171.591014 542.213225 174.560044 \nC 539.244195 177.529074 537.575978 181.556508 537.575978 185.75535 \nC 537.575978 189.954192 539.244195 193.981626 542.213225 196.950656 \nC 545.182255 199.919686 549.209689 201.587903 553.408531 201.587903 \nz\n\" clip-path=\"url(#p297abf71d0)\" style=\"fill: #c3161b; fill-opacity: 0.7; stroke: #808080; stroke-opacity: 0.7\"/>\n    <path d=\"M 645.093398 390.099966 \nC 649.116167 390.099966 652.974716 388.501703 655.819243 385.657175 \nC 658.66377 382.812648 660.262033 378.9541 660.262033 374.93133 \nC 660.262033 370.908561 658.66377 367.050013 655.819243 364.205485 \nC 652.974716 361.360958 649.116167 359.762695 645.093398 359.762695 \nC 641.070629 359.762695 637.21208 361.360958 634.367553 364.205485 \nC 631.523026 367.050013 629.924763 370.908561 629.924763 374.93133 \nC 629.924763 378.9541 631.523026 382.812648 634.367553 385.657175 \nC 637.21208 388.501703 641.070629 390.099966 645.093398 390.099966 \nz\n\" clip-path=\"url(#p297abf71d0)\" style=\"fill: #8a0812; fill-opacity: 0.7; stroke: #808080; stroke-opacity: 0.7\"/>\n    <path d=\"M 80.486364 303.928822 \nC 84.319198 303.928822 87.995565 302.406021 90.705788 299.695798 \nC 93.41601 296.985575 94.938812 293.309208 94.938812 289.476374 \nC 94.938812 285.64354 93.41601 281.967173 90.705788 279.25695 \nC 87.995565 276.546727 84.319198 275.023926 80.486364 275.023926 \nC 76.65353 275.023926 72.977163 276.546727 70.26694 279.25695 \nC 67.556717 281.967173 66.033916 285.64354 66.033916 289.476374 \nC 66.033916 293.309208 67.556717 296.985575 70.26694 299.695798 \nC 72.977163 302.406021 76.65353 303.928822 80.486364 303.928822 \nz\n\" clip-path=\"url(#p297abf71d0)\" style=\"fill: #fff5f0; fill-opacity: 0.7; stroke: #808080; stroke-opacity: 0.7\"/>\n    <path d=\"M 524.513823 225.80697 \nC 528.192819 225.80697 531.721629 224.345289 534.323072 221.743846 \nC 536.924515 219.142402 538.386196 215.613593 538.386196 211.934596 \nC 538.386196 208.2556 536.924515 204.72679 534.323072 202.125347 \nC 531.721629 199.523903 528.192819 198.062223 524.513823 198.062223 \nC 520.834826 198.062223 517.306016 199.523903 514.704573 202.125347 \nC 512.10313 204.72679 510.641449 208.2556 510.641449 211.934596 \nC 510.641449 215.613593 512.10313 219.142402 514.704573 221.743846 \nC 517.306016 224.345289 520.834826 225.80697 524.513823 225.80697 \nz\n\" clip-path=\"url(#p297abf71d0)\" style=\"fill: #d11e1f; fill-opacity: 0.7; stroke: #808080; stroke-opacity: 0.7\"/>\n    <path d=\"M 186.117507 338.757776 \nC 189.638796 338.757776 193.016336 337.358753 195.506263 334.868826 \nC 197.996191 332.378898 199.395214 329.001358 199.395214 325.480069 \nC 199.395214 321.95878 197.996191 318.58124 195.506263 316.091313 \nC 193.016336 313.601385 189.638796 312.202362 186.117507 312.202362 \nC 182.596218 312.202362 179.218678 313.601385 176.72875 316.091313 \nC 174.238823 318.58124 172.8398 321.95878 172.8398 325.480069 \nC 172.8398 329.001358 174.238823 332.378898 176.72875 334.868826 \nC 179.218678 337.358753 182.596218 338.757776 186.117507 338.757776 \nz\n\" clip-path=\"url(#p297abf71d0)\" style=\"fill: #fdd2bf; fill-opacity: 0.7; stroke: #808080; stroke-opacity: 0.7\"/>\n    <path d=\"M 610.144091 344.495164 \nC 613.537261 344.495164 616.791912 343.147043 619.191245 340.74771 \nC 621.590578 338.348377 622.938699 335.093726 622.938699 331.700556 \nC 622.938699 328.307386 621.590578 325.052735 619.191245 322.653402 \nC 616.791912 320.254068 613.537261 318.905948 610.144091 318.905948 \nC 606.750921 318.905948 603.49627 320.254068 601.096937 322.653402 \nC 598.697603 325.052735 597.349483 328.307386 597.349483 331.700556 \nC 597.349483 335.093726 598.697603 338.348377 601.096937 340.74771 \nC 603.49627 343.147043 606.750921 344.495164 610.144091 344.495164 \nz\n\" clip-path=\"url(#p297abf71d0)\" style=\"fill: #a60f15; fill-opacity: 0.7; stroke: #808080; stroke-opacity: 0.7\"/>\n    <path d=\"M 420.654621 118.801984 \nC 424.011122 118.801984 427.230602 117.468432 429.604007 115.095027 \nC 431.977411 112.721622 433.310963 109.502143 433.310963 106.145641 \nC 433.310963 102.78914 431.977411 99.569661 429.604007 97.196256 \nC 427.230602 94.822851 424.011122 93.489299 420.654621 93.489299 \nC 417.29812 93.489299 414.07864 94.822851 411.705236 97.196256 \nC 409.331831 99.569661 407.998279 102.78914 407.998279 106.145641 \nC 407.998279 109.502143 409.331831 112.721622 411.705236 115.095027 \nC 414.07864 117.468432 417.29812 118.801984 420.654621 118.801984 \nz\n\" clip-path=\"url(#p297abf71d0)\" style=\"fill: #f5533b; fill-opacity: 0.7; stroke: #808080; stroke-opacity: 0.7\"/>\n    <path d=\"M 624.270292 406.821175 \nC 627.371076 406.821175 630.345278 405.58922 632.537864 403.396635 \nC 634.73045 401.204049 635.962404 398.229847 635.962404 395.129062 \nC 635.962404 392.028278 634.73045 389.054076 632.537864 386.86149 \nC 630.345278 384.668905 627.371076 383.43695 624.270292 383.43695 \nC 621.169507 383.43695 618.195305 384.668905 616.002719 386.86149 \nC 613.810134 389.054076 612.578179 392.028278 612.578179 395.129062 \nC 612.578179 398.229847 613.810134 401.204049 616.002719 403.396635 \nC 618.195305 405.58922 621.169507 406.821175 624.270292 406.821175 \nz\n\" clip-path=\"url(#p297abf71d0)\" style=\"fill: #9c0d14; fill-opacity: 0.7; stroke: #808080; stroke-opacity: 0.7\"/>\n    <path d=\"M 689.213636 53.492317 \nC 692.174166 53.492317 695.013839 52.316086 697.107249 50.222675 \nC 699.20066 48.129265 700.376891 45.289592 700.376891 42.329063 \nC 700.376891 39.368533 699.20066 36.52886 697.107249 34.43545 \nC 695.013839 32.342039 692.174166 31.165808 689.213636 31.165808 \nC 686.253107 31.165808 683.413434 32.342039 681.320023 34.43545 \nC 679.226613 36.52886 678.050382 39.368533 678.050382 42.329063 \nC 678.050382 45.289592 679.226613 48.129265 681.320023 50.222675 \nC 683.413434 52.316086 686.253107 53.492317 689.213636 53.492317 \nz\n\" clip-path=\"url(#p297abf71d0)\" style=\"fill: #67000d; fill-opacity: 0.7; stroke: #808080; stroke-opacity: 0.7\"/>\n    <path d=\"M 399.065795 249.899963 \nC 402.016849 249.899963 404.847432 248.727497 406.934142 246.640787 \nC 409.020852 244.554078 410.193318 241.723494 410.193318 238.772441 \nC 410.193318 235.821388 409.020852 232.990805 406.934142 230.904095 \nC 404.847432 228.817385 402.016849 227.644919 399.065795 227.644919 \nC 396.114742 227.644919 393.284159 228.817385 391.197449 230.904095 \nC 389.110739 232.990805 387.938273 235.821388 387.938273 238.772441 \nC 387.938273 241.723494 389.110739 244.554078 391.197449 246.640787 \nC 393.284159 248.727497 396.114742 249.899963 399.065795 249.899963 \nz\n\" clip-path=\"url(#p297abf71d0)\" style=\"fill: #f96245; fill-opacity: 0.7; stroke: #808080; stroke-opacity: 0.7\"/>\n    <path d=\"M 532.196647 337.568486 \nC 535.083286 337.568486 537.852084 336.421613 539.893245 334.380451 \nC 541.934407 332.339289 543.081281 329.570491 543.081281 326.683853 \nC 543.081281 323.797214 541.934407 321.028416 539.893245 318.987254 \nC 537.852084 316.946093 535.083286 315.799219 532.196647 315.799219 \nC 529.310008 315.799219 526.54121 316.946093 524.500049 318.987254 \nC 522.458887 321.028416 521.312013 323.797214 521.312013 326.683853 \nC 521.312013 329.570491 522.458887 332.339289 524.500049 334.380451 \nC 526.54121 336.421613 529.310008 337.568486 532.196647 337.568486 \nz\n\" clip-path=\"url(#p297abf71d0)\" style=\"fill: #ce1a1e; fill-opacity: 0.7; stroke: #808080; stroke-opacity: 0.7\"/>\n    <path d=\"M 410.879314 324.800844 \nC 413.719542 324.800844 416.443824 323.672409 418.452169 321.664065 \nC 420.460513 319.65572 421.588948 316.931438 421.588948 314.09121 \nC 421.588948 311.250982 420.460513 308.5267 418.452169 306.518356 \nC 416.443824 304.510011 413.719542 303.381577 410.879314 303.381577 \nC 408.039086 303.381577 405.314804 304.510011 403.30646 306.518356 \nC 401.298115 308.5267 400.169681 311.250982 400.169681 314.09121 \nC 400.169681 316.931438 401.298115 319.65572 403.30646 321.664065 \nC 405.314804 323.672409 408.039086 324.800844 410.879314 324.800844 \nz\n\" clip-path=\"url(#p297abf71d0)\" style=\"fill: #f75b40; fill-opacity: 0.7; stroke: #808080; stroke-opacity: 0.7\"/>\n   </g>\n   <g id=\"matplotlib.axis_1\">\n    <g id=\"xtick_1\">\n     <g id=\"line2d_1\">\n      <defs>\n       <path id=\"me0dd14ad84\" d=\"M 0 0 \nL 0 3.5 \n\" style=\"stroke: #000000; stroke-width: 0.8\"/>\n      </defs>\n      <g>\n       <use xlink:href=\"#me0dd14ad84\" x=\"152.32746\" y=\"412.769062\" style=\"stroke: #000000; stroke-width: 0.8\"/>\n      </g>\n     </g>\n     <g id=\"text_1\">\n      <!-- 0.35 -->\n      <g transform=\"translate(141.271992 427.428437) scale(0.1 -0.1)\">\n       <defs>\n        <path id=\"HiraginoSansGB-W3-30\" d=\"M 2099 -58 \nC 2688 -58 3136 166 3456 614 \nC 3738 1005 3904 1690 3904 2464 \nC 3904 2995 3821 3507 3661 3949 \nC 3584 4160 3456 4358 3277 4538 \nC 2989 4838 2579 4992 2106 4992 \nC 1472 4992 979 4723 672 4205 \nC 448 3834 301 3142 301 2464 \nC 301 1939 384 1434 544 986 \nC 621 768 755 570 928 397 \nC 1229 96 1626 -58 2099 -58 \nz\nM 2099 4550 \nC 2547 4550 2893 4352 3104 3968 \nC 3270 3667 3392 3034 3392 2477 \nC 3392 2003 3328 1581 3194 1184 \nC 3136 998 3034 832 2893 685 \nC 2701 486 2426 384 2106 384 \nC 1670 384 1338 570 1114 941 \nC 941 1242 813 1869 813 2464 \nC 813 2931 877 3366 1011 3757 \nC 1062 3917 1165 4077 1299 4224 \nC 1504 4442 1766 4550 2099 4550 \nz\n\" transform=\"scale(0.015625)\"/>\n        <path id=\"HiraginoSansGB-W3-2e\" d=\"M 448 672 \nL 448 38 \nL 1082 38 \nL 1082 672 \nL 448 672 \nz\n\" transform=\"scale(0.015625)\"/>\n        <path id=\"HiraginoSansGB-W3-33\" d=\"M 288 1088 \nC 403 762 480 621 614 467 \nC 922 122 1402 -58 2048 -58 \nC 3117 -58 3782 480 3782 1344 \nC 3782 1754 3635 2093 3354 2310 \nC 3136 2477 2938 2547 2566 2586 \nC 2861 2643 3002 2694 3168 2816 \nC 3450 3014 3616 3360 3616 3750 \nC 3616 4518 3027 5005 2099 5005 \nC 1542 5005 1107 4845 826 4538 \nC 666 4371 589 4224 480 3898 \nL 1011 3782 \nC 1082 4019 1126 4122 1216 4237 \nC 1395 4467 1677 4576 2067 4576 \nC 2714 4576 3098 4256 3098 3706 \nC 3098 3475 3002 3238 2842 3085 \nC 2643 2886 2330 2790 1907 2790 \nC 1734 2790 1581 2803 1434 2829 \nL 1434 2323 \nC 1606 2342 1766 2355 1946 2355 \nC 2797 2355 3251 2010 3251 1376 \nC 3251 768 2784 384 2042 384 \nC 1715 384 1434 461 1216 614 \nC 1018 755 928 890 826 1222 \nL 288 1088 \nz\n\" transform=\"scale(0.015625)\"/>\n        <path id=\"HiraginoSansGB-W3-35\" d=\"M 1261 4461 \nL 2765 4461 \nC 3066 4461 3270 4448 3514 4410 \nL 3514 4954 \nC 3258 4915 3110 4902 2765 4902 \nL 1446 4902 \nC 1069 4902 966 4909 768 4934 \nC 781 4774 781 4749 781 4659 \nC 781 4538 774 4461 762 4275 \nL 621 2829 \nC 595 2554 576 2419 525 2170 \nL 1005 2125 \nC 1075 2298 1146 2387 1299 2509 \nC 1530 2688 1811 2778 2138 2778 \nC 2816 2778 3258 2317 3258 1613 \nC 3258 877 2778 390 2061 390 \nC 1690 390 1370 525 1152 768 \nC 1056 877 1011 960 947 1139 \nL 422 986 \nC 576 678 666 544 826 384 \nC 1133 96 1549 -51 2048 -51 \nC 3104 -51 3776 608 3776 1638 \nC 3776 2112 3635 2490 3347 2765 \nC 3059 3046 2662 3200 2195 3200 \nC 1754 3200 1382 3053 1075 2758 \nC 1114 2931 1114 2931 1126 3046 \nL 1261 4461 \nz\n\" transform=\"scale(0.015625)\"/>\n       </defs>\n       <use xlink:href=\"#HiraginoSansGB-W3-30\"/>\n       <use xlink:href=\"#HiraginoSansGB-W3-2e\" x=\"65.699997\"/>\n       <use xlink:href=\"#HiraginoSansGB-W3-33\" x=\"89.699982\"/>\n       <use xlink:href=\"#HiraginoSansGB-W3-35\" x=\"155.399979\"/>\n      </g>\n     </g>\n    </g>\n    <g id=\"xtick_2\">\n     <g id=\"line2d_2\">\n      <g>\n       <use xlink:href=\"#me0dd14ad84\" x=\"256.268149\" y=\"412.769062\" style=\"stroke: #000000; stroke-width: 0.8\"/>\n      </g>\n     </g>\n     <g id=\"text_2\">\n      <!-- 0.40 -->\n      <g transform=\"translate(245.193149 427.428437) scale(0.1 -0.1)\">\n       <defs>\n        <path id=\"HiraginoSansGB-W3-34\" d=\"M 198 1254 \nC 410 1274 602 1280 960 1280 \nL 2675 1280 \nL 2675 730 \nC 2675 442 2662 262 2624 38 \nL 3206 38 \nC 3168 275 3155 422 3155 730 \nL 3155 1280 \nL 3392 1280 \nC 3667 1280 3827 1267 4064 1235 \nL 4064 1766 \nC 3834 1734 3667 1722 3398 1722 \nL 3155 1722 \nL 3155 3821 \nC 3155 4326 3162 4525 3194 4902 \nL 2714 4902 \nC 2566 4678 2451 4518 2234 4250 \nL 614 2227 \nC 480 2067 333 1888 198 1734 \nL 198 1254 \nz\nM 2682 1715 \nL 768 1715 \nL 2240 3571 \nC 2426 3808 2586 4019 2720 4211 \nC 2688 3885 2682 3680 2682 3341 \nL 2682 1715 \nz\n\" transform=\"scale(0.015625)\"/>\n       </defs>\n       <use xlink:href=\"#HiraginoSansGB-W3-30\"/>\n       <use xlink:href=\"#HiraginoSansGB-W3-2e\" x=\"65.699997\"/>\n       <use xlink:href=\"#HiraginoSansGB-W3-34\" x=\"89.699982\"/>\n       <use xlink:href=\"#HiraginoSansGB-W3-30\" x=\"155.799973\"/>\n      </g>\n     </g>\n    </g>\n    <g id=\"xtick_3\">\n     <g id=\"line2d_3\">\n      <g>\n       <use xlink:href=\"#me0dd14ad84\" x=\"360.208838\" y=\"412.769062\" style=\"stroke: #000000; stroke-width: 0.8\"/>\n      </g>\n     </g>\n     <g id=\"text_3\">\n      <!-- 0.45 -->\n      <g transform=\"translate(349.133838 427.428437) scale(0.1 -0.1)\">\n       <use xlink:href=\"#HiraginoSansGB-W3-30\"/>\n       <use xlink:href=\"#HiraginoSansGB-W3-2e\" x=\"65.699997\"/>\n       <use xlink:href=\"#HiraginoSansGB-W3-34\" x=\"89.699982\"/>\n       <use xlink:href=\"#HiraginoSansGB-W3-35\" x=\"155.799973\"/>\n      </g>\n     </g>\n    </g>\n    <g id=\"xtick_4\">\n     <g id=\"line2d_4\">\n      <g>\n       <use xlink:href=\"#me0dd14ad84\" x=\"464.149526\" y=\"412.769062\" style=\"stroke: #000000; stroke-width: 0.8\"/>\n      </g>\n     </g>\n     <g id=\"text_4\">\n      <!-- 0.50 -->\n      <g transform=\"translate(453.094057 427.428437) scale(0.1 -0.1)\">\n       <use xlink:href=\"#HiraginoSansGB-W3-30\"/>\n       <use xlink:href=\"#HiraginoSansGB-W3-2e\" x=\"65.699997\"/>\n       <use xlink:href=\"#HiraginoSansGB-W3-35\" x=\"89.699982\"/>\n       <use xlink:href=\"#HiraginoSansGB-W3-30\" x=\"155.399979\"/>\n      </g>\n     </g>\n    </g>\n    <g id=\"xtick_5\">\n     <g id=\"line2d_5\">\n      <g>\n       <use xlink:href=\"#me0dd14ad84\" x=\"568.090215\" y=\"412.769062\" style=\"stroke: #000000; stroke-width: 0.8\"/>\n      </g>\n     </g>\n     <g id=\"text_5\">\n      <!-- 0.55 -->\n      <g transform=\"translate(557.034746 427.428437) scale(0.1 -0.1)\">\n       <use xlink:href=\"#HiraginoSansGB-W3-30\"/>\n       <use xlink:href=\"#HiraginoSansGB-W3-2e\" x=\"65.699997\"/>\n       <use xlink:href=\"#HiraginoSansGB-W3-35\" x=\"89.699982\"/>\n       <use xlink:href=\"#HiraginoSansGB-W3-35\" x=\"155.399979\"/>\n      </g>\n     </g>\n    </g>\n    <g id=\"xtick_6\">\n     <g id=\"line2d_6\">\n      <g>\n       <use xlink:href=\"#me0dd14ad84\" x=\"672.030903\" y=\"412.769062\" style=\"stroke: #000000; stroke-width: 0.8\"/>\n      </g>\n     </g>\n     <g id=\"text_6\">\n      <!-- 0.60 -->\n      <g transform=\"translate(660.975435 427.428437) scale(0.1 -0.1)\">\n       <defs>\n        <path id=\"HiraginoSansGB-W3-36\" d=\"M 3725 4006 \nC 3539 4390 3411 4563 3187 4723 \nC 2944 4896 2598 4992 2214 4992 \nC 1658 4992 1203 4755 864 4294 \nC 557 3878 378 3162 378 2362 \nC 378 1453 608 736 1024 352 \nC 1299 96 1728 -51 2182 -51 \nC 3194 -51 3859 602 3859 1594 \nC 3859 2579 3245 3194 2253 3194 \nC 1811 3194 1472 3072 1171 2803 \nC 1030 2682 966 2592 851 2394 \nC 896 3091 954 3386 1120 3770 \nC 1350 4294 1728 4563 2227 4563 \nC 2547 4563 2797 4454 2989 4243 \nC 3085 4134 3130 4045 3213 3840 \nL 3725 4006 \nz\nM 3354 1581 \nC 3354 1331 3290 1069 3187 902 \nC 2989 582 2605 384 2189 384 \nC 1498 384 979 896 979 1587 \nC 979 1907 1088 2189 1299 2400 \nC 1523 2624 1862 2765 2182 2765 \nC 2931 2765 3354 2336 3354 1581 \nz\n\" transform=\"scale(0.015625)\"/>\n       </defs>\n       <use xlink:href=\"#HiraginoSansGB-W3-30\"/>\n       <use xlink:href=\"#HiraginoSansGB-W3-2e\" x=\"65.699997\"/>\n       <use xlink:href=\"#HiraginoSansGB-W3-36\" x=\"89.699982\"/>\n       <use xlink:href=\"#HiraginoSansGB-W3-30\" x=\"155.399979\"/>\n      </g>\n     </g>\n    </g>\n    <g id=\"text_7\">\n     <!-- 搜索-点击转化率 -->\n     <g transform=\"translate(348.060156 441.128437) scale(0.1 -0.1)\">\n      <defs>\n       <path id=\"HiraginoSansGB-W3-641c\" d=\"M 4218 1888 \nL 4218 2496 \nL 5216 2496 \nC 5459 2496 5645 2490 5811 2470 \nC 5792 2637 5786 2771 5786 3046 \nL 5786 4288 \nC 5786 4563 5792 4704 5811 4864 \nC 5683 4845 5549 4838 5344 4838 \nL 4973 4838 \nC 4742 4838 4627 4845 4486 4864 \nL 4486 4480 \nC 4614 4499 4736 4506 4928 4506 \nL 5414 4506 \nL 5414 3859 \nL 4973 3859 \nC 4742 3859 4621 3866 4486 3885 \nL 4486 3507 \nC 4621 3526 4742 3533 4954 3533 \nL 5414 3533 \nL 5414 2829 \nL 4218 2829 \nL 4218 4704 \nC 4218 4973 4230 5139 4256 5306 \nL 3808 5306 \nC 3834 5133 3846 4966 3846 4704 \nL 3846 2829 \nL 2765 2829 \nL 2765 3546 \nL 3104 3546 \nC 3315 3546 3443 3539 3578 3520 \nL 3578 3885 \nC 3443 3866 3322 3859 3091 3859 \nL 2765 3859 \nL 2765 4499 \nC 3085 4589 3322 4672 3642 4826 \nL 3360 5120 \nC 3085 4934 2790 4819 2374 4749 \nC 2387 4627 2394 4525 2394 4224 \nL 2394 3046 \nC 2394 2797 2387 2618 2374 2470 \nC 2547 2490 2733 2496 2976 2496 \nL 3846 2496 \nL 3846 1888 \nL 2630 1888 \nC 2387 1888 2272 1894 2138 1920 \nL 2138 1517 \nC 2285 1536 2400 1542 2611 1542 \nL 2758 1542 \nC 3072 1082 3290 858 3744 525 \nC 3136 224 2656 83 1856 -45 \nC 1984 -192 2010 -230 2086 -416 \nC 2931 -237 3475 -45 4096 294 \nC 4621 -26 5197 -250 5971 -435 \nC 6029 -269 6086 -160 6176 -38 \nC 5485 90 5037 237 4461 518 \nC 4909 813 5184 1062 5491 1446 \nC 5594 1568 5594 1568 5677 1658 \nL 5434 1914 \nC 5325 1894 5222 1888 5018 1888 \nL 4218 1888 \nz\nM 5082 1542 \nC 4762 1178 4480 934 4102 717 \nC 3680 979 3450 1190 3194 1542 \nL 5082 1542 \nz\nM 1568 3680 \nL 1702 3680 \nC 1894 3680 2022 3674 2144 3654 \nL 2144 4077 \nC 2016 4051 1888 4045 1702 4045 \nL 1568 4045 \nL 1568 4666 \nC 1568 4960 1581 5133 1606 5306 \nL 1139 5306 \nC 1165 5133 1178 4947 1178 4659 \nL 1178 4045 \nL 877 4045 \nC 698 4045 550 4058 390 4083 \nL 390 3648 \nC 538 3674 678 3680 870 3680 \nL 1178 3680 \nL 1178 2291 \nC 685 2125 531 2080 326 2061 \nL 442 1613 \nC 634 1702 634 1702 1178 1894 \nL 1178 173 \nC 1178 32 1126 -6 915 -6 \nC 755 -6 582 6 346 38 \nC 410 -128 429 -211 435 -378 \nC 595 -384 723 -390 864 -390 \nC 1210 -390 1331 -365 1434 -282 \nC 1530 -211 1568 -102 1568 77 \nL 1568 2048 \nC 1798 2144 1875 2182 2150 2310 \nL 2144 2694 \nC 1850 2560 1754 2515 1568 2438 \nL 1568 3680 \nz\n\" transform=\"scale(0.015625)\"/>\n       <path id=\"HiraginoSansGB-W3-7d22\" d=\"M 3027 1280 \nL 3027 179 \nC 3027 90 3008 0 2982 -13 \nC 2944 -38 2842 -51 2701 -51 \nC 2586 -51 2483 -38 2234 0 \nC 2278 -160 2291 -224 2310 -410 \nC 2579 -429 2675 -435 2771 -435 \nC 2995 -435 3194 -390 3296 -320 \nC 3392 -250 3430 -134 3430 90 \nL 3430 1306 \nC 4358 1363 4787 1395 5210 1446 \nC 5350 1286 5421 1197 5626 934 \nL 5914 1242 \nC 5530 1683 5395 1818 4634 2477 \nL 4365 2221 \nC 4710 1920 4781 1856 4896 1754 \nC 3866 1638 3763 1626 1869 1530 \nC 2509 1760 2829 1901 3270 2131 \nC 3744 2387 4070 2579 4544 2886 \nL 4250 3149 \nC 3846 2861 3674 2746 3309 2528 \nC 3046 2502 2925 2496 1997 2464 \nC 2451 2733 2611 2848 3123 3277 \nL 2726 3430 \nC 2426 3136 2029 2816 1760 2656 \nC 1555 2541 1446 2502 1235 2464 \nL 1306 2112 \nC 1363 2112 1402 2118 1421 2118 \nC 1658 2150 1658 2150 1690 2150 \nC 1779 2157 2368 2189 2426 2195 \nL 2701 2208 \nC 1773 1779 1773 1779 1536 1709 \nC 1152 1587 966 1549 627 1517 \nL 672 1158 \nL 1779 1222 \nL 3027 1280 \nz\nM 2938 4781 \nL 1216 4781 \nC 883 4781 678 4794 506 4819 \nL 506 4390 \nC 691 4416 883 4422 1210 4422 \nL 2938 4422 \nL 2938 3808 \nL 1210 3808 \nC 941 3808 768 3814 570 3834 \nC 589 3686 595 3610 595 3424 \nL 595 3008 \nC 595 2848 589 2733 570 2605 \nL 998 2605 \nL 998 3456 \nL 5421 3456 \nL 5421 2598 \nL 5850 2598 \nC 5830 2720 5824 2835 5824 3014 \nL 5824 3450 \nC 5824 3629 5830 3686 5850 3834 \nC 5651 3814 5498 3808 5210 3808 \nL 3334 3808 \nL 3334 4422 \nL 5222 4422 \nC 5530 4422 5754 4410 5926 4390 \nL 5926 4819 \nC 5754 4794 5555 4781 5222 4781 \nL 3334 4781 \nL 3334 4890 \nC 3334 5043 3347 5184 3379 5338 \nL 2893 5338 \nC 2925 5197 2938 5037 2938 4890 \nL 2938 4781 \nz\nM 5830 115 \nC 5248 499 5030 621 4237 1011 \nL 4013 704 \nC 4717 358 5024 179 5594 -243 \nL 5830 115 \nz\nM 2029 1082 \nC 1798 813 1658 685 1363 493 \nC 1088 314 883 211 512 83 \nC 646 -19 730 -109 826 -256 \nC 1530 83 1901 352 2374 870 \nL 2029 1082 \nz\n\" transform=\"scale(0.015625)\"/>\n       <path id=\"HiraginoSansGB-W3-2d\" d=\"M 179 1632 \nC 358 1658 506 1664 762 1664 \nL 1523 1664 \nC 1792 1664 1933 1658 2112 1632 \nL 2112 2170 \nC 1933 2144 1798 2138 1523 2138 \nL 762 2138 \nC 493 2138 358 2144 179 2170 \nL 179 1632 \nz\n\" transform=\"scale(0.015625)\"/>\n       <path id=\"HiraginoSansGB-W3-70b9\" d=\"M 3290 4506 \nL 3290 4710 \nC 3290 4947 3302 5139 3334 5318 \nL 2829 5318 \nC 2861 5126 2874 4922 2874 4685 \nL 2874 3296 \nL 1894 3296 \nC 1600 3296 1363 3309 1171 3328 \nC 1190 3162 1197 3027 1197 2848 \nL 1197 1824 \nC 1197 1658 1190 1517 1171 1363 \nC 1376 1382 1549 1389 1830 1389 \nL 4589 1389 \nC 4877 1389 5030 1382 5248 1363 \nC 5229 1517 5222 1632 5222 1824 \nL 5222 2848 \nC 5222 3040 5229 3187 5248 3328 \nC 5075 3302 4877 3296 4525 3296 \nL 3290 3296 \nL 3290 4141 \nL 5094 4141 \nC 5318 4141 5517 4128 5734 4102 \nL 5734 4544 \nC 5555 4518 5363 4506 5094 4506 \nL 3290 4506 \nz\nM 4813 2925 \nL 4813 1766 \nL 1606 1766 \nL 1606 2925 \nL 4813 2925 \nz\nM 698 -448 \nC 1082 -6 1299 365 1542 973 \nL 1165 1139 \nC 1050 794 986 646 819 384 \nC 659 134 563 13 320 -218 \nL 698 -448 \nz\nM 2771 -365 \nC 2746 115 2694 448 2573 1018 \nL 2208 954 \nC 2310 435 2349 96 2349 -454 \nL 2771 -365 \nz\nM 4352 -288 \nC 4179 218 4038 563 3789 1062 \nL 3437 947 \nC 3699 403 3821 64 3942 -461 \nL 4352 -288 \nz\nM 5952 -218 \nC 5619 384 5466 621 5075 1158 \nL 4723 998 \nC 5101 486 5286 166 5574 -448 \nL 5952 -218 \nz\n\" transform=\"scale(0.015625)\"/>\n       <path id=\"HiraginoSansGB-W3-51fb\" d=\"M 3379 2931 \nL 3379 4109 \nL 4915 4109 \nC 5184 4109 5414 4096 5626 4064 \nL 5626 4525 \nC 5421 4499 5203 4486 4922 4486 \nL 3379 4486 \nL 3379 4768 \nC 3379 5018 3386 5158 3418 5312 \nL 2938 5312 \nC 2963 5171 2976 5005 2976 4768 \nL 2976 4486 \nL 1504 4486 \nC 1210 4486 986 4499 774 4525 \nL 774 4064 \nC 1030 4096 1254 4109 1504 4109 \nL 2976 4109 \nL 2976 2931 \nL 1018 2931 \nC 742 2931 544 2944 371 2970 \nL 371 2515 \nC 570 2541 742 2554 1018 2554 \nL 2976 2554 \nL 2976 326 \nL 1382 326 \nL 1382 1491 \nC 1382 1722 1389 1843 1414 1978 \nL 934 1978 \nC 960 1830 966 1702 966 1478 \nL 966 416 \nC 966 230 960 102 941 -58 \nC 1094 -38 1242 -32 1446 -32 \nL 5018 -32 \nL 5018 -454 \nL 5466 -454 \nC 5440 -275 5434 -128 5434 96 \nL 5434 1459 \nC 5434 1702 5440 1824 5466 1965 \nL 4986 1965 \nC 5011 1818 5018 1696 5018 1478 \nL 5018 326 \nL 3379 326 \nL 3379 2554 \nL 5370 2554 \nC 5645 2554 5824 2541 6022 2515 \nL 6022 2970 \nC 5850 2944 5651 2931 5370 2931 \nL 3379 2931 \nz\n\" transform=\"scale(0.015625)\"/>\n       <path id=\"HiraginoSansGB-W3-8f6c\" d=\"M 864 2618 \nL 1331 4224 \nL 2182 4224 \nC 2432 4224 2554 4218 2726 4192 \nL 2726 4621 \nC 2573 4595 2451 4589 2189 4589 \nL 1434 4589 \nL 1446 4621 \nL 1510 4851 \nC 1523 4909 1536 4954 1549 4992 \nC 1574 5069 1600 5139 1658 5306 \nL 1190 5389 \nC 1165 5146 1165 5146 1139 5037 \nL 1056 4646 \nL 1037 4589 \nL 851 4589 \nC 589 4589 448 4595 301 4621 \nL 301 4192 \nC 467 4218 595 4224 845 4224 \nL 934 4224 \nL 531 2861 \nC 480 2726 448 2669 358 2560 \nL 506 2240 \nC 634 2259 717 2266 922 2266 \nL 1619 2266 \nL 1619 1248 \nC 1600 1248 1594 1248 1574 1242 \nC 1075 1146 640 1088 333 1075 \nL 390 634 \nC 506 666 550 678 678 698 \nC 1024 755 1024 755 1619 877 \nL 1619 192 \nC 1619 -58 1606 -262 1574 -486 \nL 2048 -486 \nC 2016 -275 2003 -77 2003 186 \nL 2003 960 \nC 2502 1075 2528 1082 2880 1178 \nL 2886 1542 \nC 2598 1459 2598 1459 2003 1325 \nL 2003 2266 \nL 2080 2266 \nC 2304 2266 2554 2253 2746 2227 \nL 2746 2656 \nC 2566 2630 2374 2618 2080 2618 \nL 2003 2618 \nL 2003 3104 \nC 2003 3302 2010 3430 2042 3616 \nL 1581 3616 \nC 1606 3450 1619 3302 1619 3104 \nL 1619 2618 \nL 864 2618 \nz\nM 5549 3021 \nC 5773 3021 5971 3008 6163 2989 \nL 6163 3418 \nC 6010 3392 5843 3386 5542 3386 \nL 4179 3386 \nC 4294 3821 4294 3821 4384 4211 \nL 5306 4211 \nC 5549 4211 5702 4205 5901 4179 \nL 5901 4614 \nC 5754 4589 5594 4576 5306 4576 \nL 4461 4576 \nC 4544 4947 4602 5184 4634 5293 \nL 4160 5325 \nC 4160 5133 4134 4915 4064 4576 \nL 3571 4576 \nC 3296 4576 3149 4582 2989 4608 \nL 2989 4179 \nC 3174 4205 3334 4211 3571 4211 \nL 3981 4211 \nC 3904 3859 3904 3859 3789 3386 \nL 3290 3386 \nC 2995 3386 2816 3392 2669 3418 \nL 2669 2989 \nC 2861 3008 3066 3021 3290 3021 \nL 3693 3021 \nC 3552 2496 3424 2144 3264 1818 \nC 3494 1830 3571 1830 3635 1837 \nC 3731 1843 3789 1850 3814 1850 \nL 5248 1850 \nC 4979 1261 4832 986 4621 659 \nC 4595 614 4589 608 4576 582 \nC 4314 819 4198 909 3866 1152 \nL 3565 877 \nC 4160 454 4589 45 5075 -550 \nL 5389 -269 \nC 5171 0 5069 115 4902 275 \nC 4877 301 4877 301 4864 314 \nC 5050 602 5126 730 5261 992 \nC 5626 1677 5709 1824 5773 1920 \nL 5510 2234 \nC 5376 2214 5254 2208 4960 2208 \nL 3859 2208 \nC 3942 2490 3981 2618 4006 2714 \nC 4064 2931 4064 2931 4083 3021 \nL 5549 3021 \nz\n\" transform=\"scale(0.015625)\"/>\n       <path id=\"HiraginoSansGB-W3-5316\" d=\"M 3514 1926 \nC 3878 2157 4262 2451 4525 2694 \nC 4979 3110 5306 3456 5626 3853 \nC 5830 4115 5850 4134 5946 4237 \nL 5523 4512 \nC 5421 4301 5210 4006 4934 3680 \nC 4429 3085 3994 2688 3514 2368 \nL 3514 4570 \nC 3514 4851 3526 5088 3552 5261 \nL 3053 5261 \nC 3072 5101 3091 4851 3091 4570 \nL 3091 2112 \nC 2541 1818 2355 1734 2029 1632 \nC 2170 1498 2221 1434 2291 1286 \nC 2547 1382 2611 1414 3091 1670 \nL 3091 326 \nC 3091 -173 3251 -250 4320 -250 \nC 5293 -250 5600 -192 5760 19 \nC 5894 205 5984 570 6061 1274 \nC 5926 1312 5792 1370 5638 1472 \nC 5587 781 5523 442 5421 301 \nC 5325 179 5088 147 4352 147 \nC 3603 147 3514 173 3514 403 \nL 3514 1926 \nz\nM 1357 320 \nC 1357 26 1338 -218 1312 -474 \nL 1811 -474 \nC 1786 -211 1773 51 1773 301 \nL 1773 3654 \nC 2042 4262 2227 4685 2285 4845 \nC 2394 5139 2394 5139 2419 5203 \nL 1946 5338 \nC 1914 5088 1862 4909 1728 4570 \nC 1402 3744 954 3072 282 2413 \nC 371 2317 486 2163 557 2042 \nC 934 2445 1178 2765 1370 3117 \nC 1357 2778 1357 2694 1357 2336 \nL 1357 320 \nz\n\" transform=\"scale(0.015625)\"/>\n       <path id=\"HiraginoSansGB-W3-7387\" d=\"M 2848 4448 \nC 2714 4224 2637 4109 2477 3910 \nC 2298 3680 2202 3610 2016 3546 \nL 2099 3226 \nC 2202 3232 2202 3232 2317 3251 \nC 2490 3270 2490 3270 2726 3283 \nC 2861 3290 2970 3302 3200 3322 \nC 2835 2906 2630 2701 2419 2534 \nC 2182 2355 2093 2310 1862 2253 \nL 1939 1914 \nC 2080 1926 2080 1926 2246 1952 \nC 2643 2016 2720 2022 3078 2054 \nC 3558 2099 3558 2099 4102 2163 \nC 4179 2054 4224 1971 4371 1722 \nL 4691 1971 \nC 4512 2246 4205 2630 3802 3059 \nL 3507 2835 \nC 3693 2675 3757 2611 3885 2464 \nC 3552 2413 3437 2400 2714 2336 \nC 3078 2669 3270 2861 3437 3066 \nC 3962 3699 3962 3699 4173 3949 \nL 3834 4154 \nC 3648 3885 3552 3750 3482 3661 \nC 3277 3642 3277 3642 2989 3616 \nC 2790 3597 2790 3597 2630 3578 \nC 2906 3885 2906 3885 3302 4448 \nL 5427 4448 \nC 5677 4448 5875 4435 6061 4416 \nL 6061 4858 \nC 5882 4832 5683 4819 5395 4819 \nL 3437 4819 \nC 3283 5101 3270 5114 3059 5382 \nL 2720 5222 \nC 2816 5107 2893 4998 3002 4819 \nL 1069 4819 \nC 781 4819 589 4832 403 4858 \nL 403 4416 \nC 589 4435 794 4448 1037 4448 \nL 2848 4448 \nz\nM 3334 998 \nL 5408 998 \nC 5677 998 5888 986 6074 960 \nL 6074 1414 \nC 5901 1389 5670 1370 5440 1370 \nL 3334 1370 \nL 3334 1472 \nC 3334 1658 3341 1773 3360 1888 \nL 2899 1888 \nC 2918 1766 2925 1651 2925 1478 \nL 2925 1370 \nL 966 1370 \nC 736 1370 486 1389 326 1414 \nL 326 960 \nC 544 986 723 998 986 998 \nL 2925 998 \nL 2925 32 \nC 2925 -173 2912 -326 2880 -525 \nL 3379 -525 \nC 3347 -346 3334 -179 3334 32 \nL 3334 998 \nz\nM 634 3942 \nC 1030 3642 1171 3501 1523 3078 \nL 1818 3347 \nC 1510 3686 1293 3885 922 4179 \nL 634 3942 \nz\nM 563 1773 \nC 704 1850 736 1869 832 1914 \nC 992 1997 1043 2022 1171 2093 \nC 1478 2266 1670 2394 2029 2662 \nL 1869 2982 \nC 1370 2586 864 2310 371 2163 \nL 563 1773 \nz\nM 5293 4205 \nC 4973 3834 4717 3603 4282 3322 \nL 4550 3059 \nC 4979 3360 5261 3603 5594 3962 \nL 5293 4205 \nz\nM 4467 2714 \nC 4986 2374 5274 2144 5658 1734 \nL 5933 2054 \nC 5498 2438 5242 2630 4717 2957 \nL 4467 2714 \nz\n\" transform=\"scale(0.015625)\"/>\n      </defs>\n      <use xlink:href=\"#HiraginoSansGB-W3-641c\"/>\n      <use xlink:href=\"#HiraginoSansGB-W3-7d22\" x=\"99.999985\"/>\n      <use xlink:href=\"#HiraginoSansGB-W3-2d\" x=\"199.999969\"/>\n      <use xlink:href=\"#HiraginoSansGB-W3-70b9\" x=\"235.799957\"/>\n      <use xlink:href=\"#HiraginoSansGB-W3-51fb\" x=\"335.799942\"/>\n      <use xlink:href=\"#HiraginoSansGB-W3-8f6c\" x=\"435.799927\"/>\n      <use xlink:href=\"#HiraginoSansGB-W3-5316\" x=\"535.799911\"/>\n      <use xlink:href=\"#HiraginoSansGB-W3-7387\" x=\"635.799896\"/>\n     </g>\n    </g>\n   </g>\n   <g id=\"matplotlib.axis_2\">\n    <g id=\"ytick_1\">\n     <g id=\"line2d_7\">\n      <defs>\n       <path id=\"m319d8f2407\" d=\"M 0 0 \nL -3.5 0 \n\" style=\"stroke: #000000; stroke-width: 0.8\"/>\n      </defs>\n      <g>\n       <use xlink:href=\"#m319d8f2407\" x=\"50.05\" y=\"365.521856\" style=\"stroke: #000000; stroke-width: 0.8\"/>\n      </g>\n     </g>\n     <g id=\"text_8\">\n      <!-- 0.06 -->\n      <g transform=\"translate(20.939063 369.351544) scale(0.1 -0.1)\">\n       <use xlink:href=\"#HiraginoSansGB-W3-30\"/>\n       <use xlink:href=\"#HiraginoSansGB-W3-2e\" x=\"65.699997\"/>\n       <use xlink:href=\"#HiraginoSansGB-W3-30\" x=\"89.699982\"/>\n       <use xlink:href=\"#HiraginoSansGB-W3-36\" x=\"155.399979\"/>\n      </g>\n     </g>\n    </g>\n    <g id=\"ytick_2\">\n     <g id=\"line2d_8\">\n      <g>\n       <use xlink:href=\"#m319d8f2407\" x=\"50.05\" y=\"315.827927\" style=\"stroke: #000000; stroke-width: 0.8\"/>\n      </g>\n     </g>\n     <g id=\"text_9\">\n      <!-- 0.08 -->\n      <g transform=\"translate(20.939063 319.657614) scale(0.1 -0.1)\">\n       <defs>\n        <path id=\"HiraginoSansGB-W3-38\" d=\"M 2752 2586 \nC 3322 2694 3680 3142 3680 3738 \nC 3680 4525 3078 5005 2099 5005 \nC 1133 5005 525 4512 525 3738 \nC 525 3142 890 2688 1453 2586 \nC 1216 2547 1075 2496 877 2368 \nC 493 2118 307 1766 307 1306 \nC 307 422 954 -64 2125 -64 \nC 3251 -64 3891 429 3891 1306 \nC 3891 1734 3731 2074 3411 2310 \nC 3200 2470 3021 2547 2752 2586 \nz\nM 2099 4576 \nC 2758 4576 3181 4237 3181 3699 \nC 3181 3130 2778 2784 2106 2784 \nC 1434 2784 1024 3130 1024 3699 \nC 1024 4230 1446 4576 2099 4576 \nz\nM 2099 2342 \nC 2886 2342 3366 1965 3366 1338 \nC 3366 1075 3283 851 3123 704 \nC 2906 486 2541 371 2093 371 \nC 1299 371 832 730 832 1338 \nC 832 1958 1312 2342 2099 2342 \nz\n\" transform=\"scale(0.015625)\"/>\n       </defs>\n       <use xlink:href=\"#HiraginoSansGB-W3-30\"/>\n       <use xlink:href=\"#HiraginoSansGB-W3-2e\" x=\"65.699997\"/>\n       <use xlink:href=\"#HiraginoSansGB-W3-30\" x=\"89.699982\"/>\n       <use xlink:href=\"#HiraginoSansGB-W3-38\" x=\"155.399979\"/>\n      </g>\n     </g>\n    </g>\n    <g id=\"ytick_3\">\n     <g id=\"line2d_9\">\n      <g>\n       <use xlink:href=\"#m319d8f2407\" x=\"50.05\" y=\"266.133997\" style=\"stroke: #000000; stroke-width: 0.8\"/>\n      </g>\n     </g>\n     <g id=\"text_10\">\n      <!-- 0.10 -->\n      <g transform=\"translate(20.939063 269.963685) scale(0.1 -0.1)\">\n       <defs>\n        <path id=\"HiraginoSansGB-W3-31\" d=\"M 1030 4429 \nC 1216 4454 1382 4467 1587 4467 \nL 1933 4467 \nL 1933 762 \nC 1933 467 1920 262 1882 38 \nL 2490 38 \nC 2451 275 2438 461 2438 762 \nL 2438 3872 \nC 2438 4218 2458 4544 2496 4934 \nC 2285 4909 2182 4902 1965 4902 \nL 1562 4902 \nC 1318 4902 1197 4909 1030 4934 \nL 1030 4429 \nz\n\" transform=\"scale(0.015625)\"/>\n       </defs>\n       <use xlink:href=\"#HiraginoSansGB-W3-30\"/>\n       <use xlink:href=\"#HiraginoSansGB-W3-2e\" x=\"65.699997\"/>\n       <use xlink:href=\"#HiraginoSansGB-W3-31\" x=\"89.699982\"/>\n       <use xlink:href=\"#HiraginoSansGB-W3-30\" x=\"155.399979\"/>\n      </g>\n     </g>\n    </g>\n    <g id=\"ytick_4\">\n     <g id=\"line2d_10\">\n      <g>\n       <use xlink:href=\"#m319d8f2407\" x=\"50.05\" y=\"216.440068\" style=\"stroke: #000000; stroke-width: 0.8\"/>\n      </g>\n     </g>\n     <g id=\"text_11\">\n      <!-- 0.12 -->\n      <g transform=\"translate(20.939063 220.269755) scale(0.1 -0.1)\">\n       <defs>\n        <path id=\"HiraginoSansGB-W3-32\" d=\"M 3027 38 \nC 3347 38 3558 26 3814 0 \nL 3814 538 \nC 3571 506 3354 493 3034 493 \nL 992 493 \nC 1069 800 1158 973 1357 1235 \nC 1568 1504 1773 1683 2278 2022 \nC 3008 2509 3174 2630 3366 2848 \nC 3616 3123 3744 3430 3744 3757 \nC 3744 4512 3123 4998 2157 4998 \nC 1594 4998 1158 4832 870 4506 \nC 659 4269 563 4045 467 3584 \nL 1005 3494 \nC 1050 3814 1107 3968 1229 4141 \nC 1421 4416 1734 4557 2157 4557 \nC 2810 4557 3219 4243 3219 3757 \nC 3219 3366 3008 3085 2374 2656 \nC 1632 2150 1619 2144 1395 1952 \nC 992 1606 723 1254 563 851 \nC 467 608 448 512 378 6 \nC 582 32 678 38 1082 38 \nL 3027 38 \nz\n\" transform=\"scale(0.015625)\"/>\n       </defs>\n       <use xlink:href=\"#HiraginoSansGB-W3-30\"/>\n       <use xlink:href=\"#HiraginoSansGB-W3-2e\" x=\"65.699997\"/>\n       <use xlink:href=\"#HiraginoSansGB-W3-31\" x=\"89.699982\"/>\n       <use xlink:href=\"#HiraginoSansGB-W3-32\" x=\"155.399979\"/>\n      </g>\n     </g>\n    </g>\n    <g id=\"ytick_5\">\n     <g id=\"line2d_11\">\n      <g>\n       <use xlink:href=\"#m319d8f2407\" x=\"50.05\" y=\"166.746138\" style=\"stroke: #000000; stroke-width: 0.8\"/>\n      </g>\n     </g>\n     <g id=\"text_12\">\n      <!-- 0.14 -->\n      <g transform=\"translate(20.9 170.575826) scale(0.1 -0.1)\">\n       <use xlink:href=\"#HiraginoSansGB-W3-30\"/>\n       <use xlink:href=\"#HiraginoSansGB-W3-2e\" x=\"65.699997\"/>\n       <use xlink:href=\"#HiraginoSansGB-W3-31\" x=\"89.699982\"/>\n       <use xlink:href=\"#HiraginoSansGB-W3-34\" x=\"155.399979\"/>\n      </g>\n     </g>\n    </g>\n    <g id=\"ytick_6\">\n     <g id=\"line2d_12\">\n      <g>\n       <use xlink:href=\"#m319d8f2407\" x=\"50.05\" y=\"117.052209\" style=\"stroke: #000000; stroke-width: 0.8\"/>\n      </g>\n     </g>\n     <g id=\"text_13\">\n      <!-- 0.16 -->\n      <g transform=\"translate(20.939063 120.881897) scale(0.1 -0.1)\">\n       <use xlink:href=\"#HiraginoSansGB-W3-30\"/>\n       <use xlink:href=\"#HiraginoSansGB-W3-2e\" x=\"65.699997\"/>\n       <use xlink:href=\"#HiraginoSansGB-W3-31\" x=\"89.699982\"/>\n       <use xlink:href=\"#HiraginoSansGB-W3-36\" x=\"155.399979\"/>\n      </g>\n     </g>\n    </g>\n    <g id=\"ytick_7\">\n     <g id=\"line2d_13\">\n      <g>\n       <use xlink:href=\"#m319d8f2407\" x=\"50.05\" y=\"67.35828\" style=\"stroke: #000000; stroke-width: 0.8\"/>\n      </g>\n     </g>\n     <g id=\"text_14\">\n      <!-- 0.18 -->\n      <g transform=\"translate(20.939063 71.187967) scale(0.1 -0.1)\">\n       <use xlink:href=\"#HiraginoSansGB-W3-30\"/>\n       <use xlink:href=\"#HiraginoSansGB-W3-2e\" x=\"65.699997\"/>\n       <use xlink:href=\"#HiraginoSansGB-W3-31\" x=\"89.699982\"/>\n       <use xlink:href=\"#HiraginoSansGB-W3-38\" x=\"155.399979\"/>\n      </g>\n     </g>\n    </g>\n    <g id=\"text_15\">\n     <!-- 点击-支付转化率 -->\n     <g transform=\"translate(14.859375 255.518906) rotate(-90) scale(0.1 -0.1)\">\n      <defs>\n       <path id=\"HiraginoSansGB-W3-652f\" d=\"M 3392 4378 \nL 3392 4768 \nC 3392 5030 3405 5171 3437 5325 \nL 2931 5325 \nC 2963 5152 2976 5024 2976 4768 \nL 2976 4378 \nL 1165 4378 \nC 896 4378 685 4390 493 4422 \nL 493 3962 \nC 678 3987 890 4000 1158 4000 \nL 2976 4000 \nL 2976 2970 \nL 1638 2970 \nC 1338 2970 1120 2982 954 3008 \nL 954 2573 \nC 1152 2598 1350 2611 1632 2611 \nL 1715 2611 \nC 1907 2195 1997 2042 2202 1773 \nC 2413 1491 2650 1242 2938 1005 \nC 2240 525 1402 198 422 26 \nC 531 -115 589 -211 653 -378 \nC 1677 -154 2477 192 3264 749 \nC 4006 211 4768 -128 5850 -403 \nC 5920 -218 5971 -134 6093 26 \nC 5037 243 4301 531 3597 998 \nC 4122 1434 4544 1907 4870 2413 \nC 4973 2573 5018 2637 5094 2726 \nL 4819 3002 \nC 4691 2976 4538 2970 4256 2970 \nL 3392 2970 \nL 3392 4000 \nL 5306 4000 \nC 5581 4000 5792 3987 5978 3962 \nL 5978 4422 \nC 5786 4390 5574 4378 5306 4378 \nL 3392 4378 \nz\nM 4506 2611 \nC 4134 2029 3821 1677 3258 1235 \nC 2714 1677 2432 2022 2157 2611 \nL 4506 2611 \nz\n\" transform=\"scale(0.015625)\"/>\n       <path id=\"HiraginoSansGB-W3-4ed8\" d=\"M 4723 3418 \nL 4723 256 \nC 4723 115 4666 90 4403 90 \nC 4102 90 3917 109 3526 166 \nC 3597 6 3622 -90 3648 -269 \nC 3942 -294 4166 -307 4429 -307 \nC 4998 -307 5133 -205 5133 218 \nL 5133 3418 \nL 5446 3418 \nC 5651 3418 5856 3411 6054 3392 \nL 6054 3827 \nC 5888 3802 5702 3789 5446 3789 \nL 5133 3789 \nL 5133 4525 \nC 5133 4838 5146 5056 5171 5274 \nL 4678 5274 \nC 4710 5088 4723 4826 4723 4525 \nL 4723 3789 \nL 2694 3789 \nC 2432 3789 2195 3802 2029 3827 \nL 2029 3379 \nC 2195 3405 2445 3418 2714 3418 \nL 4723 3418 \nz\nM 1670 3814 \nC 1862 4179 2067 4621 2157 4845 \nC 2240 5056 2272 5133 2317 5210 \nL 1856 5357 \nC 1824 5158 1741 4915 1574 4538 \nC 1222 3738 858 3187 288 2586 \nC 442 2438 442 2432 525 2304 \nC 531 2291 550 2266 570 2234 \nC 877 2579 1024 2778 1286 3219 \nC 1267 2925 1261 2726 1261 2445 \nL 1261 307 \nC 1261 -26 1248 -237 1222 -467 \nL 1702 -467 \nC 1683 -243 1670 0 1670 294 \nL 1670 3814 \nz\nM 2451 2618 \nC 2874 2163 3181 1741 3507 1126 \nL 3866 1402 \nC 3494 2010 3251 2336 2784 2848 \nL 2451 2618 \nz\n\" transform=\"scale(0.015625)\"/>\n      </defs>\n      <use xlink:href=\"#HiraginoSansGB-W3-70b9\"/>\n      <use xlink:href=\"#HiraginoSansGB-W3-51fb\" x=\"99.999985\"/>\n      <use xlink:href=\"#HiraginoSansGB-W3-2d\" x=\"199.999969\"/>\n      <use xlink:href=\"#HiraginoSansGB-W3-652f\" x=\"235.799957\"/>\n      <use xlink:href=\"#HiraginoSansGB-W3-4ed8\" x=\"335.799942\"/>\n      <use xlink:href=\"#HiraginoSansGB-W3-8f6c\" x=\"435.799927\"/>\n      <use xlink:href=\"#HiraginoSansGB-W3-5316\" x=\"535.799911\"/>\n      <use xlink:href=\"#HiraginoSansGB-W3-7387\" x=\"635.799896\"/>\n     </g>\n    </g>\n   </g>\n   <g id=\"line2d_14\">\n    <path d=\"M 50.05 216.440068 \nL 719.65 216.440068 \n\" clip-path=\"url(#p297abf71d0)\" style=\"fill: none; stroke-dasharray: 5.55,2.4; stroke-dashoffset: 0; stroke: #000000; stroke-opacity: 0.5; stroke-width: 1.5\"/>\n   </g>\n   <g id=\"line2d_15\">\n    <path d=\"M 391.391044 412.769062 \nL 391.391044 24.689062 \n\" clip-path=\"url(#p297abf71d0)\" style=\"fill: none; stroke-dasharray: 5.55,2.4; stroke-dashoffset: 0; stroke: #000000; stroke-opacity: 0.5; stroke-width: 1.5\"/>\n   </g>\n   <g id=\"patch_3\">\n    <path d=\"M 50.05 412.769062 \nL 50.05 24.689062 \n\" style=\"fill: none; stroke: #000000; stroke-width: 0.8; stroke-linejoin: miter; stroke-linecap: square\"/>\n   </g>\n   <g id=\"patch_4\">\n    <path d=\"M 719.65 412.769062 \nL 719.65 24.689062 \n\" style=\"fill: none; stroke: #000000; stroke-width: 0.8; stroke-linejoin: miter; stroke-linecap: square\"/>\n   </g>\n   <g id=\"patch_5\">\n    <path d=\"M 50.05 412.769062 \nL 719.65 412.769062 \n\" style=\"fill: none; stroke: #000000; stroke-width: 0.8; stroke-linejoin: miter; stroke-linecap: square\"/>\n   </g>\n   <g id=\"patch_6\">\n    <path d=\"M 50.05 24.689062 \nL 719.65 24.689062 \n\" style=\"fill: none; stroke: #000000; stroke-width: 0.8; stroke-linejoin: miter; stroke-linecap: square\"/>\n   </g>\n   <g id=\"text_16\">\n    <!-- 双敏 -->\n    <g transform=\"translate(154.194947 251.377861) scale(0.11 -0.11)\">\n     <defs>\n      <path id=\"HiraginoSansGB-W3-53cc\" d=\"M 3693 4890 \nC 3373 4890 3219 4896 3046 4922 \nL 3046 4480 \nC 3168 4493 3200 4493 3360 4499 \nC 3488 3558 3488 3546 3590 3104 \nC 3725 2490 3904 2003 4166 1517 \nC 3962 1254 3763 1056 3482 813 \nC 3078 467 2765 269 2157 -45 \nC 2266 -147 2362 -275 2438 -410 \nC 3008 -102 3270 70 3610 346 \nC 3904 595 4154 845 4403 1133 \nC 4832 525 5235 115 5901 -390 \nC 5984 -237 6054 -147 6182 -6 \nC 5472 493 5030 922 4659 1472 \nC 4806 1683 4934 1894 5075 2163 \nC 5350 2701 5619 3507 5734 4134 \nC 5805 4550 5837 4710 5875 4915 \nC 5728 4896 5594 4890 5312 4890 \nL 3693 4890 \nz\nM 5382 4506 \nC 5114 3238 4864 2560 4429 1875 \nC 4077 2573 3898 3264 3750 4506 \nL 5382 4506 \nz\nM 3072 1184 \nC 2874 1485 2598 1875 2298 2272 \nC 2554 2944 2733 3674 2829 4461 \nC 2861 4723 2861 4730 2893 4909 \nC 2733 4896 2598 4890 2387 4890 \nL 947 4890 \nC 704 4890 550 4896 390 4922 \nL 390 4474 \nC 550 4499 704 4506 941 4506 \nL 2419 4506 \nC 2304 3648 2208 3219 2010 2650 \nC 1619 3123 1229 3552 890 3898 \nL 582 3622 \nC 1030 3168 1530 2611 1837 2214 \nC 1741 1997 1594 1722 1459 1510 \nC 1120 973 800 634 218 192 \nC 371 51 384 32 499 -166 \nC 1248 403 1658 915 2112 1843 \nC 2368 1498 2554 1203 2752 858 \nL 3072 1184 \nz\n\" transform=\"scale(0.015625)\"/>\n      <path id=\"HiraginoSansGB-W3-654f\" d=\"M 2470 2534 \nC 2163 2931 2099 3002 1805 3258 \nL 1549 3059 \nC 1805 2835 1978 2630 2182 2304 \nL 2470 2534 \nz\nM 2362 1088 \nC 2010 1542 1965 1594 1696 1818 \nL 1434 1606 \nC 1690 1382 1862 1178 2074 851 \nL 2362 1088 \nz\nM 1357 3674 \nC 1082 3674 1011 3674 902 3686 \nC 909 3584 909 3533 909 3462 \nC 909 3149 877 2707 813 2240 \nL 742 2240 \nC 506 2240 371 2253 237 2278 \nL 237 1843 \nC 384 1875 506 1882 723 1882 \nL 762 1882 \nC 640 1165 563 826 422 390 \nC 602 410 870 422 1069 422 \nL 2579 416 \nC 2496 -6 2438 -77 2182 -77 \nC 2042 -77 1875 -51 1683 6 \nC 1722 -147 1734 -230 1734 -397 \nC 1888 -422 2106 -442 2202 -442 \nC 2490 -442 2637 -397 2733 -275 \nC 2835 -147 2906 70 2963 416 \nC 3142 416 3290 410 3430 390 \nL 3430 813 \nC 3283 781 3232 781 3014 774 \nC 3066 1190 3110 1658 3117 1805 \nC 3117 1843 3117 1843 3123 1882 \nC 3277 1882 3418 1869 3558 1850 \nL 3558 2272 \nC 3430 2246 3334 2240 3136 2240 \nC 3149 2522 3155 2694 3162 2918 \nC 3168 3443 3174 3533 3206 3699 \nC 3066 3680 2899 3674 2579 3674 \nL 1357 3674 \nz\nM 2803 3328 \nC 2790 2739 2790 2720 2765 2240 \nL 1184 2240 \nC 1210 2438 1248 2829 1280 3328 \nL 2803 3328 \nz\nM 2746 1882 \nC 2688 1094 2688 1094 2643 774 \nL 928 774 \nC 973 986 1005 1120 1018 1178 \nC 1030 1248 1069 1485 1133 1882 \nL 2746 1882 \nz\nM 6202 4288 \nC 6042 4256 5901 4250 5606 4250 \nL 4384 4250 \nC 4448 4454 4525 4723 4608 5037 \nC 4640 5184 4659 5248 4691 5318 \nL 4250 5402 \nC 4243 5280 4230 5197 4179 4954 \nC 4013 4128 3731 3450 3296 2861 \nC 3392 2790 3443 2720 3558 2560 \nC 3706 2771 3770 2874 3910 3168 \nC 3994 2682 4000 2662 4058 2464 \nC 4186 2010 4333 1638 4544 1274 \nC 4128 659 3680 250 3034 -102 \nC 3187 -237 3226 -282 3309 -454 \nC 3955 -45 4429 390 4768 896 \nC 5158 333 5382 96 6029 -416 \nC 6106 -243 6176 -128 6278 -13 \nC 5734 346 5344 723 4992 1248 \nC 5171 1549 5338 1965 5446 2387 \nC 5568 2842 5619 3149 5677 3885 \nC 5894 3885 6061 3872 6202 3846 \nL 6202 4288 \nz\nM 5274 3885 \nC 5235 3264 5216 3110 5101 2643 \nC 5005 2240 4902 1958 4755 1651 \nC 4429 2278 4282 2810 4173 3693 \nC 4205 3763 4218 3789 4250 3885 \nL 5274 3885 \nz\nM 1331 4621 \nC 1414 4774 1459 4877 1504 4992 \nC 1587 5210 1587 5210 1632 5331 \nL 1210 5408 \nC 1114 4819 685 4115 147 3654 \nC 269 3571 294 3546 442 3366 \nC 742 3661 909 3878 1133 4262 \nL 2848 4262 \nC 3360 4256 3360 4256 3494 4230 \nL 3494 4659 \nC 3328 4634 3155 4621 2822 4621 \nL 1331 4621 \nz\n\" transform=\"scale(0.015625)\"/>\n     </defs>\n     <use xlink:href=\"#HiraginoSansGB-W3-53cc\"/>\n     <use xlink:href=\"#HiraginoSansGB-W3-654f\" x=\"99.999985\"/>\n    </g>\n   </g>\n   <g id=\"text_17\">\n    <!-- 九方 -->\n    <g transform=\"translate(367.048782 164.541661) scale(0.11 -0.11)\">\n     <defs>\n      <path id=\"HiraginoSansGB-W3-4e5d\" d=\"M 2355 3450 \nC 2323 3072 2272 2733 2189 2381 \nC 1990 1562 1670 1018 1101 512 \nC 870 314 678 179 282 -45 \nC 422 -166 486 -237 582 -410 \nC 1722 262 2349 1107 2630 2368 \nC 2707 2701 2720 2797 2784 3450 \nL 4237 3450 \nL 4230 134 \nC 4230 -230 4371 -314 5018 -314 \nC 5600 -314 5837 -250 5946 -64 \nC 6067 141 6138 506 6208 1286 \nC 6048 1318 5939 1363 5792 1453 \nC 5773 896 5728 499 5664 314 \nC 5600 122 5504 83 5094 83 \nC 4685 83 4659 96 4659 282 \nL 4666 3168 \nC 4666 3469 4672 3642 4698 3885 \nC 4480 3859 4294 3853 3987 3853 \nL 2816 3853 \nC 2829 4000 2861 4550 2867 4762 \nC 2874 5050 2880 5139 2899 5293 \nL 2394 5293 \nC 2413 5114 2419 4973 2419 4749 \nC 2419 4480 2413 4269 2387 3853 \nL 1350 3853 \nC 986 3853 781 3866 602 3891 \nL 602 3411 \nC 781 3437 979 3450 1350 3450 \nL 2355 3450 \nz\n\" transform=\"scale(0.015625)\"/>\n      <path id=\"HiraginoSansGB-W3-65b9\" d=\"M 2458 3853 \nC 2419 3213 2400 3040 2349 2733 \nC 2214 1907 1939 1286 1478 768 \nC 1146 390 858 186 333 -77 \nC 493 -218 557 -282 646 -435 \nC 1082 -192 1274 -51 1555 218 \nC 1894 538 2144 870 2336 1254 \nC 2522 1626 2662 2054 2765 2554 \nL 4755 2554 \nC 4723 1696 4666 1152 4557 614 \nC 4467 141 4403 64 4115 64 \nC 3840 64 3526 96 3162 166 \nC 3226 0 3245 -83 3264 -288 \nC 3610 -326 3930 -346 4141 -346 \nC 4666 -346 4819 -218 4954 339 \nC 5056 774 5165 1754 5197 2522 \nC 5203 2771 5210 2842 5229 2970 \nC 5069 2944 4909 2938 4563 2938 \nL 2829 2938 \nC 2848 3098 2848 3098 2906 3853 \nL 5331 3853 \nC 5702 3853 5875 3846 6054 3814 \nL 6054 4294 \nC 5856 4262 5651 4250 5325 4250 \nL 1114 4250 \nC 800 4250 602 4262 397 4294 \nL 397 3814 \nC 570 3840 794 3853 1114 3853 \nL 2458 3853 \nz\nM 2643 5139 \nC 2842 4870 2995 4608 3155 4275 \nL 3507 4448 \nC 3322 4838 3232 4979 2976 5325 \nL 2643 5139 \nz\n\" transform=\"scale(0.015625)\"/>\n     </defs>\n     <use xlink:href=\"#HiraginoSansGB-W3-4e5d\"/>\n     <use xlink:href=\"#HiraginoSansGB-W3-65b9\" x=\"99.999985\"/>\n    </g>\n   </g>\n   <g id=\"text_18\">\n    <!-- 巨奥 -->\n    <g transform=\"translate(165.974511 295.845625) scale(0.11 -0.11)\">\n     <defs>\n      <path id=\"HiraginoSansGB-W3-5de8\" d=\"M 1286 1504 \nL 4774 1504 \nC 5024 1504 5158 1498 5325 1478 \nC 5306 1638 5299 1747 5299 1939 \nL 5299 3136 \nC 5299 3315 5306 3424 5325 3578 \nC 5158 3558 5030 3552 4774 3552 \nL 1286 3552 \nL 1286 4634 \nL 5120 4634 \nC 5459 4634 5600 4627 5792 4595 \nL 5792 5075 \nC 5594 5043 5434 5030 5114 5030 \nL 1530 5030 \nC 1280 5030 1069 5037 838 5062 \nC 858 4838 864 4666 864 4403 \nL 864 538 \nC 864 115 858 -58 838 -237 \nC 1037 -218 1158 -211 1344 -211 \nL 5267 -211 \nC 5581 -211 5728 -224 5933 -256 \nL 5933 224 \nC 5766 192 5613 186 5261 186 \nL 1286 186 \nL 1286 1504 \nz\nM 1286 1894 \nL 1286 3162 \nL 4883 3162 \nL 4883 1894 \nL 1286 1894 \nz\n\" transform=\"scale(0.015625)\"/>\n      <path id=\"HiraginoSansGB-W3-5965\" d=\"M 2694 2995 \nC 2413 2669 2042 2406 1498 2157 \nC 1613 2042 1658 1984 1722 1850 \nC 2310 2163 2624 2419 3014 2925 \nC 3002 2829 2989 2650 2989 2573 \nL 2989 2342 \nC 2989 2170 2982 2106 2957 2022 \nL 3366 2022 \nC 3341 2131 3334 2182 3334 2330 \nL 3334 2771 \nC 3411 2726 3462 2688 3597 2598 \nC 4179 2195 4262 2131 4550 1888 \nL 4800 2202 \nC 4352 2522 4038 2714 3507 2995 \nL 4333 2995 \nC 4576 2995 4704 2989 4851 2963 \nL 4851 3341 \nC 4710 3315 4589 3309 4333 3309 \nL 3341 3309 \nL 3341 3846 \nC 3341 4019 3347 4102 3366 4243 \nL 2957 4243 \nC 2976 4102 2989 3987 2989 3840 \nL 2989 3309 \nL 2099 3309 \nC 1837 3309 1709 3315 1568 3341 \nL 1568 2963 \nC 1734 2989 1843 2995 2099 2995 \nL 2694 2995 \nz\nM 5370 1030 \nC 5626 1030 5837 1018 6010 992 \nL 6010 1421 \nC 5830 1395 5651 1382 5370 1382 \nL 3302 1382 \nC 3322 1459 3360 1594 3379 1709 \nC 3398 1779 3398 1779 3405 1824 \nL 2957 1843 \nC 2957 1818 2957 1805 2957 1792 \nC 2957 1677 2931 1523 2886 1382 \nL 1018 1382 \nC 749 1382 550 1395 378 1421 \nL 378 992 \nC 570 1018 768 1030 1018 1030 \nL 2726 1030 \nC 2323 378 1517 -6 352 -83 \nC 461 -211 512 -314 570 -480 \nC 1286 -371 1805 -205 2253 64 \nC 2643 301 2976 640 3149 998 \nC 3322 717 3501 512 3744 320 \nC 4269 -83 4979 -352 5901 -480 \nC 5965 -301 6016 -198 6112 -58 \nC 5389 0 4896 122 4397 365 \nC 4038 544 3770 755 3571 1030 \nL 5370 1030 \nz\nM 1581 4742 \nC 1312 4742 1139 4749 947 4768 \nC 966 4627 973 4512 973 4326 \nL 973 2112 \nC 973 1920 966 1792 947 1658 \nL 1370 1658 \nL 1370 4403 \nL 5062 4403 \nL 5062 1658 \nL 5485 1658 \nC 5466 1786 5459 1914 5459 2106 \nL 5459 4333 \nC 5459 4518 5466 4634 5485 4768 \nC 5286 4749 5126 4742 4864 4742 \nL 2976 4742 \nC 3059 4870 3251 5203 3328 5357 \nL 2899 5453 \nC 2810 5178 2714 4992 2554 4742 \nL 1581 4742 \nz\nM 1792 4083 \nC 2010 3872 2131 3699 2278 3418 \nL 2579 3578 \nC 2406 3878 2310 4000 2086 4237 \nL 1792 4083 \nz\nM 4269 4256 \nC 4109 3930 3981 3744 3744 3494 \nL 4032 3366 \nC 4237 3590 4371 3763 4582 4102 \nL 4269 4256 \nz\n\" transform=\"scale(0.015625)\"/>\n     </defs>\n     <use xlink:href=\"#HiraginoSansGB-W3-5de8\"/>\n     <use xlink:href=\"#HiraginoSansGB-W3-5965\" x=\"99.999985\"/>\n    </g>\n   </g>\n   <g id=\"text_19\">\n    <!-- 商软 -->\n    <g transform=\"translate(542.408531 188.845662) scale(0.11 -0.11)\">\n     <defs>\n      <path id=\"HiraginoSansGB-W3-5546\" d=\"M 1043 4717 \nC 768 4717 582 4730 378 4755 \nL 378 4326 \nC 563 4346 774 4358 1030 4358 \nL 1837 4358 \nC 1971 4115 2080 3834 2150 3584 \nL 1248 3584 \nC 998 3584 774 3590 640 3610 \nC 659 3443 666 3290 666 3091 \nL 666 211 \nC 666 -83 653 -269 627 -486 \nL 1107 -486 \nC 1082 -275 1069 -90 1069 211 \nL 1069 3238 \nL 5331 3238 \nL 5331 122 \nC 5331 -13 5274 -51 5056 -51 \nC 4832 -51 4518 -26 4211 19 \nC 4275 -128 4301 -218 4320 -410 \nC 4621 -429 4851 -435 5030 -435 \nC 5344 -435 5466 -416 5574 -339 \nC 5683 -269 5734 -134 5734 90 \nL 5734 3091 \nC 5734 3315 5741 3450 5760 3610 \nC 5613 3590 5466 3584 5158 3584 \nL 4179 3584 \nC 4307 3795 4422 4032 4557 4358 \nL 5408 4358 \nC 5670 4358 5875 4346 6061 4326 \nL 6061 4755 \nC 5882 4730 5677 4717 5395 4717 \nL 3578 4717 \nC 3494 4870 3302 5165 3136 5408 \nL 2771 5248 \nC 2906 5069 2918 5050 3117 4717 \nL 1043 4717 \nz\nM 4128 4358 \nC 4013 4026 3968 3936 3763 3584 \nL 2566 3584 \nC 2515 3763 2394 4070 2259 4358 \nL 4128 4358 \nz\nM 3514 2918 \nC 3910 2669 4352 2304 4806 1856 \nL 5126 2125 \nC 4621 2566 4237 2861 3802 3136 \nL 3514 2918 \nz\nM 2451 3098 \nC 2298 2810 2195 2675 1997 2496 \nC 1805 2323 1638 2214 1293 2035 \nC 1414 1939 1414 1939 1594 1747 \nC 2208 2118 2381 2285 2886 2989 \nL 2451 3098 \nz\nM 4358 1357 \nC 4358 1606 4365 1709 4384 1882 \nC 4262 1869 4122 1862 3802 1862 \nL 2534 1862 \nC 2291 1862 2176 1869 1990 1882 \nC 2010 1741 2016 1606 2016 1440 \nL 2016 493 \nC 2016 320 2010 192 1984 26 \nL 2394 26 \nL 2394 352 \nL 3802 352 \nC 4051 352 4211 346 4384 326 \nC 4365 512 4358 608 4358 883 \nL 4358 1357 \nz\nM 2394 1530 \nL 3981 1530 \nL 3981 685 \nL 2394 685 \nL 2394 1530 \nz\n\" transform=\"scale(0.015625)\"/>\n      <path id=\"HiraginoSansGB-W3-8f6f\" d=\"M 2125 2266 \nL 2291 2266 \nC 2515 2266 2771 2253 2957 2227 \nL 2957 2656 \nC 2778 2630 2586 2618 2291 2618 \nL 2125 2618 \nL 2125 3104 \nC 2125 3302 2131 3430 2163 3616 \nL 1702 3616 \nC 1728 3450 1741 3302 1741 3104 \nL 1741 2618 \nL 928 2618 \nL 1389 4224 \nL 2451 4224 \nC 2701 4224 2822 4218 2995 4192 \nL 2995 4621 \nC 2842 4595 2720 4589 2458 4589 \nL 1498 4589 \nL 1510 4653 \nC 1619 5037 1619 5037 1715 5306 \nL 1248 5389 \nC 1222 5107 1184 4883 1114 4646 \nL 1094 4589 \nL 845 4589 \nC 582 4589 442 4595 294 4621 \nL 294 4192 \nC 461 4218 589 4224 838 4224 \nL 992 4224 \nL 614 2899 \nC 602 2867 595 2848 589 2842 \nC 531 2682 525 2662 416 2560 \nL 557 2240 \nC 800 2266 838 2266 1011 2266 \nL 1741 2266 \nL 1741 1274 \nC 1715 1267 1702 1267 1651 1261 \nC 1107 1146 672 1088 326 1082 \nL 384 634 \nC 518 672 582 685 698 704 \nC 1184 794 1184 794 1446 851 \nC 1510 864 1606 883 1741 909 \nL 1741 186 \nC 1741 -64 1728 -269 1696 -493 \nL 2170 -493 \nC 2138 -282 2125 -83 2125 179 \nL 2125 998 \nC 2784 1146 2784 1146 3117 1242 \nL 3123 1606 \nC 2566 1453 2406 1414 2125 1357 \nL 2125 2266 \nz\nM 5632 3955 \nC 5427 3309 5286 3008 4954 2547 \nC 5114 2502 5203 2464 5331 2374 \nC 5632 2874 5786 3200 6003 3827 \nC 6067 4026 6074 4032 6106 4096 \nL 5882 4326 \nC 5760 4301 5594 4294 5293 4294 \nL 4013 4294 \nC 4077 4512 4147 4781 4186 4941 \nC 4250 5216 4250 5216 4275 5312 \nL 3814 5376 \nC 3808 5171 3776 4973 3706 4659 \nC 3533 3917 3309 3411 2950 2925 \nC 3098 2835 3162 2784 3270 2650 \nC 3578 3130 3718 3418 3904 3955 \nL 5632 3955 \nz\nM 4122 3450 \nC 4134 3360 4141 3264 4141 3149 \nC 4141 2349 4006 1658 3731 1094 \nC 3469 538 3110 147 2541 -198 \nC 2669 -288 2765 -378 2861 -512 \nC 3270 -218 3520 38 3770 410 \nC 4109 915 4275 1363 4378 2061 \nC 4512 1389 4672 979 4986 499 \nC 5229 141 5485 -128 5901 -454 \nC 6022 -269 6054 -224 6189 -83 \nC 5882 141 5779 218 5645 346 \nC 5357 627 5146 922 4966 1306 \nC 4691 1901 4557 2509 4557 3194 \nC 4557 3290 4557 3322 4576 3450 \nL 4122 3450 \nz\n\" transform=\"scale(0.015625)\"/>\n     </defs>\n     <use xlink:href=\"#HiraginoSansGB-W3-5546\"/>\n     <use xlink:href=\"#HiraginoSansGB-W3-8f6f\" x=\"99.999985\"/>\n    </g>\n   </g>\n   <g id=\"text_20\">\n    <!-- 戴硕 -->\n    <g transform=\"translate(634.093398 378.021643) scale(0.11 -0.11)\">\n     <defs>\n      <path id=\"HiraginoSansGB-W3-6234\" d=\"M 2598 198 \nC 3053 -109 3226 -243 3501 -499 \nL 3635 -326 \nC 3738 -403 3776 -442 3840 -518 \nC 4218 -173 4493 147 4755 557 \nC 5018 -64 5344 -435 5626 -435 \nC 5901 -435 6061 -122 6208 691 \nC 6074 768 5990 832 5862 966 \nC 5792 378 5690 13 5594 13 \nC 5536 13 5402 154 5293 333 \nC 5184 506 5088 717 4998 966 \nC 5306 1555 5459 1965 5658 2739 \nC 5709 2925 5728 2995 5747 3046 \nL 5344 3181 \nC 5299 2656 5126 2067 4851 1459 \nC 4678 2240 4595 2874 4582 3558 \nC 4582 3629 4582 3629 4582 3699 \nL 5421 3699 \nC 5683 3699 5875 3686 6054 3661 \nL 6054 4064 \nC 5862 4032 5702 4026 5421 4026 \nL 4570 4026 \nC 4570 4218 4563 4570 4563 4710 \nC 4563 4966 4570 5094 4595 5254 \nL 4128 5254 \nC 4154 5101 4166 4966 4166 4762 \nC 4173 4275 4173 4275 4179 4026 \nL 2419 4026 \nL 2419 4493 \nL 3110 4493 \nC 3360 4493 3501 4486 3661 4461 \nL 3661 4845 \nC 3501 4819 3379 4813 3110 4813 \nL 2419 4813 \nL 2419 4864 \nC 2419 5043 2432 5158 2458 5286 \nL 2016 5286 \nC 2048 5158 2054 5062 2054 4864 \nL 2054 4813 \nL 1318 4813 \nC 1050 4813 922 4819 762 4845 \nL 762 4461 \nC 922 4486 1062 4493 1318 4493 \nL 2054 4493 \nL 2054 4026 \nL 979 4026 \nC 698 4026 538 4032 346 4064 \nL 346 3661 \nC 531 3686 710 3699 979 3699 \nL 4186 3699 \nC 4237 2515 4371 1638 4595 973 \nC 4282 467 4051 192 3635 -160 \nC 3360 64 3110 237 2810 435 \nL 2598 198 \nz\nM 1466 1843 \nL 1466 1523 \nL 1094 1523 \nC 838 1523 710 1530 557 1555 \nL 557 1203 \nC 710 1229 838 1235 1094 1235 \nL 1466 1235 \nL 1466 870 \nL 902 870 \nC 646 870 525 877 352 902 \nL 352 544 \nC 518 570 653 576 902 576 \nL 3482 576 \nC 3725 576 3859 570 4032 550 \nL 4032 896 \nC 3872 877 3731 870 3482 870 \nL 3021 870 \nL 3021 1235 \nL 3328 1235 \nC 3565 1235 3693 1229 3859 1210 \nL 3859 1549 \nC 3712 1530 3571 1523 3328 1523 \nL 3021 1523 \nL 3021 1843 \nL 3290 1843 \nC 3456 1843 3578 1837 3738 1824 \nC 3725 1978 3718 2099 3718 2310 \nL 3718 2918 \nC 3718 3123 3725 3251 3738 3405 \nC 3603 3386 3482 3379 3258 3379 \nL 1229 3379 \nC 998 3379 877 3386 742 3405 \nC 762 3251 768 3117 768 2925 \nL 768 2304 \nC 768 2106 762 1978 742 1824 \nC 902 1837 1030 1843 1178 1843 \nL 1466 1843 \nz\nM 1811 1843 \nL 2682 1843 \nL 2682 1523 \nL 1811 1523 \nL 1811 1843 \nz\nM 1811 1235 \nL 2682 1235 \nL 2682 870 \nL 1811 870 \nL 1811 1235 \nz\nM 2061 3098 \nL 2061 2746 \nL 1101 2746 \nL 1101 3098 \nL 2061 3098 \nz\nM 3386 3098 \nL 3386 2746 \nL 2387 2746 \nL 2387 3098 \nL 3386 3098 \nz\nM 2061 2477 \nL 2061 2118 \nL 1101 2118 \nL 1101 2477 \nL 2061 2477 \nz\nM 3386 2477 \nL 3386 2118 \nL 2387 2118 \nL 2387 2477 \nL 3386 2477 \nz\nM 1542 454 \nC 1254 128 992 -32 435 -230 \nC 595 -333 634 -365 736 -486 \nC 1261 -262 1498 -102 1882 294 \nL 1542 454 \nz\nM 5856 4397 \nC 5574 4749 5453 4864 5101 5152 \nL 4832 4973 \nC 5158 4698 5318 4531 5574 4179 \nL 5856 4397 \nz\n\" transform=\"scale(0.015625)\"/>\n      <path id=\"HiraginoSansGB-W3-7855\" d=\"M 1280 4653 \nC 1235 4262 1165 3955 1037 3584 \nC 819 2950 563 2483 198 2042 \nC 294 1933 365 1824 435 1683 \nC 634 1939 742 2131 877 2432 \nC 870 2278 858 1894 858 1747 \nL 858 320 \nC 858 38 845 -147 819 -301 \nL 1235 -301 \nL 1235 346 \nL 2054 346 \nL 2054 51 \nL 2445 51 \nC 2426 205 2419 339 2419 589 \nL 2419 2573 \nC 2419 2861 2419 2944 2438 3085 \nC 2323 3072 2246 3066 2035 3066 \nL 1235 3066 \nC 1472 3667 1568 4038 1670 4653 \nL 2138 4653 \nC 2310 4653 2458 4646 2650 4621 \nL 2650 5050 \nC 2458 5018 2323 5011 2106 5011 \nL 966 5011 \nC 710 5011 570 5018 397 5050 \nL 397 4614 \nC 557 4646 691 4653 941 4653 \nL 1280 4653 \nz\nM 1235 2714 \nL 2054 2714 \nL 2054 678 \nL 1235 678 \nL 1235 2714 \nz\nM 4211 4710 \nC 4134 4442 4077 4294 3930 3994 \nL 3603 3994 \nC 3328 3994 3187 4000 3008 4013 \nC 3027 3885 3034 3738 3034 3533 \nL 3034 1568 \nC 3034 1286 3021 1120 2995 922 \nL 3450 922 \nC 3418 1120 3411 1286 3411 1568 \nL 3411 3654 \nL 5408 3654 \nL 5408 1562 \nC 5408 1286 5395 1120 5370 922 \nL 5824 922 \nC 5792 1120 5786 1286 5786 1562 \nL 5786 3565 \nC 5786 3770 5792 3904 5805 4013 \nC 5626 4000 5485 3994 5184 3994 \nL 4320 3994 \nC 4448 4256 4538 4461 4621 4710 \nL 5523 4710 \nC 5779 4710 5926 4704 6112 4678 \nL 6112 5101 \nC 5971 5075 5798 5062 5504 5062 \nL 3437 5062 \nC 3136 5062 3008 5069 2822 5101 \nL 2822 4685 \nC 2970 4704 3110 4710 3424 4710 \nL 4211 4710 \nz\nM 4544 589 \nC 5094 211 5370 -6 5869 -461 \nL 6150 -166 \nC 5792 141 5715 198 4787 858 \nL 4544 589 \nz\nM 4179 3251 \nC 4198 3053 4205 2944 4205 2176 \nC 4205 1901 4198 1754 4186 1613 \nC 4147 1126 4000 845 3648 531 \nC 3354 275 3066 122 2445 -109 \nC 2579 -218 2637 -294 2701 -435 \nC 3123 -269 3302 -179 3539 -26 \nC 3904 211 4173 474 4333 736 \nC 4538 1094 4582 1382 4582 2451 \nC 4582 2515 4582 2592 4582 2669 \nC 4582 2912 4589 3130 4602 3251 \nL 4179 3251 \nz\n\" transform=\"scale(0.015625)\"/>\n     </defs>\n     <use xlink:href=\"#HiraginoSansGB-W3-6234\"/>\n     <use xlink:href=\"#HiraginoSansGB-W3-7855\" x=\"99.999985\"/>\n    </g>\n   </g>\n   <g id=\"text_21\">\n    <!-- 毕博 -->\n    <g transform=\"translate(69.486364 292.566686) scale(0.11 -0.11)\">\n     <defs>\n      <path id=\"HiraginoSansGB-W3-6bd5\" d=\"M 1357 4051 \nL 2560 4051 \nC 2778 4051 2918 4045 3098 4013 \nL 3098 4448 \nC 2957 4422 2822 4410 2566 4410 \nL 1357 4410 \nL 1357 4710 \nC 1357 4998 1363 5152 1395 5299 \nL 922 5299 \nC 947 5146 954 5018 954 4710 \nL 960 3040 \nC 960 2886 909 2810 762 2733 \nL 915 2330 \nC 1184 2400 1306 2432 1587 2496 \nC 2630 2733 2630 2733 3130 2867 \nL 3168 3264 \nC 2490 3091 2259 3040 1357 2854 \nL 1357 4051 \nz\nM 3392 1562 \nL 3392 1690 \nC 3392 2048 3405 2259 3437 2426 \nL 2950 2426 \nC 2976 2278 2989 2067 2989 1690 \nL 2989 1562 \nL 1088 1562 \nC 787 1562 595 1574 416 1600 \nL 416 1146 \nC 608 1171 806 1184 1088 1184 \nL 2989 1184 \nL 2989 256 \nC 2989 -122 2976 -339 2950 -486 \nL 3437 -486 \nC 3405 -320 3392 -102 3392 256 \nL 3392 1184 \nL 5312 1184 \nC 5600 1184 5786 1171 5984 1146 \nL 5984 1600 \nC 5798 1574 5613 1562 5312 1562 \nL 3392 1562 \nz\nM 3866 3814 \nC 4563 4000 5056 4179 5613 4435 \nC 5805 4518 5805 4518 5914 4563 \nL 5638 4934 \nC 5306 4659 4813 4448 3866 4173 \nL 3866 4742 \nC 3866 5011 3872 5158 3904 5299 \nL 3437 5299 \nC 3462 5126 3475 4973 3475 4736 \nL 3475 2963 \nC 3475 2573 3616 2515 4634 2515 \nC 5856 2515 5882 2534 6003 3686 \nC 5856 3718 5754 3763 5626 3853 \nC 5594 3341 5542 3091 5459 2989 \nC 5389 2906 5216 2880 4621 2880 \nC 3923 2880 3866 2899 3866 3098 \nL 3866 3814 \nz\n\" transform=\"scale(0.015625)\"/>\n      <path id=\"HiraginoSansGB-W3-535a\" d=\"M 4749 1453 \nL 2387 1453 \nC 2138 1453 1971 1466 1830 1491 \nL 1830 1075 \nC 2003 1101 2144 1107 2381 1107 \nL 4749 1107 \nL 4749 115 \nC 4749 -13 4704 -45 4538 -45 \nC 4365 -45 4064 -13 3782 32 \nC 3859 -128 3885 -224 3910 -384 \nC 4147 -403 4352 -410 4544 -410 \nC 4774 -410 4870 -390 4966 -333 \nC 5075 -269 5133 -128 5133 70 \nL 5133 1107 \nL 5542 1107 \nC 5798 1107 5939 1101 6093 1075 \nL 6093 1491 \nC 5939 1459 5811 1453 5542 1453 \nL 5133 1453 \nL 5133 1766 \nC 5133 1818 5139 1901 5146 1978 \nL 4730 1978 \nC 4736 1901 4742 1786 4749 1638 \nL 4749 1453 \nz\nM 1370 3699 \nL 1370 4787 \nC 1370 5043 1382 5178 1414 5350 \nL 922 5350 \nC 954 5158 966 5024 966 4781 \nL 966 3699 \nL 826 3699 \nC 576 3699 448 3706 294 3731 \nL 294 3309 \nC 454 3328 595 3334 826 3334 \nL 966 3334 \nL 966 256 \nC 966 -26 954 -224 922 -435 \nL 1414 -435 \nC 1382 -205 1370 0 1370 262 \nL 1370 3334 \nL 1446 3334 \nC 1645 3334 1760 3328 1894 3309 \nL 1894 3731 \nC 1766 3706 1670 3699 1440 3699 \nL 1370 3699 \nz\nM 4083 4358 \nL 5472 4358 \nC 5741 4358 5914 4352 6080 4333 \nL 6080 4730 \nC 5926 4704 5741 4691 5530 4691 \nL 4083 4691 \nL 4083 4832 \nC 4083 5037 4096 5190 4122 5350 \nL 3680 5350 \nC 3706 5178 3718 5024 3718 4832 \nL 3718 4691 \nL 2541 4691 \nC 2285 4691 2099 4704 1926 4730 \nL 1926 4333 \nC 2106 4352 2285 4358 2528 4358 \nL 3718 4358 \nL 3718 3949 \nL 2682 3949 \nC 2477 3949 2349 3955 2221 3968 \nC 2234 3808 2234 3782 2234 3578 \nL 2234 2157 \nC 2234 1997 2227 1875 2221 1747 \nL 2605 1747 \nL 2605 2266 \nL 3718 2266 \nL 3718 2125 \nC 3718 1965 3712 1869 3699 1760 \nL 4102 1760 \nC 4090 1869 4083 1984 4083 2138 \nL 4083 2266 \nL 5338 2266 \nL 5338 1747 \nL 5728 1747 \nC 5715 1888 5715 1958 5715 2157 \nL 5715 3571 \nC 5715 3789 5715 3840 5728 3968 \nC 5587 3955 5466 3949 5242 3949 \nL 4083 3949 \nL 4083 4358 \nz\nM 3718 3251 \nL 2605 3251 \nL 2605 3635 \nL 3718 3635 \nL 3718 3251 \nz\nM 4083 3251 \nL 4083 3635 \nL 5338 3635 \nL 5338 3251 \nL 4083 3251 \nz\nM 3718 2579 \nL 2605 2579 \nL 2605 2944 \nL 3718 2944 \nL 3718 2579 \nz\nM 4083 2579 \nL 4083 2944 \nL 5338 2944 \nL 5338 2579 \nL 4083 2579 \nz\nM 3680 211 \nC 3347 550 3187 691 2790 992 \nL 2515 755 \nC 2886 461 3078 282 3386 -90 \nL 3680 211 \nz\nM 5446 4966 \nC 5171 5158 5005 5254 4685 5402 \nL 4448 5165 \nC 4774 5005 4928 4909 5203 4710 \nL 5446 4966 \nz\n\" transform=\"scale(0.015625)\"/>\n     </defs>\n     <use xlink:href=\"#HiraginoSansGB-W3-6bd5\"/>\n     <use xlink:href=\"#HiraginoSansGB-W3-535a\" x=\"99.999985\"/>\n    </g>\n   </g>\n   <g id=\"text_22\">\n    <!-- 盟新 -->\n    <g transform=\"translate(513.513823 215.024909) scale(0.11 -0.11)\">\n     <defs>\n      <path id=\"HiraginoSansGB-W3-76df\" d=\"M 5248 2912 \nL 5248 2458 \nC 5248 2304 5203 2272 4998 2272 \nC 4736 2272 4512 2291 4243 2342 \nC 4307 2189 4326 2118 4339 1965 \nC 4646 1939 4832 1926 5018 1926 \nC 5485 1926 5619 2042 5619 2438 \nL 5619 4506 \nC 5619 4774 5626 4947 5645 5107 \nC 5491 5088 5370 5082 5088 5082 \nL 3789 5082 \nC 3514 5082 3354 5088 3206 5107 \nC 3226 4947 3232 4800 3232 4557 \nC 3232 3494 3123 2918 2861 2541 \nC 2701 2317 2541 2182 2195 1978 \nC 2368 1882 2458 1811 2541 1722 \nC 3053 2074 3290 2387 3443 2912 \nL 5248 2912 \nz\nM 5248 3827 \nL 5248 3238 \nL 3514 3238 \nC 3546 3443 3558 3520 3578 3827 \nL 5248 3827 \nz\nM 5248 4154 \nL 3597 4154 \nL 3610 4736 \nL 5248 4736 \nL 5248 4154 \nz\nM 1197 2394 \nL 2061 2387 \nC 2272 2387 2285 2387 2592 2374 \nC 2579 2566 2579 2675 2579 2893 \nL 2579 4544 \nC 2579 4762 2586 4851 2605 5018 \nC 2451 4998 2304 4992 2067 4992 \nL 1190 4992 \nC 954 4992 806 4998 653 5018 \nC 672 4864 678 4742 678 4544 \nL 678 4518 \nL 672 2880 \nC 672 2643 666 2528 646 2362 \nC 806 2381 992 2394 1171 2394 \nL 1197 2394 \nz\nM 1050 4653 \nL 2208 4653 \nL 2208 3859 \nL 1050 3859 \nL 1050 4653 \nz\nM 1050 3533 \nL 2208 3533 \nL 2208 2720 \nL 1050 2720 \nL 1050 3533 \nz\nM 1075 70 \nL 864 70 \nC 659 70 531 77 384 102 \nL 384 -314 \nC 589 -288 781 -282 1069 -282 \nL 5414 -282 \nC 5683 -282 5875 -294 6054 -314 \nL 6054 102 \nC 5914 77 5792 70 5549 70 \nL 5325 70 \nL 5325 1158 \nC 5325 1382 5331 1466 5357 1690 \nC 5114 1670 4992 1664 4742 1664 \nL 1683 1664 \nC 1440 1664 1299 1670 1043 1690 \nC 1069 1446 1075 1331 1075 1101 \nL 1075 70 \nz\nM 1466 1312 \nL 2355 1312 \nL 2355 70 \nL 1466 70 \nL 1466 1312 \nz\nM 2714 1312 \nL 3642 1312 \nL 3642 70 \nL 2714 70 \nL 2714 1312 \nz\nM 4000 1312 \nL 4934 1312 \nL 4934 70 \nL 4000 70 \nL 4000 1312 \nz\n\" transform=\"scale(0.015625)\"/>\n      <path id=\"HiraginoSansGB-W3-65b0\" d=\"M 4954 2931 \nL 4954 141 \nC 4954 -173 4941 -333 4915 -499 \nL 5408 -499 \nC 5376 -339 5370 -179 5370 141 \nL 5370 2931 \nL 5606 2931 \nC 5862 2931 6010 2925 6163 2899 \nL 6163 3341 \nC 6016 3315 5869 3302 5581 3302 \nL 3955 3302 \nL 3955 4397 \nC 4781 4531 5267 4653 5792 4870 \nC 5965 4941 5965 4941 6029 4960 \nL 5702 5318 \nC 5542 5203 5382 5133 5114 5043 \nC 4582 4877 3942 4749 3597 4749 \nC 3584 4749 3552 4749 3520 4749 \nC 3539 4589 3552 4288 3552 3872 \nC 3552 2400 3488 1542 3347 992 \nC 3219 499 3034 128 2752 -224 \nC 2906 -307 2976 -365 3110 -493 \nC 3328 -198 3462 45 3590 384 \nC 3808 966 3942 1830 3949 2682 \nC 3949 2848 3949 2848 3955 2931 \nL 4954 2931 \nz\nM 1664 1830 \nL 1664 96 \nC 1664 -6 1613 -38 1453 -38 \nC 1306 -38 1197 -26 966 19 \nC 1018 -102 1050 -224 1050 -314 \nC 1050 -333 1050 -346 1050 -371 \nC 1152 -384 1312 -390 1453 -390 \nC 1914 -390 2035 -301 2035 45 \nL 2035 1830 \nL 2739 1830 \nC 2976 1830 3104 1824 3251 1798 \nL 3251 2214 \nC 3085 2182 2963 2176 2739 2176 \nL 2035 2176 \nL 2035 2470 \nC 2035 2554 2048 2656 2061 2733 \nL 1638 2733 \nC 1651 2656 1664 2554 1664 2470 \nL 1664 2176 \nL 877 2176 \nC 621 2176 486 2182 339 2214 \nL 339 1792 \nC 499 1824 621 1830 870 1830 \nL 1664 1830 \nz\nM 1024 4730 \nC 742 4730 608 4736 461 4762 \nL 461 4333 \nC 634 4358 755 4365 1018 4365 \nL 2611 4365 \nC 2861 4365 2976 4358 3149 4333 \nL 3149 4762 \nC 2995 4736 2880 4730 2618 4730 \nL 2112 4730 \nC 1978 4979 1978 4979 1702 5389 \nL 1325 5248 \nC 1498 5030 1581 4909 1677 4730 \nL 1024 4730 \nz\nM 2387 3258 \nC 2528 3494 2675 3802 2822 4186 \nL 2438 4307 \nC 2349 3917 2253 3674 2010 3258 \nL 864 3258 \nC 608 3258 480 3264 333 3290 \nL 333 2861 \nC 486 2886 621 2893 864 2893 \nL 2765 2893 \nC 3002 2893 3130 2886 3283 2861 \nL 3283 3290 \nC 3136 3264 3008 3258 2765 3258 \nL 2387 3258 \nz\nM 1530 3437 \nC 1427 3789 1350 3981 1171 4301 \nL 832 4173 \nC 1005 3872 1088 3674 1197 3315 \nL 1530 3437 \nz\nM 2291 1395 \nC 2566 1037 2688 813 2854 378 \nL 3200 589 \nC 3002 986 2912 1126 2598 1542 \nL 2291 1395 \nz\nM 928 1523 \nC 723 960 563 678 179 230 \nC 294 160 339 128 371 102 \nC 461 32 461 32 518 -6 \nC 851 416 1062 794 1293 1395 \nL 928 1523 \nz\n\" transform=\"scale(0.015625)\"/>\n     </defs>\n     <use xlink:href=\"#HiraginoSansGB-W3-76df\"/>\n     <use xlink:href=\"#HiraginoSansGB-W3-65b0\" x=\"99.999985\"/>\n    </g>\n   </g>\n   <g id=\"text_23\">\n    <!-- 兰金 -->\n    <g transform=\"translate(175.117507 328.570382) scale(0.11 -0.11)\">\n     <defs>\n      <path id=\"HiraginoSansGB-W3-5170\" d=\"M 4006 3949 \nC 4218 4294 4416 4659 4678 5197 \nL 4243 5344 \nC 4058 4838 3904 4538 3552 3949 \nL 1466 3949 \nC 1190 3949 1011 3962 819 3987 \nL 819 3514 \nC 1011 3539 1197 3552 1466 3552 \nL 4941 3552 \nC 5216 3552 5402 3539 5587 3514 \nL 5587 3987 \nC 5408 3962 5222 3949 4941 3949 \nL 4006 3949 \nz\nM 1274 1856 \nC 1453 1882 1632 1888 1946 1888 \nL 4442 1888 \nC 4742 1888 4909 1882 5107 1856 \nL 5107 2349 \nC 4928 2323 4749 2310 4442 2310 \nL 1939 2310 \nC 1632 2310 1440 2323 1274 2349 \nL 1274 1856 \nz\nM 5958 499 \nC 5741 474 5542 461 5210 461 \nL 1216 461 \nC 870 461 659 474 442 499 \nL 442 -13 \nC 666 19 883 32 1222 32 \nL 5216 32 \nC 5568 32 5754 19 5958 -13 \nL 5958 499 \nz\nM 1715 5184 \nC 2029 4774 2144 4582 2387 4064 \nL 2765 4250 \nC 2496 4762 2381 4941 2080 5331 \nL 1715 5184 \nz\n\" transform=\"scale(0.015625)\"/>\n      <path id=\"HiraginoSansGB-W3-91d1\" d=\"M 3469 5254 \nL 3091 5453 \nC 2720 4909 2330 4480 1786 4038 \nC 1357 3693 877 3418 250 3174 \nC 288 3123 320 3078 339 3053 \nC 384 3008 410 2976 410 2970 \nC 435 2944 454 2906 518 2810 \nC 1395 3296 1395 3296 1651 3469 \nL 1651 3059 \nC 1824 3085 1984 3091 2246 3091 \nL 2938 3091 \nL 2938 2221 \nL 1338 2221 \nC 1069 2221 896 2234 717 2259 \nL 717 1811 \nC 896 1837 1088 1850 1338 1850 \nL 2938 1850 \nL 2938 160 \nL 1178 160 \nC 890 160 666 173 448 198 \nL 448 -262 \nC 704 -230 934 -218 1184 -218 \nL 5242 -218 \nC 5504 -218 5734 -230 5946 -262 \nL 5946 198 \nC 5741 173 5523 160 5242 160 \nL 3354 160 \nL 3354 1850 \nL 5069 1850 \nC 5331 1850 5510 1837 5696 1811 \nL 5696 2259 \nC 5517 2234 5350 2221 5069 2221 \nL 3354 2221 \nL 3354 3091 \nL 4134 3091 \nC 4403 3091 4557 3085 4723 3059 \nL 4723 3424 \nC 5146 3155 5408 3008 5888 2784 \nC 5939 2938 5997 3046 6118 3206 \nC 5472 3437 4774 3827 4269 4237 \nC 3898 4538 3712 4736 3386 5146 \nL 3469 5254 \nz\nM 2240 3443 \nC 2016 3443 1824 3450 1728 3462 \nC 1683 3469 1683 3469 1664 3475 \nC 2189 3827 2707 4301 3155 4845 \nC 3533 4339 4051 3866 4659 3469 \nC 4531 3450 4371 3443 4134 3443 \nL 2240 3443 \nz\nM 1299 1485 \nC 1536 1133 1702 794 1856 346 \nL 2227 493 \nC 2035 979 1901 1267 1670 1651 \nL 1299 1485 \nz\nM 4659 1638 \nC 4480 1146 4288 781 4019 429 \nL 4378 282 \nC 4659 691 4768 877 5062 1472 \nL 4659 1638 \nz\n\" transform=\"scale(0.015625)\"/>\n     </defs>\n     <use xlink:href=\"#HiraginoSansGB-W3-5170\"/>\n     <use xlink:href=\"#HiraginoSansGB-W3-91d1\" x=\"99.999985\"/>\n    </g>\n   </g>\n   <g id=\"text_24\">\n    <!-- 昊嘉 -->\n    <g transform=\"translate(599.144091 334.790868) scale(0.11 -0.11)\">\n     <defs>\n      <path id=\"HiraginoSansGB-W3-660a\" d=\"M 5402 1363 \nC 5670 1363 5824 1357 6016 1331 \nL 6016 1741 \nC 5830 1715 5670 1709 5402 1709 \nL 3245 1709 \nC 3296 1888 3334 2144 3347 2362 \nL 4960 2362 \nC 5229 2362 5440 2349 5638 2323 \nL 5638 2752 \nC 5440 2726 5222 2714 4954 2714 \nL 1446 2714 \nC 1178 2714 954 2726 762 2752 \nL 762 2323 \nC 973 2349 1171 2362 1446 2362 \nL 2938 2362 \nC 2918 2086 2899 1939 2835 1709 \nL 998 1709 \nC 723 1709 563 1715 384 1741 \nL 384 1331 \nC 576 1357 730 1363 998 1363 \nL 2707 1363 \nC 2573 1075 2342 806 2042 589 \nC 1670 326 1126 134 371 13 \nC 493 -128 550 -218 614 -384 \nC 1389 -205 1837 -32 2246 256 \nC 2650 538 2912 858 3110 1318 \nC 3315 986 3546 717 3840 474 \nC 4339 58 4922 -198 5792 -384 \nC 5862 -218 5907 -141 6042 19 \nC 5203 154 4704 320 4243 640 \nC 3942 838 3680 1101 3501 1363 \nL 5402 1363 \nz\nM 5293 4621 \nC 5293 4851 5299 4979 5318 5133 \nC 5101 5114 4922 5107 4627 5107 \nL 1818 5107 \nC 1523 5107 1344 5114 1120 5133 \nC 1139 4966 1146 4826 1146 4621 \nL 1146 3667 \nC 1146 3462 1139 3328 1120 3155 \nC 1344 3174 1530 3181 1811 3181 \nL 4653 3181 \nC 4922 3181 5120 3174 5318 3155 \nC 5299 3315 5293 3437 5293 3667 \nL 5293 4621 \nz\nM 1530 4768 \nL 4902 4768 \nL 4902 4307 \nL 1530 4307 \nL 1530 4768 \nz\nM 1530 3994 \nL 4902 3994 \nL 4902 3507 \nL 1530 3507 \nL 1530 3994 \nz\n\" transform=\"scale(0.015625)\"/>\n      <path id=\"HiraginoSansGB-W3-5609\" d=\"M 3354 4883 \nC 3360 5165 3360 5203 3392 5357 \nL 2938 5357 \nC 2963 5190 2970 5139 2970 4883 \nL 1203 4883 \nC 845 4883 634 4896 486 4922 \nL 486 4531 \nC 653 4557 845 4563 1197 4563 \nL 2976 4563 \nL 2976 4147 \nL 1446 4147 \nC 1139 4147 992 4154 819 4179 \nL 819 3802 \nC 1005 3827 1152 3834 1446 3834 \nL 4941 3834 \nC 5235 3834 5402 3827 5574 3802 \nL 5574 4179 \nC 5402 4154 5242 4147 4941 4147 \nL 3354 4147 \nL 3354 4563 \nL 5274 4563 \nC 5619 4563 5824 4557 5997 4531 \nL 5997 4922 \nC 5843 4896 5632 4883 5267 4883 \nL 3354 4883 \nz\nM 4653 2438 \nC 4890 2438 5043 2432 5216 2419 \nC 5197 2534 5197 2618 5197 2790 \nL 5197 3142 \nC 5197 3302 5197 3405 5216 3514 \nC 5075 3501 4909 3494 4640 3494 \nL 1779 3494 \nC 1517 3494 1344 3501 1222 3514 \nC 1235 3392 1242 3290 1242 3142 \nL 1242 2790 \nC 1242 2618 1235 2528 1222 2419 \nC 1395 2432 1549 2438 1773 2438 \nL 2010 2438 \nC 2067 2323 2163 2080 2202 1946 \nL 1094 1946 \nC 723 1946 531 1958 384 1984 \nL 384 1581 \nC 563 1606 774 1619 1075 1619 \nL 1651 1619 \nC 1638 1389 1626 1325 1587 1178 \nL 1037 1178 \nC 755 1178 602 1184 493 1210 \nL 493 832 \nC 614 851 755 858 1005 858 \nL 1478 858 \nC 1261 390 954 109 371 -160 \nC 486 -250 570 -346 659 -474 \nC 1312 -109 1651 262 1875 858 \nL 2688 858 \nC 2662 474 2598 147 2534 38 \nC 2496 -26 2432 -45 2266 -45 \nC 2093 -45 1939 -26 1677 19 \nC 1741 -128 1773 -230 1779 -371 \nC 1990 -384 2093 -390 2208 -390 \nC 2566 -390 2707 -352 2810 -237 \nC 2938 -96 3014 230 3066 838 \nC 3078 998 3085 1030 3098 1190 \nC 3008 1184 2816 1178 2573 1178 \nL 1965 1178 \nC 1997 1318 2003 1370 2029 1619 \nL 5344 1619 \nC 5658 1619 5850 1606 6054 1581 \nL 6054 1984 \nC 5888 1952 5715 1946 5331 1946 \nL 4154 1946 \nC 4230 2086 4294 2214 4358 2355 \nC 4378 2413 4378 2413 4390 2438 \nL 4653 2438 \nz\nM 3974 2438 \nC 3904 2234 3859 2144 3750 1946 \nL 2598 1946 \nC 2560 2074 2490 2253 2406 2438 \nL 3974 2438 \nz\nM 1626 3194 \nL 4813 3194 \nL 4813 2726 \nL 1626 2726 \nL 1626 3194 \nz\nM 3514 122 \nC 3514 -122 3501 -262 3482 -435 \nL 3891 -435 \nL 3891 -160 \nL 5286 -160 \nL 5286 -435 \nL 5702 -435 \nC 5677 -282 5670 -134 5670 115 \nL 5670 826 \nC 5670 1043 5670 1171 5690 1299 \nC 5549 1286 5414 1280 5114 1280 \nL 4058 1280 \nC 3763 1280 3616 1286 3494 1299 \nC 3507 1158 3514 1030 3514 832 \nL 3514 122 \nz\nM 3891 966 \nL 5286 966 \nL 5286 160 \nL 3891 160 \nL 3891 966 \nz\n\" transform=\"scale(0.015625)\"/>\n     </defs>\n     <use xlink:href=\"#HiraginoSansGB-W3-660a\"/>\n     <use xlink:href=\"#HiraginoSansGB-W3-5609\" x=\"99.999985\"/>\n    </g>\n   </g>\n   <g id=\"text_25\">\n    <!-- 超艺 -->\n    <g transform=\"translate(409.654621 109.235954) scale(0.11 -0.11)\">\n     <defs>\n      <path id=\"HiraginoSansGB-W3-8d85\" d=\"M 2048 1594 \nL 2458 1594 \nC 2688 1594 2829 1581 2982 1555 \nL 2982 1965 \nC 2816 1939 2688 1933 2464 1933 \nL 2048 1933 \nL 2048 2848 \nL 2426 2848 \nC 2714 2848 2861 2842 3027 2810 \nL 3027 3238 \nC 2880 3213 2720 3200 2432 3200 \nL 2022 3200 \nL 2022 4058 \nL 2368 4058 \nC 2618 4058 2765 4051 2938 4026 \nL 2938 4435 \nC 2797 4410 2675 4403 2368 4403 \nL 2022 4403 \nL 2022 4666 \nC 2022 4973 2035 5133 2067 5293 \nL 1600 5293 \nC 1632 5133 1638 4979 1638 4666 \nL 1638 4403 \nL 1126 4403 \nC 832 4403 698 4410 563 4435 \nL 563 4026 \nC 736 4051 890 4058 1126 4058 \nL 1638 4058 \nL 1638 3200 \nL 1043 3200 \nC 736 3200 570 3213 416 3238 \nL 416 2810 \nC 576 2835 736 2848 1037 2848 \nL 1670 2848 \nL 1670 608 \nC 1427 826 1235 1082 1094 1363 \nC 1133 1632 1146 1811 1165 2176 \nC 1165 2272 1171 2304 1178 2374 \nL 762 2413 \nC 774 2317 781 2259 781 2131 \nC 781 1658 736 1261 627 832 \nC 518 397 422 160 198 -211 \nC 326 -269 429 -339 538 -442 \nC 762 -32 922 422 1024 915 \nC 1203 582 1459 301 1760 102 \nC 2278 -243 2842 -339 4422 -339 \nC 5075 -339 5402 -333 6054 -307 \nC 6080 -128 6106 -45 6195 134 \nC 5613 70 5114 45 4218 45 \nC 2912 45 2477 102 2048 339 \nL 2048 1594 \nz\nM 5427 4608 \nC 5421 3968 5370 3456 5306 3341 \nC 5254 3258 5190 3238 4979 3238 \nC 4832 3238 4710 3251 4442 3283 \nC 4506 3130 4518 3053 4531 2880 \nC 4704 2874 4794 2867 4902 2867 \nC 5312 2867 5459 2906 5581 3053 \nC 5722 3213 5760 3443 5805 4333 \nC 5837 4883 5837 4883 5850 4992 \nC 5722 4973 5523 4960 5242 4960 \nL 3776 4960 \nC 3482 4960 3290 4973 3136 4998 \nL 3136 4570 \nC 3283 4602 3437 4608 3718 4608 \nL 4038 4608 \nC 3994 3738 3763 3360 3027 2970 \nC 3136 2886 3206 2797 3290 2650 \nC 3834 2989 4083 3258 4256 3699 \nC 4346 3942 4410 4275 4429 4608 \nL 5427 4608 \nz\nM 3296 1146 \nC 3296 819 3290 710 3270 544 \nC 3456 570 3642 576 3949 576 \nL 5120 576 \nC 5414 576 5606 570 5805 544 \nC 5786 698 5779 813 5779 1178 \nL 5779 1875 \nC 5779 2221 5786 2349 5805 2496 \nC 5626 2470 5427 2464 5114 2464 \nL 3910 2464 \nC 3603 2464 3450 2470 3270 2496 \nC 3290 2342 3296 2253 3296 1926 \nL 3296 1146 \nz\nM 3680 2118 \nL 5389 2118 \nL 5389 922 \nL 3680 922 \nL 3680 2118 \nz\n\" transform=\"scale(0.015625)\"/>\n      <path id=\"HiraginoSansGB-W3-827a\" d=\"M 2419 4589 \nL 2419 4838 \nC 2419 5011 2432 5139 2451 5299 \nL 1978 5299 \nC 2003 5133 2016 4998 2016 4838 \nL 2016 4589 \nL 1088 4589 \nC 755 4589 563 4602 378 4627 \nL 378 4179 \nC 557 4205 762 4211 1088 4211 \nL 2016 4211 \nL 2016 4013 \nC 2016 3872 2003 3744 1978 3597 \nL 2445 3597 \nC 2426 3718 2419 3834 2419 4013 \nL 2419 4211 \nL 3878 4211 \nL 3878 4013 \nC 3878 3846 3872 3738 3853 3597 \nL 4307 3597 \nC 4288 3744 4275 3859 4275 4013 \nL 4275 4211 \nL 5299 4211 \nC 5626 4211 5837 4205 6016 4179 \nL 6016 4627 \nC 5830 4602 5638 4589 5299 4589 \nL 4275 4589 \nL 4275 4838 \nC 4275 5005 4288 5146 4307 5299 \nL 3840 5299 \nC 3866 5146 3878 4998 3878 4838 \nL 3878 4589 \nL 2419 4589 \nz\nM 4589 3219 \nC 4454 3194 4365 3187 4038 3187 \nL 1760 3187 \nC 1478 3187 1357 3194 1190 3219 \nL 1190 2797 \nC 1350 2822 1498 2829 1760 2829 \nL 3821 2829 \nC 3565 2675 3565 2675 3219 2470 \nC 2874 2272 2637 2125 2285 1894 \nC 1344 1274 941 813 941 358 \nC 941 96 1101 -122 1350 -192 \nC 1632 -275 2106 -307 3123 -307 \nC 4614 -307 5018 -262 5274 -83 \nC 5498 83 5600 346 5677 966 \nC 5498 1011 5427 1037 5242 1133 \nC 5216 749 5197 621 5152 499 \nC 5075 294 4947 186 4717 147 \nC 4486 102 4090 77 3635 77 \nC 2784 77 2176 90 1894 115 \nC 1491 154 1382 218 1382 429 \nC 1382 736 1722 1101 2502 1619 \nC 2707 1754 3667 2310 4179 2586 \nC 4429 2720 4467 2739 4800 2854 \nL 4589 3219 \nz\n\" transform=\"scale(0.015625)\"/>\n     </defs>\n     <use xlink:href=\"#HiraginoSansGB-W3-8d85\"/>\n     <use xlink:href=\"#HiraginoSansGB-W3-827a\" x=\"99.999985\"/>\n    </g>\n   </g>\n   <g id=\"text_26\">\n    <!-- 四通 -->\n    <g transform=\"translate(613.270292 398.219375) scale(0.11 -0.11)\">\n     <defs>\n      <path id=\"HiraginoSansGB-W3-56db\" d=\"M 570 538 \nC 570 147 563 -26 531 -211 \nL 992 -211 \nL 992 173 \nL 5421 173 \nL 5421 -211 \nL 5875 -211 \nC 5843 -32 5837 128 5837 525 \nL 5837 4064 \nC 5837 4403 5850 4608 5875 4851 \nC 5632 4826 5446 4819 5114 4819 \nL 1280 4819 \nC 941 4819 749 4826 531 4851 \nC 557 4621 570 4365 570 4064 \nL 570 538 \nz\nM 3584 4442 \nL 3584 2163 \nC 3584 1786 3693 1722 4326 1722 \nC 4710 1722 4915 1728 5210 1760 \nL 5210 2170 \nC 4762 2112 4570 2093 4301 2093 \nC 4013 2093 3987 2106 3987 2266 \nL 3987 4442 \nL 5421 4442 \nL 5421 557 \nL 992 557 \nL 992 4442 \nL 2285 4442 \nC 2266 3584 2195 3110 2022 2714 \nC 1830 2272 1568 1990 1062 1670 \nC 1190 1581 1280 1485 1357 1350 \nC 1824 1670 2163 2042 2355 2458 \nC 2566 2899 2675 3539 2694 4442 \nL 3584 4442 \nz\n\" transform=\"scale(0.015625)\"/>\n      <path id=\"HiraginoSansGB-W3-901a\" d=\"M 2810 3917 \nC 2509 3917 2298 3923 2112 3949 \nC 2138 3789 2144 3610 2144 3226 \nL 2144 1203 \nC 2144 890 2131 691 2106 531 \nL 2560 531 \nC 2528 685 2522 870 2522 1203 \nL 2522 1696 \nL 3725 1696 \nL 3725 1293 \nC 3725 979 3712 768 3686 602 \nL 4122 602 \nC 4096 774 4090 966 4090 1293 \nL 4090 1696 \nL 5427 1696 \nL 5427 1075 \nC 5427 922 5395 896 5235 896 \nC 5075 896 4922 909 4710 941 \nC 4762 806 4787 723 4806 570 \nC 4986 557 5094 557 5248 557 \nC 5702 557 5805 646 5805 1050 \nL 5805 3162 \nC 5805 3539 5811 3770 5830 3949 \nC 5677 3923 5485 3917 5133 3917 \nL 4294 3917 \nC 4730 4141 5178 4442 5574 4768 \nC 5651 4832 5677 4851 5734 4890 \nL 5568 5120 \nC 5440 5101 5306 5094 4922 5094 \nL 2682 5094 \nC 2349 5094 2182 5101 2010 5133 \nL 2010 4730 \nC 2182 4755 2355 4762 2650 4762 \nL 5024 4762 \nC 4678 4474 4506 4358 4032 4090 \nC 3718 4320 3494 4467 3174 4659 \nL 2886 4454 \nC 3174 4301 3488 4102 3738 3917 \nL 2810 3917 \nz\nM 4090 3597 \nL 5427 3597 \nL 5427 2963 \nL 4090 2963 \nL 4090 3597 \nz\nM 3725 3597 \nL 3725 2963 \nL 2522 2963 \nL 2522 3597 \nL 3725 3597 \nz\nM 2522 2656 \nL 3725 2656 \nL 3725 2010 \nL 2522 2010 \nL 2522 2656 \nz\nM 5427 2010 \nL 4090 2010 \nL 4090 2656 \nL 5427 2656 \nL 5427 2010 \nz\nM 1478 2234 \nC 1478 2522 1485 2688 1504 2880 \nC 1350 2854 1235 2848 1030 2848 \nL 774 2848 \nC 525 2848 416 2854 282 2880 \nL 282 2464 \nC 429 2490 531 2496 749 2496 \nL 1094 2496 \nL 1094 858 \nC 909 768 602 493 205 58 \nL 486 -269 \nC 768 154 1075 474 1210 474 \nC 1261 474 1338 435 1382 384 \nC 1619 109 1619 109 1728 38 \nC 1952 -109 2176 -186 2470 -230 \nC 2746 -262 3258 -294 3642 -294 \nC 4685 -294 5325 -282 5984 -250 \nC 6029 -45 6035 -13 6138 218 \nC 5568 134 4870 102 3866 102 \nC 3040 102 2515 141 2266 218 \nC 1997 294 1850 397 1619 659 \nC 1555 730 1517 768 1478 800 \nL 1478 2234 \nz\nM 326 4947 \nC 762 4544 1011 4250 1325 3782 \nL 1651 4077 \nC 1312 4525 1056 4806 621 5210 \nL 326 4947 \nz\n\" transform=\"scale(0.015625)\"/>\n     </defs>\n     <use xlink:href=\"#HiraginoSansGB-W3-56db\"/>\n     <use xlink:href=\"#HiraginoSansGB-W3-901a\" x=\"99.999985\"/>\n    </g>\n   </g>\n   <g id=\"text_27\">\n    <!-- 信诚 -->\n    <g transform=\"translate(678.213636 45.419375) scale(0.11 -0.11)\">\n     <defs>\n      <path id=\"HiraginoSansGB-W3-4fe1\" d=\"M 2400 4352 \nC 2182 4352 2022 4365 1862 4390 \nL 1862 3949 \nC 2029 3974 2195 3987 2400 3987 \nL 5453 3987 \nC 5690 3987 5888 3974 6074 3949 \nL 6074 4390 \nC 5894 4365 5715 4352 5459 4352 \nL 4064 4352 \nL 4307 4512 \nC 4000 4947 3821 5171 3578 5414 \nL 3283 5184 \nC 3558 4909 3654 4794 3936 4352 \nL 2400 4352 \nz\nM 1402 3827 \nC 1581 4224 1702 4525 1805 4864 \nC 1856 5037 1882 5114 1926 5222 \nL 1491 5357 \nC 1453 5062 1395 4851 1248 4454 \nC 979 3718 653 3162 173 2618 \nC 314 2470 346 2432 429 2266 \nC 742 2669 845 2835 1030 3213 \nC 1011 2867 1011 2758 1011 2438 \nL 1011 301 \nC 1011 -26 998 -224 973 -467 \nL 1434 -467 \nC 1408 -250 1402 -13 1402 282 \nL 1402 3827 \nz\nM 5517 3462 \nC 5376 3437 5210 3430 4960 3430 \nL 2842 3430 \nC 2592 3430 2477 3437 2330 3462 \nL 2330 3053 \nC 2490 3078 2605 3085 2842 3085 \nL 4966 3085 \nC 5203 3085 5363 3078 5517 3053 \nL 5517 3462 \nz\nM 5517 2566 \nC 5363 2541 5222 2534 4966 2534 \nL 2842 2534 \nC 2598 2534 2470 2541 2330 2566 \nL 2330 2163 \nC 2483 2182 2605 2189 2842 2189 \nL 4966 2189 \nC 5216 2189 5357 2182 5517 2157 \nL 5517 2566 \nz\nM 2688 -173 \nL 5094 -173 \nL 5094 -467 \nL 5523 -467 \nC 5498 -269 5491 -115 5491 128 \nL 5491 1018 \nC 5491 1267 5498 1440 5517 1619 \nC 5382 1600 5197 1594 4915 1594 \nL 2803 1594 \nC 2586 1594 2406 1600 2272 1619 \nC 2285 1453 2298 1248 2298 1011 \nL 2298 122 \nC 2298 -122 2285 -314 2266 -467 \nL 2688 -467 \nL 2688 -173 \nz\nM 2688 179 \nL 2688 1242 \nL 5094 1242 \nL 5094 179 \nL 2688 179 \nz\n\" transform=\"scale(0.015625)\"/>\n      <path id=\"HiraginoSansGB-W3-8bda\" d=\"M 5408 3923 \nC 5664 3923 5882 3910 6067 3891 \nL 6067 4320 \nC 5926 4294 5715 4282 5446 4282 \nL 4787 4282 \nC 4781 4461 4781 4544 4781 4672 \nC 4781 5011 4787 5120 4819 5280 \nL 4371 5280 \nC 4397 5114 4397 5082 4403 4678 \nC 4403 4378 4403 4378 4403 4282 \nL 3174 4282 \nC 2931 4282 2675 4294 2554 4314 \nC 2573 4096 2579 3904 2579 3584 \nC 2579 3347 2560 2528 2541 2074 \nC 2522 1594 2490 1331 2426 1018 \nC 2317 518 2163 205 1875 -128 \nC 2022 -224 2112 -314 2202 -454 \nC 2400 -186 2477 -58 2579 230 \nC 2816 858 2854 1075 2912 1978 \nC 2944 2541 2944 2541 2944 2643 \nL 3718 2643 \nC 3725 2490 3725 2362 3725 2298 \nC 3725 1850 3693 1248 3661 1139 \nC 3635 1050 3578 1018 3450 1018 \nC 3347 1018 3251 1030 3104 1069 \nC 3149 915 3162 826 3168 659 \nC 3302 646 3373 640 3462 640 \nC 4038 640 4077 749 4090 2355 \nC 4096 2726 4102 2899 4115 3021 \nC 3974 3002 3795 2995 3558 2995 \nL 2957 2995 \nC 2963 3360 2963 3366 2963 3533 \nL 2963 3923 \nL 4410 3923 \nC 4442 2739 4550 1824 4755 1120 \nC 4416 602 4026 230 3405 -166 \nC 3539 -256 3603 -320 3725 -480 \nC 4262 -102 4531 160 4909 666 \nC 4979 474 5101 224 5203 64 \nC 5382 -230 5555 -371 5722 -371 \nC 5978 -371 6118 -32 6202 800 \nC 6086 845 6003 896 5862 1024 \nC 5850 755 5830 518 5805 384 \nC 5766 173 5741 122 5683 96 \nC 5555 147 5338 550 5165 1050 \nC 5421 1478 5658 2022 5811 2534 \nC 5971 3078 5978 3091 6010 3155 \nL 5594 3334 \nC 5536 2790 5331 2163 5018 1574 \nC 4870 2266 4794 3027 4794 3923 \nL 5408 3923 \nz\nM 1600 2694 \nC 1600 3008 1606 3168 1632 3373 \nC 1478 3354 1325 3341 1139 3341 \nL 774 3341 \nC 538 3341 442 3347 282 3373 \nL 282 2925 \nC 448 2950 538 2957 781 2957 \nL 1197 2957 \nL 1197 685 \nC 1197 525 1158 442 1030 346 \nL 1235 -32 \nC 1581 237 1747 365 2259 800 \nL 2163 1242 \nC 1786 877 1786 877 1600 736 \nL 1600 2694 \nz\nM 858 4979 \nC 1318 4634 1510 4448 1862 4019 \nL 2163 4352 \nC 1907 4646 1568 4960 1165 5267 \nL 858 4979 \nz\nM 6016 4678 \nC 5728 4966 5619 5062 5299 5286 \nL 5056 5062 \nC 5402 4813 5498 4717 5747 4422 \nL 6016 4678 \nz\n\" transform=\"scale(0.015625)\"/>\n     </defs>\n     <use xlink:href=\"#HiraginoSansGB-W3-4fe1\"/>\n     <use xlink:href=\"#HiraginoSansGB-W3-8bda\" x=\"99.999985\"/>\n    </g>\n   </g>\n   <g id=\"text_28\">\n    <!-- 飞利 -->\n    <g transform=\"translate(388.065795 241.862754) scale(0.11 -0.11)\">\n     <defs>\n      <path id=\"HiraginoSansGB-W3-98de\" d=\"M 5235 4365 \nC 5024 3923 4614 3360 4320 3104 \nC 4294 3354 4282 3603 4282 3872 \nC 4282 4077 4288 4320 4307 4557 \nC 4307 4595 4314 4614 4314 4627 \nC 4314 4685 4320 4730 4320 4736 \nC 4339 4845 4339 4845 4346 4915 \nC 4192 4883 4083 4877 3923 4877 \nC 3898 4877 3866 4877 3814 4877 \nC 3744 4877 3738 4877 3686 4877 \nL 986 4877 \nC 915 4877 762 4883 710 4896 \nC 608 4909 608 4909 544 4915 \nL 544 4435 \nC 666 4454 813 4474 890 4474 \nL 3885 4474 \nC 3885 4339 3885 4243 3885 4173 \nC 3885 2541 4115 1402 4602 614 \nC 4902 134 5286 -179 5574 -179 \nC 5747 -179 5907 -51 6016 173 \nC 6093 320 6099 365 6234 1037 \nC 6157 1075 6029 1165 5850 1306 \nC 5830 1030 5773 691 5709 486 \nC 5677 371 5600 282 5536 282 \nC 5414 282 5146 538 4954 851 \nC 4685 1274 4518 1786 4390 2547 \nC 4922 2234 5235 2010 5638 1664 \nL 5882 2042 \nC 5446 2362 5280 2464 4563 2848 \nC 4691 2970 4870 3155 4998 3302 \nC 5133 3462 5133 3462 5626 4141 \nL 5235 4365 \nz\n\" transform=\"scale(0.015625)\"/>\n      <path id=\"HiraginoSansGB-W3-5229\" d=\"M 1715 3539 \nL 1050 3539 \nC 742 3539 589 3546 442 3578 \nL 442 3142 \nC 614 3168 787 3181 1043 3181 \nL 1651 3181 \nC 1574 2938 1472 2701 1286 2342 \nC 1005 1811 730 1453 288 1037 \nC 390 934 461 838 550 672 \nC 1126 1293 1440 1805 1741 2611 \nC 1715 2118 1709 1882 1709 1523 \nL 1709 275 \nC 1709 -70 1696 -282 1664 -506 \nL 2138 -506 \nC 2106 -320 2099 -115 2099 275 \nL 2099 2528 \nC 2131 2490 2208 2394 2637 1843 \nC 2810 1619 2810 1619 2925 1434 \nL 3232 1702 \nC 2880 2157 2765 2278 2099 2970 \nL 2099 3181 \nL 2714 3181 \nC 2970 3181 3123 3174 3283 3149 \nL 3283 3571 \nC 3117 3546 2950 3539 2726 3539 \nL 2099 3539 \nL 2099 4538 \nC 2419 4627 2643 4704 2938 4813 \nC 3053 4851 3053 4851 3194 4902 \nL 2906 5242 \nC 2797 5171 2720 5133 2490 5056 \nC 1760 4794 1248 4672 461 4570 \nC 550 4442 595 4352 646 4205 \nC 1056 4275 1472 4365 1715 4429 \nL 1715 3539 \nz\nM 3731 4858 \nC 3757 4659 3770 4486 3770 4128 \nL 3770 1658 \nC 3770 1229 3763 1094 3738 915 \nL 4211 915 \nC 4186 1094 4179 1222 4179 1658 \nL 4179 4128 \nC 4179 4499 4186 4653 4211 4858 \nL 3731 4858 \nz\nM 5299 5216 \nC 5325 5011 5338 4774 5338 4410 \nL 5338 218 \nC 5338 58 5293 26 5037 26 \nC 4813 26 4557 45 4205 83 \nC 4275 -77 4307 -173 4339 -339 \nC 4557 -352 4794 -358 4986 -358 \nC 5606 -358 5754 -250 5754 205 \nL 5754 4410 \nC 5754 4768 5766 5005 5798 5216 \nL 5299 5216 \nz\n\" transform=\"scale(0.015625)\"/>\n     </defs>\n     <use xlink:href=\"#HiraginoSansGB-W3-98de\"/>\n     <use xlink:href=\"#HiraginoSansGB-W3-5229\" x=\"99.999985\"/>\n    </g>\n   </g>\n   <g id=\"text_29\">\n    <!-- 昂歌 -->\n    <g transform=\"translate(521.196647 329.774165) scale(0.11 -0.11)\">\n     <defs>\n      <path id=\"HiraginoSansGB-W3-6602\" d=\"M 4602 2906 \nC 4928 2906 5094 2899 5299 2880 \nC 5280 3040 5274 3187 5274 3418 \nL 5274 4576 \nC 5274 4813 5280 4954 5299 5114 \nC 5101 5094 4922 5088 4582 5088 \nL 1837 5088 \nC 1491 5088 1312 5094 1114 5114 \nC 1133 4954 1139 4819 1139 4576 \nL 1139 3418 \nC 1139 3168 1133 3046 1114 2880 \nC 1318 2899 1485 2906 1811 2906 \nL 4602 2906 \nz\nM 1523 4736 \nL 4890 4736 \nL 4890 4166 \nL 1523 4166 \nL 1523 4736 \nz\nM 1523 3827 \nL 4890 3827 \nL 4890 3251 \nL 1523 3251 \nL 1523 3827 \nz\nM 2630 2746 \nC 2413 2611 2112 2496 1670 2381 \nC 1363 2298 1165 2266 787 2240 \nC 813 2061 819 1971 819 1766 \nL 819 1734 \nL 813 736 \nC 813 602 800 550 768 493 \nC 730 429 698 410 621 403 \nL 768 -13 \nC 928 45 928 45 1069 83 \nC 1536 211 1536 211 1837 301 \nC 2662 538 2662 538 2893 614 \nL 2874 1005 \nC 2234 774 2048 717 1203 506 \nL 1203 1933 \nC 2074 2086 2285 2144 2918 2400 \nL 2630 2746 \nz\nM 3648 2067 \nL 5280 2067 \nL 5280 653 \nC 5280 531 5242 512 5011 512 \nC 4813 512 4531 538 4230 595 \nC 4282 429 4301 339 4307 186 \nC 4563 160 4794 147 4986 147 \nC 5542 147 5677 237 5677 621 \nL 5677 1888 \nC 5677 2125 5683 2278 5702 2438 \nC 5549 2419 5421 2413 5184 2413 \nL 3731 2413 \nC 3501 2413 3366 2419 3226 2438 \nC 3238 2304 3245 2074 3245 1888 \nL 3245 58 \nC 3245 -250 3238 -403 3206 -563 \nL 3693 -563 \nC 3661 -390 3648 -237 3648 58 \nL 3648 2067 \nz\n\" transform=\"scale(0.015625)\"/>\n      <path id=\"HiraginoSansGB-W3-6b4c\" d=\"M 4288 3488 \nC 4307 3379 4314 3296 4314 3149 \nC 4314 2637 4243 2093 4122 1645 \nC 3962 1050 3731 634 3341 205 \nC 3213 64 3162 19 2963 -115 \nC 2982 -45 2989 26 2989 198 \nL 2989 2291 \nC 3162 2291 3379 2278 3546 2259 \nL 3546 2675 \nC 3379 2650 3174 2637 2899 2637 \nL 851 2637 \nC 608 2637 448 2650 282 2675 \nL 282 2259 \nC 435 2285 589 2291 858 2291 \nL 2611 2291 \nL 2611 205 \nC 2611 13 2598 6 2349 6 \nC 2202 6 2048 19 1843 51 \nC 1888 -96 1901 -198 1907 -333 \nC 2074 -346 2150 -346 2278 -346 \nC 2765 -346 2906 -301 2963 -122 \nC 3078 -237 3098 -262 3213 -461 \nC 3552 -186 3776 64 3981 403 \nC 4301 922 4442 1350 4531 2048 \nC 4627 1504 4742 1158 4973 755 \nC 5235 288 5517 -38 6003 -442 \nC 6022 -410 6035 -384 6042 -365 \nC 6086 -301 6112 -256 6118 -243 \nC 6144 -205 6163 -179 6266 -70 \nC 5914 179 5702 384 5485 666 \nC 4986 1325 4717 2202 4717 3168 \nC 4717 3309 4723 3386 4742 3488 \nL 4288 3488 \nz\nM 2637 4672 \nL 2637 3475 \nC 2637 3194 2630 3034 2605 2874 \nL 3040 2874 \nC 3014 3027 3008 3174 3008 3475 \nL 3008 4672 \nC 3226 4666 3360 4659 3469 4640 \nL 3469 5043 \nC 3296 5018 3078 5005 2803 5005 \nL 954 5005 \nC 698 5005 525 5018 358 5043 \nL 358 4640 \nC 518 4666 659 4672 934 4672 \nL 2637 4672 \nz\nM 4237 4320 \nC 4307 4563 4352 4755 4390 4941 \nC 4422 5088 4435 5139 4467 5248 \nL 4026 5338 \nC 4026 5178 3968 4813 3898 4531 \nC 3744 3917 3456 3328 3149 2970 \nC 3296 2874 3392 2790 3462 2694 \nC 3738 3072 3955 3501 4115 3968 \nL 5683 3968 \nC 5510 3392 5370 3085 5126 2714 \nC 5248 2662 5293 2637 5466 2522 \nC 5683 2880 5914 3392 6016 3757 \nC 6067 3942 6099 4032 6138 4115 \nL 5920 4352 \nC 5818 4326 5664 4320 5395 4320 \nL 4237 4320 \nz\nM 730 3469 \nC 730 3373 717 3187 704 3085 \nC 838 3098 986 3104 1114 3104 \nL 1722 3104 \nC 1933 3104 2086 3098 2214 3085 \nC 2202 3219 2195 3309 2195 3539 \nL 2195 3866 \nC 2195 4070 2202 4179 2214 4307 \nC 2086 4294 1946 4288 1702 4288 \nL 1229 4288 \nC 986 4288 845 4294 710 4307 \nC 723 4166 730 4026 730 3802 \nL 730 3469 \nz\nM 1062 4000 \nL 1869 4000 \nL 1869 3392 \nL 1062 3392 \nL 1062 4000 \nz\nM 1018 179 \nL 1018 525 \nL 1741 525 \nC 2010 525 2099 518 2221 506 \nC 2202 634 2202 698 2202 947 \nL 2202 1459 \nC 2202 1715 2202 1792 2221 1914 \nC 2093 1894 2010 1894 1702 1894 \nL 1178 1894 \nC 877 1894 794 1894 653 1914 \nC 672 1760 678 1619 678 1408 \nL 678 710 \nC 678 493 666 314 640 179 \nL 1018 179 \nz\nM 1018 1594 \nL 1869 1594 \nL 1869 826 \nL 1018 826 \nL 1018 1594 \nz\n\" transform=\"scale(0.015625)\"/>\n     </defs>\n     <use xlink:href=\"#HiraginoSansGB-W3-6602\"/>\n     <use xlink:href=\"#HiraginoSansGB-W3-6b4c\" x=\"99.999985\"/>\n    </g>\n   </g>\n   <g id=\"text_30\">\n    <!-- 方正 -->\n    <g transform=\"translate(399.879314 317.181523) scale(0.11 -0.11)\">\n     <defs>\n      <path id=\"HiraginoSansGB-W3-6b63\" d=\"M 3597 256 \nL 3597 2368 \nL 4870 2368 \nC 5165 2368 5370 2355 5530 2330 \nL 5530 2790 \nC 5370 2765 5178 2752 4870 2752 \nL 3597 2752 \nL 3597 4576 \nL 5082 4576 \nC 5357 4576 5581 4563 5792 4538 \nL 5792 5005 \nC 5581 4979 5376 4966 5082 4966 \nL 1331 4966 \nC 1030 4966 819 4979 621 5005 \nL 621 4538 \nC 832 4563 1050 4576 1344 4576 \nL 3155 4576 \nL 3155 256 \nL 1862 256 \nL 1862 2483 \nC 1862 2797 1875 3014 1907 3219 \nL 1382 3219 \nC 1414 3002 1427 2797 1427 2483 \nL 1427 256 \nL 1107 256 \nC 762 256 570 269 371 301 \nL 371 -179 \nC 595 -147 813 -134 1114 -134 \nL 5280 -134 \nC 5581 -134 5805 -147 6016 -179 \nL 6016 301 \nC 5792 269 5594 256 5274 256 \nL 3597 256 \nz\n\" transform=\"scale(0.015625)\"/>\n     </defs>\n     <use xlink:href=\"#HiraginoSansGB-W3-65b9\"/>\n     <use xlink:href=\"#HiraginoSansGB-W3-6b63\" x=\"99.999985\"/>\n    </g>\n   </g>\n   <g id=\"text_31\">\n    <!-- TOP15品牌搜索分布 -->\n    <g transform=\"translate(314.198828 18.689062) scale(0.15 -0.15)\">\n     <defs>\n      <path id=\"HiraginoSansGB-W3-54\" d=\"M 2323 4454 \nL 3315 4454 \nC 3674 4454 3859 4442 4070 4410 \nL 4070 4947 \nC 3859 4915 3686 4902 3315 4902 \nL 819 4902 \nC 480 4902 314 4915 90 4947 \nL 90 4410 \nC 301 4442 499 4454 826 4454 \nL 1824 4454 \nL 1824 762 \nC 1824 461 1811 237 1773 38 \nL 2374 38 \nC 2336 269 2323 448 2323 762 \nL 2323 4454 \nz\n\" transform=\"scale(0.015625)\"/>\n      <path id=\"HiraginoSansGB-W3-4f\" d=\"M 2547 4998 \nC 1203 4998 333 4006 333 2470 \nC 333 928 1190 -58 2541 -58 \nC 3891 -58 4755 928 4755 2470 \nC 4755 4013 3898 4998 2547 4998 \nz\nM 2554 397 \nC 1530 397 851 1222 851 2477 \nC 851 3731 1523 4550 2547 4550 \nC 2989 4550 3373 4397 3667 4109 \nC 4038 3738 4230 3174 4230 2470 \nC 4230 1786 4026 1190 3661 832 \nC 3373 544 2995 397 2554 397 \nz\n\" transform=\"scale(0.015625)\"/>\n      <path id=\"HiraginoSansGB-W3-50\" d=\"M 1094 38 \nC 1056 256 1043 454 1043 762 \nL 1043 2022 \nL 2470 2022 \nC 3469 2022 4045 2566 4045 3507 \nC 4045 4397 3488 4902 2502 4902 \nL 1197 4902 \nC 902 4902 723 4909 493 4922 \nC 531 4653 544 4454 544 4192 \nL 544 755 \nC 544 454 531 269 493 38 \nL 1094 38 \nz\nM 1043 2464 \nL 1043 4461 \nL 2470 4461 \nC 3162 4461 3533 4122 3533 3482 \nC 3533 2829 3149 2464 2470 2464 \nL 1043 2464 \nz\n\" transform=\"scale(0.015625)\"/>\n      <path id=\"HiraginoSansGB-W3-54c1\" d=\"M 1459 3507 \nC 1459 3290 1453 3123 1434 2950 \nC 1606 2970 1805 2976 2112 2976 \nL 4294 2976 \nC 4608 2976 4787 2970 4966 2950 \nC 4947 3104 4941 3270 4941 3514 \nL 4941 4595 \nC 4941 4826 4947 4960 4966 5126 \nC 4794 5101 4614 5094 4243 5094 \nL 2150 5094 \nC 1811 5094 1632 5101 1434 5126 \nC 1453 4960 1459 4806 1459 4589 \nL 1459 3507 \nz\nM 1862 4730 \nL 4531 4730 \nL 4531 3341 \nL 1862 3341 \nL 1862 4730 \nz\nM 538 173 \nC 538 -154 531 -326 506 -493 \nL 934 -493 \nL 934 -90 \nL 2419 -90 \nL 2419 -371 \nL 2835 -371 \nC 2816 -218 2810 -58 2810 256 \nL 2810 1734 \nC 2810 2093 2816 2202 2829 2336 \nC 2662 2323 2515 2317 2310 2317 \nL 1101 2317 \nC 851 2317 698 2323 512 2342 \nC 531 2150 538 1971 538 1722 \nL 538 173 \nz\nM 934 1958 \nL 2419 1958 \nL 2419 269 \nL 934 269 \nL 934 1958 \nz\nM 3443 134 \nC 3443 -160 3437 -326 3418 -493 \nL 3834 -493 \nL 3834 -90 \nL 5472 -90 \nL 5472 -493 \nL 5907 -493 \nC 5882 -333 5875 -173 5875 173 \nL 5875 1715 \nC 5875 1984 5882 2176 5901 2342 \nC 5747 2323 5594 2317 5350 2317 \nL 3942 2317 \nC 3725 2317 3584 2323 3424 2336 \nC 3443 2182 3443 2086 3443 1786 \nL 3443 134 \nz\nM 3834 1958 \nL 5478 1958 \nL 5478 269 \nL 3834 269 \nL 3834 1958 \nz\n\" transform=\"scale(0.015625)\"/>\n      <path id=\"HiraginoSansGB-W3-724c\" d=\"M 4102 4717 \nC 4192 4858 4307 5075 4416 5299 \nL 3968 5376 \nC 3910 5133 3827 4928 3693 4717 \nL 3232 4717 \nC 2957 4717 2810 4723 2637 4742 \nC 2656 4563 2662 4422 2662 4147 \nL 2662 2803 \nC 2662 2560 2656 2426 2637 2227 \nC 2797 2240 2970 2246 3168 2246 \nL 3731 2246 \nC 3533 1984 3187 1792 2701 1670 \nC 2835 1536 2861 1498 2931 1331 \nC 3392 1491 3616 1626 3853 1875 \nC 3968 1990 4045 2093 4134 2246 \nL 5293 2246 \nC 5517 2246 5683 2240 5850 2227 \nC 5824 2406 5824 2541 5824 2816 \nL 5824 4154 \nC 5824 4416 5824 4557 5850 4742 \nC 5683 4723 5523 4717 5235 4717 \nL 4102 4717 \nz\nM 4416 3667 \nC 4416 3699 4416 3744 4422 3808 \nL 4422 4384 \nL 5453 4384 \nL 5453 3667 \nL 4416 3667 \nz\nM 3027 3667 \nL 3027 4384 \nL 4051 4384 \nL 4051 3821 \nC 4051 3776 4051 3763 4045 3667 \nL 3027 3667 \nz\nM 4275 2579 \nC 4352 2803 4397 3046 4410 3341 \nL 5453 3341 \nL 5453 2579 \nL 4275 2579 \nz\nM 3027 2579 \nL 3027 3341 \nL 4038 3341 \nC 4013 2976 4000 2893 3891 2579 \nL 3027 2579 \nz\nM 1773 1894 \nL 1773 173 \nC 1773 -96 1760 -288 1734 -493 \nL 2189 -493 \nC 2163 -288 2157 -83 2157 173 \nL 2157 1779 \nC 2157 1984 2157 2138 2170 2285 \nC 2010 2266 1882 2259 1619 2259 \nL 1056 2259 \nL 1069 3168 \nL 1069 3181 \nL 2010 3181 \nC 2246 3181 2330 3174 2496 3155 \nL 2496 3571 \nC 2362 3552 2240 3546 2080 3546 \nL 2080 4730 \nC 2080 4973 2086 5120 2112 5286 \nL 1664 5286 \nC 1690 5120 1702 4954 1702 4730 \nL 1702 3546 \nL 1069 3546 \nL 1069 4512 \nC 1069 4768 1075 4979 1101 5146 \nL 646 5146 \nC 672 4960 685 4762 685 4506 \nL 685 3123 \nC 685 1210 576 448 211 -230 \nC 339 -307 442 -397 550 -531 \nC 870 128 992 736 1043 1894 \nL 1773 1894 \nz\nM 4499 922 \nL 4499 166 \nC 4499 -128 4486 -320 4461 -499 \nL 4928 -499 \nC 4902 -320 4896 -134 4896 160 \nL 4896 922 \nL 5472 922 \nC 5741 922 5933 915 6131 890 \nL 6131 1312 \nC 5939 1286 5766 1274 5459 1274 \nL 4896 1274 \nL 4896 1542 \nC 4896 1869 4902 2035 4922 2170 \nL 4467 2170 \nC 4493 2003 4499 1869 4499 1555 \nL 4499 1274 \nL 2899 1274 \nC 2675 1274 2490 1286 2323 1306 \nL 2323 890 \nC 2502 909 2720 922 2976 922 \nL 4499 922 \nz\n\" transform=\"scale(0.015625)\"/>\n      <path id=\"HiraginoSansGB-W3-5206\" d=\"M 4435 2637 \nC 4435 1530 4358 666 4224 275 \nC 4179 147 4109 115 3917 115 \nC 3661 115 3373 147 3002 218 \nC 3066 32 3085 -64 3104 -237 \nC 3520 -275 3718 -288 3942 -288 \nC 4320 -288 4467 -230 4576 -32 \nC 4742 269 4864 1350 4864 2592 \nC 4870 2880 4870 2931 4890 3046 \nC 4704 3021 4512 3014 4218 3014 \nL 2112 3014 \nC 1850 3014 1632 3027 1446 3053 \nL 1446 2598 \nC 1645 2624 1862 2637 2106 2637 \nL 2509 2637 \nC 2464 2061 2374 1722 2163 1318 \nC 1856 736 1370 314 550 -83 \nC 685 -211 749 -294 832 -442 \nC 1613 -38 2112 397 2445 954 \nC 2739 1440 2893 1965 2944 2637 \nL 4435 2637 \nz\nM 2246 5293 \nC 2214 5101 2131 4902 1971 4621 \nC 1542 3853 992 3264 218 2746 \nC 365 2624 448 2528 531 2400 \nC 1434 3066 2054 3808 2547 4800 \nC 2643 4998 2669 5050 2726 5126 \nL 2246 5293 \nz\nM 3667 5114 \nC 3699 5062 3738 4992 3770 4934 \nC 4371 3757 4915 3110 5926 2362 \nC 6022 2528 6106 2637 6227 2752 \nC 5350 3328 4806 3904 4339 4742 \nC 4205 4986 4147 5114 4096 5280 \nL 3667 5114 \nz\n\" transform=\"scale(0.015625)\"/>\n      <path id=\"HiraginoSansGB-W3-5e03\" d=\"M 5312 3917 \nC 5651 3917 5850 3904 6029 3878 \nL 6029 4333 \nC 5862 4307 5664 4294 5312 4294 \nL 2848 4294 \nC 2925 4493 3002 4730 3066 4947 \nC 3123 5126 3136 5171 3187 5267 \nL 2694 5350 \nC 2656 5005 2586 4742 2413 4294 \nL 1075 4294 \nC 710 4294 518 4307 346 4333 \nL 346 3878 \nC 563 3904 768 3917 1075 3917 \nL 2246 3917 \nC 1798 2995 1107 2214 243 1664 \nC 352 1562 448 1434 512 1312 \nC 1088 1766 1248 1914 1542 2240 \nL 1542 672 \nC 1542 378 1530 186 1504 -13 \nL 1984 -13 \nC 1958 147 1952 320 1952 672 \nL 1952 2342 \nL 3245 2342 \nL 3245 224 \nC 3245 -102 3232 -346 3200 -512 \nL 3699 -512 \nC 3667 -352 3654 -109 3654 218 \nL 3654 2342 \nL 5088 2342 \nL 5088 717 \nC 5088 544 5024 506 4762 506 \nC 4563 506 4352 525 4064 576 \nC 4141 410 4166 314 4186 147 \nC 4467 128 4576 122 4774 122 \nC 5338 122 5498 237 5498 640 \nL 5498 2214 \nC 5498 2426 5504 2579 5523 2739 \nC 5331 2720 5139 2707 4928 2707 \nL 3654 2707 \nL 3654 2835 \nC 3654 3187 3661 3354 3693 3520 \nL 3206 3520 \nC 3232 3354 3245 3162 3245 2835 \nL 3245 2707 \nL 1926 2707 \nC 2221 3078 2464 3482 2682 3917 \nL 5312 3917 \nz\n\" transform=\"scale(0.015625)\"/>\n     </defs>\n     <use xlink:href=\"#HiraginoSansGB-W3-54\"/>\n     <use xlink:href=\"#HiraginoSansGB-W3-4f\" x=\"64.899994\"/>\n     <use xlink:href=\"#HiraginoSansGB-W3-50\" x=\"144.399979\"/>\n     <use xlink:href=\"#HiraginoSansGB-W3-31\" x=\"210.599976\"/>\n     <use xlink:href=\"#HiraginoSansGB-W3-35\" x=\"276.299973\"/>\n     <use xlink:href=\"#HiraginoSansGB-W3-54c1\" x=\"341.999969\"/>\n     <use xlink:href=\"#HiraginoSansGB-W3-724c\" x=\"441.999954\"/>\n     <use xlink:href=\"#HiraginoSansGB-W3-641c\" x=\"541.999939\"/>\n     <use xlink:href=\"#HiraginoSansGB-W3-7d22\" x=\"641.999924\"/>\n     <use xlink:href=\"#HiraginoSansGB-W3-5206\" x=\"741.999908\"/>\n     <use xlink:href=\"#HiraginoSansGB-W3-5e03\" x=\"841.999893\"/>\n    </g>\n   </g>\n  </g>\n </g>\n <defs>\n  <clipPath id=\"p297abf71d0\">\n   <rect x=\"50.05\" y=\"24.689062\" width=\"669.6\" height=\"388.08\"/>\n  </clipPath>\n </defs>\n</svg>\n"
     },
     "metadata": {},
     "output_type": "display_data"
    }
   ],
   "execution_count": 36
  }
 ],
 "metadata": {
  "kernelspec": {
   "display_name": "Python 3",
   "language": "python",
   "name": "python3"
  },
  "language_info": {
   "codemirror_mode": {
    "name": "ipython",
    "version": 2
   },
   "file_extension": ".py",
   "mimetype": "text/x-python",
   "name": "python",
   "nbconvert_exporter": "python",
   "pygments_lexer": "ipython2",
   "version": "2.7.6"
  }
 },
 "nbformat": 4,
 "nbformat_minor": 5
}
