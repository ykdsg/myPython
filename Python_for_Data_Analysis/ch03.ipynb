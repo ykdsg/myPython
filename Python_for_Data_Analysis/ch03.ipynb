{
 "cells": [
  {
   "cell_type": "markdown",
   "source": [
    "# Built-in Data Structures, Functions, "
   ],
   "metadata": {
    "collapsed": false
   },
   "id": "bedaca8e3f196ad"
  },
  {
   "cell_type": "markdown",
   "source": [
    "## Data Structures and Sequences"
   ],
   "metadata": {
    "collapsed": false
   },
   "id": "e944d2c7be053296"
  },
  {
   "cell_type": "markdown",
   "source": [
    "### Tuple"
   ],
   "metadata": {
    "collapsed": false
   },
   "id": "56edf1df5ca8581e"
  },
  {
   "cell_type": "code",
   "execution_count": 2,
   "outputs": [
    {
     "data": {
      "text/plain": "(4, 5, 6)"
     },
     "execution_count": 2,
     "metadata": {},
     "output_type": "execute_result"
    }
   ],
   "source": [
    "tup = 4, 5, 6\n",
    "tup"
   ],
   "metadata": {
    "collapsed": false,
    "ExecuteTime": {
     "end_time": "2023-10-22T11:45:49.795582Z",
     "start_time": "2023-10-22T11:45:49.780736Z"
    }
   },
   "id": "ef59fe92142cdcf0"
  },
  {
   "cell_type": "code",
   "execution_count": 3,
   "outputs": [
    {
     "data": {
      "text/plain": "((4, 5, 6), (7, 8))"
     },
     "execution_count": 3,
     "metadata": {},
     "output_type": "execute_result"
    }
   ],
   "source": [
    "nested_tup = (4, 5, 6), (7, 8)\n",
    "nested_tup"
   ],
   "metadata": {
    "collapsed": false,
    "ExecuteTime": {
     "end_time": "2023-10-22T11:46:10.501609Z",
     "start_time": "2023-10-22T11:46:10.485816Z"
    }
   },
   "id": "2ceb1f21897ae277"
  },
  {
   "cell_type": "code",
   "execution_count": 5,
   "outputs": [
    {
     "data": {
      "text/plain": "(4, 0, 2)"
     },
     "execution_count": 5,
     "metadata": {},
     "output_type": "execute_result"
    }
   ],
   "source": [
    "# 使用tuple函数将任意序列或迭代器转换为元组\n",
    "tuple([4, 0, 2])"
   ],
   "metadata": {
    "collapsed": false,
    "ExecuteTime": {
     "end_time": "2023-10-22T11:47:25.722568Z",
     "start_time": "2023-10-22T11:47:25.710114Z"
    }
   },
   "id": "3d8076ac57eff0b1"
  },
  {
   "cell_type": "code",
   "execution_count": 6,
   "outputs": [
    {
     "data": {
      "text/plain": "('s', 't', 'r', 'i', 'n', 'g')"
     },
     "execution_count": 6,
     "metadata": {},
     "output_type": "execute_result"
    }
   ],
   "source": [
    "tup = tuple('string')\n",
    "tup"
   ],
   "metadata": {
    "collapsed": false,
    "ExecuteTime": {
     "end_time": "2023-10-22T11:51:23.265726Z",
     "start_time": "2023-10-22T11:51:23.248213Z"
    }
   },
   "id": "2d56558b3a6fc666"
  },
  {
   "cell_type": "code",
   "execution_count": 7,
   "outputs": [
    {
     "data": {
      "text/plain": "(4, None, 'foo', 6, 0, 'bar')"
     },
     "execution_count": 7,
     "metadata": {},
     "output_type": "execute_result"
    }
   ],
   "source": [
    "# 可以使用+号连接元组来生成更长的元组\n",
    "(4, None, 'foo') + (6, 0) + ('bar',)"
   ],
   "metadata": {
    "collapsed": false,
    "ExecuteTime": {
     "end_time": "2023-10-22T11:51:39.859979Z",
     "start_time": "2023-10-22T11:51:39.850585Z"
    }
   },
   "id": "e4f9b9cc8b47c4bb"
  },
  {
   "cell_type": "markdown",
   "source": [
    "#### Unpacking tuples"
   ],
   "metadata": {
    "collapsed": false
   },
   "id": "9142b2e68c592163"
  },
  {
   "cell_type": "code",
   "execution_count": 8,
   "outputs": [
    {
     "data": {
      "text/plain": "5"
     },
     "execution_count": 8,
     "metadata": {},
     "output_type": "execute_result"
    }
   ],
   "source": [
    "tup = (4, 5, 6)\n",
    "a, b, c = tup\n",
    "b"
   ],
   "metadata": {
    "collapsed": false,
    "ExecuteTime": {
     "end_time": "2023-10-22T12:39:43.631348Z",
     "start_time": "2023-10-22T12:39:43.624523Z"
    }
   },
   "id": "c2de591767be90b1"
  },
  {
   "cell_type": "code",
   "execution_count": 9,
   "outputs": [
    {
     "name": "stdout",
     "output_type": "stream",
     "text": [
      "a=1, b=2, c=3\n",
      "a=4, b=5, c=6\n",
      "a=7, b=8, c=9\n"
     ]
    }
   ],
   "source": [
    "seq = [(1, 2, 3), (4, 5, 6), (7, 8, 9)]\n",
    "for a, b, c in seq:\n",
    "    print('a={0}, b={1}, c={2}'.format(a, b, c))"
   ],
   "metadata": {
    "collapsed": false,
    "ExecuteTime": {
     "end_time": "2023-10-22T12:41:55.321903Z",
     "start_time": "2023-10-22T12:41:55.313258Z"
    }
   },
   "id": "2babe8c7d58f3321"
  },
  {
   "cell_type": "code",
   "execution_count": null,
   "outputs": [],
   "source": [],
   "metadata": {
    "collapsed": false
   },
   "id": "f8e3279ff3775eab"
  }
 ],
 "metadata": {
  "kernelspec": {
   "display_name": "Python 3",
   "language": "python",
   "name": "python3"
  },
  "language_info": {
   "codemirror_mode": {
    "name": "ipython",
    "version": 2
   },
   "file_extension": ".py",
   "mimetype": "text/x-python",
   "name": "python",
   "nbconvert_exporter": "python",
   "pygments_lexer": "ipython2",
   "version": "2.7.6"
  }
 },
 "nbformat": 4,
 "nbformat_minor": 5
}
