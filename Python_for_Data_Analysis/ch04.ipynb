{
 "cells": [
  {
   "cell_type": "markdown",
   "source": [
    "# NumPy Basics: Arrays and Vectorized Computation"
   ],
   "metadata": {
    "collapsed": false
   },
   "id": "e0183d6a46f45f4f"
  },
  {
   "cell_type": "markdown",
   "source": [
    "## The NumPy ndarray: A Multidimensional Array Object"
   ],
   "metadata": {
    "collapsed": false
   },
   "id": "affa37578cd61033"
  },
  {
   "cell_type": "code",
   "execution_count": 2,
   "outputs": [
    {
     "data": {
      "text/plain": "array([[-1.43117361, -0.816186  , -0.01332385],\n       [-0.95220384,  0.42203259,  1.88904542]])"
     },
     "execution_count": 2,
     "metadata": {},
     "output_type": "execute_result"
    }
   ],
   "source": [
    "import numpy as np\n",
    "\n",
    "# Generate some random data\n",
    "data = np.random.randn(2, 3)\n",
    "data"
   ],
   "metadata": {
    "collapsed": false,
    "ExecuteTime": {
     "end_time": "2023-10-25T13:02:13.795449Z",
     "start_time": "2023-10-25T13:02:13.553029Z"
    }
   },
   "id": "7c4e67c546fe786"
  },
  {
   "cell_type": "code",
   "execution_count": 6,
   "outputs": [
    {
     "data": {
      "text/plain": "array([[-1.10860832, -1.40122197,  4.47881949],\n       [-0.50786989, -2.93535602, -7.57664453]])"
     },
     "execution_count": 6,
     "metadata": {},
     "output_type": "execute_result"
    }
   ],
   "source": [
    "data * 10"
   ],
   "metadata": {
    "collapsed": false,
    "ExecuteTime": {
     "end_time": "2023-10-24T14:01:31.809810Z",
     "start_time": "2023-10-24T14:01:31.799075Z"
    }
   },
   "id": "fd0cb256411022dd"
  },
  {
   "cell_type": "code",
   "execution_count": 5,
   "outputs": [
    {
     "name": "stdout",
     "output_type": "stream",
     "text": [
      "(2, 3)\n",
      "float64\n"
     ]
    }
   ],
   "source": [
    "print(data.shape)\n",
    "print(data.dtype)"
   ],
   "metadata": {
    "collapsed": false,
    "ExecuteTime": {
     "end_time": "2023-10-24T14:01:02.311255Z",
     "start_time": "2023-10-24T14:01:02.300430Z"
    }
   },
   "id": "b4bcbd72aecdfc6e"
  },
  {
   "cell_type": "markdown",
   "source": [
    "### Boolean Indexing"
   ],
   "metadata": {
    "collapsed": false
   },
   "id": "a7f0563cf0e946d3"
  },
  {
   "cell_type": "code",
   "execution_count": 6,
   "outputs": [
    {
     "name": "stdout",
     "output_type": "stream",
     "text": [
      "['Bob' 'Joe' 'Will' 'Bob' 'Will' 'Joe' 'Joe']\n"
     ]
    },
    {
     "data": {
      "text/plain": "array([[-0.41765307,  0.16642252, -1.01443907,  0.24613114],\n       [ 0.93850797,  1.33756181,  0.19400611, -0.270929  ],\n       [-0.36605976,  2.21363409, -0.84830494,  1.16587623],\n       [ 0.52558865,  1.06012987, -1.19674594, -1.02976174],\n       [-1.88397647, -1.30169684,  2.20532724,  0.21733426],\n       [ 0.58862774, -0.72100335,  1.03423304, -0.80177878],\n       [ 0.59430347,  1.96790685, -1.64572723,  1.59237027]])"
     },
     "execution_count": 6,
     "metadata": {},
     "output_type": "execute_result"
    }
   ],
   "source": [
    "names = np.array(['Bob', 'Joe', 'Will', 'Bob', 'Will', 'Joe', 'Joe'])\n",
    "data = np.random.randn(7, 4)\n",
    "print(names)\n",
    "data"
   ],
   "metadata": {
    "collapsed": false,
    "ExecuteTime": {
     "end_time": "2023-10-25T13:03:01.212952Z",
     "start_time": "2023-10-25T13:03:01.195713Z"
    }
   },
   "id": "c3ec0b66f40dcb75"
  },
  {
   "cell_type": "code",
   "execution_count": 7,
   "outputs": [
    {
     "data": {
      "text/plain": "array([ True, False, False,  True, False, False, False])"
     },
     "execution_count": 7,
     "metadata": {},
     "output_type": "execute_result"
    }
   ],
   "source": [
    "names == 'Bob'"
   ],
   "metadata": {
    "collapsed": false,
    "ExecuteTime": {
     "end_time": "2023-10-25T13:03:21.497460Z",
     "start_time": "2023-10-25T13:03:21.490497Z"
    }
   },
   "id": "a806465ade0c0d47"
  },
  {
   "cell_type": "code",
   "execution_count": 8,
   "outputs": [
    {
     "data": {
      "text/plain": "array([[-0.41765307,  0.16642252, -1.01443907,  0.24613114],\n       [ 0.52558865,  1.06012987, -1.19674594, -1.02976174]])"
     },
     "execution_count": 8,
     "metadata": {},
     "output_type": "execute_result"
    }
   ],
   "source": [
    "data[names == 'Bob']"
   ],
   "metadata": {
    "collapsed": false,
    "ExecuteTime": {
     "end_time": "2023-10-25T13:03:58.601154Z",
     "start_time": "2023-10-25T13:03:58.591141Z"
    }
   },
   "id": "6f5f9ce9e5b7458a"
  },
  {
   "cell_type": "code",
   "execution_count": 10,
   "outputs": [],
   "source": [
    "import matplotlib.pyplot as plt"
   ],
   "metadata": {
    "collapsed": false,
    "ExecuteTime": {
     "end_time": "2023-10-27T12:50:59.530859Z",
     "start_time": "2023-10-27T12:50:59.111124Z"
    }
   },
   "id": "b23837ebc5612f71"
  },
  {
   "cell_type": "markdown",
   "source": [
    "## Example: Random Walks"
   ],
   "metadata": {
    "collapsed": false
   },
   "id": "7a1ed7d8d60d4a3a"
  },
  {
   "cell_type": "code",
   "execution_count": 9,
   "outputs": [],
   "source": [
    "import random\n",
    "\n",
    "position = 0\n",
    "walk = [position]\n",
    "steps = 1000\n",
    "for i in range(steps):\n",
    "    step = 1 if random.randint(0, 1) else -1\n",
    "    position += step\n",
    "    walk.append(position)"
   ],
   "metadata": {
    "collapsed": false,
    "ExecuteTime": {
     "end_time": "2023-10-27T12:49:00.409982Z",
     "start_time": "2023-10-27T12:49:00.385233Z"
    }
   },
   "id": "f8413999cd0ee512"
  },
  {
   "cell_type": "code",
   "execution_count": 13,
   "outputs": [
    {
     "data": {
      "text/plain": "[<matplotlib.lines.Line2D at 0x13e25e410>]"
     },
     "execution_count": 13,
     "metadata": {},
     "output_type": "execute_result"
    },
    {
     "data": {
      "text/plain": "<Figure size 640x480 with 1 Axes>",
      "image/png": "[encoded data removed]"
     },
     "metadata": {},
     "output_type": "display_data"
    }
   ],
   "source": [
    "plt.figure()\n",
    "plt.plot(walk[:100])"
   ],
   "metadata": {
    "collapsed": false,
    "ExecuteTime": {
     "end_time": "2023-10-27T12:52:01.024574Z",
     "start_time": "2023-10-27T12:52:00.964613Z"
    }
   },
   "id": "588ad7f418514260"
  },
  {
   "cell_type": "code",
   "execution_count": 14,
   "outputs": [],
   "source": [
    "np.random.seed(12345)\n",
    "nsteps = 1000\n",
    "draws = np.random.randint(0, 2, size=nsteps)\n",
    "steps = np.where(draws > 0, 1, -1)\n",
    "walk = steps.cumsum()"
   ],
   "metadata": {
    "collapsed": false,
    "ExecuteTime": {
     "end_time": "2023-10-27T12:52:17.896790Z",
     "start_time": "2023-10-27T12:52:17.888730Z"
    }
   },
   "id": "e4fa28d48a15e356"
  },
  {
   "cell_type": "code",
   "execution_count": 15,
   "outputs": [
    {
     "data": {
      "text/plain": "31"
     },
     "execution_count": 15,
     "metadata": {},
     "output_type": "execute_result"
    }
   ],
   "source": [
    "walk.min()\n",
    "walk.max()"
   ],
   "metadata": {
    "collapsed": false,
    "ExecuteTime": {
     "end_time": "2023-10-27T12:52:25.159287Z",
     "start_time": "2023-10-27T12:52:25.152778Z"
    }
   },
   "id": "71cb158deda2c89b"
  },
  {
   "cell_type": "code",
   "execution_count": 16,
   "outputs": [
    {
     "data": {
      "text/plain": "37"
     },
     "execution_count": 16,
     "metadata": {},
     "output_type": "execute_result"
    }
   ],
   "source": [
    "(np.abs(walk) >= 10).argmax()"
   ],
   "metadata": {
    "collapsed": false,
    "ExecuteTime": {
     "end_time": "2023-10-27T12:52:58.005193Z",
     "start_time": "2023-10-27T12:52:57.998324Z"
    }
   },
   "id": "d933a259ccb14b5e"
  },
  {
   "cell_type": "markdown",
   "source": [
    "### Simulating Many Random Walks at Once"
   ],
   "metadata": {
    "collapsed": false
   },
   "id": "8f729a170649c3bc"
  },
  {
   "cell_type": "code",
   "execution_count": 17,
   "outputs": [
    {
     "data": {
      "text/plain": "array([[  1,   0,   1, ...,   8,   7,   8],\n       [  1,   0,  -1, ...,  34,  33,  32],\n       [  1,   0,  -1, ...,   4,   5,   4],\n       ...,\n       [  1,   2,   1, ...,  24,  25,  26],\n       [  1,   2,   3, ...,  14,  13,  14],\n       [ -1,  -2,  -3, ..., -24, -23, -22]])"
     },
     "execution_count": 17,
     "metadata": {},
     "output_type": "execute_result"
    }
   ],
   "source": [
    "nwalks = 5000\n",
    "nsteps = 1000\n",
    "draws = np.random.randint(0, 2, size=(nwalks, nsteps))  # 0 or 1\n",
    "steps = np.where(draws > 0, 1, -1)\n",
    "walks = steps.cumsum(1)\n",
    "walks"
   ],
   "metadata": {
    "collapsed": false,
    "ExecuteTime": {
     "end_time": "2023-10-27T12:54:13.647528Z",
     "start_time": "2023-10-27T12:54:13.591378Z"
    }
   },
   "id": "a1a34a6159963b60"
  },
  {
   "cell_type": "code",
   "execution_count": null,
   "outputs": [],
   "source": [],
   "metadata": {
    "collapsed": false
   },
   "id": "fd5e1e7028046c15"
  }
 ],
 "metadata": {
  "kernelspec": {
   "display_name": "Python 3",
   "language": "python",
   "name": "python3"
  },
  "language_info": {
   "codemirror_mode": {
    "name": "ipython",
    "version": 2
   },
   "file_extension": ".py",
   "mimetype": "text/x-python",
   "name": "python",
   "nbconvert_exporter": "python",
   "pygments_lexer": "ipython2",
   "version": "2.7.6"
  }
 },
 "nbformat": 4,
 "nbformat_minor": 5
}
