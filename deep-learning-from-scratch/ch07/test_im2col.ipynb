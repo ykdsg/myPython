{
 "cells": [
  {
   "cell_type": "code",
   "id": "initial_id",
   "metadata": {
    "collapsed": true,
    "ExecuteTime": {
     "end_time": "2025-05-23T07:03:18.297873Z",
     "start_time": "2025-05-23T07:03:18.295393Z"
    }
   },
   "source": [
    "from common.util import im2col\n",
    "import numpy as np\n",
    "\n"
   ],
   "outputs": [],
   "execution_count": 3
  },
  {
   "metadata": {
    "ExecuteTime": {
     "end_time": "2025-05-23T10:57:13.451679Z",
     "start_time": "2025-05-23T10:14:26.255282Z"
    }
   },
   "cell_type": "code",
   "source": [
    "shape = (1, 1, 4, 4)\n",
    "# 计算总元素数量\n",
    "total_elements = np.prod(shape)\n",
    "# 生成从1开始的自然数序列并重塑为指定形状\n",
    "x1 = np.arange(1, total_elements + 1).reshape(shape)\n",
    "# x1 = np.random.rand(1, 3, 7, 7)\n",
    "col1 = im2col(x1, 2, 2, stride=1, pad=0)\n",
    "print(col1.shape)"
   ],
   "id": "c7d795dbe32b3e40",
   "outputs": [
    {
     "name": "stdout",
     "output_type": "stream",
     "text": [
      "(9, 4)\n"
     ]
    }
   ],
   "execution_count": 12
  },
  {
   "metadata": {},
   "cell_type": "code",
   "outputs": [],
   "execution_count": null,
   "source": [
    "x2 = np.random.rand(10, 3, 7, 7)  # 10个数据\n",
    "col2 = im2col(x2, 5, 5, stride=1, pad=0)\n",
    "print(col2.shape)  # (90, 75)"
   ],
   "id": "dbee886c0d3f1c8a"
  }
 ],
 "metadata": {
  "kernelspec": {
   "display_name": "Python 3",
   "language": "python",
   "name": "python3"
  },
  "language_info": {
   "codemirror_mode": {
    "name": "ipython",
    "version": 2
   },
   "file_extension": ".py",
   "mimetype": "text/x-python",
   "name": "python",
   "nbconvert_exporter": "python",
   "pygments_lexer": "ipython2",
   "version": "2.7.6"
  }
 },
 "nbformat": 4,
 "nbformat_minor": 5
}
