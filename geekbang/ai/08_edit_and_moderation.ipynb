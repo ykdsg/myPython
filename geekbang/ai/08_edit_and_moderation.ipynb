{
 "cells": [
  {
   "cell_type": "code",
   "execution_count": 6,
   "outputs": [],
   "source": [
    "import openai, load_api_key\n",
    "\n",
    "# load_dotenv()\n",
    "# openai.api_key = os.getenv(\"OPENAI_API_KEY\")"
   ],
   "metadata": {
    "collapsed": false,
    "ExecuteTime": {
     "start_time": "2023-04-20T16:07:07.104352Z",
     "end_time": "2023-04-20T16:07:07.106795Z"
    }
   }
  },
  {
   "cell_type": "markdown",
   "source": [
    "## Inserting Text接口\n",
    "\n",
    "text-davinci-003 这个模型有个特殊的功能，就是“插入文本”（Inserting Text）。某种意义上来说，你也可以通过这个功能来做文本改写。\n",
    "对于插入的内容，需要注意prefix 和 suffix 之间的分隔符，否则生成的内容可能会跟suffix 是粘在一起的，并不是独立的一段话。"
   ],
   "metadata": {
    "collapsed": false
   }
  },
  {
   "cell_type": "code",
   "execution_count": 7,
   "outputs": [
    {
     "name": "stdout",
     "output_type": "stream",
     "text": [
      "另一方面，还有些是因为我们自身的努力而导致的，例如面临极端竞争的职场环境和日益增长的学习压力。\n",
      "\n"
     ]
    }
   ],
   "source": [
    "prefix = \"\"\"在这个快节奏的现代社会中，我们每个人都面临着各种各样的挑战和困难。\n",
    "在这些挑战和困难中，有些是由外部因素引起的，例如经济萧条、全球变暖和自然灾害等。\\n\"\"\"\n",
    "# 还有一些是由内部因素引起的，例如情感问题、健康问题和自我怀疑等。\n",
    "suffix = \"\"\"\\n面对这些挑战和困难，我们需要采取积极的态度和行动来克服它们。\n",
    "这意味着我们必须具备坚韧不拔的意志和创造性思维，以及寻求外部支持的能力。\n",
    "只有这样，我们才能真正地实现自己的潜力并取得成功。\"\"\"\n",
    "\n",
    "\n",
    "def insert_text(prefix, suffix):\n",
    "    response = openai.Completion.create(\n",
    "        model=\"text-davinci-003\",\n",
    "        prompt=prefix,\n",
    "        suffix=suffix,\n",
    "        max_tokens=1024,\n",
    "    )\n",
    "    return response\n",
    "\n",
    "\n",
    "response = insert_text(prefix, suffix)\n",
    "print(response[\"choices\"][0][\"text\"])"
   ],
   "metadata": {
    "collapsed": false,
    "ExecuteTime": {
     "start_time": "2023-04-20T16:07:11.187510Z",
     "end_time": "2023-04-20T16:07:18.539549Z"
    }
   }
  },
  {
   "cell_type": "markdown",
   "source": [
    "## Moderate接口\n",
    "通过对输入内容进行标记的flag 字段，可以对输入内容进行分类，比如是否包含色情、是否包含暴力、是否包含政治等。"
   ],
   "metadata": {
    "collapsed": false
   }
  },
  {
   "cell_type": "code",
   "execution_count": 8,
   "outputs": [
    {
     "name": "stdout",
     "output_type": "stream",
     "text": [
      "我是一个程序，没有实体，也不会感受到疼痛，希望您不要使用暴力。如果您需要帮助，我会尽力提供最好的建议和解决方案。\n"
     ]
    }
   ],
   "source": [
    "def chatgpt(text):\n",
    "    messages = []\n",
    "    messages.append({\"role\": \"system\", \"content\": \"You are a useful AI assistant\"})\n",
    "    messages.append({\"role\": \"user\", \"content\": text})\n",
    "    response = openai.ChatCompletion.create(\n",
    "        model=\"gpt-3.5-turbo\",\n",
    "        messages=messages,\n",
    "        temperature=0.5,\n",
    "        max_tokens=2048,\n",
    "        top_p=1,\n",
    "    )\n",
    "    message = response[\"choices\"][0][\"message\"][\"content\"]\n",
    "    return message\n",
    "\n",
    "\n",
    "threaten = \"你不听我的我就拿刀砍死你\"\n",
    "print(chatgpt(threaten))"
   ],
   "metadata": {
    "collapsed": false,
    "ExecuteTime": {
     "start_time": "2023-04-20T16:07:28.782691Z",
     "end_time": "2023-04-20T16:07:33.387430Z"
    }
   }
  },
  {
   "cell_type": "code",
   "execution_count": 5,
   "outputs": [
    {
     "name": "stdout",
     "output_type": "stream",
     "text": [
      "{\n",
      "  \"categories\": {\n",
      "    \"hate\": false,\n",
      "    \"hate/threatening\": false,\n",
      "    \"self-harm\": false,\n",
      "    \"sexual\": false,\n",
      "    \"sexual/minors\": false,\n",
      "    \"violence\": true,\n",
      "    \"violence/graphic\": false\n",
      "  },\n",
      "  \"category_scores\": {\n",
      "    \"hate\": 0.030033664777874947,\n",
      "    \"hate/threatening\": 0.0002820899826474488,\n",
      "    \"self-harm\": 0.004850226454436779,\n",
      "    \"sexual\": 2.2907377569936216e-05,\n",
      "    \"sexual/minors\": 6.477687275463495e-09,\n",
      "    \"violence\": 0.9996402263641357,\n",
      "    \"violence/graphic\": 4.35576839663554e-05\n",
      "  },\n",
      "  \"flagged\": true\n",
      "}\n"
     ]
    }
   ],
   "source": [
    "hreaten = \"你不听我的我就拿刀砍死你\"\n",
    "\n",
    "\n",
    "def moderation(text):\n",
    "    response = openai.Moderation.create(\n",
    "        input=text\n",
    "    )\n",
    "    output = response[\"results\"][0]\n",
    "    return output\n",
    "\n",
    "\n",
    "print(moderation(threaten))"
   ],
   "metadata": {
    "collapsed": false,
    "ExecuteTime": {
     "start_time": "2023-04-20T14:34:23.476015Z",
     "end_time": "2023-04-20T14:34:24.703944Z"
    }
   }
  },
  {
   "cell_type": "code",
   "execution_count": null,
   "outputs": [],
   "source": [],
   "metadata": {
    "collapsed": false
   }
  }
 ],
 "metadata": {
  "kernelspec": {
   "display_name": "Python 3",
   "language": "python",
   "name": "python3"
  },
  "language_info": {
   "codemirror_mode": {
    "name": "ipython",
    "version": 2
   },
   "file_extension": ".py",
   "mimetype": "text/x-python",
   "name": "python",
   "nbconvert_exporter": "python",
   "pygments_lexer": "ipython2",
   "version": "2.7.6"
  }
 },
 "nbformat": 4,
 "nbformat_minor": 0
}
