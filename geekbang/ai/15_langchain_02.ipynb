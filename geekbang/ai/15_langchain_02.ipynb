{
 "cells": [
  {
   "cell_type": "code",
   "execution_count": 1,
   "outputs": [],
   "source": [
    "import load_api_key\n",
    "from langchain import PromptTemplate, LLMChain, OpenAI"
   ],
   "metadata": {
    "collapsed": false,
    "ExecuteTime": {
     "start_time": "2023-04-24T14:14:00.895983Z",
     "end_time": "2023-04-24T14:14:01.958707Z"
    }
   }
  },
  {
   "cell_type": "markdown",
   "source": [
    "## 通过LLMChain 拿到代码并执行"
   ],
   "metadata": {
    "collapsed": false
   }
  },
  {
   "cell_type": "code",
   "execution_count": 2,
   "outputs": [
    {
     "name": "stdout",
     "output_type": "stream",
     "text": [
      "173536\n",
      "\n"
     ]
    }
   ],
   "source": [
    "llm = OpenAI(model_name=\"text-davinci-003\", max_tokens=2048, temperature=0.5)\n",
    "multiply_by_python_prompt = PromptTemplate(template=\"请写一段Python代码，计算{question}?\", input_variables=[\"question\"])\n",
    "math_chain = LLMChain(llm=llm, prompt=multiply_by_python_prompt, output_key=\"answer\")\n",
    "answer_code = math_chain.run({\"question\": \"352乘以493\"})\n",
    "\n",
    "from langchain.utilities import PythonREPL\n",
    "\n",
    "python_repl = PythonREPL()\n",
    "result = python_repl.run(answer_code)\n",
    "print(result)"
   ],
   "metadata": {
    "collapsed": false,
    "ExecuteTime": {
     "start_time": "2023-04-24T14:16:23.475208Z",
     "end_time": "2023-04-24T14:16:26.432427Z"
    }
   }
  },
  {
   "cell_type": "markdown",
   "source": [
    "## 通过LLMMathChain算算术\n",
    "gpt不擅长算术，但是可以通过LLMMathChain算算术"
   ],
   "metadata": {
    "collapsed": false
   }
  },
  {
   "cell_type": "code",
   "execution_count": null,
   "outputs": [],
   "source": [
    "from langchain import LLMMathChain\n",
    "\n",
    "llm_math = LLMMathChain(llm=llm, verbose=True)\n",
    "result = llm_math.run(\"请计算一下352乘以493是多少?\")\n",
    "print(result)"
   ],
   "metadata": {
    "collapsed": false
   }
  },
  {
   "cell_type": "markdown",
   "source": [
    "## 通过Google搜索查天气"
   ],
   "metadata": {
    "collapsed": false
   }
  },
  {
   "cell_type": "code",
   "execution_count": 9,
   "outputs": [
    {
     "name": "stdout",
     "output_type": "stream",
     "text": [
      "{'query': '今天上海的天气怎么样？', 'url': 'https://www.google.com/search?q=今天上海的天气怎么样？', 'output': ' 今天上海的天气为阴天，最高气温15℃，最低气温17℃，风力4-5级，最大降水机会为60%。'}\n",
      " 今天上海的天气为阴天，最高气温15℃，最低气温17℃，风力4-5级，最大降水机会为60%。\n"
     ]
    }
   ],
   "source": [
    "from langchain.chains import LLMRequestsChain\n",
    "\n",
    "template = \"\"\"在 >>> 和 <<< 直接是来自Google的原始搜索结果.\n",
    "请把对于问题 '{query}' 的答案从里面提取出来，如果里面没有相关信息的话就说 \"找不到\"\n",
    "如果有温度的话，请使用摄氏单位转换。\n",
    "请使用如下格式：\n",
    "Extracted:<answer or \"找不到\">\n",
    ">>> {requests_result} <<<\n",
    "Extracted:\"\"\"\n",
    "\n",
    "PROMPT = PromptTemplate(\n",
    "    input_variables=[\"query\", \"requests_result\"],\n",
    "    template=template,\n",
    ")\n",
    "requests_chain = LLMRequestsChain(llm_chain=LLMChain(llm=OpenAI(temperature=0), prompt=PROMPT))\n",
    "question = \"今天上海的天气怎么样？\"\n",
    "inputs = {\n",
    "    \"query\": question,\n",
    "    \"url\": \"https://www.google.com/search?q=\" + question.replace(\" \", \"+\")\n",
    "}\n",
    "result = requests_chain(inputs)\n",
    "print(result)\n",
    "print(result['output'])"
   ],
   "metadata": {
    "collapsed": false,
    "ExecuteTime": {
     "start_time": "2023-04-24T14:56:26.600268Z",
     "end_time": "2023-04-24T14:56:34.998846Z"
    }
   }
  },
  {
   "cell_type": "markdown",
   "source": [
    "## 通过TransformChain运行自定义函数"
   ],
   "metadata": {
    "collapsed": false
   }
  },
  {
   "cell_type": "code",
   "execution_count": null,
   "outputs": [],
   "source": [
    "import re\n",
    "\n",
    "\n",
    "def parse_weather_info(weather_info) -> dict:\n",
    "    # 将天气信息拆分成不同部分\n",
    "    parts = weather_info.split('，')\n",
    "\n",
    "    # 解析天气\n",
    "    weather = parts[0].strip()\n",
    "\n",
    "    # 解析温度范围，并提取最小和最大温度\n",
    "    temperature_range = parts[1].strip().replace('°C', '').split('～')\n",
    "    temperature_min = int(temperature_range[0])\n",
    "    temperature_max = int(temperature_range[1])\n",
    "\n",
    "    # 解析风向和风力\n",
    "    wind_parts = parts[2].split(' ')\n",
    "    wind_direction = wind_parts[0].strip()\n",
    "    wind_force = wind_parts[1].strip()\n",
    "    weather_dict = {\n",
    "        'weather': weather,\n",
    "        'temperature': {\n",
    "            'min': temperature_min,\n",
    "            'max': temperature_max,\n",
    "        },\n",
    "        'wind': {\n",
    "            'direction': wind_direction,\n",
    "            'level': wind_force\n",
    "        }\n",
    "    }\n",
    "    return weather_dict\n",
    "\n",
    "\n",
    "weather_dict = parse_weather_info(result['output'])\n",
    "print(weather_dict)"
   ],
   "metadata": {
    "collapsed": false
   }
  },
  {
   "cell_type": "markdown",
   "source": [
    "## 通过VectorDBQA做问答"
   ],
   "metadata": {
    "collapsed": false
   }
  },
  {
   "cell_type": "code",
   "execution_count": 10,
   "outputs": [
    {
     "ename": "FileNotFoundError",
     "evalue": "[Errno 2] No such file or directory: './data/ecommerce_faq.txt'",
     "output_type": "error",
     "traceback": [
      "\u001B[0;31m---------------------------------------------------------------------------\u001B[0m",
      "\u001B[0;31mFileNotFoundError\u001B[0m                         Traceback (most recent call last)",
      "Cell \u001B[0;32mIn[10], line 9\u001B[0m\n\u001B[1;32m      7\u001B[0m llm \u001B[38;5;241m=\u001B[39m OpenAI(temperature\u001B[38;5;241m=\u001B[39m\u001B[38;5;241m0\u001B[39m)\n\u001B[1;32m      8\u001B[0m loader \u001B[38;5;241m=\u001B[39m TextLoader(\u001B[38;5;124m'\u001B[39m\u001B[38;5;124m./data/ecommerce_faq.txt\u001B[39m\u001B[38;5;124m'\u001B[39m)\n\u001B[0;32m----> 9\u001B[0m documents \u001B[38;5;241m=\u001B[39m \u001B[43mloader\u001B[49m\u001B[38;5;241;43m.\u001B[39;49m\u001B[43mload\u001B[49m\u001B[43m(\u001B[49m\u001B[43m)\u001B[49m\n\u001B[1;32m     10\u001B[0m text_splitter \u001B[38;5;241m=\u001B[39m SpacyTextSplitter(chunk_size\u001B[38;5;241m=\u001B[39m\u001B[38;5;241m256\u001B[39m, pipeline\u001B[38;5;241m=\u001B[39m\u001B[38;5;124m\"\u001B[39m\u001B[38;5;124mzh_core_web_sm\u001B[39m\u001B[38;5;124m\"\u001B[39m)\n\u001B[1;32m     11\u001B[0m texts \u001B[38;5;241m=\u001B[39m text_splitter\u001B[38;5;241m.\u001B[39msplit_documents(documents)\n",
      "File \u001B[0;32m~/miniforge3/envs/SmartInvest/lib/python3.11/site-packages/langchain/document_loaders/text.py:17\u001B[0m, in \u001B[0;36mTextLoader.load\u001B[0;34m(self)\u001B[0m\n\u001B[1;32m     15\u001B[0m \u001B[38;5;28;01mdef\u001B[39;00m \u001B[38;5;21mload\u001B[39m(\u001B[38;5;28mself\u001B[39m) \u001B[38;5;241m-\u001B[39m\u001B[38;5;241m>\u001B[39m List[Document]:\n\u001B[1;32m     16\u001B[0m \u001B[38;5;250m    \u001B[39m\u001B[38;5;124;03m\"\"\"Load from file path.\"\"\"\u001B[39;00m\n\u001B[0;32m---> 17\u001B[0m     \u001B[38;5;28;01mwith\u001B[39;00m \u001B[38;5;28;43mopen\u001B[39;49m\u001B[43m(\u001B[49m\u001B[38;5;28;43mself\u001B[39;49m\u001B[38;5;241;43m.\u001B[39;49m\u001B[43mfile_path\u001B[49m\u001B[43m,\u001B[49m\u001B[43m \u001B[49m\u001B[43mencoding\u001B[49m\u001B[38;5;241;43m=\u001B[39;49m\u001B[38;5;28;43mself\u001B[39;49m\u001B[38;5;241;43m.\u001B[39;49m\u001B[43mencoding\u001B[49m\u001B[43m)\u001B[49m \u001B[38;5;28;01mas\u001B[39;00m f:\n\u001B[1;32m     18\u001B[0m         text \u001B[38;5;241m=\u001B[39m f\u001B[38;5;241m.\u001B[39mread()\n\u001B[1;32m     19\u001B[0m     metadata \u001B[38;5;241m=\u001B[39m {\u001B[38;5;124m\"\u001B[39m\u001B[38;5;124msource\u001B[39m\u001B[38;5;124m\"\u001B[39m: \u001B[38;5;28mself\u001B[39m\u001B[38;5;241m.\u001B[39mfile_path}\n",
      "\u001B[0;31mFileNotFoundError\u001B[0m: [Errno 2] No such file or directory: './data/ecommerce_faq.txt'"
     ]
    }
   ],
   "source": [
    "from langchain.embeddings.openai import OpenAIEmbeddings\n",
    "from langchain.vectorstores import FAISS\n",
    "from langchain.text_splitter import SpacyTextSplitter\n",
    "from langchain import OpenAI, VectorDBQA\n",
    "from langchain.document_loaders import TextLoader\n",
    "\n",
    "llm = OpenAI(temperature=0)\n",
    "loader = TextLoader('./data/ecommerce_faq.txt')\n",
    "documents = loader.load()\n",
    "# 通过 SpacyTextSplitter 将文档分段，确保每个分出来的 Document 都是一个完整的句子。\n",
    "text_splitter = SpacyTextSplitter(chunk_size=256, pipeline=\"zh_core_web_sm\")\n",
    "texts = text_splitter.split_documents(documents)\n",
    "\n",
    "embeddings = OpenAIEmbeddings()\n",
    "docsearch = FAISS.from_documents(texts, embeddings)\n",
    "\n",
    "# 通过 VectorDBQA 的 from_chain_type 定义了一个 LLM。\n",
    "faq_chain = VectorDBQA.from_chain_type(llm=llm, vectorstore=docsearch, verbose=True)"
   ],
   "metadata": {
    "collapsed": false
   }
  },
  {
   "cell_type": "code",
   "execution_count": null,
   "outputs": [],
   "source": [],
   "metadata": {
    "collapsed": false
   }
  }
 ],
 "metadata": {
  "kernelspec": {
   "display_name": "Python 3",
   "language": "python",
   "name": "python3"
  },
  "language_info": {
   "codemirror_mode": {
    "name": "ipython",
    "version": 2
   },
   "file_extension": ".py",
   "mimetype": "text/x-python",
   "name": "python",
   "nbconvert_exporter": "python",
   "pygments_lexer": "ipython2",
   "version": "2.7.6"
  }
 },
 "nbformat": 4,
 "nbformat_minor": 0
}
