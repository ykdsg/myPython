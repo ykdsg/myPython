{
 "cells": [
  {
   "cell_type": "code",
   "execution_count": 1,
   "metadata": {},
   "outputs": [],
   "source": [
    "import pandas as pd\n",
    "import numpy as np\n",
    "import matplotlib.pyplot as plt"
   ]
  },
  {
   "cell_type": "markdown",
   "source": [
    "## 第一章 预备知识\n",
    "\n",
    "### Ex1：利用列表推导式写矩阵乘法"
   ],
   "metadata": {
    "collapsed": false
   }
  },
  {
   "cell_type": "code",
   "execution_count": 3,
   "outputs": [
    {
     "data": {
      "text/plain": "True"
     },
     "execution_count": 3,
     "metadata": {},
     "output_type": "execute_result"
    }
   ],
   "source": [
    "M1 = np.random.rand(2, 3)\n",
    "M2 = np.random.rand(3, 4)\n",
    "res = [[sum([M1[i][k] * M2[k][j] for k in range(M1.shape[1])]) for j in range(M2.shape[1])] for i in range(M1.shape[0])]\n",
    "(np.abs((M1 @ M2 - res) < 1e-15)).all()"
   ],
   "metadata": {
    "collapsed": false
   }
  },
  {
   "cell_type": "markdown",
   "source": [
    "### Ex2：更新矩阵\n"
   ],
   "metadata": {
    "collapsed": false
   }
  },
  {
   "cell_type": "code",
   "execution_count": 10,
   "outputs": [
    {
     "data": {
      "text/plain": "array([[1.83333333, 3.66666667, 5.5       ],\n       [2.46666667, 3.08333333, 3.7       ],\n       [2.65277778, 3.03174603, 3.41071429]])"
     },
     "execution_count": 10,
     "metadata": {},
     "output_type": "execute_result"
    }
   ],
   "source": [
    "A = np.arange(1, 10).reshape(3, -1)\n",
    "B = A * (1 / A).sum(1).reshape(-1, 1)\n",
    "B"
   ],
   "metadata": {
    "collapsed": false
   }
  },
  {
   "cell_type": "markdown",
   "source": [
    "### Ex3：卡方统计量"
   ],
   "metadata": {
    "collapsed": false
   }
  },
  {
   "cell_type": "code",
   "execution_count": 19,
   "outputs": [
    {
     "data": {
      "text/plain": "11.842696601945802"
     },
     "execution_count": 19,
     "metadata": {},
     "output_type": "execute_result"
    }
   ],
   "source": [
    "np.random.seed(0)\n",
    "A = np.random.randint(10, 20, (8, 5))\n",
    "B = A.sum(0) * A.sum(1).reshape(-1, 1) / A.sum()\n",
    "res = ((A - B) ** 2 / B).sum()\n",
    "res"
   ],
   "metadata": {
    "collapsed": false
   }
  },
  {
   "cell_type": "markdown",
   "source": [
    "## 第二章 pandas基础\n",
    "### Ex1：口袋妖怪数据集\n",
    "#### 1."
   ],
   "metadata": {
    "collapsed": false
   }
  },
  {
   "cell_type": "code",
   "execution_count": 15,
   "metadata": {},
   "outputs": [
    {
     "data": {
      "text/plain": "   #       Name Type 1  Type 2  Total  HP  Attack  Defense  Sp. Atk  Sp. Def  \\\n0  1  Bulbasaur  Grass  Poison    318  45      49       49       65       65   \n1  2    Ivysaur  Grass  Poison    405  60      62       63       80       80   \n2  3   Venusaur  Grass  Poison    525  80      82       83      100      100   \n\n   Speed  \n0     45  \n1     60  \n2     80  ",
      "text/html": "<div>\n<style scoped>\n    .dataframe tbody tr th:only-of-type {\n        vertical-align: middle;\n    }\n\n    .dataframe tbody tr th {\n        vertical-align: top;\n    }\n\n    .dataframe thead th {\n        text-align: right;\n    }\n</style>\n<table border=\"1\" class=\"dataframe\">\n  <thead>\n    <tr style=\"text-align: right;\">\n      <th></th>\n      <th>#</th>\n      <th>Name</th>\n      <th>Type 1</th>\n      <th>Type 2</th>\n      <th>Total</th>\n      <th>HP</th>\n      <th>Attack</th>\n      <th>Defense</th>\n      <th>Sp. Atk</th>\n      <th>Sp. Def</th>\n      <th>Speed</th>\n    </tr>\n  </thead>\n  <tbody>\n    <tr>\n      <th>0</th>\n      <td>1</td>\n      <td>Bulbasaur</td>\n      <td>Grass</td>\n      <td>Poison</td>\n      <td>318</td>\n      <td>45</td>\n      <td>49</td>\n      <td>49</td>\n      <td>65</td>\n      <td>65</td>\n      <td>45</td>\n    </tr>\n    <tr>\n      <th>1</th>\n      <td>2</td>\n      <td>Ivysaur</td>\n      <td>Grass</td>\n      <td>Poison</td>\n      <td>405</td>\n      <td>60</td>\n      <td>62</td>\n      <td>63</td>\n      <td>80</td>\n      <td>80</td>\n      <td>60</td>\n    </tr>\n    <tr>\n      <th>2</th>\n      <td>3</td>\n      <td>Venusaur</td>\n      <td>Grass</td>\n      <td>Poison</td>\n      <td>525</td>\n      <td>80</td>\n      <td>82</td>\n      <td>83</td>\n      <td>100</td>\n      <td>100</td>\n      <td>80</td>\n    </tr>\n  </tbody>\n</table>\n</div>"
     },
     "execution_count": 15,
     "metadata": {},
     "output_type": "execute_result"
    }
   ],
   "source": [
    "# Ex1：口袋妖怪数据集\n",
    "# 1.对HP, Attack, Defense, Sp. Atk, Sp. Def, Speed进行加总，验证是否为Total值。\n",
    "df = pd.read_csv('./data/Pokemon.csv')\n",
    "df.head(3)"
   ]
  },
  {
   "cell_type": "code",
   "execution_count": 16,
   "metadata": {},
   "outputs": [
    {
     "data": {
      "text/plain": "0.0"
     },
     "execution_count": 16,
     "metadata": {},
     "output_type": "execute_result"
    }
   ],
   "source": [
    "(df[['HP', 'Attack', 'Defense', 'Sp. Atk', 'Sp. Def', 'Speed']].sum(1) != df['Total']).mean()"
   ]
  },
  {
   "cell_type": "code",
   "execution_count": 17,
   "outputs": [],
   "source": [
    "# 2.对于#重复的妖怪只保留第一条记录\n",
    "dp_dup = df.drop_duplicates(['#'], keep='first')"
   ],
   "metadata": {
    "collapsed": false
   }
  },
  {
   "cell_type": "code",
   "execution_count": 18,
   "outputs": [
    {
     "data": {
      "text/plain": "18"
     },
     "execution_count": 18,
     "metadata": {},
     "output_type": "execute_result"
    }
   ],
   "source": [
    "# 求第一属性的种类数量和前三多数量对应的种类\n",
    "dp_dup['Type 1'].nunique()"
   ],
   "metadata": {
    "collapsed": false
   }
  },
  {
   "cell_type": "code",
   "execution_count": 19,
   "outputs": [
    {
     "data": {
      "text/plain": "Index(['Water', 'Normal', 'Grass'], dtype='object')"
     },
     "execution_count": 19,
     "metadata": {},
     "output_type": "execute_result"
    }
   ],
   "source": [
    "dp_dup['Type 1'].value_counts().index[:3]"
   ],
   "metadata": {
    "collapsed": false
   }
  },
  {
   "cell_type": "code",
   "execution_count": 22,
   "outputs": [
    {
     "data": {
      "text/plain": "       #                 Name   Type 1  Type 2  Total  HP  Attack  Defense  \\\n0      1            Bulbasaur    Grass  Poison    318  45      49       49   \n4      4           Charmander     Fire     NaN    309  39      52       43   \n6      6            Charizard     Fire  Flying    534  78      84       78   \n9      7             Squirtle    Water     NaN    314  44      48       65   \n13    10             Caterpie      Bug     NaN    195  45      30       35   \n..   ...                  ...      ...     ...    ...  ..     ...      ...   \n773  703              Carbink     Rock   Fairy    500  50      50      150   \n778  708             Phantump    Ghost   Grass    309  43      70       48   \n790  714               Noibat   Flying  Dragon    245  40      30       35   \n797  720  HoopaHoopa Confined  Psychic   Ghost    600  80     110       60   \n799  721            Volcanion     Fire   Water    600  80     110      120   \n\n     Sp. Atk  Sp. Def  Speed  \n0         65       65     45  \n4         60       50     65  \n6        109       85    100  \n9         50       64     43  \n13        20       20     45  \n..       ...      ...    ...  \n773       50      150     50  \n778       50       60     38  \n790       45       40     55  \n797      150      130     70  \n799      130       90     70  \n\n[143 rows x 11 columns]",
      "text/html": "<div>\n<style scoped>\n    .dataframe tbody tr th:only-of-type {\n        vertical-align: middle;\n    }\n\n    .dataframe tbody tr th {\n        vertical-align: top;\n    }\n\n    .dataframe thead th {\n        text-align: right;\n    }\n</style>\n<table border=\"1\" class=\"dataframe\">\n  <thead>\n    <tr style=\"text-align: right;\">\n      <th></th>\n      <th>#</th>\n      <th>Name</th>\n      <th>Type 1</th>\n      <th>Type 2</th>\n      <th>Total</th>\n      <th>HP</th>\n      <th>Attack</th>\n      <th>Defense</th>\n      <th>Sp. Atk</th>\n      <th>Sp. Def</th>\n      <th>Speed</th>\n    </tr>\n  </thead>\n  <tbody>\n    <tr>\n      <th>0</th>\n      <td>1</td>\n      <td>Bulbasaur</td>\n      <td>Grass</td>\n      <td>Poison</td>\n      <td>318</td>\n      <td>45</td>\n      <td>49</td>\n      <td>49</td>\n      <td>65</td>\n      <td>65</td>\n      <td>45</td>\n    </tr>\n    <tr>\n      <th>4</th>\n      <td>4</td>\n      <td>Charmander</td>\n      <td>Fire</td>\n      <td>NaN</td>\n      <td>309</td>\n      <td>39</td>\n      <td>52</td>\n      <td>43</td>\n      <td>60</td>\n      <td>50</td>\n      <td>65</td>\n    </tr>\n    <tr>\n      <th>6</th>\n      <td>6</td>\n      <td>Charizard</td>\n      <td>Fire</td>\n      <td>Flying</td>\n      <td>534</td>\n      <td>78</td>\n      <td>84</td>\n      <td>78</td>\n      <td>109</td>\n      <td>85</td>\n      <td>100</td>\n    </tr>\n    <tr>\n      <th>9</th>\n      <td>7</td>\n      <td>Squirtle</td>\n      <td>Water</td>\n      <td>NaN</td>\n      <td>314</td>\n      <td>44</td>\n      <td>48</td>\n      <td>65</td>\n      <td>50</td>\n      <td>64</td>\n      <td>43</td>\n    </tr>\n    <tr>\n      <th>13</th>\n      <td>10</td>\n      <td>Caterpie</td>\n      <td>Bug</td>\n      <td>NaN</td>\n      <td>195</td>\n      <td>45</td>\n      <td>30</td>\n      <td>35</td>\n      <td>20</td>\n      <td>20</td>\n      <td>45</td>\n    </tr>\n    <tr>\n      <th>...</th>\n      <td>...</td>\n      <td>...</td>\n      <td>...</td>\n      <td>...</td>\n      <td>...</td>\n      <td>...</td>\n      <td>...</td>\n      <td>...</td>\n      <td>...</td>\n      <td>...</td>\n      <td>...</td>\n    </tr>\n    <tr>\n      <th>773</th>\n      <td>703</td>\n      <td>Carbink</td>\n      <td>Rock</td>\n      <td>Fairy</td>\n      <td>500</td>\n      <td>50</td>\n      <td>50</td>\n      <td>150</td>\n      <td>50</td>\n      <td>150</td>\n      <td>50</td>\n    </tr>\n    <tr>\n      <th>778</th>\n      <td>708</td>\n      <td>Phantump</td>\n      <td>Ghost</td>\n      <td>Grass</td>\n      <td>309</td>\n      <td>43</td>\n      <td>70</td>\n      <td>48</td>\n      <td>50</td>\n      <td>60</td>\n      <td>38</td>\n    </tr>\n    <tr>\n      <th>790</th>\n      <td>714</td>\n      <td>Noibat</td>\n      <td>Flying</td>\n      <td>Dragon</td>\n      <td>245</td>\n      <td>40</td>\n      <td>30</td>\n      <td>35</td>\n      <td>45</td>\n      <td>40</td>\n      <td>55</td>\n    </tr>\n    <tr>\n      <th>797</th>\n      <td>720</td>\n      <td>HoopaHoopa Confined</td>\n      <td>Psychic</td>\n      <td>Ghost</td>\n      <td>600</td>\n      <td>80</td>\n      <td>110</td>\n      <td>60</td>\n      <td>150</td>\n      <td>130</td>\n      <td>70</td>\n    </tr>\n    <tr>\n      <th>799</th>\n      <td>721</td>\n      <td>Volcanion</td>\n      <td>Fire</td>\n      <td>Water</td>\n      <td>600</td>\n      <td>80</td>\n      <td>110</td>\n      <td>120</td>\n      <td>130</td>\n      <td>90</td>\n      <td>70</td>\n    </tr>\n  </tbody>\n</table>\n<p>143 rows × 11 columns</p>\n</div>"
     },
     "execution_count": 22,
     "metadata": {},
     "output_type": "execute_result"
    }
   ],
   "source": [
    "# 求第一属性和第二属性的组合种类\n",
    "attr_dup = dp_dup.drop_duplicates(['Type 1', 'Type 2'])  # 重复记录只保留第一条\n",
    "attr_dup.shape[0]  # 行数"
   ],
   "metadata": {
    "collapsed": false
   }
  },
  {
   "cell_type": "code",
   "execution_count": 26,
   "outputs": [
    {
     "data": {
      "text/plain": "170"
     },
     "execution_count": 26,
     "metadata": {},
     "output_type": "execute_result"
    }
   ],
   "source": [
    "# 求尚未出现过的属性组合，因为Type2 可能为空，所以这里j 要从Type 1 迭代\n",
    "L_full = [i + ' ' + j if i != j else i for i in df['Type 1'].unique() for j in df['Type 1'].unique()]\n",
    "# zip创建了一个迭代器，将这两列数据中的元素成对地聚合起来。\n",
    "L_part = [i + ' ' + j if not isinstance(j, float) else i for i, j in zip(df['Type 1'], df['Type 2'])]\n",
    "res = set(L_full).difference(set(L_part))\n",
    "len(res)  # 太多，不打印了"
   ],
   "metadata": {
    "collapsed": false
   }
  },
  {
   "cell_type": "code",
   "execution_count": 52,
   "outputs": [
    {
     "data": {
      "text/plain": "0    low\n1    mid\n2    mid\n3    mid\n4    mid\nName: Attack, dtype: object"
     },
     "execution_count": 52,
     "metadata": {},
     "output_type": "execute_result"
    }
   ],
   "source": [
    "# 3.按照下述要求，构造Series：\n",
    "# 取出物攻，超过120的替换为high，不足50的替换为low，否则设为mid\n",
    "df['Attack'].mask(df['Attack'] > 120, 'high').mask(df['Attack'] < 50, 'low').mask(\n",
    "    (50 <= df['Attack']) & (df['Attack'] <= 120), 'mid').head()"
   ],
   "metadata": {
    "collapsed": false
   }
  },
  {
   "cell_type": "code",
   "execution_count": 55,
   "outputs": [
    {
     "data": {
      "text/plain": "0    GRASS\n1    GRASS\n2    GRASS\n3    GRASS\n4     FIRE\nName: Type 1, dtype: object"
     },
     "execution_count": 55,
     "metadata": {},
     "output_type": "execute_result"
    }
   ],
   "source": [
    "# 取出第一属性，分别用replace和apply替换所有字母为大写\n",
    "df['Type 1'].replace({i: str.upper(i) for i in df['Type 1'].unique()})\n",
    "df['Type 1'].apply(lambda x: str.upper(x)).head()"
   ],
   "metadata": {
    "collapsed": false
   }
  },
  {
   "cell_type": "code",
   "execution_count": 63,
   "outputs": [
    {
     "data": {
      "text/plain": "       #                 Name  Type 1  Type 2  Total   HP  Attack  Defense  \\\n121  113              Chansey  Normal     NaN    450  250       5        5   \n261  242              Blissey  Normal     NaN    540  255      10       10   \n230  213              Shuckle     Bug    Rock    505   20      10      230   \n224  208  SteelixMega Steelix   Steel  Ground    610   75     125      230   \n333  306    AggronMega Aggron   Steel     NaN    630   70     140      230   \n\n     Sp. Atk  Sp. Def  Speed   Deviation  \n121       35      105     50  175.000000  \n261       75      135     55  165.000000  \n230       10      230      5  145.833333  \n224       55       95     30  128.333333  \n333       60       80     50  125.000000  ",
      "text/html": "<div>\n<style scoped>\n    .dataframe tbody tr th:only-of-type {\n        vertical-align: middle;\n    }\n\n    .dataframe tbody tr th {\n        vertical-align: top;\n    }\n\n    .dataframe thead th {\n        text-align: right;\n    }\n</style>\n<table border=\"1\" class=\"dataframe\">\n  <thead>\n    <tr style=\"text-align: right;\">\n      <th></th>\n      <th>#</th>\n      <th>Name</th>\n      <th>Type 1</th>\n      <th>Type 2</th>\n      <th>Total</th>\n      <th>HP</th>\n      <th>Attack</th>\n      <th>Defense</th>\n      <th>Sp. Atk</th>\n      <th>Sp. Def</th>\n      <th>Speed</th>\n      <th>Deviation</th>\n    </tr>\n  </thead>\n  <tbody>\n    <tr>\n      <th>121</th>\n      <td>113</td>\n      <td>Chansey</td>\n      <td>Normal</td>\n      <td>NaN</td>\n      <td>450</td>\n      <td>250</td>\n      <td>5</td>\n      <td>5</td>\n      <td>35</td>\n      <td>105</td>\n      <td>50</td>\n      <td>175.000000</td>\n    </tr>\n    <tr>\n      <th>261</th>\n      <td>242</td>\n      <td>Blissey</td>\n      <td>Normal</td>\n      <td>NaN</td>\n      <td>540</td>\n      <td>255</td>\n      <td>10</td>\n      <td>10</td>\n      <td>75</td>\n      <td>135</td>\n      <td>55</td>\n      <td>165.000000</td>\n    </tr>\n    <tr>\n      <th>230</th>\n      <td>213</td>\n      <td>Shuckle</td>\n      <td>Bug</td>\n      <td>Rock</td>\n      <td>505</td>\n      <td>20</td>\n      <td>10</td>\n      <td>230</td>\n      <td>10</td>\n      <td>230</td>\n      <td>5</td>\n      <td>145.833333</td>\n    </tr>\n    <tr>\n      <th>224</th>\n      <td>208</td>\n      <td>SteelixMega Steelix</td>\n      <td>Steel</td>\n      <td>Ground</td>\n      <td>610</td>\n      <td>75</td>\n      <td>125</td>\n      <td>230</td>\n      <td>55</td>\n      <td>95</td>\n      <td>30</td>\n      <td>128.333333</td>\n    </tr>\n    <tr>\n      <th>333</th>\n      <td>306</td>\n      <td>AggronMega Aggron</td>\n      <td>Steel</td>\n      <td>NaN</td>\n      <td>630</td>\n      <td>70</td>\n      <td>140</td>\n      <td>230</td>\n      <td>60</td>\n      <td>80</td>\n      <td>50</td>\n      <td>125.000000</td>\n    </tr>\n  </tbody>\n</table>\n</div>"
     },
     "execution_count": 63,
     "metadata": {},
     "output_type": "execute_result"
    }
   ],
   "source": [
    "# 求每个妖怪六项能力的离差，即所有能力中偏离中位数最大的值，添加到df并从大到小排序\n",
    "df['Deviation'] = df[['HP', 'Attack', 'Defense', 'Sp. Atk', 'Sp. Def', 'Speed']].apply(\n",
    "    lambda x: np.max((x - x.mean()).abs()), 1)\n",
    "df.sort_values('Deviation', ascending=False).head()"
   ],
   "metadata": {
    "collapsed": false
   }
  },
  {
   "cell_type": "markdown",
   "source": [
    "### Ex2：指数加权窗口\n",
    "#### 1."
   ],
   "metadata": {
    "collapsed": false
   }
  },
  {
   "cell_type": "code",
   "execution_count": 64,
   "outputs": [
    {
     "data": {
      "text/plain": "0   -1\n1   -1\n2   -2\n3   -2\n4   -2\ndtype: int64"
     },
     "execution_count": 64,
     "metadata": {},
     "output_type": "execute_result"
    }
   ],
   "source": [
    "#  作为扩张窗口的ewm窗口\n",
    "np.random.seed(0)\n",
    "s = pd.Series(np.random.randint(-1, 2, 30).cumsum())\n",
    "s.head()"
   ],
   "metadata": {
    "collapsed": false
   }
  },
  {
   "cell_type": "code",
   "execution_count": 67,
   "outputs": [
    {
     "data": {
      "text/plain": "0    -1.000000\n1    -1.000000\n2    -1.409836\n3    -1.609756\n4    -1.725845\n5    -1.529101\n6    -1.648273\n7    -1.492481\n8    -1.609720\n9    -1.921223\n10   -2.376048\n11   -2.510047\n12   -2.613738\n13   -2.485343\n14   -2.177441\n15   -2.140925\n16   -2.112091\n17   -2.089261\n18   -2.071148\n19   -2.056753\n20   -2.247158\n21   -2.398846\n22   -2.720978\n23   -3.178945\n24   -3.544537\n25   -3.635906\n26   -3.909386\n27   -3.927544\n28   -4.142368\n29   -4.314107\ndtype: float64"
     },
     "execution_count": 67,
     "metadata": {},
     "output_type": "execute_result"
    }
   ],
   "source": [
    "def ewm_func(x, alpha=0.2):\n",
    "    # np.arange(x.shape[0])[::-1] 生成了一个长度为x数组长度的序列，然后将该序列反转。\n",
    "    # 加权窗口使用公式(1-alpha)**n，其中n是上述反转的序列，代表序列中每个元素距离当前值的位置\n",
    "    win = (1 - alpha) ** np.arange(x.shape[0])[::-1]\n",
    "    res = (win * x).sum() / win.sum()\n",
    "    return res\n",
    "\n",
    "\n",
    "s.expanding().apply(lambda x: ewm_func(x))"
   ],
   "metadata": {
    "collapsed": false
   }
  },
  {
   "cell_type": "markdown",
   "source": [
    "#### 作为滑动窗口的ewm窗口\n",
    "从第1问中可以看到，ewm作为一种扩张窗口的特例，只能从序列的第一个元素开始加权。现在希望给定一个限制窗口n，只对包含自身的最近的n个元素作为窗口进行滑动加权平滑。请根据滑窗函数，给出新的wi与yt的更新公式，并通过rolling窗口实现这一功能。\n",
    "\n",
    "新的权重为$w_i = (1 - \\alpha)^i, i\\in \\{0,1,...,n-1\\}$，$y_t$更新如下：\n",
    "$$\n",
    "\\begin{split}y_t &=\\frac{\\sum_{i=0}^{n-1} w_i x_{t-i}}{\\sum_{i=0}^{n-1} w_i} \\\\\n",
    "&=\\frac{x_t + (1 - \\alpha)x_{t-1} + (1 - \\alpha)^2 x_{t-2} + ...\n",
    "+ (1 - \\alpha)^{n-1} x_{t-(n-1)}}{1 + (1 - \\alpha) + (1 - \\alpha)^2 + ...\n",
    "+ (1 - \\alpha)^{n-1}}\\\\\\end{split}\n",
    "$$\n"
   ],
   "metadata": {
    "collapsed": false
   }
  },
  {
   "cell_type": "code",
   "execution_count": 68,
   "outputs": [
    {
     "data": {
      "text/plain": "0         NaN\n1         NaN\n2         NaN\n3   -1.609756\n4   -1.826558\ndtype: float64"
     },
     "execution_count": 68,
     "metadata": {},
     "output_type": "execute_result"
    }
   ],
   "source": [
    "s.rolling(window=4).apply(ewm_func).head()  # 无需对原函数改动"
   ],
   "metadata": {
    "collapsed": false
   }
  },
  {
   "cell_type": "markdown",
   "source": [
    "## 第三章 索引\n",
    "### Ex1：公司员工数据集"
   ],
   "metadata": {
    "collapsed": false
   }
  },
  {
   "cell_type": "code",
   "execution_count": 21,
   "outputs": [
    {
     "data": {
      "text/plain": "      EmployeeID birthdate_key  age         city_name        department  \\\n0           1318      1/3/1954   61         Vancouver         Executive   \n1           1319      1/3/1957   58         Vancouver         Executive   \n2           1320      1/2/1955   60         Vancouver         Executive   \n3           1321      1/2/1959   56         Vancouver         Executive   \n4           1322      1/9/1958   57         Vancouver         Executive   \n...          ...           ...  ...               ...               ...   \n6279        8036      8/9/1992   23  New Westminister  Customer Service   \n6280        8181     9/26/1993   22     Prince George  Customer Service   \n6281        8223     2/11/1994   21             Trail  Customer Service   \n6282        8226     2/16/1994   21          Victoria  Customer Service   \n6283        8264     6/13/1994   21         Vancouver  Customer Service   \n\n               job_title gender  \n0                    CEO      M  \n1              VP Stores      F  \n2          Legal Counsel      F  \n3     VP Human Resources      M  \n4             VP Finance      M  \n...                  ...    ...  \n6279             Cashier      F  \n6280             Cashier      M  \n6281             Cashier      M  \n6282             Cashier      F  \n6283             Cashier      F  \n\n[6284 rows x 7 columns]",
      "text/html": "<div>\n<style scoped>\n    .dataframe tbody tr th:only-of-type {\n        vertical-align: middle;\n    }\n\n    .dataframe tbody tr th {\n        vertical-align: top;\n    }\n\n    .dataframe thead th {\n        text-align: right;\n    }\n</style>\n<table border=\"1\" class=\"dataframe\">\n  <thead>\n    <tr style=\"text-align: right;\">\n      <th></th>\n      <th>EmployeeID</th>\n      <th>birthdate_key</th>\n      <th>age</th>\n      <th>city_name</th>\n      <th>department</th>\n      <th>job_title</th>\n      <th>gender</th>\n    </tr>\n  </thead>\n  <tbody>\n    <tr>\n      <th>0</th>\n      <td>1318</td>\n      <td>1/3/1954</td>\n      <td>61</td>\n      <td>Vancouver</td>\n      <td>Executive</td>\n      <td>CEO</td>\n      <td>M</td>\n    </tr>\n    <tr>\n      <th>1</th>\n      <td>1319</td>\n      <td>1/3/1957</td>\n      <td>58</td>\n      <td>Vancouver</td>\n      <td>Executive</td>\n      <td>VP Stores</td>\n      <td>F</td>\n    </tr>\n    <tr>\n      <th>2</th>\n      <td>1320</td>\n      <td>1/2/1955</td>\n      <td>60</td>\n      <td>Vancouver</td>\n      <td>Executive</td>\n      <td>Legal Counsel</td>\n      <td>F</td>\n    </tr>\n    <tr>\n      <th>3</th>\n      <td>1321</td>\n      <td>1/2/1959</td>\n      <td>56</td>\n      <td>Vancouver</td>\n      <td>Executive</td>\n      <td>VP Human Resources</td>\n      <td>M</td>\n    </tr>\n    <tr>\n      <th>4</th>\n      <td>1322</td>\n      <td>1/9/1958</td>\n      <td>57</td>\n      <td>Vancouver</td>\n      <td>Executive</td>\n      <td>VP Finance</td>\n      <td>M</td>\n    </tr>\n    <tr>\n      <th>...</th>\n      <td>...</td>\n      <td>...</td>\n      <td>...</td>\n      <td>...</td>\n      <td>...</td>\n      <td>...</td>\n      <td>...</td>\n    </tr>\n    <tr>\n      <th>6279</th>\n      <td>8036</td>\n      <td>8/9/1992</td>\n      <td>23</td>\n      <td>New Westminister</td>\n      <td>Customer Service</td>\n      <td>Cashier</td>\n      <td>F</td>\n    </tr>\n    <tr>\n      <th>6280</th>\n      <td>8181</td>\n      <td>9/26/1993</td>\n      <td>22</td>\n      <td>Prince George</td>\n      <td>Customer Service</td>\n      <td>Cashier</td>\n      <td>M</td>\n    </tr>\n    <tr>\n      <th>6281</th>\n      <td>8223</td>\n      <td>2/11/1994</td>\n      <td>21</td>\n      <td>Trail</td>\n      <td>Customer Service</td>\n      <td>Cashier</td>\n      <td>M</td>\n    </tr>\n    <tr>\n      <th>6282</th>\n      <td>8226</td>\n      <td>2/16/1994</td>\n      <td>21</td>\n      <td>Victoria</td>\n      <td>Customer Service</td>\n      <td>Cashier</td>\n      <td>F</td>\n    </tr>\n    <tr>\n      <th>6283</th>\n      <td>8264</td>\n      <td>6/13/1994</td>\n      <td>21</td>\n      <td>Vancouver</td>\n      <td>Customer Service</td>\n      <td>Cashier</td>\n      <td>F</td>\n    </tr>\n  </tbody>\n</table>\n<p>6284 rows × 7 columns</p>\n</div>"
     },
     "execution_count": 21,
     "metadata": {},
     "output_type": "execute_result"
    }
   ],
   "source": [
    "df = pd.read_csv('./data/Company.csv')\n",
    "df"
   ],
   "metadata": {
    "collapsed": false
   }
  },
  {
   "cell_type": "markdown",
   "source": [
    "#### 1. 分别只使用query和loc选出年龄不超过四十岁且工作部门为Dairy或Bakery的男性。"
   ],
   "metadata": {
    "collapsed": false
   }
  },
  {
   "cell_type": "code",
   "execution_count": 26,
   "outputs": [
    {
     "data": {
      "text/plain": "      EmployeeID birthdate_key  age    city_name department     job_title  \\\n3611        5791     1/14/1975   40      Kelowna      Dairy  Dairy Person   \n3613        5793     1/22/1975   40     Richmond     Bakery         Baker   \n3615        5795     1/30/1975   40      Nanaimo      Dairy  Dairy Person   \n3617        5797      2/3/1975   40      Nanaimo      Dairy  Dairy Person   \n3618        5798      2/4/1975   40       Surrey      Dairy  Dairy Person   \n...          ...           ...  ...          ...        ...           ...   \n6108        8307    10/20/1994   21      Burnaby      Dairy  Dairy Person   \n6113        8312    11/12/1994   21      Burnaby      Dairy  Dairy Person   \n6137        8336    12/31/1994   21    Vancouver      Dairy  Dairy Person   \n6270        6312     5/14/1979   36  Grand Forks      Dairy  Dairy Person   \n6271        6540     2/14/1981   34     Victoria     Bakery         Baker   \n\n     gender  \n3611      M  \n3613      M  \n3615      M  \n3617      M  \n3618      M  \n...     ...  \n6108      M  \n6113      M  \n6137      M  \n6270      M  \n6271      M  \n\n[441 rows x 7 columns]",
      "text/html": "<div>\n<style scoped>\n    .dataframe tbody tr th:only-of-type {\n        vertical-align: middle;\n    }\n\n    .dataframe tbody tr th {\n        vertical-align: top;\n    }\n\n    .dataframe thead th {\n        text-align: right;\n    }\n</style>\n<table border=\"1\" class=\"dataframe\">\n  <thead>\n    <tr style=\"text-align: right;\">\n      <th></th>\n      <th>EmployeeID</th>\n      <th>birthdate_key</th>\n      <th>age</th>\n      <th>city_name</th>\n      <th>department</th>\n      <th>job_title</th>\n      <th>gender</th>\n    </tr>\n  </thead>\n  <tbody>\n    <tr>\n      <th>3611</th>\n      <td>5791</td>\n      <td>1/14/1975</td>\n      <td>40</td>\n      <td>Kelowna</td>\n      <td>Dairy</td>\n      <td>Dairy Person</td>\n      <td>M</td>\n    </tr>\n    <tr>\n      <th>3613</th>\n      <td>5793</td>\n      <td>1/22/1975</td>\n      <td>40</td>\n      <td>Richmond</td>\n      <td>Bakery</td>\n      <td>Baker</td>\n      <td>M</td>\n    </tr>\n    <tr>\n      <th>3615</th>\n      <td>5795</td>\n      <td>1/30/1975</td>\n      <td>40</td>\n      <td>Nanaimo</td>\n      <td>Dairy</td>\n      <td>Dairy Person</td>\n      <td>M</td>\n    </tr>\n    <tr>\n      <th>3617</th>\n      <td>5797</td>\n      <td>2/3/1975</td>\n      <td>40</td>\n      <td>Nanaimo</td>\n      <td>Dairy</td>\n      <td>Dairy Person</td>\n      <td>M</td>\n    </tr>\n    <tr>\n      <th>3618</th>\n      <td>5798</td>\n      <td>2/4/1975</td>\n      <td>40</td>\n      <td>Surrey</td>\n      <td>Dairy</td>\n      <td>Dairy Person</td>\n      <td>M</td>\n    </tr>\n    <tr>\n      <th>...</th>\n      <td>...</td>\n      <td>...</td>\n      <td>...</td>\n      <td>...</td>\n      <td>...</td>\n      <td>...</td>\n      <td>...</td>\n    </tr>\n    <tr>\n      <th>6108</th>\n      <td>8307</td>\n      <td>10/20/1994</td>\n      <td>21</td>\n      <td>Burnaby</td>\n      <td>Dairy</td>\n      <td>Dairy Person</td>\n      <td>M</td>\n    </tr>\n    <tr>\n      <th>6113</th>\n      <td>8312</td>\n      <td>11/12/1994</td>\n      <td>21</td>\n      <td>Burnaby</td>\n      <td>Dairy</td>\n      <td>Dairy Person</td>\n      <td>M</td>\n    </tr>\n    <tr>\n      <th>6137</th>\n      <td>8336</td>\n      <td>12/31/1994</td>\n      <td>21</td>\n      <td>Vancouver</td>\n      <td>Dairy</td>\n      <td>Dairy Person</td>\n      <td>M</td>\n    </tr>\n    <tr>\n      <th>6270</th>\n      <td>6312</td>\n      <td>5/14/1979</td>\n      <td>36</td>\n      <td>Grand Forks</td>\n      <td>Dairy</td>\n      <td>Dairy Person</td>\n      <td>M</td>\n    </tr>\n    <tr>\n      <th>6271</th>\n      <td>6540</td>\n      <td>2/14/1981</td>\n      <td>34</td>\n      <td>Victoria</td>\n      <td>Bakery</td>\n      <td>Baker</td>\n      <td>M</td>\n    </tr>\n  </tbody>\n</table>\n<p>441 rows × 7 columns</p>\n</div>"
     },
     "execution_count": 26,
     "metadata": {},
     "output_type": "execute_result"
    }
   ],
   "source": [
    "df.query('((department==\"Dairy\") | (department == \"Bakery\")) &(gender==\"M\")&(age<=40)')\n",
    "\n",
    "# 更简洁的写法\n",
    "dpt = ['Dairy', 'Bakery']\n",
    "df.query('(department == @dpt) &(gender==\"M\")&(age<=40)')"
   ],
   "metadata": {
    "collapsed": false
   }
  },
  {
   "cell_type": "code",
   "execution_count": 32,
   "outputs": [
    {
     "data": {
      "text/plain": "      EmployeeID birthdate_key  age city_name department     job_title gender\n3611        5791     1/14/1975   40   Kelowna      Dairy  Dairy Person      M\n3613        5793     1/22/1975   40  Richmond     Bakery         Baker      M\n3615        5795     1/30/1975   40   Nanaimo      Dairy  Dairy Person      M\n3617        5797      2/3/1975   40   Nanaimo      Dairy  Dairy Person      M\n3618        5798      2/4/1975   40    Surrey      Dairy  Dairy Person      M",
      "text/html": "<div>\n<style scoped>\n    .dataframe tbody tr th:only-of-type {\n        vertical-align: middle;\n    }\n\n    .dataframe tbody tr th {\n        vertical-align: top;\n    }\n\n    .dataframe thead th {\n        text-align: right;\n    }\n</style>\n<table border=\"1\" class=\"dataframe\">\n  <thead>\n    <tr style=\"text-align: right;\">\n      <th></th>\n      <th>EmployeeID</th>\n      <th>birthdate_key</th>\n      <th>age</th>\n      <th>city_name</th>\n      <th>department</th>\n      <th>job_title</th>\n      <th>gender</th>\n    </tr>\n  </thead>\n  <tbody>\n    <tr>\n      <th>3611</th>\n      <td>5791</td>\n      <td>1/14/1975</td>\n      <td>40</td>\n      <td>Kelowna</td>\n      <td>Dairy</td>\n      <td>Dairy Person</td>\n      <td>M</td>\n    </tr>\n    <tr>\n      <th>3613</th>\n      <td>5793</td>\n      <td>1/22/1975</td>\n      <td>40</td>\n      <td>Richmond</td>\n      <td>Bakery</td>\n      <td>Baker</td>\n      <td>M</td>\n    </tr>\n    <tr>\n      <th>3615</th>\n      <td>5795</td>\n      <td>1/30/1975</td>\n      <td>40</td>\n      <td>Nanaimo</td>\n      <td>Dairy</td>\n      <td>Dairy Person</td>\n      <td>M</td>\n    </tr>\n    <tr>\n      <th>3617</th>\n      <td>5797</td>\n      <td>2/3/1975</td>\n      <td>40</td>\n      <td>Nanaimo</td>\n      <td>Dairy</td>\n      <td>Dairy Person</td>\n      <td>M</td>\n    </tr>\n    <tr>\n      <th>3618</th>\n      <td>5798</td>\n      <td>2/4/1975</td>\n      <td>40</td>\n      <td>Surrey</td>\n      <td>Dairy</td>\n      <td>Dairy Person</td>\n      <td>M</td>\n    </tr>\n  </tbody>\n</table>\n</div>"
     },
     "execution_count": 32,
     "metadata": {},
     "output_type": "execute_result"
    }
   ],
   "source": [
    "df.loc[df.department.isin(['Dairy', 'Bakery']) & (df.gender == \"M\") & (df.age <= 40)].head()"
   ],
   "metadata": {
    "collapsed": false
   }
  },
  {
   "cell_type": "markdown",
   "source": [
    "#### 2.选出员工ID号 为奇数所在行的第1、第3和倒数第2列。"
   ],
   "metadata": {
    "collapsed": false
   }
  },
  {
   "cell_type": "code",
   "execution_count": 38,
   "outputs": [
    {
     "data": {
      "text/plain": "      EmployeeID  age                      job_title\n1           1319   58                      VP Stores\n3           1321   56             VP Human Resources\n5           1323   53      Exec Assistant, VP Stores\n6           1325   51  Exec Assistant, Legal Counsel\n8           1329   48                  Store Manager\n...          ...  ...                            ...\n6276        7659   26                        Cashier\n6277        7741   25                        Cashier\n6278        7801   25                   Dairy Person\n6280        8181   22                        Cashier\n6281        8223   21                        Cashier\n\n[3126 rows x 3 columns]",
      "text/html": "<div>\n<style scoped>\n    .dataframe tbody tr th:only-of-type {\n        vertical-align: middle;\n    }\n\n    .dataframe tbody tr th {\n        vertical-align: top;\n    }\n\n    .dataframe thead th {\n        text-align: right;\n    }\n</style>\n<table border=\"1\" class=\"dataframe\">\n  <thead>\n    <tr style=\"text-align: right;\">\n      <th></th>\n      <th>EmployeeID</th>\n      <th>age</th>\n      <th>job_title</th>\n    </tr>\n  </thead>\n  <tbody>\n    <tr>\n      <th>1</th>\n      <td>1319</td>\n      <td>58</td>\n      <td>VP Stores</td>\n    </tr>\n    <tr>\n      <th>3</th>\n      <td>1321</td>\n      <td>56</td>\n      <td>VP Human Resources</td>\n    </tr>\n    <tr>\n      <th>5</th>\n      <td>1323</td>\n      <td>53</td>\n      <td>Exec Assistant, VP Stores</td>\n    </tr>\n    <tr>\n      <th>6</th>\n      <td>1325</td>\n      <td>51</td>\n      <td>Exec Assistant, Legal Counsel</td>\n    </tr>\n    <tr>\n      <th>8</th>\n      <td>1329</td>\n      <td>48</td>\n      <td>Store Manager</td>\n    </tr>\n    <tr>\n      <th>...</th>\n      <td>...</td>\n      <td>...</td>\n      <td>...</td>\n    </tr>\n    <tr>\n      <th>6276</th>\n      <td>7659</td>\n      <td>26</td>\n      <td>Cashier</td>\n    </tr>\n    <tr>\n      <th>6277</th>\n      <td>7741</td>\n      <td>25</td>\n      <td>Cashier</td>\n    </tr>\n    <tr>\n      <th>6278</th>\n      <td>7801</td>\n      <td>25</td>\n      <td>Dairy Person</td>\n    </tr>\n    <tr>\n      <th>6280</th>\n      <td>8181</td>\n      <td>22</td>\n      <td>Cashier</td>\n    </tr>\n    <tr>\n      <th>6281</th>\n      <td>8223</td>\n      <td>21</td>\n      <td>Cashier</td>\n    </tr>\n  </tbody>\n</table>\n<p>3126 rows × 3 columns</p>\n</div>"
     },
     "execution_count": 38,
     "metadata": {},
     "output_type": "execute_result"
    }
   ],
   "source": [
    "df.iloc[(df.EmployeeID % 2 == 1).values, [0, 2, -2]]"
   ],
   "metadata": {
    "collapsed": false
   }
  },
  {
   "cell_type": "markdown",
   "source": [
    "#### 按照以下步骤进行索引操作：\n",
    "* 把后三列设为索引后交换内外两层\n",
    "* 恢复中间层索引\n",
    "* 修改外层索引名为Gender\n",
    "* 用下划线合并两层行索引\n",
    "* 把行索引拆分为原状态\n",
    "* 修改索引名为原表名称\n",
    "* 恢复默认索引并将列保持为原表的相对位置\n"
   ],
   "metadata": {
    "collapsed": false
   }
  },
  {
   "cell_type": "code",
   "execution_count": null,
   "outputs": [],
   "source": [
    "df_op = df.copy()\n",
    "df_op = df_op.set_index(df_op.columns[-3:].tolist()).swaplevel(0, 2, axis=0)"
   ],
   "metadata": {
    "collapsed": false
   }
  }
 ],
 "metadata": {
  "kernelspec": {
   "display_name": "Python 3 (ipykernel)",
   "language": "python",
   "name": "python3"
  },
  "language_info": {
   "codemirror_mode": {
    "name": "ipython",
    "version": 3
   },
   "file_extension": ".py",
   "mimetype": "text/x-python",
   "name": "python",
   "nbconvert_exporter": "python",
   "pygments_lexer": "ipython3",
   "version": "3.11.0"
  }
 },
 "nbformat": 4,
 "nbformat_minor": 1
}
