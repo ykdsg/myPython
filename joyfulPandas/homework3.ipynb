{
 "cells": [
  {
   "cell_type": "code",
   "execution_count": 1,
   "metadata": {
    "collapsed": true
   },
   "outputs": [],
   "source": [
    "import pandas as pd\n",
    "import numpy as np\n",
    "import matplotlib.pyplot as plt"
   ]
  },
  {
   "cell_type": "markdown",
   "source": [
    "## 第三章 索引\n",
    "### Ex1：公司员工数据集"
   ],
   "metadata": {
    "collapsed": false
   }
  },
  {
   "cell_type": "code",
   "execution_count": 2,
   "outputs": [
    {
     "data": {
      "text/plain": "      EmployeeID birthdate_key  age         city_name        department  \\\n0           1318      1/3/1954   61         Vancouver         Executive   \n1           1319      1/3/1957   58         Vancouver         Executive   \n2           1320      1/2/1955   60         Vancouver         Executive   \n3           1321      1/2/1959   56         Vancouver         Executive   \n4           1322      1/9/1958   57         Vancouver         Executive   \n...          ...           ...  ...               ...               ...   \n6279        8036      8/9/1992   23  New Westminister  Customer Service   \n6280        8181     9/26/1993   22     Prince George  Customer Service   \n6281        8223     2/11/1994   21             Trail  Customer Service   \n6282        8226     2/16/1994   21          Victoria  Customer Service   \n6283        8264     6/13/1994   21         Vancouver  Customer Service   \n\n               job_title gender  \n0                    CEO      M  \n1              VP Stores      F  \n2          Legal Counsel      F  \n3     VP Human Resources      M  \n4             VP Finance      M  \n...                  ...    ...  \n6279             Cashier      F  \n6280             Cashier      M  \n6281             Cashier      M  \n6282             Cashier      F  \n6283             Cashier      F  \n\n[6284 rows x 7 columns]",
      "text/html": "<div>\n<style scoped>\n    .dataframe tbody tr th:only-of-type {\n        vertical-align: middle;\n    }\n\n    .dataframe tbody tr th {\n        vertical-align: top;\n    }\n\n    .dataframe thead th {\n        text-align: right;\n    }\n</style>\n<table border=\"1\" class=\"dataframe\">\n  <thead>\n    <tr style=\"text-align: right;\">\n      <th></th>\n      <th>EmployeeID</th>\n      <th>birthdate_key</th>\n      <th>age</th>\n      <th>city_name</th>\n      <th>department</th>\n      <th>job_title</th>\n      <th>gender</th>\n    </tr>\n  </thead>\n  <tbody>\n    <tr>\n      <th>0</th>\n      <td>1318</td>\n      <td>1/3/1954</td>\n      <td>61</td>\n      <td>Vancouver</td>\n      <td>Executive</td>\n      <td>CEO</td>\n      <td>M</td>\n    </tr>\n    <tr>\n      <th>1</th>\n      <td>1319</td>\n      <td>1/3/1957</td>\n      <td>58</td>\n      <td>Vancouver</td>\n      <td>Executive</td>\n      <td>VP Stores</td>\n      <td>F</td>\n    </tr>\n    <tr>\n      <th>2</th>\n      <td>1320</td>\n      <td>1/2/1955</td>\n      <td>60</td>\n      <td>Vancouver</td>\n      <td>Executive</td>\n      <td>Legal Counsel</td>\n      <td>F</td>\n    </tr>\n    <tr>\n      <th>3</th>\n      <td>1321</td>\n      <td>1/2/1959</td>\n      <td>56</td>\n      <td>Vancouver</td>\n      <td>Executive</td>\n      <td>VP Human Resources</td>\n      <td>M</td>\n    </tr>\n    <tr>\n      <th>4</th>\n      <td>1322</td>\n      <td>1/9/1958</td>\n      <td>57</td>\n      <td>Vancouver</td>\n      <td>Executive</td>\n      <td>VP Finance</td>\n      <td>M</td>\n    </tr>\n    <tr>\n      <th>...</th>\n      <td>...</td>\n      <td>...</td>\n      <td>...</td>\n      <td>...</td>\n      <td>...</td>\n      <td>...</td>\n      <td>...</td>\n    </tr>\n    <tr>\n      <th>6279</th>\n      <td>8036</td>\n      <td>8/9/1992</td>\n      <td>23</td>\n      <td>New Westminister</td>\n      <td>Customer Service</td>\n      <td>Cashier</td>\n      <td>F</td>\n    </tr>\n    <tr>\n      <th>6280</th>\n      <td>8181</td>\n      <td>9/26/1993</td>\n      <td>22</td>\n      <td>Prince George</td>\n      <td>Customer Service</td>\n      <td>Cashier</td>\n      <td>M</td>\n    </tr>\n    <tr>\n      <th>6281</th>\n      <td>8223</td>\n      <td>2/11/1994</td>\n      <td>21</td>\n      <td>Trail</td>\n      <td>Customer Service</td>\n      <td>Cashier</td>\n      <td>M</td>\n    </tr>\n    <tr>\n      <th>6282</th>\n      <td>8226</td>\n      <td>2/16/1994</td>\n      <td>21</td>\n      <td>Victoria</td>\n      <td>Customer Service</td>\n      <td>Cashier</td>\n      <td>F</td>\n    </tr>\n    <tr>\n      <th>6283</th>\n      <td>8264</td>\n      <td>6/13/1994</td>\n      <td>21</td>\n      <td>Vancouver</td>\n      <td>Customer Service</td>\n      <td>Cashier</td>\n      <td>F</td>\n    </tr>\n  </tbody>\n</table>\n<p>6284 rows × 7 columns</p>\n</div>"
     },
     "execution_count": 2,
     "metadata": {},
     "output_type": "execute_result"
    }
   ],
   "source": [
    "df = pd.read_csv('./data/Company.csv')\n",
    "df"
   ],
   "metadata": {
    "collapsed": false
   }
  },
  {
   "cell_type": "markdown",
   "source": [
    "#### 1. 分别只使用query和loc选出年龄不超过四十岁且工作部门为Dairy或Bakery的男性。"
   ],
   "metadata": {
    "collapsed": false
   }
  },
  {
   "cell_type": "code",
   "execution_count": 3,
   "outputs": [
    {
     "data": {
      "text/plain": "      EmployeeID birthdate_key  age    city_name department     job_title  \\\n3611        5791     1/14/1975   40      Kelowna      Dairy  Dairy Person   \n3613        5793     1/22/1975   40     Richmond     Bakery         Baker   \n3615        5795     1/30/1975   40      Nanaimo      Dairy  Dairy Person   \n3617        5797      2/3/1975   40      Nanaimo      Dairy  Dairy Person   \n3618        5798      2/4/1975   40       Surrey      Dairy  Dairy Person   \n...          ...           ...  ...          ...        ...           ...   \n6108        8307    10/20/1994   21      Burnaby      Dairy  Dairy Person   \n6113        8312    11/12/1994   21      Burnaby      Dairy  Dairy Person   \n6137        8336    12/31/1994   21    Vancouver      Dairy  Dairy Person   \n6270        6312     5/14/1979   36  Grand Forks      Dairy  Dairy Person   \n6271        6540     2/14/1981   34     Victoria     Bakery         Baker   \n\n     gender  \n3611      M  \n3613      M  \n3615      M  \n3617      M  \n3618      M  \n...     ...  \n6108      M  \n6113      M  \n6137      M  \n6270      M  \n6271      M  \n\n[441 rows x 7 columns]",
      "text/html": "<div>\n<style scoped>\n    .dataframe tbody tr th:only-of-type {\n        vertical-align: middle;\n    }\n\n    .dataframe tbody tr th {\n        vertical-align: top;\n    }\n\n    .dataframe thead th {\n        text-align: right;\n    }\n</style>\n<table border=\"1\" class=\"dataframe\">\n  <thead>\n    <tr style=\"text-align: right;\">\n      <th></th>\n      <th>EmployeeID</th>\n      <th>birthdate_key</th>\n      <th>age</th>\n      <th>city_name</th>\n      <th>department</th>\n      <th>job_title</th>\n      <th>gender</th>\n    </tr>\n  </thead>\n  <tbody>\n    <tr>\n      <th>3611</th>\n      <td>5791</td>\n      <td>1/14/1975</td>\n      <td>40</td>\n      <td>Kelowna</td>\n      <td>Dairy</td>\n      <td>Dairy Person</td>\n      <td>M</td>\n    </tr>\n    <tr>\n      <th>3613</th>\n      <td>5793</td>\n      <td>1/22/1975</td>\n      <td>40</td>\n      <td>Richmond</td>\n      <td>Bakery</td>\n      <td>Baker</td>\n      <td>M</td>\n    </tr>\n    <tr>\n      <th>3615</th>\n      <td>5795</td>\n      <td>1/30/1975</td>\n      <td>40</td>\n      <td>Nanaimo</td>\n      <td>Dairy</td>\n      <td>Dairy Person</td>\n      <td>M</td>\n    </tr>\n    <tr>\n      <th>3617</th>\n      <td>5797</td>\n      <td>2/3/1975</td>\n      <td>40</td>\n      <td>Nanaimo</td>\n      <td>Dairy</td>\n      <td>Dairy Person</td>\n      <td>M</td>\n    </tr>\n    <tr>\n      <th>3618</th>\n      <td>5798</td>\n      <td>2/4/1975</td>\n      <td>40</td>\n      <td>Surrey</td>\n      <td>Dairy</td>\n      <td>Dairy Person</td>\n      <td>M</td>\n    </tr>\n    <tr>\n      <th>...</th>\n      <td>...</td>\n      <td>...</td>\n      <td>...</td>\n      <td>...</td>\n      <td>...</td>\n      <td>...</td>\n      <td>...</td>\n    </tr>\n    <tr>\n      <th>6108</th>\n      <td>8307</td>\n      <td>10/20/1994</td>\n      <td>21</td>\n      <td>Burnaby</td>\n      <td>Dairy</td>\n      <td>Dairy Person</td>\n      <td>M</td>\n    </tr>\n    <tr>\n      <th>6113</th>\n      <td>8312</td>\n      <td>11/12/1994</td>\n      <td>21</td>\n      <td>Burnaby</td>\n      <td>Dairy</td>\n      <td>Dairy Person</td>\n      <td>M</td>\n    </tr>\n    <tr>\n      <th>6137</th>\n      <td>8336</td>\n      <td>12/31/1994</td>\n      <td>21</td>\n      <td>Vancouver</td>\n      <td>Dairy</td>\n      <td>Dairy Person</td>\n      <td>M</td>\n    </tr>\n    <tr>\n      <th>6270</th>\n      <td>6312</td>\n      <td>5/14/1979</td>\n      <td>36</td>\n      <td>Grand Forks</td>\n      <td>Dairy</td>\n      <td>Dairy Person</td>\n      <td>M</td>\n    </tr>\n    <tr>\n      <th>6271</th>\n      <td>6540</td>\n      <td>2/14/1981</td>\n      <td>34</td>\n      <td>Victoria</td>\n      <td>Bakery</td>\n      <td>Baker</td>\n      <td>M</td>\n    </tr>\n  </tbody>\n</table>\n<p>441 rows × 7 columns</p>\n</div>"
     },
     "execution_count": 3,
     "metadata": {},
     "output_type": "execute_result"
    }
   ],
   "source": [
    "df.query('((department==\"Dairy\") | (department == \"Bakery\")) &(gender==\"M\")&(age<=40)')\n",
    "\n",
    "# 更简洁的写法\n",
    "dpt = ['Dairy', 'Bakery']\n",
    "df.query('(department == @dpt) &(gender==\"M\")&(age<=40)')"
   ],
   "metadata": {
    "collapsed": false
   }
  },
  {
   "cell_type": "code",
   "execution_count": 4,
   "outputs": [
    {
     "data": {
      "text/plain": "      EmployeeID birthdate_key  age city_name department     job_title gender\n3611        5791     1/14/1975   40   Kelowna      Dairy  Dairy Person      M\n3613        5793     1/22/1975   40  Richmond     Bakery         Baker      M\n3615        5795     1/30/1975   40   Nanaimo      Dairy  Dairy Person      M\n3617        5797      2/3/1975   40   Nanaimo      Dairy  Dairy Person      M\n3618        5798      2/4/1975   40    Surrey      Dairy  Dairy Person      M",
      "text/html": "<div>\n<style scoped>\n    .dataframe tbody tr th:only-of-type {\n        vertical-align: middle;\n    }\n\n    .dataframe tbody tr th {\n        vertical-align: top;\n    }\n\n    .dataframe thead th {\n        text-align: right;\n    }\n</style>\n<table border=\"1\" class=\"dataframe\">\n  <thead>\n    <tr style=\"text-align: right;\">\n      <th></th>\n      <th>EmployeeID</th>\n      <th>birthdate_key</th>\n      <th>age</th>\n      <th>city_name</th>\n      <th>department</th>\n      <th>job_title</th>\n      <th>gender</th>\n    </tr>\n  </thead>\n  <tbody>\n    <tr>\n      <th>3611</th>\n      <td>5791</td>\n      <td>1/14/1975</td>\n      <td>40</td>\n      <td>Kelowna</td>\n      <td>Dairy</td>\n      <td>Dairy Person</td>\n      <td>M</td>\n    </tr>\n    <tr>\n      <th>3613</th>\n      <td>5793</td>\n      <td>1/22/1975</td>\n      <td>40</td>\n      <td>Richmond</td>\n      <td>Bakery</td>\n      <td>Baker</td>\n      <td>M</td>\n    </tr>\n    <tr>\n      <th>3615</th>\n      <td>5795</td>\n      <td>1/30/1975</td>\n      <td>40</td>\n      <td>Nanaimo</td>\n      <td>Dairy</td>\n      <td>Dairy Person</td>\n      <td>M</td>\n    </tr>\n    <tr>\n      <th>3617</th>\n      <td>5797</td>\n      <td>2/3/1975</td>\n      <td>40</td>\n      <td>Nanaimo</td>\n      <td>Dairy</td>\n      <td>Dairy Person</td>\n      <td>M</td>\n    </tr>\n    <tr>\n      <th>3618</th>\n      <td>5798</td>\n      <td>2/4/1975</td>\n      <td>40</td>\n      <td>Surrey</td>\n      <td>Dairy</td>\n      <td>Dairy Person</td>\n      <td>M</td>\n    </tr>\n  </tbody>\n</table>\n</div>"
     },
     "execution_count": 4,
     "metadata": {},
     "output_type": "execute_result"
    }
   ],
   "source": [
    "df.loc[df.department.isin(['Dairy', 'Bakery']) & (df.gender == \"M\") & (df.age <= 40)].head()"
   ],
   "metadata": {
    "collapsed": false
   }
  },
  {
   "cell_type": "markdown",
   "source": [
    "#### 2.选出员工ID号 为奇数所在行的第1、第3和倒数第2列。"
   ],
   "metadata": {
    "collapsed": false
   }
  },
  {
   "cell_type": "code",
   "execution_count": 5,
   "outputs": [
    {
     "data": {
      "text/plain": "      EmployeeID  age                      job_title\n1           1319   58                      VP Stores\n3           1321   56             VP Human Resources\n5           1323   53      Exec Assistant, VP Stores\n6           1325   51  Exec Assistant, Legal Counsel\n8           1329   48                  Store Manager\n...          ...  ...                            ...\n6276        7659   26                        Cashier\n6277        7741   25                        Cashier\n6278        7801   25                   Dairy Person\n6280        8181   22                        Cashier\n6281        8223   21                        Cashier\n\n[3126 rows x 3 columns]",
      "text/html": "<div>\n<style scoped>\n    .dataframe tbody tr th:only-of-type {\n        vertical-align: middle;\n    }\n\n    .dataframe tbody tr th {\n        vertical-align: top;\n    }\n\n    .dataframe thead th {\n        text-align: right;\n    }\n</style>\n<table border=\"1\" class=\"dataframe\">\n  <thead>\n    <tr style=\"text-align: right;\">\n      <th></th>\n      <th>EmployeeID</th>\n      <th>age</th>\n      <th>job_title</th>\n    </tr>\n  </thead>\n  <tbody>\n    <tr>\n      <th>1</th>\n      <td>1319</td>\n      <td>58</td>\n      <td>VP Stores</td>\n    </tr>\n    <tr>\n      <th>3</th>\n      <td>1321</td>\n      <td>56</td>\n      <td>VP Human Resources</td>\n    </tr>\n    <tr>\n      <th>5</th>\n      <td>1323</td>\n      <td>53</td>\n      <td>Exec Assistant, VP Stores</td>\n    </tr>\n    <tr>\n      <th>6</th>\n      <td>1325</td>\n      <td>51</td>\n      <td>Exec Assistant, Legal Counsel</td>\n    </tr>\n    <tr>\n      <th>8</th>\n      <td>1329</td>\n      <td>48</td>\n      <td>Store Manager</td>\n    </tr>\n    <tr>\n      <th>...</th>\n      <td>...</td>\n      <td>...</td>\n      <td>...</td>\n    </tr>\n    <tr>\n      <th>6276</th>\n      <td>7659</td>\n      <td>26</td>\n      <td>Cashier</td>\n    </tr>\n    <tr>\n      <th>6277</th>\n      <td>7741</td>\n      <td>25</td>\n      <td>Cashier</td>\n    </tr>\n    <tr>\n      <th>6278</th>\n      <td>7801</td>\n      <td>25</td>\n      <td>Dairy Person</td>\n    </tr>\n    <tr>\n      <th>6280</th>\n      <td>8181</td>\n      <td>22</td>\n      <td>Cashier</td>\n    </tr>\n    <tr>\n      <th>6281</th>\n      <td>8223</td>\n      <td>21</td>\n      <td>Cashier</td>\n    </tr>\n  </tbody>\n</table>\n<p>3126 rows × 3 columns</p>\n</div>"
     },
     "execution_count": 5,
     "metadata": {},
     "output_type": "execute_result"
    }
   ],
   "source": [
    "df.iloc[(df.EmployeeID % 2 == 1).values, [0, 2, -2]]"
   ],
   "metadata": {
    "collapsed": false
   }
  },
  {
   "cell_type": "markdown",
   "source": [
    "#### 按照以下步骤进行索引操作：\n",
    "* 把后三列设为索引后交换内外两层\n",
    "* 恢复中间层索引\n",
    "* 修改外层索引名为Gender\n",
    "* 用下划线合并两层行索引\n",
    "* 把行索引拆分为原状态\n",
    "* 修改索引名为原表名称\n",
    "* 恢复默认索引并将列保持为原表的相对位置\n"
   ],
   "metadata": {
    "collapsed": false
   }
  },
  {
   "cell_type": "code",
   "execution_count": 12,
   "outputs": [
    {
     "data": {
      "text/plain": "                                            EmployeeID birthdate_key  age  \\\ndepartment       job_title          gender                                  \nExecutive        CEO                M             1318      1/3/1954   61   \n                 VP Stores          F             1319      1/3/1957   58   \n                 Legal Counsel      F             1320      1/2/1955   60   \n                 VP Human Resources M             1321      1/2/1959   56   \n                 VP Finance         M             1322      1/9/1958   57   \n...                                                ...           ...  ...   \nCustomer Service Cashier            F             8036      8/9/1992   23   \n                                    M             8181     9/26/1993   22   \n                                    M             8223     2/11/1994   21   \n                                    F             8226     2/16/1994   21   \n                                    F             8264     6/13/1994   21   \n\n                                                   city_name  \ndepartment       job_title          gender                    \nExecutive        CEO                M              Vancouver  \n                 VP Stores          F              Vancouver  \n                 Legal Counsel      F              Vancouver  \n                 VP Human Resources M              Vancouver  \n                 VP Finance         M              Vancouver  \n...                                                      ...  \nCustomer Service Cashier            F       New Westminister  \n                                    M          Prince George  \n                                    M                  Trail  \n                                    F               Victoria  \n                                    F              Vancouver  \n\n[6284 rows x 4 columns]",
      "text/html": "<div>\n<style scoped>\n    .dataframe tbody tr th:only-of-type {\n        vertical-align: middle;\n    }\n\n    .dataframe tbody tr th {\n        vertical-align: top;\n    }\n\n    .dataframe thead th {\n        text-align: right;\n    }\n</style>\n<table border=\"1\" class=\"dataframe\">\n  <thead>\n    <tr style=\"text-align: right;\">\n      <th></th>\n      <th></th>\n      <th></th>\n      <th>EmployeeID</th>\n      <th>birthdate_key</th>\n      <th>age</th>\n      <th>city_name</th>\n    </tr>\n    <tr>\n      <th>department</th>\n      <th>job_title</th>\n      <th>gender</th>\n      <th></th>\n      <th></th>\n      <th></th>\n      <th></th>\n    </tr>\n  </thead>\n  <tbody>\n    <tr>\n      <th rowspan=\"5\" valign=\"top\">Executive</th>\n      <th>CEO</th>\n      <th>M</th>\n      <td>1318</td>\n      <td>1/3/1954</td>\n      <td>61</td>\n      <td>Vancouver</td>\n    </tr>\n    <tr>\n      <th>VP Stores</th>\n      <th>F</th>\n      <td>1319</td>\n      <td>1/3/1957</td>\n      <td>58</td>\n      <td>Vancouver</td>\n    </tr>\n    <tr>\n      <th>Legal Counsel</th>\n      <th>F</th>\n      <td>1320</td>\n      <td>1/2/1955</td>\n      <td>60</td>\n      <td>Vancouver</td>\n    </tr>\n    <tr>\n      <th>VP Human Resources</th>\n      <th>M</th>\n      <td>1321</td>\n      <td>1/2/1959</td>\n      <td>56</td>\n      <td>Vancouver</td>\n    </tr>\n    <tr>\n      <th>VP Finance</th>\n      <th>M</th>\n      <td>1322</td>\n      <td>1/9/1958</td>\n      <td>57</td>\n      <td>Vancouver</td>\n    </tr>\n    <tr>\n      <th>...</th>\n      <th>...</th>\n      <th>...</th>\n      <td>...</td>\n      <td>...</td>\n      <td>...</td>\n      <td>...</td>\n    </tr>\n    <tr>\n      <th rowspan=\"5\" valign=\"top\">Customer Service</th>\n      <th rowspan=\"5\" valign=\"top\">Cashier</th>\n      <th>F</th>\n      <td>8036</td>\n      <td>8/9/1992</td>\n      <td>23</td>\n      <td>New Westminister</td>\n    </tr>\n    <tr>\n      <th>M</th>\n      <td>8181</td>\n      <td>9/26/1993</td>\n      <td>22</td>\n      <td>Prince George</td>\n    </tr>\n    <tr>\n      <th>M</th>\n      <td>8223</td>\n      <td>2/11/1994</td>\n      <td>21</td>\n      <td>Trail</td>\n    </tr>\n    <tr>\n      <th>F</th>\n      <td>8226</td>\n      <td>2/16/1994</td>\n      <td>21</td>\n      <td>Victoria</td>\n    </tr>\n    <tr>\n      <th>F</th>\n      <td>8264</td>\n      <td>6/13/1994</td>\n      <td>21</td>\n      <td>Vancouver</td>\n    </tr>\n  </tbody>\n</table>\n<p>6284 rows × 4 columns</p>\n</div>"
     },
     "execution_count": 12,
     "metadata": {},
     "output_type": "execute_result"
    }
   ],
   "source": [
    "df_op = df.copy()\n",
    "df_op.columns[-3:].tolist()\n",
    "df_op = df_op.set_index(df_op.columns[-3:].tolist())\n",
    "df_op"
   ],
   "metadata": {
    "collapsed": false
   }
  },
  {
   "cell_type": "code",
   "execution_count": 15,
   "outputs": [
    {
     "data": {
      "text/plain": "                                            EmployeeID birthdate_key  age  \\\ngender job_title          department                                        \nM      CEO                Executive               1318      1/3/1954   61   \nF      VP Stores          Executive               1319      1/3/1957   58   \n       Legal Counsel      Executive               1320      1/2/1955   60   \nM      VP Human Resources Executive               1321      1/2/1959   56   \n       VP Finance         Executive               1322      1/9/1958   57   \n...                                                ...           ...  ...   \nF      Cashier            Customer Service        8036      8/9/1992   23   \nM      Cashier            Customer Service        8181     9/26/1993   22   \n                          Customer Service        8223     2/11/1994   21   \nF      Cashier            Customer Service        8226     2/16/1994   21   \n                          Customer Service        8264     6/13/1994   21   \n\n                                                   city_name  \ngender job_title          department                          \nM      CEO                Executive                Vancouver  \nF      VP Stores          Executive                Vancouver  \n       Legal Counsel      Executive                Vancouver  \nM      VP Human Resources Executive                Vancouver  \n       VP Finance         Executive                Vancouver  \n...                                                      ...  \nF      Cashier            Customer Service  New Westminister  \nM      Cashier            Customer Service     Prince George  \n                          Customer Service             Trail  \nF      Cashier            Customer Service          Victoria  \n                          Customer Service         Vancouver  \n\n[6284 rows x 4 columns]",
      "text/html": "<div>\n<style scoped>\n    .dataframe tbody tr th:only-of-type {\n        vertical-align: middle;\n    }\n\n    .dataframe tbody tr th {\n        vertical-align: top;\n    }\n\n    .dataframe thead th {\n        text-align: right;\n    }\n</style>\n<table border=\"1\" class=\"dataframe\">\n  <thead>\n    <tr style=\"text-align: right;\">\n      <th></th>\n      <th></th>\n      <th></th>\n      <th>EmployeeID</th>\n      <th>birthdate_key</th>\n      <th>age</th>\n      <th>city_name</th>\n    </tr>\n    <tr>\n      <th>gender</th>\n      <th>job_title</th>\n      <th>department</th>\n      <th></th>\n      <th></th>\n      <th></th>\n      <th></th>\n    </tr>\n  </thead>\n  <tbody>\n    <tr>\n      <th>M</th>\n      <th>CEO</th>\n      <th>Executive</th>\n      <td>1318</td>\n      <td>1/3/1954</td>\n      <td>61</td>\n      <td>Vancouver</td>\n    </tr>\n    <tr>\n      <th rowspan=\"2\" valign=\"top\">F</th>\n      <th>VP Stores</th>\n      <th>Executive</th>\n      <td>1319</td>\n      <td>1/3/1957</td>\n      <td>58</td>\n      <td>Vancouver</td>\n    </tr>\n    <tr>\n      <th>Legal Counsel</th>\n      <th>Executive</th>\n      <td>1320</td>\n      <td>1/2/1955</td>\n      <td>60</td>\n      <td>Vancouver</td>\n    </tr>\n    <tr>\n      <th rowspan=\"2\" valign=\"top\">M</th>\n      <th>VP Human Resources</th>\n      <th>Executive</th>\n      <td>1321</td>\n      <td>1/2/1959</td>\n      <td>56</td>\n      <td>Vancouver</td>\n    </tr>\n    <tr>\n      <th>VP Finance</th>\n      <th>Executive</th>\n      <td>1322</td>\n      <td>1/9/1958</td>\n      <td>57</td>\n      <td>Vancouver</td>\n    </tr>\n    <tr>\n      <th>...</th>\n      <th>...</th>\n      <th>...</th>\n      <td>...</td>\n      <td>...</td>\n      <td>...</td>\n      <td>...</td>\n    </tr>\n    <tr>\n      <th>F</th>\n      <th>Cashier</th>\n      <th>Customer Service</th>\n      <td>8036</td>\n      <td>8/9/1992</td>\n      <td>23</td>\n      <td>New Westminister</td>\n    </tr>\n    <tr>\n      <th rowspan=\"2\" valign=\"top\">M</th>\n      <th rowspan=\"2\" valign=\"top\">Cashier</th>\n      <th>Customer Service</th>\n      <td>8181</td>\n      <td>9/26/1993</td>\n      <td>22</td>\n      <td>Prince George</td>\n    </tr>\n    <tr>\n      <th>Customer Service</th>\n      <td>8223</td>\n      <td>2/11/1994</td>\n      <td>21</td>\n      <td>Trail</td>\n    </tr>\n    <tr>\n      <th rowspan=\"2\" valign=\"top\">F</th>\n      <th rowspan=\"2\" valign=\"top\">Cashier</th>\n      <th>Customer Service</th>\n      <td>8226</td>\n      <td>2/16/1994</td>\n      <td>21</td>\n      <td>Victoria</td>\n    </tr>\n    <tr>\n      <th>Customer Service</th>\n      <td>8264</td>\n      <td>6/13/1994</td>\n      <td>21</td>\n      <td>Vancouver</td>\n    </tr>\n  </tbody>\n</table>\n<p>6284 rows × 4 columns</p>\n</div>"
     },
     "execution_count": 15,
     "metadata": {},
     "output_type": "execute_result"
    }
   ],
   "source": [
    "# 交换索引层\n",
    "df_op = df_op.swaplevel(0, 2, axis=0)\n",
    "df_op"
   ],
   "metadata": {
    "collapsed": false
   }
  },
  {
   "cell_type": "code",
   "execution_count": 16,
   "outputs": [
    {
     "data": {
      "text/plain": "                                  job_title  EmployeeID birthdate_key  age  \\\ngender department                                                            \nM      Executive                        CEO        1318      1/3/1954   61   \nF      Executive                  VP Stores        1319      1/3/1957   58   \n       Executive              Legal Counsel        1320      1/2/1955   60   \nM      Executive         VP Human Resources        1321      1/2/1959   56   \n       Executive                 VP Finance        1322      1/9/1958   57   \n...                                     ...         ...           ...  ...   \nF      Customer Service             Cashier        8036      8/9/1992   23   \nM      Customer Service             Cashier        8181     9/26/1993   22   \n       Customer Service             Cashier        8223     2/11/1994   21   \nF      Customer Service             Cashier        8226     2/16/1994   21   \n       Customer Service             Cashier        8264     6/13/1994   21   \n\n                                city_name  \ngender department                          \nM      Executive                Vancouver  \nF      Executive                Vancouver  \n       Executive                Vancouver  \nM      Executive                Vancouver  \n       Executive                Vancouver  \n...                                   ...  \nF      Customer Service  New Westminister  \nM      Customer Service     Prince George  \n       Customer Service             Trail  \nF      Customer Service          Victoria  \n       Customer Service         Vancouver  \n\n[6284 rows x 5 columns]",
      "text/html": "<div>\n<style scoped>\n    .dataframe tbody tr th:only-of-type {\n        vertical-align: middle;\n    }\n\n    .dataframe tbody tr th {\n        vertical-align: top;\n    }\n\n    .dataframe thead th {\n        text-align: right;\n    }\n</style>\n<table border=\"1\" class=\"dataframe\">\n  <thead>\n    <tr style=\"text-align: right;\">\n      <th></th>\n      <th></th>\n      <th>job_title</th>\n      <th>EmployeeID</th>\n      <th>birthdate_key</th>\n      <th>age</th>\n      <th>city_name</th>\n    </tr>\n    <tr>\n      <th>gender</th>\n      <th>department</th>\n      <th></th>\n      <th></th>\n      <th></th>\n      <th></th>\n      <th></th>\n    </tr>\n  </thead>\n  <tbody>\n    <tr>\n      <th>M</th>\n      <th>Executive</th>\n      <td>CEO</td>\n      <td>1318</td>\n      <td>1/3/1954</td>\n      <td>61</td>\n      <td>Vancouver</td>\n    </tr>\n    <tr>\n      <th rowspan=\"2\" valign=\"top\">F</th>\n      <th>Executive</th>\n      <td>VP Stores</td>\n      <td>1319</td>\n      <td>1/3/1957</td>\n      <td>58</td>\n      <td>Vancouver</td>\n    </tr>\n    <tr>\n      <th>Executive</th>\n      <td>Legal Counsel</td>\n      <td>1320</td>\n      <td>1/2/1955</td>\n      <td>60</td>\n      <td>Vancouver</td>\n    </tr>\n    <tr>\n      <th rowspan=\"2\" valign=\"top\">M</th>\n      <th>Executive</th>\n      <td>VP Human Resources</td>\n      <td>1321</td>\n      <td>1/2/1959</td>\n      <td>56</td>\n      <td>Vancouver</td>\n    </tr>\n    <tr>\n      <th>Executive</th>\n      <td>VP Finance</td>\n      <td>1322</td>\n      <td>1/9/1958</td>\n      <td>57</td>\n      <td>Vancouver</td>\n    </tr>\n    <tr>\n      <th>...</th>\n      <th>...</th>\n      <td>...</td>\n      <td>...</td>\n      <td>...</td>\n      <td>...</td>\n      <td>...</td>\n    </tr>\n    <tr>\n      <th>F</th>\n      <th>Customer Service</th>\n      <td>Cashier</td>\n      <td>8036</td>\n      <td>8/9/1992</td>\n      <td>23</td>\n      <td>New Westminister</td>\n    </tr>\n    <tr>\n      <th rowspan=\"2\" valign=\"top\">M</th>\n      <th>Customer Service</th>\n      <td>Cashier</td>\n      <td>8181</td>\n      <td>9/26/1993</td>\n      <td>22</td>\n      <td>Prince George</td>\n    </tr>\n    <tr>\n      <th>Customer Service</th>\n      <td>Cashier</td>\n      <td>8223</td>\n      <td>2/11/1994</td>\n      <td>21</td>\n      <td>Trail</td>\n    </tr>\n    <tr>\n      <th rowspan=\"2\" valign=\"top\">F</th>\n      <th>Customer Service</th>\n      <td>Cashier</td>\n      <td>8226</td>\n      <td>2/16/1994</td>\n      <td>21</td>\n      <td>Victoria</td>\n    </tr>\n    <tr>\n      <th>Customer Service</th>\n      <td>Cashier</td>\n      <td>8264</td>\n      <td>6/13/1994</td>\n      <td>21</td>\n      <td>Vancouver</td>\n    </tr>\n  </tbody>\n</table>\n<p>6284 rows × 5 columns</p>\n</div>"
     },
     "execution_count": 16,
     "metadata": {},
     "output_type": "execute_result"
    }
   ],
   "source": [
    "df_op = df_op.reset_index(level=1)\n",
    "df_op"
   ],
   "metadata": {
    "collapsed": false
   }
  },
  {
   "cell_type": "code",
   "execution_count": 20,
   "outputs": [
    {
     "data": {
      "text/plain": "                            job_title  EmployeeID birthdate_key  age  \\\nGender department                                                      \nM      Executive                  CEO        1318      1/3/1954   61   \nF      Executive            VP Stores        1319      1/3/1957   58   \n       Executive        Legal Counsel        1320      1/2/1955   60   \nM      Executive   VP Human Resources        1321      1/2/1959   56   \n       Executive           VP Finance        1322      1/9/1958   57   \n\n                   city_name  \nGender department             \nM      Executive   Vancouver  \nF      Executive   Vancouver  \n       Executive   Vancouver  \nM      Executive   Vancouver  \n       Executive   Vancouver  ",
      "text/html": "<div>\n<style scoped>\n    .dataframe tbody tr th:only-of-type {\n        vertical-align: middle;\n    }\n\n    .dataframe tbody tr th {\n        vertical-align: top;\n    }\n\n    .dataframe thead th {\n        text-align: right;\n    }\n</style>\n<table border=\"1\" class=\"dataframe\">\n  <thead>\n    <tr style=\"text-align: right;\">\n      <th></th>\n      <th></th>\n      <th>job_title</th>\n      <th>EmployeeID</th>\n      <th>birthdate_key</th>\n      <th>age</th>\n      <th>city_name</th>\n    </tr>\n    <tr>\n      <th>Gender</th>\n      <th>department</th>\n      <th></th>\n      <th></th>\n      <th></th>\n      <th></th>\n      <th></th>\n    </tr>\n  </thead>\n  <tbody>\n    <tr>\n      <th>M</th>\n      <th>Executive</th>\n      <td>CEO</td>\n      <td>1318</td>\n      <td>1/3/1954</td>\n      <td>61</td>\n      <td>Vancouver</td>\n    </tr>\n    <tr>\n      <th rowspan=\"2\" valign=\"top\">F</th>\n      <th>Executive</th>\n      <td>VP Stores</td>\n      <td>1319</td>\n      <td>1/3/1957</td>\n      <td>58</td>\n      <td>Vancouver</td>\n    </tr>\n    <tr>\n      <th>Executive</th>\n      <td>Legal Counsel</td>\n      <td>1320</td>\n      <td>1/2/1955</td>\n      <td>60</td>\n      <td>Vancouver</td>\n    </tr>\n    <tr>\n      <th rowspan=\"2\" valign=\"top\">M</th>\n      <th>Executive</th>\n      <td>VP Human Resources</td>\n      <td>1321</td>\n      <td>1/2/1959</td>\n      <td>56</td>\n      <td>Vancouver</td>\n    </tr>\n    <tr>\n      <th>Executive</th>\n      <td>VP Finance</td>\n      <td>1322</td>\n      <td>1/9/1958</td>\n      <td>57</td>\n      <td>Vancouver</td>\n    </tr>\n  </tbody>\n</table>\n</div>"
     },
     "execution_count": 20,
     "metadata": {},
     "output_type": "execute_result"
    }
   ],
   "source": [
    "# 修改外层索引名为Gender\n",
    "df_op.rename_axis(index={'gender': 'Gender'}).head()"
   ],
   "metadata": {
    "collapsed": false
   }
  },
  {
   "cell_type": "code",
   "execution_count": 31,
   "outputs": [
    {
     "data": {
      "text/plain": "                             job_title  EmployeeID birthdate_key  age  \\\nM Executive                        CEO        1318      1/3/1954   61   \nF Executive                  VP Stores        1319      1/3/1957   58   \n  Executive              Legal Counsel        1320      1/2/1955   60   \nM Executive         VP Human Resources        1321      1/2/1959   56   \n  Executive                 VP Finance        1322      1/9/1958   57   \n...                                ...         ...           ...  ...   \nF Customer Service             Cashier        8036      8/9/1992   23   \nM Customer Service             Cashier        8181     9/26/1993   22   \n  Customer Service             Cashier        8223     2/11/1994   21   \nF Customer Service             Cashier        8226     2/16/1994   21   \n  Customer Service             Cashier        8264     6/13/1994   21   \n\n                           city_name  \nM Executive                Vancouver  \nF Executive                Vancouver  \n  Executive                Vancouver  \nM Executive                Vancouver  \n  Executive                Vancouver  \n...                              ...  \nF Customer Service  New Westminister  \nM Customer Service     Prince George  \n  Customer Service             Trail  \nF Customer Service          Victoria  \n  Customer Service         Vancouver  \n\n[6284 rows x 5 columns]",
      "text/html": "<div>\n<style scoped>\n    .dataframe tbody tr th:only-of-type {\n        vertical-align: middle;\n    }\n\n    .dataframe tbody tr th {\n        vertical-align: top;\n    }\n\n    .dataframe thead th {\n        text-align: right;\n    }\n</style>\n<table border=\"1\" class=\"dataframe\">\n  <thead>\n    <tr style=\"text-align: right;\">\n      <th></th>\n      <th></th>\n      <th>job_title</th>\n      <th>EmployeeID</th>\n      <th>birthdate_key</th>\n      <th>age</th>\n      <th>city_name</th>\n    </tr>\n  </thead>\n  <tbody>\n    <tr>\n      <th>M</th>\n      <th>Executive</th>\n      <td>CEO</td>\n      <td>1318</td>\n      <td>1/3/1954</td>\n      <td>61</td>\n      <td>Vancouver</td>\n    </tr>\n    <tr>\n      <th rowspan=\"2\" valign=\"top\">F</th>\n      <th>Executive</th>\n      <td>VP Stores</td>\n      <td>1319</td>\n      <td>1/3/1957</td>\n      <td>58</td>\n      <td>Vancouver</td>\n    </tr>\n    <tr>\n      <th>Executive</th>\n      <td>Legal Counsel</td>\n      <td>1320</td>\n      <td>1/2/1955</td>\n      <td>60</td>\n      <td>Vancouver</td>\n    </tr>\n    <tr>\n      <th rowspan=\"2\" valign=\"top\">M</th>\n      <th>Executive</th>\n      <td>VP Human Resources</td>\n      <td>1321</td>\n      <td>1/2/1959</td>\n      <td>56</td>\n      <td>Vancouver</td>\n    </tr>\n    <tr>\n      <th>Executive</th>\n      <td>VP Finance</td>\n      <td>1322</td>\n      <td>1/9/1958</td>\n      <td>57</td>\n      <td>Vancouver</td>\n    </tr>\n    <tr>\n      <th>...</th>\n      <th>...</th>\n      <td>...</td>\n      <td>...</td>\n      <td>...</td>\n      <td>...</td>\n      <td>...</td>\n    </tr>\n    <tr>\n      <th>F</th>\n      <th>Customer Service</th>\n      <td>Cashier</td>\n      <td>8036</td>\n      <td>8/9/1992</td>\n      <td>23</td>\n      <td>New Westminister</td>\n    </tr>\n    <tr>\n      <th rowspan=\"2\" valign=\"top\">M</th>\n      <th>Customer Service</th>\n      <td>Cashier</td>\n      <td>8181</td>\n      <td>9/26/1993</td>\n      <td>22</td>\n      <td>Prince George</td>\n    </tr>\n    <tr>\n      <th>Customer Service</th>\n      <td>Cashier</td>\n      <td>8223</td>\n      <td>2/11/1994</td>\n      <td>21</td>\n      <td>Trail</td>\n    </tr>\n    <tr>\n      <th rowspan=\"2\" valign=\"top\">F</th>\n      <th>Customer Service</th>\n      <td>Cashier</td>\n      <td>8226</td>\n      <td>2/16/1994</td>\n      <td>21</td>\n      <td>Victoria</td>\n    </tr>\n    <tr>\n      <th>Customer Service</th>\n      <td>Cashier</td>\n      <td>8264</td>\n      <td>6/13/1994</td>\n      <td>21</td>\n      <td>Vancouver</td>\n    </tr>\n  </tbody>\n</table>\n<p>6284 rows × 5 columns</p>\n</div>"
     },
     "execution_count": 31,
     "metadata": {},
     "output_type": "execute_result"
    }
   ],
   "source": [
    "# 用下划线合并两层行索引\n",
    "df_op.index = df_op.index.map(lambda x: '_'.join(x))\n",
    "df_op"
   ],
   "metadata": {
    "collapsed": false
   }
  },
  {
   "cell_type": "code",
   "execution_count": 30,
   "outputs": [
    {
     "data": {
      "text/plain": "                             job_title  EmployeeID birthdate_key  age  \\\nM Executive                        CEO        1318      1/3/1954   61   \nF Executive                  VP Stores        1319      1/3/1957   58   \n  Executive              Legal Counsel        1320      1/2/1955   60   \nM Executive         VP Human Resources        1321      1/2/1959   56   \n  Executive                 VP Finance        1322      1/9/1958   57   \n...                                ...         ...           ...  ...   \nF Customer Service             Cashier        8036      8/9/1992   23   \nM Customer Service             Cashier        8181     9/26/1993   22   \n  Customer Service             Cashier        8223     2/11/1994   21   \nF Customer Service             Cashier        8226     2/16/1994   21   \n  Customer Service             Cashier        8264     6/13/1994   21   \n\n                           city_name  \nM Executive                Vancouver  \nF Executive                Vancouver  \n  Executive                Vancouver  \nM Executive                Vancouver  \n  Executive                Vancouver  \n...                              ...  \nF Customer Service  New Westminister  \nM Customer Service     Prince George  \n  Customer Service             Trail  \nF Customer Service          Victoria  \n  Customer Service         Vancouver  \n\n[6284 rows x 5 columns]",
      "text/html": "<div>\n<style scoped>\n    .dataframe tbody tr th:only-of-type {\n        vertical-align: middle;\n    }\n\n    .dataframe tbody tr th {\n        vertical-align: top;\n    }\n\n    .dataframe thead th {\n        text-align: right;\n    }\n</style>\n<table border=\"1\" class=\"dataframe\">\n  <thead>\n    <tr style=\"text-align: right;\">\n      <th></th>\n      <th></th>\n      <th>job_title</th>\n      <th>EmployeeID</th>\n      <th>birthdate_key</th>\n      <th>age</th>\n      <th>city_name</th>\n    </tr>\n  </thead>\n  <tbody>\n    <tr>\n      <th>M</th>\n      <th>Executive</th>\n      <td>CEO</td>\n      <td>1318</td>\n      <td>1/3/1954</td>\n      <td>61</td>\n      <td>Vancouver</td>\n    </tr>\n    <tr>\n      <th rowspan=\"2\" valign=\"top\">F</th>\n      <th>Executive</th>\n      <td>VP Stores</td>\n      <td>1319</td>\n      <td>1/3/1957</td>\n      <td>58</td>\n      <td>Vancouver</td>\n    </tr>\n    <tr>\n      <th>Executive</th>\n      <td>Legal Counsel</td>\n      <td>1320</td>\n      <td>1/2/1955</td>\n      <td>60</td>\n      <td>Vancouver</td>\n    </tr>\n    <tr>\n      <th rowspan=\"2\" valign=\"top\">M</th>\n      <th>Executive</th>\n      <td>VP Human Resources</td>\n      <td>1321</td>\n      <td>1/2/1959</td>\n      <td>56</td>\n      <td>Vancouver</td>\n    </tr>\n    <tr>\n      <th>Executive</th>\n      <td>VP Finance</td>\n      <td>1322</td>\n      <td>1/9/1958</td>\n      <td>57</td>\n      <td>Vancouver</td>\n    </tr>\n    <tr>\n      <th>...</th>\n      <th>...</th>\n      <td>...</td>\n      <td>...</td>\n      <td>...</td>\n      <td>...</td>\n      <td>...</td>\n    </tr>\n    <tr>\n      <th>F</th>\n      <th>Customer Service</th>\n      <td>Cashier</td>\n      <td>8036</td>\n      <td>8/9/1992</td>\n      <td>23</td>\n      <td>New Westminister</td>\n    </tr>\n    <tr>\n      <th rowspan=\"2\" valign=\"top\">M</th>\n      <th>Customer Service</th>\n      <td>Cashier</td>\n      <td>8181</td>\n      <td>9/26/1993</td>\n      <td>22</td>\n      <td>Prince George</td>\n    </tr>\n    <tr>\n      <th>Customer Service</th>\n      <td>Cashier</td>\n      <td>8223</td>\n      <td>2/11/1994</td>\n      <td>21</td>\n      <td>Trail</td>\n    </tr>\n    <tr>\n      <th rowspan=\"2\" valign=\"top\">F</th>\n      <th>Customer Service</th>\n      <td>Cashier</td>\n      <td>8226</td>\n      <td>2/16/1994</td>\n      <td>21</td>\n      <td>Victoria</td>\n    </tr>\n    <tr>\n      <th>Customer Service</th>\n      <td>Cashier</td>\n      <td>8264</td>\n      <td>6/13/1994</td>\n      <td>21</td>\n      <td>Vancouver</td>\n    </tr>\n  </tbody>\n</table>\n<p>6284 rows × 5 columns</p>\n</div>"
     },
     "execution_count": 30,
     "metadata": {},
     "output_type": "execute_result"
    }
   ],
   "source": [
    "# 把行索引拆分为原状态\n",
    "df_op.index = df_op.index.map(lambda x: tuple(x.split('_')))\n",
    "df_op"
   ],
   "metadata": {
    "collapsed": false
   }
  },
  {
   "cell_type": "code",
   "execution_count": 33,
   "outputs": [
    {
     "data": {
      "text/plain": "                                  job_title  EmployeeID birthdate_key  age  \\\ngender department                                                            \nM      Executive                        CEO        1318      1/3/1954   61   \nF      Executive                  VP Stores        1319      1/3/1957   58   \n       Executive              Legal Counsel        1320      1/2/1955   60   \nM      Executive         VP Human Resources        1321      1/2/1959   56   \n       Executive                 VP Finance        1322      1/9/1958   57   \n...                                     ...         ...           ...  ...   \nF      Customer Service             Cashier        8036      8/9/1992   23   \nM      Customer Service             Cashier        8181     9/26/1993   22   \n       Customer Service             Cashier        8223     2/11/1994   21   \nF      Customer Service             Cashier        8226     2/16/1994   21   \n       Customer Service             Cashier        8264     6/13/1994   21   \n\n                                city_name  \ngender department                          \nM      Executive                Vancouver  \nF      Executive                Vancouver  \n       Executive                Vancouver  \nM      Executive                Vancouver  \n       Executive                Vancouver  \n...                                   ...  \nF      Customer Service  New Westminister  \nM      Customer Service     Prince George  \n       Customer Service             Trail  \nF      Customer Service          Victoria  \n       Customer Service         Vancouver  \n\n[6284 rows x 5 columns]",
      "text/html": "<div>\n<style scoped>\n    .dataframe tbody tr th:only-of-type {\n        vertical-align: middle;\n    }\n\n    .dataframe tbody tr th {\n        vertical-align: top;\n    }\n\n    .dataframe thead th {\n        text-align: right;\n    }\n</style>\n<table border=\"1\" class=\"dataframe\">\n  <thead>\n    <tr style=\"text-align: right;\">\n      <th></th>\n      <th></th>\n      <th>job_title</th>\n      <th>EmployeeID</th>\n      <th>birthdate_key</th>\n      <th>age</th>\n      <th>city_name</th>\n    </tr>\n    <tr>\n      <th>gender</th>\n      <th>department</th>\n      <th></th>\n      <th></th>\n      <th></th>\n      <th></th>\n      <th></th>\n    </tr>\n  </thead>\n  <tbody>\n    <tr>\n      <th>M</th>\n      <th>Executive</th>\n      <td>CEO</td>\n      <td>1318</td>\n      <td>1/3/1954</td>\n      <td>61</td>\n      <td>Vancouver</td>\n    </tr>\n    <tr>\n      <th rowspan=\"2\" valign=\"top\">F</th>\n      <th>Executive</th>\n      <td>VP Stores</td>\n      <td>1319</td>\n      <td>1/3/1957</td>\n      <td>58</td>\n      <td>Vancouver</td>\n    </tr>\n    <tr>\n      <th>Executive</th>\n      <td>Legal Counsel</td>\n      <td>1320</td>\n      <td>1/2/1955</td>\n      <td>60</td>\n      <td>Vancouver</td>\n    </tr>\n    <tr>\n      <th rowspan=\"2\" valign=\"top\">M</th>\n      <th>Executive</th>\n      <td>VP Human Resources</td>\n      <td>1321</td>\n      <td>1/2/1959</td>\n      <td>56</td>\n      <td>Vancouver</td>\n    </tr>\n    <tr>\n      <th>Executive</th>\n      <td>VP Finance</td>\n      <td>1322</td>\n      <td>1/9/1958</td>\n      <td>57</td>\n      <td>Vancouver</td>\n    </tr>\n    <tr>\n      <th>...</th>\n      <th>...</th>\n      <td>...</td>\n      <td>...</td>\n      <td>...</td>\n      <td>...</td>\n      <td>...</td>\n    </tr>\n    <tr>\n      <th>F</th>\n      <th>Customer Service</th>\n      <td>Cashier</td>\n      <td>8036</td>\n      <td>8/9/1992</td>\n      <td>23</td>\n      <td>New Westminister</td>\n    </tr>\n    <tr>\n      <th rowspan=\"2\" valign=\"top\">M</th>\n      <th>Customer Service</th>\n      <td>Cashier</td>\n      <td>8181</td>\n      <td>9/26/1993</td>\n      <td>22</td>\n      <td>Prince George</td>\n    </tr>\n    <tr>\n      <th>Customer Service</th>\n      <td>Cashier</td>\n      <td>8223</td>\n      <td>2/11/1994</td>\n      <td>21</td>\n      <td>Trail</td>\n    </tr>\n    <tr>\n      <th rowspan=\"2\" valign=\"top\">F</th>\n      <th>Customer Service</th>\n      <td>Cashier</td>\n      <td>8226</td>\n      <td>2/16/1994</td>\n      <td>21</td>\n      <td>Victoria</td>\n    </tr>\n    <tr>\n      <th>Customer Service</th>\n      <td>Cashier</td>\n      <td>8264</td>\n      <td>6/13/1994</td>\n      <td>21</td>\n      <td>Vancouver</td>\n    </tr>\n  </tbody>\n</table>\n<p>6284 rows × 5 columns</p>\n</div>"
     },
     "execution_count": 33,
     "metadata": {},
     "output_type": "execute_result"
    }
   ],
   "source": [
    "# 修改索引名为原表名称\n",
    "df_op = df_op.rename_axis(index=['gender', 'department'])\n",
    "df_op"
   ],
   "metadata": {
    "collapsed": false
   }
  },
  {
   "cell_type": "code",
   "execution_count": 35,
   "outputs": [
    {
     "data": {
      "text/plain": "      EmployeeID birthdate_key  age         city_name        department  \\\n0           1318      1/3/1954   61         Vancouver         Executive   \n1           1319      1/3/1957   58         Vancouver         Executive   \n2           1320      1/2/1955   60         Vancouver         Executive   \n3           1321      1/2/1959   56         Vancouver         Executive   \n4           1322      1/9/1958   57         Vancouver         Executive   \n...          ...           ...  ...               ...               ...   \n6279        8036      8/9/1992   23  New Westminister  Customer Service   \n6280        8181     9/26/1993   22     Prince George  Customer Service   \n6281        8223     2/11/1994   21             Trail  Customer Service   \n6282        8226     2/16/1994   21          Victoria  Customer Service   \n6283        8264     6/13/1994   21         Vancouver  Customer Service   \n\n               job_title gender  \n0                    CEO      M  \n1              VP Stores      F  \n2          Legal Counsel      F  \n3     VP Human Resources      M  \n4             VP Finance      M  \n...                  ...    ...  \n6279             Cashier      F  \n6280             Cashier      M  \n6281             Cashier      M  \n6282             Cashier      F  \n6283             Cashier      F  \n\n[6284 rows x 7 columns]",
      "text/html": "<div>\n<style scoped>\n    .dataframe tbody tr th:only-of-type {\n        vertical-align: middle;\n    }\n\n    .dataframe tbody tr th {\n        vertical-align: top;\n    }\n\n    .dataframe thead th {\n        text-align: right;\n    }\n</style>\n<table border=\"1\" class=\"dataframe\">\n  <thead>\n    <tr style=\"text-align: right;\">\n      <th></th>\n      <th>EmployeeID</th>\n      <th>birthdate_key</th>\n      <th>age</th>\n      <th>city_name</th>\n      <th>department</th>\n      <th>job_title</th>\n      <th>gender</th>\n    </tr>\n  </thead>\n  <tbody>\n    <tr>\n      <th>0</th>\n      <td>1318</td>\n      <td>1/3/1954</td>\n      <td>61</td>\n      <td>Vancouver</td>\n      <td>Executive</td>\n      <td>CEO</td>\n      <td>M</td>\n    </tr>\n    <tr>\n      <th>1</th>\n      <td>1319</td>\n      <td>1/3/1957</td>\n      <td>58</td>\n      <td>Vancouver</td>\n      <td>Executive</td>\n      <td>VP Stores</td>\n      <td>F</td>\n    </tr>\n    <tr>\n      <th>2</th>\n      <td>1320</td>\n      <td>1/2/1955</td>\n      <td>60</td>\n      <td>Vancouver</td>\n      <td>Executive</td>\n      <td>Legal Counsel</td>\n      <td>F</td>\n    </tr>\n    <tr>\n      <th>3</th>\n      <td>1321</td>\n      <td>1/2/1959</td>\n      <td>56</td>\n      <td>Vancouver</td>\n      <td>Executive</td>\n      <td>VP Human Resources</td>\n      <td>M</td>\n    </tr>\n    <tr>\n      <th>4</th>\n      <td>1322</td>\n      <td>1/9/1958</td>\n      <td>57</td>\n      <td>Vancouver</td>\n      <td>Executive</td>\n      <td>VP Finance</td>\n      <td>M</td>\n    </tr>\n    <tr>\n      <th>...</th>\n      <td>...</td>\n      <td>...</td>\n      <td>...</td>\n      <td>...</td>\n      <td>...</td>\n      <td>...</td>\n      <td>...</td>\n    </tr>\n    <tr>\n      <th>6279</th>\n      <td>8036</td>\n      <td>8/9/1992</td>\n      <td>23</td>\n      <td>New Westminister</td>\n      <td>Customer Service</td>\n      <td>Cashier</td>\n      <td>F</td>\n    </tr>\n    <tr>\n      <th>6280</th>\n      <td>8181</td>\n      <td>9/26/1993</td>\n      <td>22</td>\n      <td>Prince George</td>\n      <td>Customer Service</td>\n      <td>Cashier</td>\n      <td>M</td>\n    </tr>\n    <tr>\n      <th>6281</th>\n      <td>8223</td>\n      <td>2/11/1994</td>\n      <td>21</td>\n      <td>Trail</td>\n      <td>Customer Service</td>\n      <td>Cashier</td>\n      <td>M</td>\n    </tr>\n    <tr>\n      <th>6282</th>\n      <td>8226</td>\n      <td>2/16/1994</td>\n      <td>21</td>\n      <td>Victoria</td>\n      <td>Customer Service</td>\n      <td>Cashier</td>\n      <td>F</td>\n    </tr>\n    <tr>\n      <th>6283</th>\n      <td>8264</td>\n      <td>6/13/1994</td>\n      <td>21</td>\n      <td>Vancouver</td>\n      <td>Customer Service</td>\n      <td>Cashier</td>\n      <td>F</td>\n    </tr>\n  </tbody>\n</table>\n<p>6284 rows × 7 columns</p>\n</div>"
     },
     "execution_count": 35,
     "metadata": {},
     "output_type": "execute_result"
    }
   ],
   "source": [
    "# 恢复默认索引并将列保持为原表的相对位置\n",
    "df_op = df_op.reset_index().reindex(df.columns, axis=1)\n",
    "df_op"
   ],
   "metadata": {
    "collapsed": false
   }
  },
  {
   "cell_type": "markdown",
   "source": [
    "### Ex2：巧克力数据集\n"
   ],
   "metadata": {
    "collapsed": false
   }
  },
  {
   "cell_type": "code",
   "execution_count": 37,
   "outputs": [
    {
     "data": {
      "text/plain": "    Company  Review\\nDate Cocoa\\nPercent Company\\nLocation  Rating\n0  A. Morin          2016            63%            France    3.75\n1  A. Morin          2015            70%            France    2.75\n2  A. Morin          2015            70%            France    3.00\n3  A. Morin          2015            70%            France    3.50\n4  A. Morin          2015            70%            France    3.50",
      "text/html": "<div>\n<style scoped>\n    .dataframe tbody tr th:only-of-type {\n        vertical-align: middle;\n    }\n\n    .dataframe tbody tr th {\n        vertical-align: top;\n    }\n\n    .dataframe thead th {\n        text-align: right;\n    }\n</style>\n<table border=\"1\" class=\"dataframe\">\n  <thead>\n    <tr style=\"text-align: right;\">\n      <th></th>\n      <th>Company</th>\n      <th>Review\\nDate</th>\n      <th>Cocoa\\nPercent</th>\n      <th>Company\\nLocation</th>\n      <th>Rating</th>\n    </tr>\n  </thead>\n  <tbody>\n    <tr>\n      <th>0</th>\n      <td>A. Morin</td>\n      <td>2016</td>\n      <td>63%</td>\n      <td>France</td>\n      <td>3.75</td>\n    </tr>\n    <tr>\n      <th>1</th>\n      <td>A. Morin</td>\n      <td>2015</td>\n      <td>70%</td>\n      <td>France</td>\n      <td>2.75</td>\n    </tr>\n    <tr>\n      <th>2</th>\n      <td>A. Morin</td>\n      <td>2015</td>\n      <td>70%</td>\n      <td>France</td>\n      <td>3.00</td>\n    </tr>\n    <tr>\n      <th>3</th>\n      <td>A. Morin</td>\n      <td>2015</td>\n      <td>70%</td>\n      <td>France</td>\n      <td>3.50</td>\n    </tr>\n    <tr>\n      <th>4</th>\n      <td>A. Morin</td>\n      <td>2015</td>\n      <td>70%</td>\n      <td>France</td>\n      <td>3.50</td>\n    </tr>\n  </tbody>\n</table>\n</div>"
     },
     "execution_count": 37,
     "metadata": {},
     "output_type": "execute_result"
    }
   ],
   "source": [
    "df = pd.read_csv('./data/chocolate.csv')\n",
    "df.head()"
   ],
   "metadata": {
    "collapsed": false
   }
  },
  {
   "cell_type": "markdown",
   "source": [
    "* 把列索引名中的\\n替换为空格。\n",
    "* 巧克力Rating评分为1至5，每0.25分一档，请选出2.75分及以下且可可含量Cocoa Percent高于中位数的样本。\n",
    "* 将Review Date和Company Location设为索引后，选出Review Date在2012年之后且Company Location不属于France, Canada, Amsterdam, Belgium的样本。"
   ],
   "metadata": {
    "collapsed": false
   }
  },
  {
   "cell_type": "code",
   "execution_count": 38,
   "outputs": [
    {
     "data": {
      "text/plain": "       Company  Review Date Cocoa Percent Company Location  Rating\n0     A. Morin         2016           63%           France    3.75\n1     A. Morin         2015           70%           France    2.75\n2     A. Morin         2015           70%           France    3.00\n3     A. Morin         2015           70%           France    3.50\n4     A. Morin         2015           70%           France    3.50\n...        ...          ...           ...              ...     ...\n1790    Zotter         2011           70%          Austria    3.75\n1791    Zotter         2011           65%          Austria    3.00\n1792    Zotter         2011           65%          Austria    3.50\n1793    Zotter         2011           62%          Austria    3.25\n1794    Zotter         2010           65%          Austria    3.00\n\n[1795 rows x 5 columns]",
      "text/html": "<div>\n<style scoped>\n    .dataframe tbody tr th:only-of-type {\n        vertical-align: middle;\n    }\n\n    .dataframe tbody tr th {\n        vertical-align: top;\n    }\n\n    .dataframe thead th {\n        text-align: right;\n    }\n</style>\n<table border=\"1\" class=\"dataframe\">\n  <thead>\n    <tr style=\"text-align: right;\">\n      <th></th>\n      <th>Company</th>\n      <th>Review Date</th>\n      <th>Cocoa Percent</th>\n      <th>Company Location</th>\n      <th>Rating</th>\n    </tr>\n  </thead>\n  <tbody>\n    <tr>\n      <th>0</th>\n      <td>A. Morin</td>\n      <td>2016</td>\n      <td>63%</td>\n      <td>France</td>\n      <td>3.75</td>\n    </tr>\n    <tr>\n      <th>1</th>\n      <td>A. Morin</td>\n      <td>2015</td>\n      <td>70%</td>\n      <td>France</td>\n      <td>2.75</td>\n    </tr>\n    <tr>\n      <th>2</th>\n      <td>A. Morin</td>\n      <td>2015</td>\n      <td>70%</td>\n      <td>France</td>\n      <td>3.00</td>\n    </tr>\n    <tr>\n      <th>3</th>\n      <td>A. Morin</td>\n      <td>2015</td>\n      <td>70%</td>\n      <td>France</td>\n      <td>3.50</td>\n    </tr>\n    <tr>\n      <th>4</th>\n      <td>A. Morin</td>\n      <td>2015</td>\n      <td>70%</td>\n      <td>France</td>\n      <td>3.50</td>\n    </tr>\n    <tr>\n      <th>...</th>\n      <td>...</td>\n      <td>...</td>\n      <td>...</td>\n      <td>...</td>\n      <td>...</td>\n    </tr>\n    <tr>\n      <th>1790</th>\n      <td>Zotter</td>\n      <td>2011</td>\n      <td>70%</td>\n      <td>Austria</td>\n      <td>3.75</td>\n    </tr>\n    <tr>\n      <th>1791</th>\n      <td>Zotter</td>\n      <td>2011</td>\n      <td>65%</td>\n      <td>Austria</td>\n      <td>3.00</td>\n    </tr>\n    <tr>\n      <th>1792</th>\n      <td>Zotter</td>\n      <td>2011</td>\n      <td>65%</td>\n      <td>Austria</td>\n      <td>3.50</td>\n    </tr>\n    <tr>\n      <th>1793</th>\n      <td>Zotter</td>\n      <td>2011</td>\n      <td>62%</td>\n      <td>Austria</td>\n      <td>3.25</td>\n    </tr>\n    <tr>\n      <th>1794</th>\n      <td>Zotter</td>\n      <td>2010</td>\n      <td>65%</td>\n      <td>Austria</td>\n      <td>3.00</td>\n    </tr>\n  </tbody>\n</table>\n<p>1795 rows × 5 columns</p>\n</div>"
     },
     "execution_count": 38,
     "metadata": {},
     "output_type": "execute_result"
    }
   ],
   "source": [
    "df.columns = [' '.join(i.split('\\n')) for i in df.columns]\n",
    "df"
   ],
   "metadata": {
    "collapsed": false
   }
  },
  {
   "cell_type": "code",
   "execution_count": 40,
   "outputs": [
    {
     "ename": "TypeError",
     "evalue": "'float' object is not subscriptable",
     "output_type": "error",
     "traceback": [
      "\u001B[0;31m---------------------------------------------------------------------------\u001B[0m",
      "\u001B[0;31mTypeError\u001B[0m                                 Traceback (most recent call last)",
      "Cell \u001B[0;32mIn[40], line 2\u001B[0m\n\u001B[1;32m      1\u001B[0m \u001B[38;5;66;03m# 巧克力Rating评分为1至5，每0.25分一档，请选出2.75分及以下且可可含量Cocoa Percent高于中位数的样本。\u001B[39;00m\n\u001B[0;32m----> 2\u001B[0m df[\u001B[38;5;124m'\u001B[39m\u001B[38;5;124mCocoa Percent\u001B[39m\u001B[38;5;124m'\u001B[39m] \u001B[38;5;241m=\u001B[39m \u001B[43mdf\u001B[49m\u001B[43m[\u001B[49m\u001B[38;5;124;43m'\u001B[39;49m\u001B[38;5;124;43mCocoa Percent\u001B[39;49m\u001B[38;5;124;43m'\u001B[39;49m\u001B[43m]\u001B[49m\u001B[38;5;241;43m.\u001B[39;49m\u001B[43mapply\u001B[49m\u001B[43m(\u001B[49m\u001B[38;5;28;43;01mlambda\u001B[39;49;00m\u001B[43m \u001B[49m\u001B[43mx\u001B[49m\u001B[43m:\u001B[49m\u001B[43m \u001B[49m\u001B[38;5;28;43mfloat\u001B[39;49m\u001B[43m(\u001B[49m\u001B[43mx\u001B[49m\u001B[43m[\u001B[49m\u001B[43m:\u001B[49m\u001B[38;5;241;43m-\u001B[39;49m\u001B[38;5;241;43m1\u001B[39;49m\u001B[43m]\u001B[49m\u001B[43m)\u001B[49m\u001B[43m \u001B[49m\u001B[38;5;241;43m/\u001B[39;49m\u001B[43m \u001B[49m\u001B[38;5;241;43m100\u001B[39;49m\u001B[43m)\u001B[49m\n\u001B[1;32m      3\u001B[0m df\u001B[38;5;241m.\u001B[39mquery(\u001B[38;5;124m'\u001B[39m\u001B[38;5;124m(Rating<3)&(`Cocoa Percent`>`Cocoa Percent`.median())\u001B[39m\u001B[38;5;124m'\u001B[39m)\u001B[38;5;241m.\u001B[39mhead(\u001B[38;5;241m3\u001B[39m)\n",
      "File \u001B[0;32m~/miniforge3/envs/SmartInvest/lib/python3.11/site-packages/pandas/core/series.py:4771\u001B[0m, in \u001B[0;36mSeries.apply\u001B[0;34m(self, func, convert_dtype, args, **kwargs)\u001B[0m\n\u001B[1;32m   4661\u001B[0m \u001B[38;5;28;01mdef\u001B[39;00m \u001B[38;5;21mapply\u001B[39m(\n\u001B[1;32m   4662\u001B[0m     \u001B[38;5;28mself\u001B[39m,\n\u001B[1;32m   4663\u001B[0m     func: AggFuncType,\n\u001B[0;32m   (...)\u001B[0m\n\u001B[1;32m   4666\u001B[0m     \u001B[38;5;241m*\u001B[39m\u001B[38;5;241m*\u001B[39mkwargs,\n\u001B[1;32m   4667\u001B[0m ) \u001B[38;5;241m-\u001B[39m\u001B[38;5;241m>\u001B[39m DataFrame \u001B[38;5;241m|\u001B[39m Series:\n\u001B[1;32m   4668\u001B[0m \u001B[38;5;250m    \u001B[39m\u001B[38;5;124;03m\"\"\"\u001B[39;00m\n\u001B[1;32m   4669\u001B[0m \u001B[38;5;124;03m    Invoke function on values of Series.\u001B[39;00m\n\u001B[1;32m   4670\u001B[0m \n\u001B[0;32m   (...)\u001B[0m\n\u001B[1;32m   4769\u001B[0m \u001B[38;5;124;03m    dtype: float64\u001B[39;00m\n\u001B[1;32m   4770\u001B[0m \u001B[38;5;124;03m    \"\"\"\u001B[39;00m\n\u001B[0;32m-> 4771\u001B[0m     \u001B[38;5;28;01mreturn\u001B[39;00m \u001B[43mSeriesApply\u001B[49m\u001B[43m(\u001B[49m\u001B[38;5;28;43mself\u001B[39;49m\u001B[43m,\u001B[49m\u001B[43m \u001B[49m\u001B[43mfunc\u001B[49m\u001B[43m,\u001B[49m\u001B[43m \u001B[49m\u001B[43mconvert_dtype\u001B[49m\u001B[43m,\u001B[49m\u001B[43m \u001B[49m\u001B[43margs\u001B[49m\u001B[43m,\u001B[49m\u001B[43m \u001B[49m\u001B[43mkwargs\u001B[49m\u001B[43m)\u001B[49m\u001B[38;5;241;43m.\u001B[39;49m\u001B[43mapply\u001B[49m\u001B[43m(\u001B[49m\u001B[43m)\u001B[49m\n",
      "File \u001B[0;32m~/miniforge3/envs/SmartInvest/lib/python3.11/site-packages/pandas/core/apply.py:1123\u001B[0m, in \u001B[0;36mSeriesApply.apply\u001B[0;34m(self)\u001B[0m\n\u001B[1;32m   1120\u001B[0m     \u001B[38;5;28;01mreturn\u001B[39;00m \u001B[38;5;28mself\u001B[39m\u001B[38;5;241m.\u001B[39mapply_str()\n\u001B[1;32m   1122\u001B[0m \u001B[38;5;66;03m# self.f is Callable\u001B[39;00m\n\u001B[0;32m-> 1123\u001B[0m \u001B[38;5;28;01mreturn\u001B[39;00m \u001B[38;5;28;43mself\u001B[39;49m\u001B[38;5;241;43m.\u001B[39;49m\u001B[43mapply_standard\u001B[49m\u001B[43m(\u001B[49m\u001B[43m)\u001B[49m\n",
      "File \u001B[0;32m~/miniforge3/envs/SmartInvest/lib/python3.11/site-packages/pandas/core/apply.py:1174\u001B[0m, in \u001B[0;36mSeriesApply.apply_standard\u001B[0;34m(self)\u001B[0m\n\u001B[1;32m   1172\u001B[0m     \u001B[38;5;28;01melse\u001B[39;00m:\n\u001B[1;32m   1173\u001B[0m         values \u001B[38;5;241m=\u001B[39m obj\u001B[38;5;241m.\u001B[39mastype(\u001B[38;5;28mobject\u001B[39m)\u001B[38;5;241m.\u001B[39m_values\n\u001B[0;32m-> 1174\u001B[0m         mapped \u001B[38;5;241m=\u001B[39m \u001B[43mlib\u001B[49m\u001B[38;5;241;43m.\u001B[39;49m\u001B[43mmap_infer\u001B[49m\u001B[43m(\u001B[49m\n\u001B[1;32m   1175\u001B[0m \u001B[43m            \u001B[49m\u001B[43mvalues\u001B[49m\u001B[43m,\u001B[49m\n\u001B[1;32m   1176\u001B[0m \u001B[43m            \u001B[49m\u001B[43mf\u001B[49m\u001B[43m,\u001B[49m\n\u001B[1;32m   1177\u001B[0m \u001B[43m            \u001B[49m\u001B[43mconvert\u001B[49m\u001B[38;5;241;43m=\u001B[39;49m\u001B[38;5;28;43mself\u001B[39;49m\u001B[38;5;241;43m.\u001B[39;49m\u001B[43mconvert_dtype\u001B[49m\u001B[43m,\u001B[49m\n\u001B[1;32m   1178\u001B[0m \u001B[43m        \u001B[49m\u001B[43m)\u001B[49m\n\u001B[1;32m   1180\u001B[0m \u001B[38;5;28;01mif\u001B[39;00m \u001B[38;5;28mlen\u001B[39m(mapped) \u001B[38;5;129;01mand\u001B[39;00m \u001B[38;5;28misinstance\u001B[39m(mapped[\u001B[38;5;241m0\u001B[39m], ABCSeries):\n\u001B[1;32m   1181\u001B[0m     \u001B[38;5;66;03m# GH#43986 Need to do list(mapped) in order to get treated as nested\u001B[39;00m\n\u001B[1;32m   1182\u001B[0m     \u001B[38;5;66;03m#  See also GH#25959 regarding EA support\u001B[39;00m\n\u001B[1;32m   1183\u001B[0m     \u001B[38;5;28;01mreturn\u001B[39;00m obj\u001B[38;5;241m.\u001B[39m_constructor_expanddim(\u001B[38;5;28mlist\u001B[39m(mapped), index\u001B[38;5;241m=\u001B[39mobj\u001B[38;5;241m.\u001B[39mindex)\n",
      "File \u001B[0;32m~/miniforge3/envs/SmartInvest/lib/python3.11/site-packages/pandas/_libs/lib.pyx:2924\u001B[0m, in \u001B[0;36mpandas._libs.lib.map_infer\u001B[0;34m()\u001B[0m\n",
      "Cell \u001B[0;32mIn[40], line 2\u001B[0m, in \u001B[0;36m<lambda>\u001B[0;34m(x)\u001B[0m\n\u001B[1;32m      1\u001B[0m \u001B[38;5;66;03m# 巧克力Rating评分为1至5，每0.25分一档，请选出2.75分及以下且可可含量Cocoa Percent高于中位数的样本。\u001B[39;00m\n\u001B[0;32m----> 2\u001B[0m df[\u001B[38;5;124m'\u001B[39m\u001B[38;5;124mCocoa Percent\u001B[39m\u001B[38;5;124m'\u001B[39m] \u001B[38;5;241m=\u001B[39m df[\u001B[38;5;124m'\u001B[39m\u001B[38;5;124mCocoa Percent\u001B[39m\u001B[38;5;124m'\u001B[39m]\u001B[38;5;241m.\u001B[39mapply(\u001B[38;5;28;01mlambda\u001B[39;00m x: \u001B[38;5;28mfloat\u001B[39m(\u001B[43mx\u001B[49m\u001B[43m[\u001B[49m\u001B[43m:\u001B[49m\u001B[38;5;241;43m-\u001B[39;49m\u001B[38;5;241;43m1\u001B[39;49m\u001B[43m]\u001B[49m) \u001B[38;5;241m/\u001B[39m \u001B[38;5;241m100\u001B[39m)\n\u001B[1;32m      3\u001B[0m df\u001B[38;5;241m.\u001B[39mquery(\u001B[38;5;124m'\u001B[39m\u001B[38;5;124m(Rating<3)&(`Cocoa Percent`>`Cocoa Percent`.median())\u001B[39m\u001B[38;5;124m'\u001B[39m)\u001B[38;5;241m.\u001B[39mhead(\u001B[38;5;241m3\u001B[39m)\n",
      "\u001B[0;31mTypeError\u001B[0m: 'float' object is not subscriptable"
     ]
    }
   ],
   "source": [
    "# 巧克力Rating评分为1至5，每0.25分一档，请选出2.75分及以下且可可含量Cocoa Percent高于中位数的样本。\n",
    "df['Cocoa Percent'] = df['Cocoa Percent'].apply(lambda x: float(x[:-1]) / 100)\n",
    "df.query('(Rating<3)&(`Cocoa Percent`>`Cocoa Percent`.median())').head(3)"
   ],
   "metadata": {
    "collapsed": false
   }
  },
  {
   "cell_type": "code",
   "execution_count": 42,
   "outputs": [
    {
     "data": {
      "text/plain": "<pandas.core.indexing._IndexSlice at 0x11c5ab210>"
     },
     "execution_count": 42,
     "metadata": {},
     "output_type": "execute_result"
    }
   ],
   "source": [
    "# 将Review Date和Company Location设为索引后，选出Review Date在2012年之后且Company Location不属于France, Canada, Amsterdam, Belgium的样本。\n",
    "idx = pd.IndexSlice\n",
    "exclude = ['France', 'Canada', 'Amsterdam', 'Belgium']\n",
    "res = df.set_index(['Review Date', 'Company Location']).sort_index(level=0)\n",
    "res.loc[idx[2012:, ~res.index.get_level_values(1).isin(exclude)], :].head(3)"
   ],
   "metadata": {
    "collapsed": false
   }
  },
  {
   "cell_type": "code",
   "execution_count": null,
   "outputs": [],
   "source": [],
   "metadata": {
    "collapsed": false
   }
  }
 ],
 "metadata": {
  "kernelspec": {
   "display_name": "Python 3",
   "language": "python",
   "name": "python3"
  },
  "language_info": {
   "codemirror_mode": {
    "name": "ipython",
    "version": 2
   },
   "file_extension": ".py",
   "mimetype": "text/x-python",
   "name": "python",
   "nbconvert_exporter": "python",
   "pygments_lexer": "ipython2",
   "version": "2.7.6"
  }
 },
 "nbformat": 4,
 "nbformat_minor": 0
}
