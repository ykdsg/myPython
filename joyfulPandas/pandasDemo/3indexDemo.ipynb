{
 "cells": [
  {
   "cell_type": "code",
   "execution_count": 18,
   "metadata": {
    "collapsed": true
   },
   "outputs": [],
   "source": [
    "import pandas as pd\n",
    "import numpy as np"
   ]
  },
  {
   "cell_type": "code",
   "execution_count": 11,
   "outputs": [
    {
     "data": {
      "text/plain": "0      Gaopeng Yang\n1    Changqiang You\n2           Mei Sun\n3      Xiaojuan Sun\n4       Gaojuan You\nName: Name, dtype: object"
     },
     "execution_count": 11,
     "metadata": {},
     "output_type": "execute_result"
    }
   ],
   "source": [
    "df = pd.read_csv('../data/learn_pandas.csv', usecols=['School', 'Grade', 'Name', 'Gender', 'Weight', 'Transfer'])\n",
    "df['Name'].head()"
   ],
   "metadata": {
    "collapsed": false
   }
  },
  {
   "cell_type": "code",
   "execution_count": 12,
   "outputs": [
    {
     "data": {
      "text/plain": "                                       School      Grade  Gender  Weight  \\\nName                                                                       \nGaopeng Yang    Shanghai Jiao Tong University   Freshman  Female    46.0   \nChangqiang You              Peking University   Freshman    Male    70.0   \nMei Sun         Shanghai Jiao Tong University     Senior    Male    89.0   \nXiaojuan Sun                 Fudan University  Sophomore  Female    41.0   \nGaojuan You                  Fudan University  Sophomore    Male    74.0   \n\n               Transfer  \nName                     \nGaopeng Yang          N  \nChangqiang You        N  \nMei Sun               N  \nXiaojuan Sun          N  \nGaojuan You           N  ",
      "text/html": "<div>\n<style scoped>\n    .dataframe tbody tr th:only-of-type {\n        vertical-align: middle;\n    }\n\n    .dataframe tbody tr th {\n        vertical-align: top;\n    }\n\n    .dataframe thead th {\n        text-align: right;\n    }\n</style>\n<table border=\"1\" class=\"dataframe\">\n  <thead>\n    <tr style=\"text-align: right;\">\n      <th></th>\n      <th>School</th>\n      <th>Grade</th>\n      <th>Gender</th>\n      <th>Weight</th>\n      <th>Transfer</th>\n    </tr>\n    <tr>\n      <th>Name</th>\n      <th></th>\n      <th></th>\n      <th></th>\n      <th></th>\n      <th></th>\n    </tr>\n  </thead>\n  <tbody>\n    <tr>\n      <th>Gaopeng Yang</th>\n      <td>Shanghai Jiao Tong University</td>\n      <td>Freshman</td>\n      <td>Female</td>\n      <td>46.0</td>\n      <td>N</td>\n    </tr>\n    <tr>\n      <th>Changqiang You</th>\n      <td>Peking University</td>\n      <td>Freshman</td>\n      <td>Male</td>\n      <td>70.0</td>\n      <td>N</td>\n    </tr>\n    <tr>\n      <th>Mei Sun</th>\n      <td>Shanghai Jiao Tong University</td>\n      <td>Senior</td>\n      <td>Male</td>\n      <td>89.0</td>\n      <td>N</td>\n    </tr>\n    <tr>\n      <th>Xiaojuan Sun</th>\n      <td>Fudan University</td>\n      <td>Sophomore</td>\n      <td>Female</td>\n      <td>41.0</td>\n      <td>N</td>\n    </tr>\n    <tr>\n      <th>Gaojuan You</th>\n      <td>Fudan University</td>\n      <td>Sophomore</td>\n      <td>Male</td>\n      <td>74.0</td>\n      <td>N</td>\n    </tr>\n  </tbody>\n</table>\n</div>"
     },
     "execution_count": 12,
     "metadata": {},
     "output_type": "execute_result"
    }
   ],
   "source": [
    "df_demo = df.set_index('Name')\n",
    "df_demo.head()"
   ],
   "metadata": {
    "collapsed": false
   }
  },
  {
   "cell_type": "code",
   "execution_count": 13,
   "outputs": [
    {
     "data": {
      "text/plain": "                          School   Grade  Gender  Weight Transfer\n5               Fudan University  Junior  Female    46.0        N\n4            Tsinghua University  Senior  Female    50.0        N\n3  Shanghai Jiao Tong University  Senior  Female    45.0        N",
      "text/html": "<div>\n<style scoped>\n    .dataframe tbody tr th:only-of-type {\n        vertical-align: middle;\n    }\n\n    .dataframe tbody tr th {\n        vertical-align: top;\n    }\n\n    .dataframe thead th {\n        text-align: right;\n    }\n</style>\n<table border=\"1\" class=\"dataframe\">\n  <thead>\n    <tr style=\"text-align: right;\">\n      <th></th>\n      <th>School</th>\n      <th>Grade</th>\n      <th>Gender</th>\n      <th>Weight</th>\n      <th>Transfer</th>\n    </tr>\n  </thead>\n  <tbody>\n    <tr>\n      <th>5</th>\n      <td>Fudan University</td>\n      <td>Junior</td>\n      <td>Female</td>\n      <td>46.0</td>\n      <td>N</td>\n    </tr>\n    <tr>\n      <th>4</th>\n      <td>Tsinghua University</td>\n      <td>Senior</td>\n      <td>Female</td>\n      <td>50.0</td>\n      <td>N</td>\n    </tr>\n    <tr>\n      <th>3</th>\n      <td>Shanghai Jiao Tong University</td>\n      <td>Senior</td>\n      <td>Female</td>\n      <td>45.0</td>\n      <td>N</td>\n    </tr>\n  </tbody>\n</table>\n</div>"
     },
     "execution_count": 13,
     "metadata": {},
     "output_type": "execute_result"
    }
   ],
   "source": [
    "df_loc_slice_demo = df_demo.copy()\n",
    "df_loc_slice_demo.index = range(df_demo.shape[0], 0, -1)\n",
    "df_loc_slice_demo.loc[5:3]"
   ],
   "metadata": {
    "collapsed": false
   }
  },
  {
   "cell_type": "code",
   "execution_count": 14,
   "outputs": [
    {
     "data": {
      "text/plain": "                            School      Grade  Gender  Weight Transfer\n200  Shanghai Jiao Tong University   Freshman  Female    46.0        N\n199              Peking University   Freshman    Male    70.0        N\n198  Shanghai Jiao Tong University     Senior    Male    89.0        N\n197               Fudan University  Sophomore  Female    41.0        N\n196               Fudan University  Sophomore    Male    74.0        N",
      "text/html": "<div>\n<style scoped>\n    .dataframe tbody tr th:only-of-type {\n        vertical-align: middle;\n    }\n\n    .dataframe tbody tr th {\n        vertical-align: top;\n    }\n\n    .dataframe thead th {\n        text-align: right;\n    }\n</style>\n<table border=\"1\" class=\"dataframe\">\n  <thead>\n    <tr style=\"text-align: right;\">\n      <th></th>\n      <th>School</th>\n      <th>Grade</th>\n      <th>Gender</th>\n      <th>Weight</th>\n      <th>Transfer</th>\n    </tr>\n  </thead>\n  <tbody>\n    <tr>\n      <th>200</th>\n      <td>Shanghai Jiao Tong University</td>\n      <td>Freshman</td>\n      <td>Female</td>\n      <td>46.0</td>\n      <td>N</td>\n    </tr>\n    <tr>\n      <th>199</th>\n      <td>Peking University</td>\n      <td>Freshman</td>\n      <td>Male</td>\n      <td>70.0</td>\n      <td>N</td>\n    </tr>\n    <tr>\n      <th>198</th>\n      <td>Shanghai Jiao Tong University</td>\n      <td>Senior</td>\n      <td>Male</td>\n      <td>89.0</td>\n      <td>N</td>\n    </tr>\n    <tr>\n      <th>197</th>\n      <td>Fudan University</td>\n      <td>Sophomore</td>\n      <td>Female</td>\n      <td>41.0</td>\n      <td>N</td>\n    </tr>\n    <tr>\n      <th>196</th>\n      <td>Fudan University</td>\n      <td>Sophomore</td>\n      <td>Male</td>\n      <td>74.0</td>\n      <td>N</td>\n    </tr>\n  </tbody>\n</table>\n</div>"
     },
     "execution_count": 14,
     "metadata": {},
     "output_type": "execute_result"
    }
   ],
   "source": [
    "df_loc_slice_demo.head()"
   ],
   "metadata": {
    "collapsed": false
   }
  },
  {
   "cell_type": "code",
   "execution_count": 15,
   "outputs": [
    {
     "data": {
      "text/plain": "Empty DataFrame\nColumns: [School, Grade, Gender, Weight, Transfer]\nIndex: []",
      "text/html": "<div>\n<style scoped>\n    .dataframe tbody tr th:only-of-type {\n        vertical-align: middle;\n    }\n\n    .dataframe tbody tr th {\n        vertical-align: top;\n    }\n\n    .dataframe thead th {\n        text-align: right;\n    }\n</style>\n<table border=\"1\" class=\"dataframe\">\n  <thead>\n    <tr style=\"text-align: right;\">\n      <th></th>\n      <th>School</th>\n      <th>Grade</th>\n      <th>Gender</th>\n      <th>Weight</th>\n      <th>Transfer</th>\n    </tr>\n  </thead>\n  <tbody>\n  </tbody>\n</table>\n</div>"
     },
     "execution_count": 15,
     "metadata": {},
     "output_type": "execute_result"
    }
   ],
   "source": [
    "df_loc_slice_demo.loc[3:5]  # 没有返回，说明不是整数位置切片"
   ],
   "metadata": {
    "collapsed": false
   }
  },
  {
   "cell_type": "code",
   "execution_count": 17,
   "outputs": [
    {
     "data": {
      "text/plain": "                          School   Grade  Gender  Weight Transfer\n3  Shanghai Jiao Tong University  Senior  Female    45.0        N\n4            Tsinghua University  Senior  Female    50.0        N\n5               Fudan University  Junior  Female    46.0        N",
      "text/html": "<div>\n<style scoped>\n    .dataframe tbody tr th:only-of-type {\n        vertical-align: middle;\n    }\n\n    .dataframe tbody tr th {\n        vertical-align: top;\n    }\n\n    .dataframe thead th {\n        text-align: right;\n    }\n</style>\n<table border=\"1\" class=\"dataframe\">\n  <thead>\n    <tr style=\"text-align: right;\">\n      <th></th>\n      <th>School</th>\n      <th>Grade</th>\n      <th>Gender</th>\n      <th>Weight</th>\n      <th>Transfer</th>\n    </tr>\n  </thead>\n  <tbody>\n    <tr>\n      <th>3</th>\n      <td>Shanghai Jiao Tong University</td>\n      <td>Senior</td>\n      <td>Female</td>\n      <td>45.0</td>\n      <td>N</td>\n    </tr>\n    <tr>\n      <th>4</th>\n      <td>Tsinghua University</td>\n      <td>Senior</td>\n      <td>Female</td>\n      <td>50.0</td>\n      <td>N</td>\n    </tr>\n    <tr>\n      <th>5</th>\n      <td>Fudan University</td>\n      <td>Junior</td>\n      <td>Female</td>\n      <td>46.0</td>\n      <td>N</td>\n    </tr>\n  </tbody>\n</table>\n</div>"
     },
     "execution_count": 17,
     "metadata": {},
     "output_type": "execute_result"
    }
   ],
   "source": [
    "df_loc_slice_demo.loc[3:5:-1]"
   ],
   "metadata": {
    "collapsed": false
   }
  },
  {
   "cell_type": "code",
   "execution_count": 19,
   "outputs": [
    {
     "data": {
      "text/plain": "Indicator       Height                           Weight                   \\\nGrade         Freshman Senior Sophomore Junior Freshman Senior Sophomore   \nSchool Gender                                                              \nA      Female    171.8  165.0     167.9  174.2     60.6   55.1      63.3   \n       Male      172.3  158.1     167.8  162.2     71.2   71.0      63.1   \nB      Female    162.5  165.1     163.7  170.3     59.8   57.9      56.5   \n       Male      166.8  163.6     165.2  164.7     62.5   62.8      58.7   \nC      Female    170.5  162.0     164.6  158.7     56.9   63.9      60.5   \n       Male      150.2  166.3     167.3  159.3     62.4   59.1      64.9   \nD      Female    174.3  155.7     163.2  162.1     65.3   66.5      61.8   \n       Male      170.7  170.3     163.8  164.9     61.6   63.2      60.9   \n\nIndicator             \nGrade         Junior  \nSchool Gender         \nA      Female   65.8  \n       Male     63.5  \nB      Female   74.8  \n       Male     68.9  \nC      Female   66.9  \n       Male     67.1  \nD      Female   63.2  \n       Male     56.4  ",
      "text/html": "<div>\n<style scoped>\n    .dataframe tbody tr th:only-of-type {\n        vertical-align: middle;\n    }\n\n    .dataframe tbody tr th {\n        vertical-align: top;\n    }\n\n    .dataframe thead tr th {\n        text-align: left;\n    }\n\n    .dataframe thead tr:last-of-type th {\n        text-align: right;\n    }\n</style>\n<table border=\"1\" class=\"dataframe\">\n  <thead>\n    <tr>\n      <th></th>\n      <th>Indicator</th>\n      <th colspan=\"4\" halign=\"left\">Height</th>\n      <th colspan=\"4\" halign=\"left\">Weight</th>\n    </tr>\n    <tr>\n      <th></th>\n      <th>Grade</th>\n      <th>Freshman</th>\n      <th>Senior</th>\n      <th>Sophomore</th>\n      <th>Junior</th>\n      <th>Freshman</th>\n      <th>Senior</th>\n      <th>Sophomore</th>\n      <th>Junior</th>\n    </tr>\n    <tr>\n      <th>School</th>\n      <th>Gender</th>\n      <th></th>\n      <th></th>\n      <th></th>\n      <th></th>\n      <th></th>\n      <th></th>\n      <th></th>\n      <th></th>\n    </tr>\n  </thead>\n  <tbody>\n    <tr>\n      <th rowspan=\"2\" valign=\"top\">A</th>\n      <th>Female</th>\n      <td>171.8</td>\n      <td>165.0</td>\n      <td>167.9</td>\n      <td>174.2</td>\n      <td>60.6</td>\n      <td>55.1</td>\n      <td>63.3</td>\n      <td>65.8</td>\n    </tr>\n    <tr>\n      <th>Male</th>\n      <td>172.3</td>\n      <td>158.1</td>\n      <td>167.8</td>\n      <td>162.2</td>\n      <td>71.2</td>\n      <td>71.0</td>\n      <td>63.1</td>\n      <td>63.5</td>\n    </tr>\n    <tr>\n      <th rowspan=\"2\" valign=\"top\">B</th>\n      <th>Female</th>\n      <td>162.5</td>\n      <td>165.1</td>\n      <td>163.7</td>\n      <td>170.3</td>\n      <td>59.8</td>\n      <td>57.9</td>\n      <td>56.5</td>\n      <td>74.8</td>\n    </tr>\n    <tr>\n      <th>Male</th>\n      <td>166.8</td>\n      <td>163.6</td>\n      <td>165.2</td>\n      <td>164.7</td>\n      <td>62.5</td>\n      <td>62.8</td>\n      <td>58.7</td>\n      <td>68.9</td>\n    </tr>\n    <tr>\n      <th rowspan=\"2\" valign=\"top\">C</th>\n      <th>Female</th>\n      <td>170.5</td>\n      <td>162.0</td>\n      <td>164.6</td>\n      <td>158.7</td>\n      <td>56.9</td>\n      <td>63.9</td>\n      <td>60.5</td>\n      <td>66.9</td>\n    </tr>\n    <tr>\n      <th>Male</th>\n      <td>150.2</td>\n      <td>166.3</td>\n      <td>167.3</td>\n      <td>159.3</td>\n      <td>62.4</td>\n      <td>59.1</td>\n      <td>64.9</td>\n      <td>67.1</td>\n    </tr>\n    <tr>\n      <th rowspan=\"2\" valign=\"top\">D</th>\n      <th>Female</th>\n      <td>174.3</td>\n      <td>155.7</td>\n      <td>163.2</td>\n      <td>162.1</td>\n      <td>65.3</td>\n      <td>66.5</td>\n      <td>61.8</td>\n      <td>63.2</td>\n    </tr>\n    <tr>\n      <th>Male</th>\n      <td>170.7</td>\n      <td>170.3</td>\n      <td>163.8</td>\n      <td>164.9</td>\n      <td>61.6</td>\n      <td>63.2</td>\n      <td>60.9</td>\n      <td>56.4</td>\n    </tr>\n  </tbody>\n</table>\n</div>"
     },
     "execution_count": 19,
     "metadata": {},
     "output_type": "execute_result"
    }
   ],
   "source": [
    "np.random.seed(0)\n",
    "multi_index = pd.MultiIndex.from_product([list('ABCD'), df.Gender.unique()], names=('School', 'Gender'))\n",
    "multi_column = pd.MultiIndex.from_product([['Height', 'Weight'], df.Grade.unique()], names=('Indicator', 'Grade'))\n",
    "df_multi = pd.DataFrame(np.c_[(np.random.randn(8, 4) * 5 + 163).tolist(), (np.random.randn(8, 4) * 5 + 65).tolist()],\n",
    "                        index=multi_index, columns=multi_column).round(1)\n",
    "df_multi"
   ],
   "metadata": {
    "collapsed": false
   }
  },
  {
   "cell_type": "code",
   "execution_count": 20,
   "outputs": [
    {
     "data": {
      "text/plain": "                                                   Name  Gender  Weight  \\\nSchool                        Grade                                       \nShanghai Jiao Tong University Freshman     Gaopeng Yang  Female    46.0   \nPeking University             Freshman   Changqiang You    Male    70.0   \nShanghai Jiao Tong University Senior            Mei Sun    Male    89.0   \nFudan University              Sophomore    Xiaojuan Sun  Female    41.0   \n                              Sophomore     Gaojuan You    Male    74.0   \n\n                                        Transfer  \nSchool                        Grade               \nShanghai Jiao Tong University Freshman         N  \nPeking University             Freshman         N  \nShanghai Jiao Tong University Senior           N  \nFudan University              Sophomore        N  \n                              Sophomore        N  ",
      "text/html": "<div>\n<style scoped>\n    .dataframe tbody tr th:only-of-type {\n        vertical-align: middle;\n    }\n\n    .dataframe tbody tr th {\n        vertical-align: top;\n    }\n\n    .dataframe thead th {\n        text-align: right;\n    }\n</style>\n<table border=\"1\" class=\"dataframe\">\n  <thead>\n    <tr style=\"text-align: right;\">\n      <th></th>\n      <th></th>\n      <th>Name</th>\n      <th>Gender</th>\n      <th>Weight</th>\n      <th>Transfer</th>\n    </tr>\n    <tr>\n      <th>School</th>\n      <th>Grade</th>\n      <th></th>\n      <th></th>\n      <th></th>\n      <th></th>\n    </tr>\n  </thead>\n  <tbody>\n    <tr>\n      <th>Shanghai Jiao Tong University</th>\n      <th>Freshman</th>\n      <td>Gaopeng Yang</td>\n      <td>Female</td>\n      <td>46.0</td>\n      <td>N</td>\n    </tr>\n    <tr>\n      <th>Peking University</th>\n      <th>Freshman</th>\n      <td>Changqiang You</td>\n      <td>Male</td>\n      <td>70.0</td>\n      <td>N</td>\n    </tr>\n    <tr>\n      <th>Shanghai Jiao Tong University</th>\n      <th>Senior</th>\n      <td>Mei Sun</td>\n      <td>Male</td>\n      <td>89.0</td>\n      <td>N</td>\n    </tr>\n    <tr>\n      <th rowspan=\"2\" valign=\"top\">Fudan University</th>\n      <th>Sophomore</th>\n      <td>Xiaojuan Sun</td>\n      <td>Female</td>\n      <td>41.0</td>\n      <td>N</td>\n    </tr>\n    <tr>\n      <th>Sophomore</th>\n      <td>Gaojuan You</td>\n      <td>Male</td>\n      <td>74.0</td>\n      <td>N</td>\n    </tr>\n  </tbody>\n</table>\n</div>"
     },
     "execution_count": 20,
     "metadata": {},
     "output_type": "execute_result"
    }
   ],
   "source": [
    "df_multi = df.set_index(['School', 'Grade'])\n",
    "df_multi.head()"
   ],
   "metadata": {
    "collapsed": false
   }
  },
  {
   "cell_type": "code",
   "execution_count": 22,
   "outputs": [
    {
     "data": {
      "text/plain": "0     1\n1     3\n2     6\n3    10\n4    15\ndtype: int64"
     },
     "execution_count": 22,
     "metadata": {},
     "output_type": "execute_result"
    }
   ],
   "source": [
    "s = pd.Series([1, 3, 6, 10, 15])\n",
    "s"
   ],
   "metadata": {
    "collapsed": false
   }
  },
  {
   "cell_type": "code",
   "execution_count": 23,
   "outputs": [
    {
     "data": {
      "text/plain": "0         NaN\n1    2.000000\n2    1.000000\n3    0.666667\n4    0.500000\ndtype: float64"
     },
     "execution_count": 23,
     "metadata": {},
     "output_type": "execute_result"
    }
   ],
   "source": [
    "s.pct_change()"
   ],
   "metadata": {
    "collapsed": false
   }
  },
  {
   "cell_type": "code",
   "execution_count": null,
   "outputs": [],
   "source": [],
   "metadata": {
    "collapsed": false
   }
  }
 ],
 "metadata": {
  "kernelspec": {
   "display_name": "Python 3",
   "language": "python",
   "name": "python3"
  },
  "language_info": {
   "codemirror_mode": {
    "name": "ipython",
    "version": 2
   },
   "file_extension": ".py",
   "mimetype": "text/x-python",
   "name": "python",
   "nbconvert_exporter": "python",
   "pygments_lexer": "ipython2",
   "version": "2.7.6"
  }
 },
 "nbformat": 4,
 "nbformat_minor": 0
}
