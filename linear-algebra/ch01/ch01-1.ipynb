{
 "cells": [
  {
   "cell_type": "code",
   "id": "initial_id",
   "metadata": {
    "collapsed": true,
    "ExecuteTime": {
     "end_time": "2025-06-20T08:59:04.912010Z",
     "start_time": "2025-06-20T08:59:04.753651Z"
    }
   },
   "source": "import numpy as np",
   "outputs": [],
   "execution_count": 2
  },
  {
   "metadata": {
    "ExecuteTime": {
     "end_time": "2025-06-20T03:42:33.017629Z",
     "start_time": "2025-06-20T03:42:33.014635Z"
    }
   },
   "cell_type": "code",
   "source": [
    "# np 对矩阵才能操作转置，对向量无效，所以这里要组织成矩阵形式\n",
    "a = np.array([[1, 2, 3, 4]])\n",
    "a"
   ],
   "id": "11ce14b53fed6728",
   "outputs": [
    {
     "data": {
      "text/plain": [
       "array([[1, 2, 3, 4]])"
      ]
     },
     "execution_count": 4,
     "metadata": {},
     "output_type": "execute_result"
    }
   ],
   "execution_count": 4
  },
  {
   "metadata": {
    "ExecuteTime": {
     "end_time": "2025-06-20T03:42:16.389450Z",
     "start_time": "2025-06-20T03:42:16.385229Z"
    }
   },
   "cell_type": "code",
   "source": "a.T",
   "id": "e4218f50339339be",
   "outputs": [
    {
     "data": {
      "text/plain": [
       "array([[1],\n",
       "       [2],\n",
       "       [3],\n",
       "       [4]])"
      ]
     },
     "execution_count": 3,
     "metadata": {},
     "output_type": "execute_result"
    }
   ],
   "execution_count": 3
  },
  {
   "metadata": {
    "ExecuteTime": {
     "end_time": "2025-06-20T08:59:07.214041Z",
     "start_time": "2025-06-20T08:59:07.209760Z"
    }
   },
   "cell_type": "code",
   "source": [
    "# 向量内积\n",
    "u = np.array([3, 5, 7])\n",
    "v = np.array([1, 4, 7])\n",
    "np.dot(u, v)"
   ],
   "id": "b2d1f5940deb810f",
   "outputs": [
    {
     "data": {
      "text/plain": [
       "72"
      ]
     },
     "execution_count": 3,
     "metadata": {},
     "output_type": "execute_result"
    }
   ],
   "execution_count": 3
  },
  {
   "metadata": {
    "ExecuteTime": {
     "end_time": "2025-06-20T09:24:17.309682Z",
     "start_time": "2025-06-20T09:24:17.297062Z"
    }
   },
   "cell_type": "code",
   "source": [
    "u = np.array([3, 3, 9])\n",
    "v = np.array([1, 4, 12])\n",
    "np.cross(u, v)"
   ],
   "id": "97d56f394d78a62f",
   "outputs": [
    {
     "data": {
      "text/plain": [
       "array([  0, -27,   9])"
      ]
     },
     "execution_count": 5,
     "metadata": {},
     "output_type": "execute_result"
    }
   ],
   "execution_count": 5
  }
 ],
 "metadata": {
  "kernelspec": {
   "display_name": "Python 3",
   "language": "python",
   "name": "python3"
  },
  "language_info": {
   "codemirror_mode": {
    "name": "ipython",
    "version": 2
   },
   "file_extension": ".py",
   "mimetype": "text/x-python",
   "name": "python",
   "nbconvert_exporter": "python",
   "pygments_lexer": "ipython2",
   "version": "2.7.6"
  }
 },
 "nbformat": 4,
 "nbformat_minor": 5
}
