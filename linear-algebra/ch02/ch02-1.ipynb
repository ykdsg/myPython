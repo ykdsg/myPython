{
 "cells": [
  {
   "cell_type": "code",
   "id": "initial_id",
   "metadata": {
    "collapsed": true,
    "ExecuteTime": {
     "end_time": "2025-06-26T06:58:10.627635Z",
     "start_time": "2025-06-26T06:58:10.116884Z"
    }
   },
   "source": "import numpy as np",
   "outputs": [],
   "execution_count": 1
  },
  {
   "metadata": {
    "ExecuteTime": {
     "end_time": "2025-06-26T06:58:11.186633Z",
     "start_time": "2025-06-26T06:58:11.183184Z"
    }
   },
   "cell_type": "code",
   "source": [
    "A_1 = np.array([[1, 1, 0],\n",
    "                [1, 0, 1]])\n",
    "\n",
    "A_2 = np.array([[1, 2, -1],\n",
    "                [2, 4, -2]])\n",
    "\n",
    "A_3 = np.array([[1, 0],\n",
    "                [0, 1],\n",
    "                [0, -1]])\n",
    "\n",
    "A_4 = np.array([[1, 2],\n",
    "                [1, 2],\n",
    "                [-1, -2]])\n",
    "\n",
    "A_5 = np.array([[1, 1, 1],\n",
    "                [1, 1, 2],\n",
    "                [1, 2, 3]])\n",
    "\n",
    "# matrix_rank 是 NumPy 库中用于计算矩阵秩（rank）的函数\n",
    "print(np.linalg.matrix_rank(A_1))\n",
    "print(np.linalg.matrix_rank(A_2))\n",
    "print(np.linalg.matrix_rank(A_3))\n",
    "print(np.linalg.matrix_rank(A_4))\n",
    "print(np.linalg.matrix_rank(A_5))"
   ],
   "id": "26ea0b6ec40e5a57",
   "outputs": [
    {
     "name": "stdout",
     "output_type": "stream",
     "text": [
      "2\n",
      "1\n",
      "2\n",
      "1\n",
      "3\n"
     ]
    }
   ],
   "execution_count": 2
  }
 ],
 "metadata": {
  "kernelspec": {
   "display_name": "Python 3",
   "language": "python",
   "name": "python3"
  },
  "language_info": {
   "codemirror_mode": {
    "name": "ipython",
    "version": 2
   },
   "file_extension": ".py",
   "mimetype": "text/x-python",
   "name": "python",
   "nbconvert_exporter": "python",
   "pygments_lexer": "ipython2",
   "version": "2.7.6"
  }
 },
 "nbformat": 4,
 "nbformat_minor": 5
}
