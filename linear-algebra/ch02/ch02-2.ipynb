{
 "cells": [
  {
   "cell_type": "code",
   "id": "initial_id",
   "metadata": {
    "collapsed": true,
    "ExecuteTime": {
     "end_time": "2025-06-26T07:00:05.911970Z",
     "start_time": "2025-06-26T07:00:05.341535Z"
    }
   },
   "source": [
    "import numpy as np\n",
    "from scipy import linalg"
   ],
   "outputs": [],
   "execution_count": 1
  },
  {
   "metadata": {
    "ExecuteTime": {
     "end_time": "2025-06-26T07:01:40.023425Z",
     "start_time": "2025-06-26T07:01:40.019652Z"
    }
   },
   "cell_type": "code",
   "source": [
    "A = np.array([[1, 35, 0],\n",
    "              [0, 2, 3],\n",
    "              [0, 0, 4]])\n",
    "\n",
    "print(np.linalg.matrix_rank(A))\n",
    "\n",
    "# linalg.inv计算逆矩阵\n",
    "A_n = linalg.inv(A)\n",
    "print(A_n)\n",
    "print(np.dot(A, A_n))"
   ],
   "id": "53715ca75ea4271f",
   "outputs": [
    {
     "name": "stdout",
     "output_type": "stream",
     "text": [
      "3\n",
      "[[  1.    -17.5    13.125]\n",
      " [  0.      0.5    -0.375]\n",
      " [  0.      0.      0.25 ]]\n",
      "[[1. 0. 0.]\n",
      " [0. 1. 0.]\n",
      " [0. 0. 1.]]\n"
     ]
    }
   ],
   "execution_count": 3
  }
 ],
 "metadata": {
  "kernelspec": {
   "display_name": "Python 3",
   "language": "python",
   "name": "python3"
  },
  "language_info": {
   "codemirror_mode": {
    "name": "ipython",
    "version": 2
   },
   "file_extension": ".py",
   "mimetype": "text/x-python",
   "name": "python",
   "nbconvert_exporter": "python",
   "pygments_lexer": "ipython2",
   "version": "2.7.6"
  }
 },
 "nbformat": 4,
 "nbformat_minor": 5
}
