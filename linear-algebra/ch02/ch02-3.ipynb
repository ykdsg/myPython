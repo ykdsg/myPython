{
 "cells": [
  {
   "cell_type": "code",
   "id": "initial_id",
   "metadata": {
    "collapsed": true,
    "ExecuteTime": {
     "end_time": "2025-06-26T11:49:38.955086Z",
     "start_time": "2025-06-26T11:49:38.793803Z"
    }
   },
   "source": [
    "import numpy as np\n",
    "from scipy import linalg"
   ],
   "outputs": [],
   "execution_count": 1
  },
  {
   "metadata": {
    "ExecuteTime": {
     "end_time": "2025-06-26T11:49:39.319934Z",
     "start_time": "2025-06-26T11:49:39.316599Z"
    }
   },
   "cell_type": "code",
   "source": [
    "A = np.array([[1, 2, 3],\n",
    "              [1, -1, 4],\n",
    "              [2, 3, -1]])\n",
    "\n",
    "y = np.array([14, 11, 5])\n",
    "x = linalg.solve(A, y)\n",
    "print(x)"
   ],
   "id": "fb7599e8984466af",
   "outputs": [
    {
     "name": "stdout",
     "output_type": "stream",
     "text": [
      "[1. 2. 3.]\n"
     ]
    }
   ],
   "execution_count": 2
  }
 ],
 "metadata": {
  "kernelspec": {
   "display_name": "Python 3",
   "language": "python",
   "name": "python3"
  },
  "language_info": {
   "codemirror_mode": {
    "name": "ipython",
    "version": 2
   },
   "file_extension": ".py",
   "mimetype": "text/x-python",
   "name": "python",
   "nbconvert_exporter": "python",
   "pygments_lexer": "ipython2",
   "version": "2.7.6"
  }
 },
 "nbformat": 4,
 "nbformat_minor": 5
}
