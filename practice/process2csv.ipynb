{
 "cells": [
  {
   "cell_type": "code",
   "id": "initial_id",
   "metadata": {
    "collapsed": true,
    "ExecuteTime": {
     "end_time": "2024-05-24T11:00:14.336617Z",
     "start_time": "2024-05-24T11:00:13.990386Z"
    }
   },
   "source": [
    "import pandas as pd\n",
    "import os\n",
    "\n",
    "# Excel文件路径\n",
    "directory = '/Users/ykdsg/Downloads/exc'"
   ],
   "outputs": [],
   "execution_count": 1
  },
  {
   "metadata": {
    "ExecuteTime": {
     "end_time": "2024-05-24T11:03:02.405563Z",
     "start_time": "2024-05-24T11:00:36.623868Z"
    }
   },
   "cell_type": "code",
   "source": [
    "# 遍历目录中的文件\n",
    "for filename in os.listdir(directory):\n",
    "    # 检查文件是否为.xlsx文件\n",
    "    if filename.endswith(\".xlsx\"):\n",
    "        # 构建完整文件路径\n",
    "        excel_file = os.path.join(directory, filename)\n",
    "\n",
    "        # 读取Excel文件\n",
    "        df = pd.read_excel(excel_file)\n",
    "\n",
    "        # 获取没有扩展名的文件名，用于生成CSV文件名\n",
    "        base_name = os.path.splitext(filename)[0]\n",
    "\n",
    "        # 保存为CSV文件，使用与原文件相同的文件名，但扩展名为.csv\n",
    "        csv_file = os.path.join(directory, f\"{base_name}.csv\")\n",
    "        df.to_csv(csv_file, index=False)  # 不保存索引\n",
    "\n",
    "print(\"转换完成！\")"
   ],
   "id": "13128faa1888c1ae",
   "outputs": [
    {
     "name": "stdout",
     "output_type": "stream",
     "text": [
      "转换完成！\n"
     ]
    }
   ],
   "execution_count": 2
  },
  {
   "metadata": {},
   "cell_type": "code",
   "outputs": [],
   "execution_count": null,
   "source": "",
   "id": "c9d635e51be4a635"
  }
 ],
 "metadata": {
  "kernelspec": {
   "display_name": "Python 3",
   "language": "python",
   "name": "python3"
  },
  "language_info": {
   "codemirror_mode": {
    "name": "ipython",
    "version": 2
   },
   "file_extension": ".py",
   "mimetype": "text/x-python",
   "name": "python",
   "nbconvert_exporter": "python",
   "pygments_lexer": "ipython2",
   "version": "2.7.6"
  }
 },
 "nbformat": 4,
 "nbformat_minor": 5
}
