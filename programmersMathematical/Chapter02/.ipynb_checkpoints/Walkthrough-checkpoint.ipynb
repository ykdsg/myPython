{
 "cells": [
  {
   "cell_type": "code",
   "execution_count": 3,
   "metadata": {},
   "outputs": [
    {
     "name": "stderr",
     "output_type": "stream",
     "text": [
      "UsageError: Line magic function `%` not found.\n"
     ]
    }
   ],
   "source": [
    "% load_ext autoreload\n",
    "% autoreload 2\n",
    "from vector_drawing import *"
   ]
  },
  {
   "cell_type": "code",
   "execution_count": 4,
   "metadata": {},
   "outputs": [
    {
     "name": "stdout",
     "output_type": "stream",
     "text": [
      "Hello, world!\n"
     ]
    }
   ],
   "source": [
    "print('Hello, world!')"
   ]
  },
  {
   "cell_type": "code",
   "execution_count": 5,
   "metadata": {},
   "outputs": [
    {
     "ename": "NameError",
     "evalue": "name 'draw' is not defined",
     "output_type": "error",
     "traceback": [
      "\u001B[0;31m---------------------------------------------------------------------------\u001B[0m",
      "\u001B[0;31mNameError\u001B[0m                                 Traceback (most recent call last)",
      "Cell \u001B[0;32mIn[5], line 6\u001B[0m\n\u001B[1;32m      1\u001B[0m dino_vectors \u001B[38;5;241m=\u001B[39m [(\u001B[38;5;241m6\u001B[39m, \u001B[38;5;241m4\u001B[39m), (\u001B[38;5;241m3\u001B[39m, \u001B[38;5;241m1\u001B[39m), (\u001B[38;5;241m1\u001B[39m, \u001B[38;5;241m2\u001B[39m), (\u001B[38;5;241m-\u001B[39m\u001B[38;5;241m1\u001B[39m, \u001B[38;5;241m5\u001B[39m), (\u001B[38;5;241m-\u001B[39m\u001B[38;5;241m2\u001B[39m, \u001B[38;5;241m5\u001B[39m), (\u001B[38;5;241m-\u001B[39m\u001B[38;5;241m3\u001B[39m, \u001B[38;5;241m4\u001B[39m), (\u001B[38;5;241m-\u001B[39m\u001B[38;5;241m4\u001B[39m, \u001B[38;5;241m4\u001B[39m),\n\u001B[1;32m      2\u001B[0m                 (\u001B[38;5;241m-\u001B[39m\u001B[38;5;241m5\u001B[39m, \u001B[38;5;241m3\u001B[39m), (\u001B[38;5;241m-\u001B[39m\u001B[38;5;241m5\u001B[39m, \u001B[38;5;241m2\u001B[39m), (\u001B[38;5;241m-\u001B[39m\u001B[38;5;241m2\u001B[39m, \u001B[38;5;241m2\u001B[39m), (\u001B[38;5;241m-\u001B[39m\u001B[38;5;241m5\u001B[39m, \u001B[38;5;241m1\u001B[39m), (\u001B[38;5;241m-\u001B[39m\u001B[38;5;241m4\u001B[39m, \u001B[38;5;241m0\u001B[39m), (\u001B[38;5;241m-\u001B[39m\u001B[38;5;241m2\u001B[39m, \u001B[38;5;241m1\u001B[39m), (\u001B[38;5;241m-\u001B[39m\u001B[38;5;241m1\u001B[39m, \u001B[38;5;241m0\u001B[39m), (\u001B[38;5;241m0\u001B[39m, \u001B[38;5;241m-\u001B[39m\u001B[38;5;241m3\u001B[39m),\n\u001B[1;32m      3\u001B[0m                 (\u001B[38;5;241m-\u001B[39m\u001B[38;5;241m1\u001B[39m, \u001B[38;5;241m-\u001B[39m\u001B[38;5;241m4\u001B[39m), (\u001B[38;5;241m1\u001B[39m, \u001B[38;5;241m-\u001B[39m\u001B[38;5;241m4\u001B[39m), (\u001B[38;5;241m2\u001B[39m, \u001B[38;5;241m-\u001B[39m\u001B[38;5;241m3\u001B[39m), (\u001B[38;5;241m1\u001B[39m, \u001B[38;5;241m-\u001B[39m\u001B[38;5;241m2\u001B[39m), (\u001B[38;5;241m3\u001B[39m, \u001B[38;5;241m-\u001B[39m\u001B[38;5;241m1\u001B[39m), (\u001B[38;5;241m5\u001B[39m, \u001B[38;5;241m1\u001B[39m)\n\u001B[1;32m      4\u001B[0m                 ]\n\u001B[0;32m----> 6\u001B[0m \u001B[43mdraw\u001B[49m(\n\u001B[1;32m      7\u001B[0m     Points(\u001B[38;5;241m*\u001B[39mdino_vectors)\n\u001B[1;32m      8\u001B[0m )\n",
      "\u001B[0;31mNameError\u001B[0m: name 'draw' is not defined"
     ]
    }
   ],
   "source": [
    "dino_vectors = [(6, 4), (3, 1), (1, 2), (-1, 5), (-2, 5), (-3, 4), (-4, 4),\n",
    "                (-5, 3), (-5, 2), (-2, 2), (-5, 1), (-4, 0), (-2, 1), (-1, 0), (0, -3),\n",
    "                (-1, -4), (1, -4), (2, -3), (1, -2), (3, -1), (5, 1)\n",
    "                ]\n",
    "\n",
    "draw(\n",
    "    Points(*dino_vectors)\n",
    ")"
   ]
  },
  {
   "cell_type": "code",
   "execution_count": null,
   "metadata": {},
   "outputs": [],
   "source": [
    "draw(\n",
    "    Points(*dino_vectors),\n",
    "    Segment((6, 4), (3, 1))\n",
    ")"
   ]
  },
  {
   "cell_type": "code",
   "execution_count": null,
   "metadata": {},
   "outputs": [],
   "source": [
    "draw(\n",
    "    Points(*dino_vectors),\n",
    "    Polygon(*dino_vectors)\n",
    ")"
   ]
  }
 ],
 "metadata": {
  "kernelspec": {
   "display_name": "Python 3 (ipykernel)",
   "language": "python",
   "name": "python3"
  },
  "language_info": {
   "codemirror_mode": {
    "name": "ipython",
    "version": 3
   },
   "file_extension": ".py",
   "mimetype": "text/x-python",
   "name": "python",
   "nbconvert_exporter": "python",
   "pygments_lexer": "ipython3",
   "version": "3.11.3"
  }
 },
 "nbformat": 4,
 "nbformat_minor": 1
}
