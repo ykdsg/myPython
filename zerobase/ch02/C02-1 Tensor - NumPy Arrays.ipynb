{
 "cells": [
  {
   "cell_type": "code",
   "execution_count": 1,
   "id": "initial_id",
   "metadata": {
    "collapsed": true,
    "ExecuteTime": {
     "end_time": "2023-08-21T07:10:33.400913Z",
     "start_time": "2023-08-21T07:10:33.136394Z"
    }
   },
   "outputs": [
    {
     "name": "stdout",
     "output_type": "stream",
     "text": [
      "X的值 5\n",
      "X的阶 0\n",
      "X的数据类型 int64\n",
      "X的形状 ()\n"
     ]
    }
   ],
   "source": [
    "import numpy as np\n",
    "\n",
    "X = np.array(5)\n",
    "print(\"X的值\", X)\n",
    "print(\"X的阶\", X.ndim)\n",
    "print(\"X的数据类型\", X.dtype)  # dtype属性显示张量数据类型\n",
    "print(\"X的形状\", X.shape)  # shape属性显示张量形状"
   ]
  },
  {
   "cell_type": "code",
   "execution_count": 2,
   "outputs": [
    {
     "name": "stdout",
     "output_type": "stream",
     "text": [
      "X的值 [5 6 7 8 9]\n",
      "X的阶 1\n",
      "X的形状 (5,)\n"
     ]
    }
   ],
   "source": [
    "X = np.array([5, 6, 7, 8, 9])  #创建1D张量，也就是向量\n",
    "print(\"X的值\", X)\n",
    "print(\"X的阶\", X.ndim)  #ndim属性显示张量轴的个数\n",
    "print(\"X的形状\", X.shape)  # shape属性显示张量形状"
   ],
   "metadata": {
    "collapsed": false,
    "ExecuteTime": {
     "end_time": "2023-08-21T08:02:41.264775Z",
     "start_time": "2023-08-21T08:02:41.222832Z"
    }
   },
   "id": "7f5b6abf5d8d2b55"
  },
  {
   "cell_type": "code",
   "execution_count": 4,
   "outputs": [
    {
     "name": "stdout",
     "output_type": "stream",
     "text": [
      "X的值 [5]\n",
      "X的阶 1\n",
      "X的数据类型 int64\n",
      "X的形状 (1,)\n"
     ]
    }
   ],
   "source": [
    "X = np.array([5])  # 1维的向量，就是1D数组里面只有一个元素\n",
    "print(\"X的值\", X)\n",
    "print(\"X的阶\", X.ndim)\n",
    "print(\"X的数据类型\", X.dtype)  # dtype属性显示张量数据类型\n",
    "print(\"X的形状\", X.shape)  # shape属性显示张量形状"
   ],
   "metadata": {
    "collapsed": false,
    "ExecuteTime": {
     "end_time": "2023-08-21T08:10:32.342554Z",
     "start_time": "2023-08-21T08:10:32.326163Z"
    }
   },
   "id": "344d4f0b30f49285"
  },
  {
   "cell_type": "code",
   "execution_count": 5,
   "outputs": [
    {
     "name": "stdout",
     "output_type": "stream",
     "text": [
      "函数返回结果: 23.2\n"
     ]
    }
   ],
   "source": [
    "weight = np.array([1, -1.8, 1, 1, 2])  # 权重向量(也就是多项式的参数)\n",
    "X = np.array([1, 6, 7, 8, 9])  # 特征向量(也就是一个特定样本中的特征值)\n",
    "y_hat = np.dot(X, weight)  # 通过点积运算构建预测函数\n",
    "print('函数返回结果:', y_hat)  # 输出预测结果"
   ],
   "metadata": {
    "collapsed": false,
    "ExecuteTime": {
     "end_time": "2023-08-21T08:50:51.720803Z",
     "start_time": "2023-08-21T08:50:51.712593Z"
    }
   },
   "id": "488395c8b6f872cb"
  },
  {
   "cell_type": "code",
   "execution_count": 6,
   "outputs": [],
   "source": [
    "y_hat = weight.dot(X)  # X.dot(weight)也可以实现同样结果"
   ],
   "metadata": {
    "collapsed": false,
    "ExecuteTime": {
     "end_time": "2023-08-21T08:51:31.540Z",
     "start_time": "2023-08-21T08:51:31.532304Z"
    }
   },
   "id": "da355341eb0906e1"
  },
  {
   "cell_type": "code",
   "execution_count": null,
   "outputs": [],
   "source": [],
   "metadata": {
    "collapsed": false
   },
   "id": "6f3fba102953d1da"
  }
 ],
 "metadata": {
  "kernelspec": {
   "display_name": "Python 3",
   "language": "python",
   "name": "python3"
  },
  "language_info": {
   "codemirror_mode": {
    "name": "ipython",
    "version": 2
   },
   "file_extension": ".py",
   "mimetype": "text/x-python",
   "name": "python",
   "nbconvert_exporter": "python",
   "pygments_lexer": "ipython2",
   "version": "2.7.6"
  }
 },
 "nbformat": 4,
 "nbformat_minor": 5
}
