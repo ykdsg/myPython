{
 "cells": [
  {
   "cell_type": "code",
   "execution_count": 1,
   "id": "initial_id",
   "metadata": {
    "collapsed": true,
    "ExecuteTime": {
     "end_time": "2023-08-21T14:04:15.617282Z",
     "start_time": "2023-08-21T14:04:15.531116Z"
    }
   },
   "outputs": [
    {
     "name": "stdout",
     "output_type": "stream",
     "text": [
      "列表： [1, 2, 3, 4, 5]\n",
      "列表转化为数组： [1 2 3 4 5]\n",
      "元组转化为数组： [ 6  7  8  9 10]\n",
      "2D数组： [[1 2 3]\n",
      " [4 5 6]]\n",
      "数组的形状： (5,)\n"
     ]
    }
   ],
   "source": [
    "import numpy as np  # 导入NumPy数学工具集\n",
    "\n",
    "list = [1, 2, 3, 4, 5]  # 创建列表\n",
    "array_01 = np.array([1, 2, 3, 4, 5])  # 列表转化成数组\n",
    "array_02 = np.array((6, 7, 8, 9, 10))  # 元组转化成数组\n",
    "array_03 = np.array([[1, 2, 3], [4, 5, 6]])  # 列表转化成2D数组\n",
    "print('列表：', list)\n",
    "print('列表转化为数组：', array_01)\n",
    "print('元组转化为数组：', array_02)\n",
    "print('2D数组：', array_03)\n",
    "print('数组的形状：', array_01.shape)\n",
    "# print ('列表的形状：', list.shape) # 列表没有形状，程序会报错    "
   ]
  },
  {
   "cell_type": "code",
   "execution_count": 2,
   "outputs": [
    {
     "name": "stdout",
     "output_type": "stream",
     "text": [
      "[1 2 3 4]\n",
      "[1. 2. 3. 4. 5.]\n"
     ]
    }
   ],
   "source": [
    "array_04 = np.arange(1, 5, 1)  # 通过arange函数生成数组\n",
    "array_05 = np.linspace(1, 5, 5)  # 通过linspace函数生成数组\n",
    "print(array_04)\n",
    "print(array_05)\n",
    "print('数组的形状：', array_04.shape)"
   ],
   "metadata": {
    "collapsed": false,
    "ExecuteTime": {
     "end_time": "2023-08-21T14:07:00.389106Z",
     "start_time": "2023-08-21T14:07:00.345856Z"
    }
   },
   "id": "17010f8d9688c404"
  },
  {
   "cell_type": "code",
   "execution_count": null,
   "outputs": [],
   "source": [],
   "metadata": {
    "collapsed": false
   },
   "id": "1a8509fa80564c77"
  },
  {
   "cell_type": "code",
   "execution_count": 3,
   "outputs": [
    {
     "name": "stdout",
     "output_type": "stream",
     "text": [
      "[0 1 2 3 4 5 6 7 8 9]\n",
      "第4个元素 3\n",
      "第-1个元素 9\n",
      "从0到4切片 [0 1 2 3]\n",
      "从0到12切片，步长为4 [0 4 8]\n"
     ]
    }
   ],
   "source": [
    "array_06 = np.arange(10)\n",
    "print(array_06)\n",
    "index_01 = array_06[3]  # 索引-第4个元素\n",
    "print('第4个元素', index_01)\n",
    "index_02 = array_06[-1]  # 索引-最后一个元素\n",
    "print('第-1个元素', index_02)\n",
    "slice_01 = array_06[:4]  # 从0到4切片\n",
    "print('从0到4切片', slice_01)\n",
    "slice_02 = array_06[0:12:4]  # 从0到12切片，步长为2\n",
    "print('从0到12切片，步长为4', slice_02)"
   ],
   "metadata": {
    "collapsed": false,
    "ExecuteTime": {
     "end_time": "2023-08-21T14:07:14.615474Z",
     "start_time": "2023-08-21T14:07:14.562635Z"
    }
   },
   "id": "3f261af62dcc08c1"
  },
  {
   "cell_type": "code",
   "execution_count": 4,
   "outputs": [
    {
     "name": "stdout",
     "output_type": "stream",
     "text": [
      "[[4 5 6]] 它的形状是 (1, 3)\n",
      "[4 5 6] 它的形状又不同了 (3,)\n"
     ]
    }
   ],
   "source": [
    "array_07 = np.array([[1, 2, 3], [4, 5, 6]])\n",
    "print(array_07[1:2], '它的形状是', array_07[1:2].shape)\n",
    "print(array_07[1:2][0], '它的形状又不同了', array_07[1:2][0].shape)"
   ],
   "metadata": {
    "collapsed": false,
    "ExecuteTime": {
     "end_time": "2023-08-21T14:08:30.632271Z",
     "start_time": "2023-08-21T14:08:30.625867Z"
    }
   },
   "id": "1ad2a1ce488e0ded"
  },
  {
   "cell_type": "code",
   "execution_count": 5,
   "outputs": [
    {
     "name": "stdout",
     "output_type": "stream",
     "text": [
      "[[2 3 4]\n",
      " [5 6 7]]\n"
     ]
    }
   ],
   "source": [
    "array_07 += 1  # 数组内全部元素加1\n",
    "print(array_07)"
   ],
   "metadata": {
    "collapsed": false,
    "ExecuteTime": {
     "end_time": "2023-08-21T14:09:09.681009Z",
     "start_time": "2023-08-21T14:09:09.674310Z"
    }
   },
   "id": "27c887ff9f5b85f6"
  },
  {
   "cell_type": "code",
   "execution_count": 6,
   "outputs": [
    {
     "name": "stdout",
     "output_type": "stream",
     "text": [
      "[[2 3 4]\n",
      " [5 6 7]] 形状是 (2, 3)\n",
      "[[2 3]\n",
      " [4 5]\n",
      " [6 7]] 形状是 (3, 2)\n"
     ]
    }
   ],
   "source": [
    "print(array_07, '形状是', array_07.shape)\n",
    "print(array_07.reshape(3, 2), '形状是', array_07.reshape(3, 2).shape)"
   ],
   "metadata": {
    "collapsed": false,
    "ExecuteTime": {
     "end_time": "2023-08-21T14:21:59.039011Z",
     "start_time": "2023-08-21T14:21:59.031608Z"
    }
   },
   "id": "319ec2c103387f0e"
  },
  {
   "cell_type": "code",
   "execution_count": 7,
   "outputs": [
    {
     "name": "stdout",
     "output_type": "stream",
     "text": [
      "[0 1 2 3 4 5 6 7 8 9] 形状是 (10,) 阶为 1\n",
      "[[0]\n",
      " [1]\n",
      " [2]\n",
      " [3]\n",
      " [4]\n",
      " [5]\n",
      " [6]\n",
      " [7]\n",
      " [8]\n",
      " [9]] 形状是 (10, 1) 阶为 2\n"
     ]
    }
   ],
   "source": [
    "array_06 = np.arange(10)\n",
    "print(array_06, '形状是', array_06.shape, '阶为', array_06.ndim)\n",
    "array_06 = array_06.reshape(10, 1)\n",
    "print(array_06, '形状是', array_06.shape, '阶为', array_06.ndim)\n"
   ],
   "metadata": {
    "collapsed": false,
    "ExecuteTime": {
     "end_time": "2023-08-21T14:25:09.554130Z",
     "start_time": "2023-08-21T14:25:09.546635Z"
    }
   },
   "id": "8e35c906103a36d0"
  },
  {
   "cell_type": "code",
   "execution_count": 8,
   "outputs": [
    {
     "name": "stdout",
     "output_type": "stream",
     "text": [
      "array_08的形状: (4, 3)\n",
      "array_09的形状: (1, 3)\n",
      "array_10的形状: (4, 1)\n",
      "array_12的形状: (3,)\n",
      "array_13的形状: (1,)\n",
      "array_14的形状: (1, 1)\n",
      "08 + 09结果： [[ 0  1  2]\n",
      " [10 11 12]\n",
      " [20 21 22]\n",
      " [30 31 32]]\n",
      "08 + 10结果： [[ 0  0  0]\n",
      " [11 11 11]\n",
      " [22 22 22]\n",
      " [33 33 33]]\n",
      "08 + 11结果： [[ 0  1  2]\n",
      " [10 11 12]\n",
      " [20 21 22]\n",
      " [30 31 32]]\n",
      "08 + 12结果： [[ 0  1  2]\n",
      " [10 11 12]\n",
      " [20 21 22]\n",
      " [30 31 32]]\n",
      "08 + 13结果： [[ 1  1  1]\n",
      " [11 11 11]\n",
      " [21 21 21]\n",
      " [31 31 31]]\n",
      "08 + 14结果： [[ 1  1  1]\n",
      " [11 11 11]\n",
      " [21 21 21]\n",
      " [31 31 31]]\n"
     ]
    }
   ],
   "source": [
    "array_08 = np.array([[0, 0, 0], [10, 10, 10], [20, 20, 20], [30, 30, 30]])\n",
    "array_09 = np.array([[0, 1, 2]])\n",
    "array_10 = np.array([[0], [1], [2], [3]])\n",
    "list_11 = [[0, 1, 2]]\n",
    "print('array_08的形状:', array_08.shape)\n",
    "print('array_09的形状:', array_09.shape)\n",
    "print('array_10的形状:', array_10.shape)\n",
    "array_12 = array_09.reshape(3)\n",
    "print('array_12的形状:', array_12.shape)\n",
    "array_13 = np.array([1])\n",
    "print('array_13的形状:', array_13.shape)\n",
    "array_14 = array_13.reshape(1, 1)\n",
    "print('array_14的形状:', array_14.shape)\n",
    "print('08 + 09结果：', array_08 + array_09)\n",
    "print('08 + 10结果：', array_08 + array_10)\n",
    "print('08 + 11结果：', array_08 + list_11)\n",
    "print('08 + 12结果：', array_08 + array_12)\n",
    "print('08 + 13结果：', array_08 + array_13)\n",
    "print('08 + 14结果：', array_08 + array_14)"
   ],
   "metadata": {
    "collapsed": false,
    "ExecuteTime": {
     "end_time": "2023-08-21T14:25:58.734596Z",
     "start_time": "2023-08-21T14:25:58.633945Z"
    }
   },
   "id": "c438150d4f6e2a88"
  },
  {
   "cell_type": "code",
   "execution_count": 9,
   "outputs": [
    {
     "name": "stdout",
     "output_type": "stream",
     "text": [
      "vector_01的形状: (3,)\n",
      "vector_02的形状: (3, 1)\n",
      "vector_03的形状: (1,)\n",
      "vector_04的形状: (1, 3)\n",
      "01和01的点积: 14\n",
      "01和02的点积: [14]\n",
      "04和02的点积: [[14]]\n",
      "01和数字的点积: [2 4 6]\n",
      "02和03的点积: [2 4 6]\n",
      "02和04的点积: [[1 2 3]\n",
      " [2 4 6]\n",
      " [3 6 9]]\n"
     ]
    }
   ],
   "source": [
    "vector_01 = np.array([1, 2, 3])\n",
    "vector_02 = np.array([[1], [2], [3]])\n",
    "vector_03 = np.array([2])\n",
    "vector_04 = vector_02.reshape(1, 3)\n",
    "print('vector_01的形状:', vector_01.shape)\n",
    "print('vector_02的形状:', vector_02.shape)\n",
    "print('vector_03的形状:', vector_03.shape)\n",
    "print('vector_04的形状:', vector_04.shape)\n",
    "print('01和01的点积:', np.dot(vector_01, vector_01))\n",
    "print('01和02的点积:', np.dot(vector_01, vector_02))\n",
    "print('04和02的点积:', np.dot(vector_04, vector_02))\n",
    "print('01和数字的点积:', np.dot(vector_01, 2))\n",
    "print('02和03的点积:', np.dot(vector_02, vector_03))\n",
    "print('02和04的点积:', np.dot(vector_02, vector_04))\n",
    "# print ('01和03的点积:', np.dot(vector_01,vector_03)) # 程序会报错\n",
    "# print ('02和02的点积:', np.dot(vector_02,vector_02))"
   ],
   "metadata": {
    "collapsed": false,
    "ExecuteTime": {
     "end_time": "2023-08-21T14:34:28.928457Z",
     "start_time": "2023-08-21T14:34:28.912874Z"
    }
   },
   "id": "289f623218b1d3e5"
  },
  {
   "cell_type": "code",
   "execution_count": 10,
   "outputs": [
    {
     "name": "stdout",
     "output_type": "stream",
     "text": [
      "[[0 1 2]\n",
      " [3 4 5]]\n",
      "[[0 1]\n",
      " [2 3]\n",
      " [4 5]]\n",
      "01和02的点积: [[10 13]\n",
      " [28 40]]\n",
      "02和01的点积: [[ 3  4  5]\n",
      " [ 9 14 19]\n",
      " [15 24 33]]\n"
     ]
    },
    {
     "ename": "ValueError",
     "evalue": "shapes (2,3) and (2,3) not aligned: 3 (dim 1) != 2 (dim 0)",
     "output_type": "error",
     "traceback": [
      "\u001B[0;31m---------------------------------------------------------------------------\u001B[0m",
      "\u001B[0;31mValueError\u001B[0m                                Traceback (most recent call last)",
      "Cell \u001B[0;32mIn[10], line 7\u001B[0m\n\u001B[1;32m      5\u001B[0m \u001B[38;5;28mprint\u001B[39m (\u001B[38;5;124m'\u001B[39m\u001B[38;5;124m01和02的点积:\u001B[39m\u001B[38;5;124m'\u001B[39m, np\u001B[38;5;241m.\u001B[39mdot(matrix_01,matrix_02))\n\u001B[1;32m      6\u001B[0m \u001B[38;5;28mprint\u001B[39m (\u001B[38;5;124m'\u001B[39m\u001B[38;5;124m02和01的点积:\u001B[39m\u001B[38;5;124m'\u001B[39m, np\u001B[38;5;241m.\u001B[39mdot(matrix_02,matrix_01))\n\u001B[0;32m----> 7\u001B[0m \u001B[38;5;28mprint\u001B[39m (\u001B[38;5;124m'\u001B[39m\u001B[38;5;124m01和01的点积:\u001B[39m\u001B[38;5;124m'\u001B[39m, \u001B[43mnp\u001B[49m\u001B[38;5;241;43m.\u001B[39;49m\u001B[43mdot\u001B[49m\u001B[43m(\u001B[49m\u001B[43mmatrix_01\u001B[49m\u001B[43m,\u001B[49m\u001B[43mmatrix_01\u001B[49m\u001B[43m)\u001B[49m)\n",
      "File \u001B[0;32m<__array_function__ internals>:200\u001B[0m, in \u001B[0;36mdot\u001B[0;34m(*args, **kwargs)\u001B[0m\n",
      "\u001B[0;31mValueError\u001B[0m: shapes (2,3) and (2,3) not aligned: 3 (dim 1) != 2 (dim 0)"
     ]
    }
   ],
   "source": [
    "matrix_01 = np.arange(0, 6).reshape(2, 3)\n",
    "matrix_02 = np.arange(0, 6).reshape(3, 2)\n",
    "print(matrix_01)\n",
    "print(matrix_02)\n",
    "print('01和02的点积:', np.dot(matrix_01, matrix_02))\n",
    "print('02和01的点积:', np.dot(matrix_02, matrix_01))\n",
    "print('01和01的点积:', np.dot(matrix_01, matrix_01))"
   ],
   "metadata": {
    "collapsed": false,
    "ExecuteTime": {
     "end_time": "2023-08-21T14:40:12.113336Z",
     "start_time": "2023-08-21T14:40:11.974730Z"
    }
   },
   "id": "c9d52b87b47d44e2"
  },
  {
   "cell_type": "code",
   "execution_count": null,
   "outputs": [],
   "source": [],
   "metadata": {
    "collapsed": false
   },
   "id": "dbca2eee1b34120d"
  }
 ],
 "metadata": {
  "kernelspec": {
   "display_name": "Python 3",
   "language": "python",
   "name": "python3"
  },
  "language_info": {
   "codemirror_mode": {
    "name": "ipython",
    "version": 2
   },
   "file_extension": ".py",
   "mimetype": "text/x-python",
   "name": "python",
   "nbconvert_exporter": "python",
   "pygments_lexer": "ipython2",
   "version": "2.7.6"
  }
 },
 "nbformat": 4,
 "nbformat_minor": 5
}
