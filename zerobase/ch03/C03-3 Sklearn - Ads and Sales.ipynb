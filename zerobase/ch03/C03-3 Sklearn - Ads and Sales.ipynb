{
 "cells": [
  {
   "cell_type": "code",
   "execution_count": 1,
   "id": "initial_id",
   "metadata": {
    "collapsed": true,
    "ExecuteTime": {
     "end_time": "2023-08-31T02:49:00.242929Z",
     "start_time": "2023-08-31T02:49:00.217424Z"
    }
   },
   "source": [
    "# 示例代码中或有不当之处，欢迎读者提出改进，作者邮箱tohuangjia@gmail.com\n",
    "import numpy as np  # 导入NumPy数学工具箱\n",
    "import pandas as pd  # 导入Pandas数据处理工具箱\n",
    "\n",
    "# 读入数据并显示前面几行的内容，这是为了确保我们的文件读入的正确性\n",
    "# 示例代码是在Kaggle中数据集中读入文件，如果在本机中需要指定具体本地路径\n",
    "df_ads = pd.read_csv('./data/advertising.csv')\n",
    "df_ads.head()"
   ],
   "outputs": []
  },
  {
   "cell_type": "code",
   "execution_count": 2,
   "source": [
    "import matplotlib.pyplot as plt  # 导入Matplotlib绘图工具箱\n",
    "import seaborn as sns  # 导入Seaborn绘图工具箱\n",
    "\n",
    "# 对所有的标签和特征显示相关性热力图\n",
    "sns.heatmap(df_ads.corr(), annot=True, cmap='YlGnBu')\n",
    "plt.show()"
   ],
   "metadata": {
    "collapsed": false,
    "ExecuteTime": {
     "end_time": "2023-08-31T02:49:00.368238Z",
     "start_time": "2023-08-31T02:49:00.230459Z"
    }
   },
   "id": "bc04d5dea4a00207",
   "outputs": []
  },
  {
   "cell_type": "code",
   "execution_count": 3,
   "source": [
    "# 显示销量和各种广告投放量的散点图\n",
    "sns.pairplot(df_ads, x_vars=['wechat', 'weibo', 'others'],\n",
    "             y_vars='sales',\n",
    "             height=4, aspect=1, kind='scatter')\n",
    "plt.show()"
   ],
   "metadata": {
    "collapsed": false,
    "ExecuteTime": {
     "end_time": "2023-08-31T02:49:00.696248Z",
     "start_time": "2023-08-31T02:49:00.353493Z"
    }
   },
   "id": "6f8f893cc4060881",
   "outputs": []
  },
  {
   "cell_type": "code",
   "execution_count": 4,
   "source": [
    "X = np.array(df_ads.wechat)  #构建特征集，只有微信广告一个特征\n",
    "y = np.array(df_ads.sales)  #构建标签集，销售金额\n",
    "print(\"张量X的阶:\", X.ndim)\n",
    "print(\"张量X的形状:\", X.shape)\n",
    "# print(\"张量X的内容:\", X)"
   ],
   "metadata": {
    "collapsed": false,
    "ExecuteTime": {
     "end_time": "2023-08-31T02:49:00.696936Z",
     "start_time": "2023-08-31T02:49:00.690819Z"
    }
   },
   "id": "1d824f47fe85bec4",
   "outputs": []
  },
  {
   "cell_type": "code",
   "execution_count": 5,
   "source": [
    "# X = X.reshape((len(X),1)) #通过reshape函数把向量转换为矩阵，len函数返回样本个数\n",
    "# y = y.reshape((len(y),1)) #通过reshape函数把向量转换为矩阵，len函数返回样本个数\n",
    "X = X.reshape(-1, 1)  #通过reshape函数把向量转换为矩阵，len函数返回样本个数\n",
    "y = y.reshape(-1, 1)  #通过reshape函数把向量转换为矩阵，len函数返回样本个数\n",
    "print(\"张量X的阶:\", X.ndim)\n",
    "print(\"张量X的形状:\", X.shape)"
   ],
   "metadata": {
    "collapsed": false,
    "ExecuteTime": {
     "end_time": "2023-08-31T02:49:00.697175Z",
     "start_time": "2023-08-31T02:49:00.694469Z"
    }
   },
   "id": "733f618b026e3a66",
   "outputs": []
  },
  {
   "cell_type": "code",
   "execution_count": 6,
   "source": [
    "# 将数据集进行80%（训练集）和20%（验证集）的分割\n",
    "from sklearn.model_selection import train_test_split\n",
    "\n",
    "X_train, X_test, y_train, y_test = train_test_split(X, y,\n",
    "                                                    test_size=0.2, random_state=0)"
   ],
   "metadata": {
    "collapsed": false,
    "ExecuteTime": {
     "end_time": "2023-08-31T02:49:00.889569Z",
     "start_time": "2023-08-31T02:49:00.697787Z"
    }
   },
   "id": "5f64991cda4f7bac",
   "outputs": []
  },
  {
   "cell_type": "code",
   "execution_count": 6,
   "source": [],
   "metadata": {
    "collapsed": false,
    "ExecuteTime": {
     "end_time": "2023-08-31T02:49:00.895367Z",
     "start_time": "2023-08-31T02:49:00.890080Z"
    }
   },
   "id": "311f2198e2f5691c",
   "outputs": []
  },
  {
   "cell_type": "code",
   "execution_count": 7,
   "source": [
    "def scaler(train, test):  # 定义归一化函数 ，进行数据压缩    \n",
    "    min = train.min(axis=0)  # 训练集最小值\n",
    "    max = train.max(axis=0)  # 训练集最大值\n",
    "    gap = max - min  # 最大值和最小值的差\n",
    "    train -= min  # 所有数据减最小值\n",
    "    train /= gap  # 所有数据除以大小值差\n",
    "    test -= min  #把训练集最小值应用于测试集\n",
    "    test /= gap  #把训练集大小值差应用于测试集\n",
    "    return train, test  # 返回压缩后的数据"
   ],
   "metadata": {
    "collapsed": false,
    "ExecuteTime": {
     "end_time": "2023-08-31T02:49:00.895645Z",
     "start_time": "2023-08-31T02:49:00.892824Z"
    }
   },
   "id": "c9327947f1d4bbce",
   "outputs": []
  },
  {
   "cell_type": "code",
   "execution_count": 8,
   "source": [
    "X_train, X_test = scaler(X_train, X_test)  # 对特征归一化\n",
    "y_train, y_test = scaler(y_train, y_test)  # 对标签也归一化"
   ],
   "metadata": {
    "collapsed": false,
    "ExecuteTime": {
     "end_time": "2023-08-31T02:49:00.897216Z",
     "start_time": "2023-08-31T02:49:00.894551Z"
    }
   },
   "id": "51bc2b416045230c",
   "outputs": []
  },
  {
   "cell_type": "code",
   "execution_count": 9,
   "source": [
    "# lineX = np.linspace(X_norm.min(), X_norm.max(),100)\n",
    "#用之前已经导入的matplotlib.pyplot中的plot方法显示散点图\n",
    "plt.plot(X_train, y_train, 'r.', label='Training data')\n",
    "plt.xlabel('Wechat Ads')  # x轴Label\n",
    "plt.ylabel('Sales')  # y轴Label\n",
    "plt.legend()  # 显示图例\n",
    "plt.show()  # 显示绘图结果"
   ],
   "metadata": {
    "collapsed": false,
    "ExecuteTime": {
     "end_time": "2023-08-31T02:49:00.971978Z",
     "start_time": "2023-08-31T02:49:00.897496Z"
    }
   },
   "id": "a008020659352213",
   "outputs": []
  },
  {
   "cell_type": "code",
   "execution_count": 10,
   "source": [
    "# 定义线性回归的损失函数\n",
    "def cost_function(X, y, w, b):  # 手工定义一个MSE均方误差函数\n",
    "    y_hat = w * X + b  # 这是假设函数,其中已经应用了Python的广播功能\n",
    "    loss = y_hat - y  # 求出每一个y’和训练集中真实的y之间的差异 \n",
    "    cost = np.sum(loss ** 2) / len(X)  # 这是均方误差函数的代码实现\n",
    "    return cost  # 返回当前模型的均方误差值"
   ],
   "metadata": {
    "collapsed": false,
    "ExecuteTime": {
     "end_time": "2023-08-31T02:49:00.976344Z",
     "start_time": "2023-08-31T02:49:00.972476Z"
    }
   },
   "id": "a80932d480ac776f",
   "outputs": []
  },
  {
   "cell_type": "code",
   "execution_count": 11,
   "source": [
    "print(\"当权重5，偏置3时，损失为：\", cost_function(X_train, y_train, w=5, b=3))\n",
    "print(\"当权重100，偏置1时，损失为：\", cost_function(X_train, y_train, w=100, b=1))"
   ],
   "metadata": {
    "collapsed": false,
    "ExecuteTime": {
     "end_time": "2023-08-31T02:49:00.980995Z",
     "start_time": "2023-08-31T02:49:00.977401Z"
    }
   },
   "id": "6bce2c96921ecd97",
   "outputs": []
  },
  {
   "cell_type": "code",
   "execution_count": 12,
   "source": [
    "# 线性回归的梯度下降实现\n",
    "def gradient_descent(X, y, w, b, lr, iterations):  # 定义一个实现梯度下降的函数\n",
    "    \"\"\"\n",
    "    线性回归的梯度下降实现\n",
    "    :param X: 特征集 \n",
    "    :param y: 标签集\n",
    "    :param w: 权重\n",
    "    :param b: 偏置\n",
    "    :param lr: 速率\n",
    "    :param iterations: 迭代次数 \n",
    "    :return: \n",
    "    \"\"\"\n",
    "    l_history = np.zeros(iterations)  # 初始化记录梯度下降过程中损失的数组\n",
    "    w_history = np.zeros(iterations)  # 初始化记录梯度下降过程中权重的数组\n",
    "    b_history = np.zeros(iterations)  # 初始化记录梯度下降过程中偏置的数组                      \n",
    "    for iter in range(iterations):  # 进行梯度下降的迭代，就是下多少级台阶\n",
    "        y_hat = w * X + b  # 这个是向量化运行实现的假设函数\n",
    "        loss = y_hat - y  # 这是中间过程,求得的是假设函数预测的y和真正的y值之间的差值\n",
    "        derivative_weight = X.T.dot(loss) / len(X) * 2  # 对权重求导，len(X)就是数据集样本数N\n",
    "        derivative_bias = sum(loss) * 1 / len(X) * 2  # 对偏置求导，len(X)就是数据集样本数N\n",
    "        w = w - lr * derivative_weight  # 结合下降速率alpha更新权重\n",
    "        b = b - lr * derivative_bias  # 结合下降速率alpha更新偏置\n",
    "        l_history[iter] = cost_function(X, y, w, b)  # 梯度下降过程中损失的历史 \n",
    "        w_history[iter] = w  # 梯度下降过程中权重的历史\n",
    "        b_history[iter] = b  # 梯度下降过程中偏置的历史\n",
    "    return l_history, w_history, b_history  # 返回梯度下降过程数据"
   ],
   "metadata": {
    "collapsed": false,
    "ExecuteTime": {
     "end_time": "2023-08-31T02:49:00.982528Z",
     "start_time": "2023-08-31T02:49:00.980880Z"
    }
   },
   "id": "4ddba3ea9ea8cc16",
   "outputs": []
  },
  {
   "cell_type": "code",
   "execution_count": 13,
   "source": [
    "# 定义线性回归的预测函数\n",
    "def predict(weight, bias, X):  # 定义预测函数\n",
    "    y_hat = weight * X + bias  # 这是假设函数,其中已经应用了Python的广播功能\n",
    "    return y_hat  # 返回预测分类的结果"
   ],
   "metadata": {
    "collapsed": false,
    "ExecuteTime": {
     "end_time": "2023-08-31T02:49:00.987112Z",
     "start_time": "2023-08-31T02:49:00.983312Z"
    }
   },
   "id": "57070d6e5c19d5f7",
   "outputs": []
  },
  {
   "cell_type": "code",
   "execution_count": 14,
   "source": [
    "# 定义线性回归模型 - 核心就是调用梯度下降\n",
    "def linear_regression(X, y, weight, bias, alpha, iterations):\n",
    "    loss_history, weight_history, bias_history = gradient_descent(X, y,\n",
    "                                                                  weight, bias,\n",
    "                                                                  alpha, iterations)\n",
    "    print(\"训练最终损失:\", loss_history[-1])  # 打印最终损失\n",
    "    y_pred = predict(weight_history[-1], bias_history[-1], X)  # 预测\n",
    "    traning_acc = 100 - np.mean(np.abs(y_pred - y)) * 100  # 计算准确率\n",
    "    print(\"线性回归训练准确率: {:.2f}%\".format(traning_acc))  # 打印准确率\n",
    "    return loss_history, weight_history, bias_history  # 返回训练历史记录"
   ],
   "metadata": {
    "collapsed": false,
    "ExecuteTime": {
     "end_time": "2023-08-31T02:49:00.988140Z",
     "start_time": "2023-08-31T02:49:00.986453Z"
    }
   },
   "id": "e530d9fbe8fea44b",
   "outputs": []
  },
  {
   "cell_type": "code",
   "execution_count": 15,
   "source": [
    "# 首先确定参数的初始值\n",
    "iterations = 500;  # 迭代1500次\n",
    "alpha = 0.5;  #学习速率设为1,0.5和0.01，分别试一下\n",
    "weight = -5  # 权重\n",
    "bias = 3  # 偏置\n",
    "# 计算一下初始权重和偏置值所带来的损失\n",
    "print('当前损失：', cost_function(X_train, y_train, weight, bias))"
   ],
   "metadata": {
    "collapsed": false,
    "ExecuteTime": {
     "end_time": "2023-08-31T02:49:00.992716Z",
     "start_time": "2023-08-31T02:49:00.988713Z"
    }
   },
   "id": "fcbdc521e8b3c734",
   "outputs": []
  },
  {
   "cell_type": "code",
   "execution_count": 16,
   "source": [
    "# 绘制当前的函数模型\n",
    "plt.plot(X_train, y_train, 'r.', label='Training data')  # 显示训练集散点图\n",
    "# 生成一个包含500个元素的等差数列，作为绘制拟合函数的X值域。X_train.min()和X_train.max()分别表示训练集输入特征的最小值和最大值。\n",
    "line_X = np.linspace(X_train.min(), X_train.max(), 500)  # X值域\n",
    "line_y = [weight * xx + bias for xx in line_X]  # 假设函数y_hat\n",
    "plt.plot(line_X, line_y, 'b--', label='Current hypothesis')  # 显示当前拟合函数\n",
    "plt.xlabel('Wechat Ads')  # x轴Label\n",
    "plt.ylabel('Sales')  # y轴Label\n",
    "plt.legend()  # 显示图例\n",
    "plt.show()  # 显示绘图"
   ],
   "metadata": {
    "collapsed": false,
    "ExecuteTime": {
     "end_time": "2023-08-31T02:49:01.071485Z",
     "start_time": "2023-08-31T02:49:00.999011Z"
    }
   },
   "id": "c5178ee53818b76b",
   "outputs": []
  },
  {
   "cell_type": "code",
   "execution_count": 17,
   "source": [
    "# 用线性回归模型训练机器，拟合函数\n",
    "loss_history, weight_history, bias_history = \\\n",
    "    linear_regression(X_train, y_train, weight, bias, alpha, iterations)"
   ],
   "metadata": {
    "collapsed": false,
    "ExecuteTime": {
     "end_time": "2023-08-31T02:49:01.104958Z",
     "start_time": "2023-08-31T02:49:01.103265Z"
    }
   },
   "id": "81a0cf1644215444",
   "outputs": []
  },
  {
   "cell_type": "code",
   "execution_count": 18,
   "source": [
    "# 根据初始参数值，进行梯度下降，也就是开始训练机器，拟合函数\n",
    "loss_history, weight_history, bias_history = \\\n",
    "    gradient_descent(X_train, y_train, weight, bias, alpha, iterations)"
   ],
   "metadata": {
    "collapsed": false,
    "ExecuteTime": {
     "end_time": "2023-08-31T02:49:01.149479Z",
     "start_time": "2023-08-31T02:49:01.136632Z"
    }
   },
   "id": "c837b0db0f6c50d6",
   "outputs": []
  },
  {
   "cell_type": "code",
   "execution_count": 19,
   "source": [
    "plt.plot(loss_history, 'g--', label='Loss Curve')\n",
    "plt.xlabel('Iterations')  # x轴Label\n",
    "plt.ylabel('Loss')  # y轴Label\n",
    "plt.legend()  # 显示图例\n",
    "plt.show()  # 显示损失曲线"
   ],
   "metadata": {
    "collapsed": false,
    "ExecuteTime": {
     "end_time": "2023-08-31T02:49:01.213872Z",
     "start_time": "2023-08-31T02:49:01.143868Z"
    }
   },
   "id": "ca6e3955bf9ca9a0",
   "outputs": []
  },
  {
   "cell_type": "code",
   "execution_count": 20,
   "source": [
    "# 绘制当前的函数模型\n",
    "plt.plot(X_train, y_train, 'r.', label='Training data')  # 显示训练集散点图\n",
    "line_X = np.linspace(X_train.min(), X_train.max(), 500)  # X值域\n",
    "# 关于weight_history[-1],这里的索引[-1]，我们讲过，就代表迭代500次后的最后一个W值\n",
    "line_y = [weight_history[-1] * xx + bias_history[-1] for xx in line_X]  # 假设函数y_hat\n",
    "plt.plot(line_X, line_y, 'b--', label='Current hypothesis')  # 显示当前拟合函数\n",
    "plt.xlabel('Wechat Ads')  # x轴Label\n",
    "plt.ylabel('Sales')  # y轴Label\n",
    "plt.legend()  # 显示图例\n",
    "plt.show()  # 显示绘图"
   ],
   "metadata": {
    "collapsed": false,
    "ExecuteTime": {
     "end_time": "2023-08-31T02:49:01.294477Z",
     "start_time": "2023-08-31T02:49:01.228109Z"
    }
   },
   "id": "6854b06df82449ef",
   "outputs": []
  },
  {
   "cell_type": "code",
   "execution_count": 20,
   "source": [],
   "metadata": {
    "collapsed": false,
    "ExecuteTime": {
     "end_time": "2023-08-31T02:49:01.299510Z",
     "start_time": "2023-08-31T02:49:01.294646Z"
    }
   },
   "id": "5ce9d33f12fc800e",
   "outputs": []
  },
  {
   "cell_type": "code",
   "execution_count": 21,
   "source": [
    "print('当前损失：', cost_function(X_train, y_train, weight_history[-1], bias_history[-1]))\n",
    "print('当前权重：', weight_history[-1])\n",
    "print('当前偏置：', bias_history[-1])"
   ],
   "metadata": {
    "collapsed": false,
    "ExecuteTime": {
     "end_time": "2023-08-31T02:49:01.299907Z",
     "start_time": "2023-08-31T02:49:01.297711Z"
    }
   },
   "id": "330da555057149e5",
   "outputs": []
  },
  {
   "cell_type": "code",
   "execution_count": 22,
   "source": [
    "print('测试集损失：', cost_function(X_test, y_test, weight_history[-1], bias_history[-1]))"
   ],
   "metadata": {
    "collapsed": false,
    "ExecuteTime": {
     "end_time": "2023-08-31T02:49:01.301878Z",
     "start_time": "2023-08-31T02:49:01.300100Z"
    }
   },
   "id": "db35aeda3a6e41b2",
   "outputs": []
  },
  {
   "cell_type": "code",
   "execution_count": 23,
   "source": [
    "# 同时绘制训练集和测试集损失曲线\n",
    "loss_test, a, b = gradient_descent(X_test, y_test, weight, bias, alpha, iterations)\n",
    "plt.plot(loss_history, 'g--', label='Traning Loss Curve')\n",
    "plt.plot(loss_test, 'r', label='Test Loss Curve')\n",
    "plt.xlabel('Iterations')  # x轴Label\n",
    "plt.ylabel('Loss')  # y轴Label\n",
    "plt.legend()  # 显示图例\n",
    "plt.show()"
   ],
   "metadata": {
    "collapsed": false,
    "ExecuteTime": {
     "end_time": "2023-08-31T02:49:01.394773Z",
     "start_time": "2023-08-31T02:49:01.327736Z"
    }
   },
   "id": "9440acecf6f1ce6d",
   "outputs": []
  },
  {
   "cell_type": "code",
   "execution_count": 24,
   "source": [
    "# 设计Contour Plot动画\n",
    "import matplotlib.animation as animation\n",
    "import networkx as nx\n",
    "from matplotlib.animation import FuncAnimation, PillowWriter\n",
    "\n",
    "theta0_vals = np.linspace(-2, 3, 100)\n",
    "theta1_vals = np.linspace(-3, 3, 100)\n",
    "J_vals = np.zeros((theta0_vals.size, theta1_vals.size))\n",
    "\n",
    "for t1, element in enumerate(theta0_vals):\n",
    "    for t2, element2 in enumerate(theta1_vals):\n",
    "        thetaT = np.zeros(shape=(2, 1))\n",
    "        weight = element\n",
    "        bias = element2\n",
    "        J_vals[t1, t2] = cost_function(X_train, y_train, weight, bias)\n",
    "\n",
    "J_vals = J_vals.T\n",
    "A, B = np.meshgrid(theta0_vals, theta1_vals)\n",
    "C = J_vals\n",
    "\n",
    "fig = plt.figure(figsize=(12, 5))\n",
    "plt.subplot(121)\n",
    "plt.plot(X_train, y_train, 'ro', label='Training data')\n",
    "plt.title('Sales Prediction')\n",
    "plt.axis([X_train.min() - X_train.std(), X_train.max() + X_train.std(), y_train.min() - y_train.std(),\n",
    "          y_train.max() + y_train.std()])\n",
    "plt.grid(axis='both')\n",
    "plt.xlabel(\"WeChat Ads Volumn (X1) \")\n",
    "plt.ylabel(\"Sales Volumn (Y)\")\n",
    "plt.legend(loc='lower right')\n",
    "\n",
    "line, = plt.plot([], [], 'b-', label='Current Hypothesis')\n",
    "annotation = plt.text(-2, 3, '', fontsize=20, color='green')\n",
    "annotation.set_animated(True)\n",
    "\n",
    "plt.subplot(122)\n",
    "cp = plt.contourf(A, B, C)\n",
    "plt.colorbar(cp)\n",
    "plt.title('Filled Contours Plot')\n",
    "plt.xlabel('Bias')\n",
    "plt.ylabel('Weight')\n",
    "track, = plt.plot([], [], 'r-')\n",
    "point, = plt.plot([], [], 'ro')\n",
    "\n",
    "plt.tight_layout()\n",
    "plt.close()\n",
    "\n",
    "\n",
    "def init():\n",
    "    line.set_data([], [])\n",
    "    track.set_data([], [])\n",
    "    point.set_data([], [])\n",
    "    annotation.set_text('')\n",
    "    return line, track, point, annotation\n",
    "\n",
    "\n",
    "def animate(i):\n",
    "    fit1_X = np.linspace(X_train.min() - X_train.std(), X_train.max() + X_train.std(), 1000)\n",
    "    fit1_y = bias_history[i] + weight_history[i] * fit1_X\n",
    "\n",
    "    fit2_X = bias_history.T[:i]\n",
    "    fit2_y = weight_history.T[:i]\n",
    "\n",
    "    track.set_data(fit2_X, fit2_y)\n",
    "    line.set_data(fit1_X, fit1_y)\n",
    "    point.set_data(bias_history.T[i], weight_history.T[i])\n",
    "\n",
    "    annotation.set_text('Cost = %.4f' % (loss_history[i]))\n",
    "    return line, track, point, annotation\n",
    "\n",
    "\n",
    "anim = animation.FuncAnimation(fig, animate, init_func=init,\n",
    "                               frames=50, interval=0, blit=True)\n",
    "\n",
    "anim.save('animation.gif', writer='imagemagick', fps=500)"
   ],
   "metadata": {
    "collapsed": false,
    "ExecuteTime": {
     "end_time": "2023-08-31T02:49:17.546119Z",
     "start_time": "2023-08-31T02:49:01.399522Z"
    }
   },
   "id": "fdef0193053a71d2",
   "outputs": []
  },
  {
   "cell_type": "code",
   "execution_count": 27,
   "source": [
    "# 显示Contour Plot动画\n",
    "# 在pycharm中运行，需要安装imagemagick，然后在命令行中输入：magick -version\n",
    "import io\n",
    "import base64\n",
    "from IPython.display import HTML\n",
    "\n",
    "filename = 'animation.gif'\n",
    "\n",
    "video = io.open(filename, 'r+b').read()\n",
    "encoded = base64.b64encode(video)\n",
    "display(HTML(data='''<img src=\"data:image/gif;base64,{0}\" type=\"gif\" />'''.format(encoded.decode('ascii'))))"
   ],
   "metadata": {
    "collapsed": false,
    "ExecuteTime": {
     "end_time": "2023-08-31T03:07:30.257206Z",
     "start_time": "2023-08-31T03:07:30.221221Z"
    }
   },
   "id": "9250cba2510dca56",
   "outputs": []
  },
  {
   "cell_type": "code",
   "execution_count": null,
   "source": [],
   "metadata": {
    "collapsed": false,
    "is_executing": true
   },
   "id": "5b0ab062939ddff5",
   "outputs": []
  }
 ],
 "metadata": {
  "kernelspec": {
   "display_name": "Python 3",
   "language": "python",
   "name": "python3"
  },
  "language_info": {
   "codemirror_mode": {
    "name": "ipython",
    "version": 2
   },
   "file_extension": ".py",
   "mimetype": "text/x-python",
   "name": "python",
   "nbconvert_exporter": "python",
   "pygments_lexer": "ipython2",
   "version": "2.7.6"
  }
 },
 "nbformat": 4,
 "nbformat_minor": 5
}
