{
 "cells": [
  {
   "cell_type": "code",
   "execution_count": 1,
   "id": "initial_id",
   "metadata": {
    "collapsed": true,
    "ExecuteTime": {
     "end_time": "2023-08-31T14:47:32.454271Z",
     "start_time": "2023-08-31T14:47:32.364585Z"
    }
   },
   "source": [
    "import pandas as pd\n",
    "\n",
    "# 读入文件，并显示头几行\n",
    "df_ads = pd.read_csv('../data/advertising.csv')\n",
    "df_ads.head()"
   ],
   "outputs": []
  },
  {
   "cell_type": "code",
   "execution_count": 2,
   "source": [
    "import matplotlib.pyplot as plt\n",
    "import seaborn as sns\n",
    "\n",
    "# corr()是DataFrame的一个方法，用于计算各个变量之间的相关性。它返回一个相关性矩阵，其中每个元素表示两个变量之间的相关性。\n",
    "df_ads.corr().head()"
   ],
   "metadata": {
    "collapsed": false,
    "ExecuteTime": {
     "end_time": "2023-08-31T14:47:32.465189Z",
     "start_time": "2023-08-31T14:47:32.377691Z"
    }
   },
   "id": "eca006cd02801f69",
   "outputs": []
  },
  {
   "cell_type": "code",
   "execution_count": 3,
   "source": [
    "# heatmap用于绘制热力图。在这里，它接收一个DataFrame（df_ads）的相关性矩阵作为输入\n",
    "sns.heatmap(df_ads.corr(), annot=True, cmap='YlGnBu')\n",
    "plt.show()"
   ],
   "metadata": {
    "collapsed": false,
    "ExecuteTime": {
     "end_time": "2023-08-31T14:47:32.520863Z",
     "start_time": "2023-08-31T14:47:32.380615Z"
    }
   },
   "id": "7c4e55cb6b612857",
   "outputs": []
  },
  {
   "cell_type": "code",
   "execution_count": 4,
   "source": [
    "# 显示销量和各种广告投放量的散点图\n",
    "# x_vars 指定了在散点图矩阵中显示的自变量（独立变量）\n",
    "# y_vars 指定了因变量（依赖变量），即在散点图矩阵中显示在y轴上的变量\n",
    "# height=4和aspect=1是用于设置散点图矩阵的高度和宽高比\n",
    "# kind='scatter'表示创建散点图矩阵\n",
    "sns.pairplot(df_ads, x_vars=['wechat', 'weibo', 'others'],\n",
    "             y_vars='sales',\n",
    "             height=4, aspect=1, kind='scatter')\n",
    "plt.show()"
   ],
   "metadata": {
    "collapsed": false,
    "ExecuteTime": {
     "end_time": "2023-08-31T14:47:32.818054Z",
     "start_time": "2023-08-31T14:47:32.482059Z"
    }
   },
   "id": "43d7161f76af240c",
   "outputs": []
  },
  {
   "cell_type": "code",
   "execution_count": 5,
   "source": [
    "import numpy as np\n",
    "\n",
    "X = np.array(df_ads.wechat)  #构建特征集，只有微信广告一个特征\n",
    "y = np.array(df_ads.sales)  #构建标签集，销售金额\n",
    "print(\"张量X的阶:\", X.ndim)\n",
    "print(\"张量X的形状:\", X.shape)\n",
    "# print(\"张量X的内容:\", X)"
   ],
   "metadata": {
    "collapsed": false,
    "ExecuteTime": {
     "end_time": "2023-08-31T14:47:32.832222Z",
     "start_time": "2023-08-31T14:47:32.818586Z"
    }
   },
   "id": "610392283328f937",
   "outputs": []
  },
  {
   "cell_type": "code",
   "execution_count": 6,
   "source": [
    "X = X.reshape(-1, 1)  #通过reshape函数把向量转换为矩阵\n",
    "y = y.reshape(-1, 1)  #通过reshape函数把向量转换为矩阵\n",
    "print(\"张量X的阶:\", X.ndim)\n",
    "print(\"张量X的形状:\", X.shape)"
   ],
   "metadata": {
    "collapsed": false,
    "ExecuteTime": {
     "end_time": "2023-08-31T14:47:32.832405Z",
     "start_time": "2023-08-31T14:47:32.821279Z"
    }
   },
   "id": "f13883bb2cd71ed5",
   "outputs": []
  },
  {
   "cell_type": "code",
   "execution_count": 7,
   "source": [
    "from sklearn.model_selection import train_test_split\n",
    "\n",
    "X_train, X_test, y_train, y_test = train_test_split(X, y, test_size=0.2, random_state=0)\n",
    "type(X_train)"
   ],
   "metadata": {
    "collapsed": false,
    "ExecuteTime": {
     "end_time": "2023-08-31T14:47:32.953661Z",
     "start_time": "2023-08-31T14:47:32.823800Z"
    }
   },
   "id": "a5a3ae0c475ed37f",
   "outputs": []
  },
  {
   "cell_type": "code",
   "execution_count": 8,
   "source": [
    "# 定义归一化函数\n",
    "def scaler(train: np.ndarray, test: np.ndarray) -> [np.ndarray, np.ndarray]:\n",
    "    min = train.min(axis=0)\n",
    "    max = train.max(axis=0)\n",
    "    gap = max - min\n",
    "    train -= min\n",
    "    train /= gap\n",
    "    test -= min\n",
    "    test /= gap\n",
    "    return train, test"
   ],
   "metadata": {
    "collapsed": false,
    "ExecuteTime": {
     "end_time": "2023-08-31T14:47:32.967659Z",
     "start_time": "2023-08-31T14:47:32.954547Z"
    }
   },
   "id": "8f1c438d5a8179d0",
   "outputs": []
  },
  {
   "cell_type": "code",
   "execution_count": 9,
   "source": [
    "X_train, X_test = scaler(X_train, X_test)\n",
    "y_train, y_test = scaler(y_train, y_test)"
   ],
   "metadata": {
    "collapsed": false,
    "ExecuteTime": {
     "end_time": "2023-08-31T14:47:32.967987Z",
     "start_time": "2023-08-31T14:47:32.956786Z"
    }
   },
   "id": "e041d8ed587f84d6",
   "outputs": []
  },
  {
   "cell_type": "code",
   "execution_count": 10,
   "source": [
    "# r.：表示使用红色点表示\n",
    "plt.plot(X_train, y_train, 'r.', label='Training data')\n",
    "plt.xlabel('Wechat Ads')  # x轴Label\n",
    "plt.ylabel('Sales')  # y轴Label\n",
    "plt.legend()  # 显示图例\n",
    "plt.show()  # 显示绘图结果"
   ],
   "metadata": {
    "collapsed": false,
    "ExecuteTime": {
     "end_time": "2023-08-31T14:47:33.040036Z",
     "start_time": "2023-08-31T14:47:32.962535Z"
    }
   },
   "id": "2037f053418ed502",
   "outputs": []
  },
  {
   "cell_type": "code",
   "execution_count": 11,
   "source": [
    "# 定义损失函数\n",
    "def cost_function(X: np.ndarray, y: np.ndarray, w: int, b: int):\n",
    "    y_hat = X * w + b\n",
    "    loss = y_hat - y\n",
    "    cost = np.sum(loss ** 2) / len(X)  #均方误差函数的实现\n",
    "    return cost"
   ],
   "metadata": {
    "collapsed": false,
    "ExecuteTime": {
     "end_time": "2023-08-31T14:47:33.055202Z",
     "start_time": "2023-08-31T14:47:33.040635Z"
    }
   },
   "id": "d9988026738a48c4",
   "outputs": []
  },
  {
   "cell_type": "code",
   "execution_count": 12,
   "source": [
    "print(\"当权重5，偏置3时，损失为：\", cost_function(X_train, y_train, w=5, b=3))\n",
    "print(\"当权重100，偏置1时，损失为：\", cost_function(X_train, y_train, w=100, b=1))"
   ],
   "metadata": {
    "collapsed": false,
    "ExecuteTime": {
     "end_time": "2023-08-31T14:47:33.055478Z",
     "start_time": "2023-08-31T14:47:33.043238Z"
    }
   },
   "id": "2d729d77838a6ab0",
   "outputs": []
  },
  {
   "cell_type": "code",
   "execution_count": 13,
   "source": [
    "def gradient_descent(X: np.ndarray, y: np.ndarray, w: int, b: int, lr: int, iterations: int):\n",
    "    \"\"\"线性回归的梯度下降\"\"\"\n",
    "    l_history = np.zeros(iterations)  # 初始化记录梯度下降过程中损失的数组\n",
    "    w_history = np.zeros(iterations)\n",
    "    b_history = np.zeros(iterations)\n",
    "    for iter in range(iterations):\n",
    "        y_hat = w * X + b\n",
    "        loss = y_hat - y\n",
    "        # 因为X和loss维度一样，要求点积的话，需要将其中一个转置\n",
    "        derivative_weight = X.T.dot(loss) / len(X) * 2  # 对权重(均方误差函数)求导，len(X)就是数据集样本数N\n",
    "        derivative_bias = sum(loss) * 1 / len(X) * 2  # 对偏置求导，len(X)就是数据集样本数N\n",
    "        w = w - lr * derivative_weight  # 结合下降速率alpha更新权重\n",
    "        b = b - lr * derivative_bias  # 结合下降速率alpha更新偏置\n",
    "        l_history[iter] = cost_function(X, y, w, b)  # 梯度下降过程中损失的历史 \n",
    "        w_history[iter] = w  # 梯度下降过程中权重的历史\n",
    "        b_history[iter] = b  # 梯度下降过程中偏置的历史 \n",
    "    return l_history, w_history, b_history"
   ],
   "metadata": {
    "collapsed": false,
    "ExecuteTime": {
     "end_time": "2023-08-31T14:47:33.055536Z",
     "start_time": "2023-08-31T14:47:33.046572Z"
    }
   },
   "id": "e84542dda4437235",
   "outputs": []
  },
  {
   "cell_type": "code",
   "execution_count": 14,
   "source": [
    "def predict(weight, bias, X):  # 定义预测函数\n",
    "    \"\"\"定义线性回归的预测函数\"\"\"\n",
    "    y_hat = weight * X + bias  # 这是假设函数,其中已经应用了Python的广播功能\n",
    "    return y_hat  # 返回预测分类的结果"
   ],
   "metadata": {
    "collapsed": false,
    "ExecuteTime": {
     "end_time": "2023-08-31T14:47:33.055586Z",
     "start_time": "2023-08-31T14:47:33.048966Z"
    }
   },
   "id": "bf448b904bc651b8",
   "outputs": []
  },
  {
   "cell_type": "code",
   "execution_count": 15,
   "source": [
    "def linear_regression(X, y, weight, bias, alpha, iterations):\n",
    "    \"\"\"定义线性回归模型 - 核心就是调用梯度下降\"\"\"\n",
    "    loss_history, weight_history, bias_history = gradient_descent(X, y, weight, bias, alpha, iterations)\n",
    "    print(\"训练最终损失：\", loss_history[-1])\n",
    "    y_pred = predict(weight_history[-1], bias_history[-1], X)  #进行预测\n",
    "    traning_acc = 100 - np.mean(np.abs(y_pred - y)) * 100\n",
    "    print(\"线性回归训练准确率: {:.2f}%\".format(traning_acc))  # 打印准确率\n",
    "    return loss_history, weight_history, bias_history  # 返回训练历史记录"
   ],
   "metadata": {
    "collapsed": false,
    "ExecuteTime": {
     "end_time": "2023-08-31T14:47:33.055628Z",
     "start_time": "2023-08-31T14:47:33.051580Z"
    }
   },
   "id": "a778126f50743210",
   "outputs": []
  },
  {
   "cell_type": "code",
   "execution_count": 16,
   "source": [
    "# 首先确定参数的初始值\n",
    "iterations = 500;  # 迭代500次\n",
    "alpha = 0.5;  #学习速率设为1,0.5和0.01，分别试一下\n",
    "weight = -5  # 权重\n",
    "bias = 3  # 偏置\n",
    "# 计算一下初始权重和偏置值所带来的损失\n",
    "print('当前损失：', cost_function(X_train, y_train, weight, bias))"
   ],
   "metadata": {
    "collapsed": false,
    "ExecuteTime": {
     "end_time": "2023-08-31T14:47:33.059587Z",
     "start_time": "2023-08-31T14:47:33.054511Z"
    }
   },
   "id": "355c9df61a3df310",
   "outputs": []
  },
  {
   "cell_type": "code",
   "execution_count": 17,
   "source": [
    "# 绘制当前的函数模型\n",
    "plt.plot(X_train, y_train, 'r.', label='Training data')\n",
    "# 生成一个包含500个元素的等差数列，作为绘制拟合函数的X值域。X_train.min()和X_train.max()分别表示训练集输入特征的最小值和最大值。\n",
    "line_X = np.linspace(X_train.min(), X_train.max(), 500)  # X值域\n",
    "line_y = [weight * xx + bias for xx in line_X]  # 假设函数y_hat\n",
    "plt.plot(line_X, line_y, 'b--', label='Current hypothesis')  # 显示当前拟合函数\n",
    "plt.xlabel('Wechat Ads')  # x轴Label\n",
    "plt.ylabel('Sales')  # y轴Label\n",
    "plt.legend()  # 显示图例\n",
    "plt.show()  # 显示绘图，可以看到当前的拟合函数跟实际情况相差较远"
   ],
   "metadata": {
    "collapsed": false,
    "ExecuteTime": {
     "end_time": "2023-08-31T14:47:33.137568Z",
     "start_time": "2023-08-31T14:47:33.067621Z"
    }
   },
   "id": "3d9d4e018273dff8",
   "outputs": []
  },
  {
   "cell_type": "code",
   "execution_count": 18,
   "source": [
    "# 根据初始参数值，进行梯度下降，也就是开始训练机器，拟合函数\n",
    "loss_train, weight_history, bias_history = linear_regression(X_train, y_train, weight, bias, alpha, iterations)\n",
    "print(\"loss_history shape:\", loss_train.shape)\n",
    "plt.plot(loss_train, 'g--', label='Loss Curve')\n",
    "plt.xlabel('Iterations')  # x轴Label\n",
    "plt.ylabel('Loss')  # y轴Label\n",
    "plt.legend()  # 显示图例\n",
    "plt.show()  # 显示损失曲线"
   ],
   "metadata": {
    "collapsed": false,
    "ExecuteTime": {
     "end_time": "2023-08-31T14:47:33.246759Z",
     "start_time": "2023-08-31T14:47:33.172552Z"
    }
   },
   "id": "cd3ba649fd0402ca",
   "outputs": []
  },
  {
   "cell_type": "code",
   "execution_count": 19,
   "source": [
    "# 绘制当前的函数模型\n",
    "plt.plot(X_train, y_train, 'r.', label='Training data')  # 显示训练集散点图\n",
    "line_X = np.linspace(X_train.min(), X_train.max(), 500)  # X值域\n",
    "# 关于weight_history[-1],这里的索引[-1]，我们讲过，就代表迭代500次后的最后一个W值\n",
    "line_y = [weight_history[-1] * xx + bias_history[-1] for xx in line_X]  # 假设函数y_hat\n",
    "plt.plot(line_X, line_y, 'b--', label='Current hypothesis')  # 显示当前拟合函数\n",
    "plt.xlabel('Wechat Ads')  # x轴Label\n",
    "plt.ylabel('Sales')  # y轴Label\n",
    "plt.legend()  # 显示图例\n",
    "plt.show()  # 显示绘图"
   ],
   "metadata": {
    "collapsed": false,
    "ExecuteTime": {
     "end_time": "2023-08-31T14:56:23.693121Z",
     "start_time": "2023-08-31T14:56:23.608062Z"
    }
   },
   "id": "9453faea91b92b2",
   "outputs": []
  },
  {
   "cell_type": "code",
   "execution_count": 20,
   "source": [
    "print('当前损失：', cost_function(X_train, y_train, weight_history[-1], bias_history[-1]))\n",
    "print('当前权重：', weight_history[-1])\n",
    "print('当前偏置：', bias_history[-1])"
   ],
   "metadata": {
    "collapsed": false,
    "ExecuteTime": {
     "end_time": "2023-08-31T14:56:50.185186Z",
     "start_time": "2023-08-31T14:56:50.155879Z"
    }
   },
   "id": "da8feac351855ae",
   "outputs": []
  },
  {
   "cell_type": "code",
   "execution_count": 21,
   "source": [
    "print('测试集损失：', cost_function(X_test, y_test, weight_history[-1], bias_history[-1]))"
   ],
   "metadata": {
    "collapsed": false,
    "ExecuteTime": {
     "end_time": "2023-08-31T14:56:58.579298Z",
     "start_time": "2023-08-31T14:56:58.548603Z"
    }
   },
   "id": "a3c281aaa69f6c5c",
   "outputs": []
  },
  {
   "cell_type": "code",
   "execution_count": 22,
   "source": [
    "# 同时绘制训练集和测试集损失曲线\n",
    "loss_test, a, b = gradient_descent(X_test, y_test, weight, bias, alpha, iterations)\n",
    "plt.plot(loss_train, 'g--', label='Traning Loss Curve')\n",
    "plt.plot(loss_test, 'r', label='Test Loss Curve')\n",
    "plt.xlabel('Iterations')  # x轴Label\n",
    "plt.ylabel('Loss')  # y轴Label\n",
    "plt.legend()  # 显示图例\n",
    "plt.show()"
   ],
   "metadata": {
    "collapsed": false,
    "ExecuteTime": {
     "end_time": "2023-08-31T14:57:25.412536Z",
     "start_time": "2023-08-31T14:57:25.339632Z"
    }
   },
   "id": "1f1a0a9cc20bea6",
   "outputs": []
  },
  {
   "cell_type": "code",
   "execution_count": 23,
   "source": [
    "# 设计Contour Plot动画\n",
    "# 老实说这个就有点高端了，目前还驾驭不了\n",
    "import matplotlib.animation as animation\n",
    "\n",
    "theta0_vals = np.linspace(-2, 3, 100)\n",
    "theta1_vals = np.linspace(-3, 3, 100)\n",
    "J_vals = np.zeros((theta0_vals.size, theta1_vals.size))\n",
    "\n",
    "for t1, element in enumerate(theta0_vals):\n",
    "    for t2, element2 in enumerate(theta1_vals):\n",
    "        thetaT = np.zeros(shape=(2, 1))\n",
    "        weight = element\n",
    "        bias = element2\n",
    "        J_vals[t1, t2] = cost_function(X_train, y_train, weight, bias)\n",
    "\n",
    "J_vals = J_vals.T\n",
    "A, B = np.meshgrid(theta0_vals, theta1_vals)\n",
    "C = J_vals\n",
    "\n",
    "fig = plt.figure(figsize=(12, 5))\n",
    "plt.subplot(121)\n",
    "plt.plot(X_train, y_train, 'ro', label='Training data')\n",
    "plt.title('Sales Prediction')\n",
    "plt.axis([X_train.min() - X_train.std(), X_train.max() + X_train.std(), y_train.min() - y_train.std(),\n",
    "          y_train.max() + y_train.std()])\n",
    "plt.grid(axis='both')\n",
    "plt.xlabel(\"WeChat Ads Volumn (X1) \")\n",
    "plt.ylabel(\"Sales Volumn (Y)\")\n",
    "plt.legend(loc='lower right')\n",
    "\n",
    "line, = plt.plot([], [], 'b-', label='Current Hypothesis')\n",
    "annotation = plt.text(-2, 3, '', fontsize=20, color='green')\n",
    "annotation.set_animated(True)\n",
    "\n",
    "plt.subplot(122)\n",
    "cp = plt.contourf(A, B, C)\n",
    "plt.colorbar(cp)\n",
    "plt.title('Filled Contours Plot')\n",
    "plt.xlabel('Bias')\n",
    "plt.ylabel('Weight')\n",
    "track, = plt.plot([], [], 'r-')\n",
    "point, = plt.plot([], [], 'ro')\n",
    "\n",
    "plt.tight_layout()\n",
    "plt.close()\n",
    "\n",
    "\n",
    "def init():\n",
    "    line.set_data([], [])\n",
    "    track.set_data([], [])\n",
    "    point.set_data([], [])\n",
    "    annotation.set_text('')\n",
    "    return line, track, point, annotation\n",
    "\n",
    "\n",
    "def animate(i):\n",
    "    fit1_X = np.linspace(X_train.min() - X_train.std(), X_train.max() + X_train.std(), 1000)\n",
    "    fit1_y = bias_history[i] + weight_history[i] * fit1_X\n",
    "\n",
    "    fit2_X = bias_history.T[:i]\n",
    "    fit2_y = weight_history.T[:i]\n",
    "\n",
    "    track.set_data(fit2_X, fit2_y)\n",
    "    line.set_data(fit1_X, fit1_y)\n",
    "    point.set_data(bias_history.T[i], weight_history.T[i])\n",
    "\n",
    "    annotation.set_text('Cost = %.4f' % (loss_history[i]))\n",
    "    return line, track, point, annotation\n",
    "\n",
    "\n",
    "anim = animation.FuncAnimation(fig, animate, init_func=init,\n",
    "                               frames=50, interval=0, blit=True)\n",
    "\n",
    "anim.save('animation.gif', writer='imagemagick', fps=500)"
   ],
   "metadata": {
    "collapsed": false,
    "ExecuteTime": {
     "end_time": "2023-08-31T15:02:04.686073Z",
     "start_time": "2023-08-31T15:01:49.842796Z"
    }
   },
   "id": "e16118be9480543",
   "outputs": []
  },
  {
   "cell_type": "code",
   "execution_count": 24,
   "source": [
    "# 显示Contour Plot动画\n",
    "# 在pycharm中运行，需要安装imagemagick，然后在命令行中输入：magick -version\n",
    "import io\n",
    "import base64\n",
    "from IPython.display import HTML\n",
    "\n",
    "filename = 'animation.gif'\n",
    "\n",
    "video = io.open(filename, 'r+b').read()\n",
    "encoded = base64.b64encode(video)\n",
    "display(HTML(data='''<img src=\"data:image/gif;base64,{0}\" type=\"gif\" />'''.format(encoded.decode('ascii'))))"
   ],
   "metadata": {
    "collapsed": false,
    "ExecuteTime": {
     "end_time": "2023-08-31T15:03:45.760102Z",
     "start_time": "2023-08-31T15:03:45.723284Z"
    }
   },
   "id": "1e4dc01c6c5c1095",
   "outputs": []
  },
  {
   "cell_type": "code",
   "execution_count": null,
   "source": [],
   "metadata": {
    "collapsed": false
   },
   "id": "b8eea248ac50e9a1",
   "outputs": []
  }
 ],
 "metadata": {
  "kernelspec": {
   "display_name": "Python 3",
   "language": "python",
   "name": "python3"
  },
  "language_info": {
   "codemirror_mode": {
    "name": "ipython",
    "version": 2
   },
   "file_extension": ".py",
   "mimetype": "text/x-python",
   "name": "python",
   "nbconvert_exporter": "python",
   "pygments_lexer": "ipython2",
   "version": "2.7.6"
  }
 },
 "nbformat": 4,
 "nbformat_minor": 5
}
