{
 "cells": [
  {
   "cell_type": "code",
   "execution_count": 2,
   "id": "initial_id",
   "metadata": {
    "collapsed": true,
    "ExecuteTime": {
     "end_time": "2023-09-02T11:35:28.441195Z",
     "start_time": "2023-09-02T11:35:28.415031Z"
    }
   },
   "outputs": [
    {
     "data": {
      "text/plain": "   PassengerId  Survived  Pclass  \\\n0            1         0       3   \n1            2         1       1   \n2            3         1       3   \n3            4         1       1   \n4            5         0       3   \n\n                                                Name     Sex   Age  SibSp  \\\n0                            Braund, Mr. Owen Harris    male  22.0      1   \n1  Cumings, Mrs. John Bradley (Florence Briggs Th...  female  38.0      1   \n2                             Heikkinen, Miss. Laina  female  26.0      0   \n3       Futrelle, Mrs. Jacques Heath (Lily May Peel)  female  35.0      1   \n4                           Allen, Mr. William Henry    male  35.0      0   \n\n   Parch            Ticket     Fare Cabin Embarked  \n0      0         A/5 21171   7.2500   NaN        S  \n1      0          PC 17599  71.2833   C85        C  \n2      0  STON/O2. 3101282   7.9250   NaN        S  \n3      0            113803  53.1000  C123        S  \n4      0            373450   8.0500   NaN        S  ",
      "text/html": "<div>\n<style scoped>\n    .dataframe tbody tr th:only-of-type {\n        vertical-align: middle;\n    }\n\n    .dataframe tbody tr th {\n        vertical-align: top;\n    }\n\n    .dataframe thead th {\n        text-align: right;\n    }\n</style>\n<table border=\"1\" class=\"dataframe\">\n  <thead>\n    <tr style=\"text-align: right;\">\n      <th></th>\n      <th>PassengerId</th>\n      <th>Survived</th>\n      <th>Pclass</th>\n      <th>Name</th>\n      <th>Sex</th>\n      <th>Age</th>\n      <th>SibSp</th>\n      <th>Parch</th>\n      <th>Ticket</th>\n      <th>Fare</th>\n      <th>Cabin</th>\n      <th>Embarked</th>\n    </tr>\n  </thead>\n  <tbody>\n    <tr>\n      <th>0</th>\n      <td>1</td>\n      <td>0</td>\n      <td>3</td>\n      <td>Braund, Mr. Owen Harris</td>\n      <td>male</td>\n      <td>22.0</td>\n      <td>1</td>\n      <td>0</td>\n      <td>A/5 21171</td>\n      <td>7.2500</td>\n      <td>NaN</td>\n      <td>S</td>\n    </tr>\n    <tr>\n      <th>1</th>\n      <td>2</td>\n      <td>1</td>\n      <td>1</td>\n      <td>Cumings, Mrs. John Bradley (Florence Briggs Th...</td>\n      <td>female</td>\n      <td>38.0</td>\n      <td>1</td>\n      <td>0</td>\n      <td>PC 17599</td>\n      <td>71.2833</td>\n      <td>C85</td>\n      <td>C</td>\n    </tr>\n    <tr>\n      <th>2</th>\n      <td>3</td>\n      <td>1</td>\n      <td>3</td>\n      <td>Heikkinen, Miss. Laina</td>\n      <td>female</td>\n      <td>26.0</td>\n      <td>0</td>\n      <td>0</td>\n      <td>STON/O2. 3101282</td>\n      <td>7.9250</td>\n      <td>NaN</td>\n      <td>S</td>\n    </tr>\n    <tr>\n      <th>3</th>\n      <td>4</td>\n      <td>1</td>\n      <td>1</td>\n      <td>Futrelle, Mrs. Jacques Heath (Lily May Peel)</td>\n      <td>female</td>\n      <td>35.0</td>\n      <td>1</td>\n      <td>0</td>\n      <td>113803</td>\n      <td>53.1000</td>\n      <td>C123</td>\n      <td>S</td>\n    </tr>\n    <tr>\n      <th>4</th>\n      <td>5</td>\n      <td>0</td>\n      <td>3</td>\n      <td>Allen, Mr. William Henry</td>\n      <td>male</td>\n      <td>35.0</td>\n      <td>0</td>\n      <td>0</td>\n      <td>373450</td>\n      <td>8.0500</td>\n      <td>NaN</td>\n      <td>S</td>\n    </tr>\n  </tbody>\n</table>\n</div>"
     },
     "execution_count": 2,
     "metadata": {},
     "output_type": "execute_result"
    }
   ],
   "source": [
    "import pandas as pd  # 导入pandas库\n",
    "import numpy as np  # 导入numpy库\n",
    "\n",
    "df_titanic = pd.read_csv('./data/titanic/train.csv')  # 读取文件\n",
    "df_titanic.head()  # 显示前5行数据"
   ]
  },
  {
   "cell_type": "code",
   "execution_count": 3,
   "outputs": [],
   "source": [
    "df_titanic.Survived.value_counts()  # 输出分类值，及各个类别数目\n",
    "df_titanic['Age'] = df_titanic['Age'].fillna(0)"
   ],
   "metadata": {
    "collapsed": false,
    "ExecuteTime": {
     "end_time": "2023-09-02T11:36:12.053691Z",
     "start_time": "2023-09-02T11:36:12.022935Z"
    }
   },
   "id": "d597bae4adc820a"
  },
  {
   "cell_type": "code",
   "execution_count": 4,
   "outputs": [
    {
     "data": {
      "text/plain": "   PassengerId  Survived  Pclass  \\\n0            1         0       3   \n1            2         1       1   \n2            3         1       3   \n3            4         1       1   \n4            5         0       3   \n\n                                                Name   Age  SibSp  Parch  \\\n0                            Braund, Mr. Owen Harris  22.0      1      0   \n1  Cumings, Mrs. John Bradley (Florence Briggs Th...  38.0      1      0   \n2                             Heikkinen, Miss. Laina  26.0      0      0   \n3       Futrelle, Mrs. Jacques Heath (Lily May Peel)  35.0      1      0   \n4                           Allen, Mr. William Henry  35.0      0      0   \n\n             Ticket     Fare Cabin  Sex_female  Sex_male  Em_C  Em_Q  Em_S  \n0         A/5 21171   7.2500   NaN           0         1     0     0     1  \n1          PC 17599  71.2833   C85           1         0     1     0     0  \n2  STON/O2. 3101282   7.9250   NaN           1         0     0     0     1  \n3            113803  53.1000  C123           1         0     0     0     1  \n4            373450   8.0500   NaN           0         1     0     0     1  ",
      "text/html": "<div>\n<style scoped>\n    .dataframe tbody tr th:only-of-type {\n        vertical-align: middle;\n    }\n\n    .dataframe tbody tr th {\n        vertical-align: top;\n    }\n\n    .dataframe thead th {\n        text-align: right;\n    }\n</style>\n<table border=\"1\" class=\"dataframe\">\n  <thead>\n    <tr style=\"text-align: right;\">\n      <th></th>\n      <th>PassengerId</th>\n      <th>Survived</th>\n      <th>Pclass</th>\n      <th>Name</th>\n      <th>Age</th>\n      <th>SibSp</th>\n      <th>Parch</th>\n      <th>Ticket</th>\n      <th>Fare</th>\n      <th>Cabin</th>\n      <th>Sex_female</th>\n      <th>Sex_male</th>\n      <th>Em_C</th>\n      <th>Em_Q</th>\n      <th>Em_S</th>\n    </tr>\n  </thead>\n  <tbody>\n    <tr>\n      <th>0</th>\n      <td>1</td>\n      <td>0</td>\n      <td>3</td>\n      <td>Braund, Mr. Owen Harris</td>\n      <td>22.0</td>\n      <td>1</td>\n      <td>0</td>\n      <td>A/5 21171</td>\n      <td>7.2500</td>\n      <td>NaN</td>\n      <td>0</td>\n      <td>1</td>\n      <td>0</td>\n      <td>0</td>\n      <td>1</td>\n    </tr>\n    <tr>\n      <th>1</th>\n      <td>2</td>\n      <td>1</td>\n      <td>1</td>\n      <td>Cumings, Mrs. John Bradley (Florence Briggs Th...</td>\n      <td>38.0</td>\n      <td>1</td>\n      <td>0</td>\n      <td>PC 17599</td>\n      <td>71.2833</td>\n      <td>C85</td>\n      <td>1</td>\n      <td>0</td>\n      <td>1</td>\n      <td>0</td>\n      <td>0</td>\n    </tr>\n    <tr>\n      <th>2</th>\n      <td>3</td>\n      <td>1</td>\n      <td>3</td>\n      <td>Heikkinen, Miss. Laina</td>\n      <td>26.0</td>\n      <td>0</td>\n      <td>0</td>\n      <td>STON/O2. 3101282</td>\n      <td>7.9250</td>\n      <td>NaN</td>\n      <td>1</td>\n      <td>0</td>\n      <td>0</td>\n      <td>0</td>\n      <td>1</td>\n    </tr>\n    <tr>\n      <th>3</th>\n      <td>4</td>\n      <td>1</td>\n      <td>1</td>\n      <td>Futrelle, Mrs. Jacques Heath (Lily May Peel)</td>\n      <td>35.0</td>\n      <td>1</td>\n      <td>0</td>\n      <td>113803</td>\n      <td>53.1000</td>\n      <td>C123</td>\n      <td>1</td>\n      <td>0</td>\n      <td>0</td>\n      <td>0</td>\n      <td>1</td>\n    </tr>\n    <tr>\n      <th>4</th>\n      <td>5</td>\n      <td>0</td>\n      <td>3</td>\n      <td>Allen, Mr. William Henry</td>\n      <td>35.0</td>\n      <td>0</td>\n      <td>0</td>\n      <td>373450</td>\n      <td>8.0500</td>\n      <td>NaN</td>\n      <td>0</td>\n      <td>1</td>\n      <td>0</td>\n      <td>0</td>\n      <td>1</td>\n    </tr>\n  </tbody>\n</table>\n</div>"
     },
     "execution_count": 4,
     "metadata": {},
     "output_type": "execute_result"
    }
   ],
   "source": [
    "# 把类别型变量转换为哑变量\n",
    "a = pd.get_dummies(df_titanic['Sex'], prefix=\"Sex\")\n",
    "b = pd.get_dummies(df_titanic['Embarked'], prefix=\"Em\")\n",
    "# 把哑变量添加进dataframe\n",
    "frames = [df_titanic, a, b]\n",
    "df_titanic = pd.concat(frames, axis=1)\n",
    "df_titanic = df_titanic.drop(columns=['Sex', 'Embarked'])\n",
    "df_titanic.head()  # 显示新的dataframe"
   ],
   "metadata": {
    "collapsed": false,
    "ExecuteTime": {
     "end_time": "2023-09-02T12:05:56.243761Z",
     "start_time": "2023-09-02T12:05:56.219379Z"
    }
   },
   "id": "c5018de0e17bf50f"
  },
  {
   "cell_type": "code",
   "execution_count": 5,
   "outputs": [],
   "source": [
    "X = df_titanic.drop(['Survived', 'Name', 'Ticket', 'Cabin'], axis=1)  # 拿掉比较不相关的字段,构建特征集\n",
    "y = df_titanic.Survived.values  # 构建标签集\n",
    "y = y.reshape(-1, 1)  # -1是相对索引，等价于len(y)"
   ],
   "metadata": {
    "collapsed": false,
    "ExecuteTime": {
     "end_time": "2023-09-02T12:06:36.946271Z",
     "start_time": "2023-09-02T12:06:36.925661Z"
    }
   },
   "id": "ecec1cdef835e974"
  },
  {
   "cell_type": "code",
   "execution_count": 6,
   "outputs": [],
   "source": [
    "from sklearn.model_selection import train_test_split\n",
    "\n",
    "X_train, X_test, y_train, y_test = train_test_split(X, y, test_size=0.2)"
   ],
   "metadata": {
    "collapsed": false,
    "ExecuteTime": {
     "end_time": "2023-09-02T12:06:42.914675Z",
     "start_time": "2023-09-02T12:06:42.417770Z"
    }
   },
   "id": "4c8594b1e51dda95"
  },
  {
   "cell_type": "code",
   "execution_count": 7,
   "outputs": [],
   "source": [
    "from sklearn.preprocessing import StandardScaler  # 导入数据缩放器\n",
    "\n",
    "scaler = StandardScaler()  # 选择归一化数据缩放器，MinMaxScaler\n",
    "X_train = scaler.fit_transform(X_train)  # 特征归一化 训练集fit_transform\n",
    "X_test = scaler.transform(X_test)  # 特征归一化 测试集transform"
   ],
   "metadata": {
    "collapsed": false,
    "ExecuteTime": {
     "end_time": "2023-09-02T12:06:55.690870Z",
     "start_time": "2023-09-02T12:06:55.656083Z"
    }
   },
   "id": "bb5784d27e1a1a86"
  },
  {
   "cell_type": "code",
   "execution_count": 8,
   "outputs": [
    {
     "name": "stdout",
     "output_type": "stream",
     "text": [
      "SK-learn逻辑回归测试准确率 83.24%\n"
     ]
    },
    {
     "name": "stderr",
     "output_type": "stream",
     "text": [
      "/Users/ykdsg/miniforge3/envs/SmartInvest/lib/python3.11/site-packages/sklearn/utils/validation.py:1143: DataConversionWarning: A column-vector y was passed when a 1d array was expected. Please change the shape of y to (n_samples, ), for example using ravel().\n",
      "  y = column_or_1d(y, warn=True)\n"
     ]
    }
   ],
   "source": [
    "from sklearn.linear_model import LogisticRegression  #导入逻辑回归模型\n",
    "\n",
    "lr = LogisticRegression()  # lr,就代表是逻辑回归模型\n",
    "lr.fit(X_train, y_train)  # fit,就相当于是梯度下降\n",
    "print(\"SK-learn逻辑回归测试准确率 {:.2f}%\".format(lr.score(X_test, y_test) * 100))"
   ],
   "metadata": {
    "collapsed": false,
    "ExecuteTime": {
     "end_time": "2023-09-02T12:07:11.406218Z",
     "start_time": "2023-09-02T12:07:11.313626Z"
    }
   },
   "id": "f863ecc392f52e0d"
  },
  {
   "cell_type": "code",
   "execution_count": 9,
   "outputs": [],
   "source": [
    "# 首先定义一个sigmoid函数，输入Z，返回y'\n",
    "def sigmoid(z):\n",
    "    y_hat = 1 / (1 + np.exp(-z))\n",
    "    return y_hat"
   ],
   "metadata": {
    "collapsed": false,
    "ExecuteTime": {
     "end_time": "2023-09-02T12:10:35.382711Z",
     "start_time": "2023-09-02T12:10:35.372767Z"
    }
   },
   "id": "f2a4502bc0a01843"
  },
  {
   "cell_type": "code",
   "execution_count": 10,
   "outputs": [],
   "source": [
    "# 然后定义损失函数\n",
    "def cost_function(X, y, w, b):\n",
    "    y_hat = sigmoid(np.dot(X, w) + b)  # Sigmoid逻辑函数 + 线性函数（wX+b）得到y'\n",
    "    #     print (X.shape,w.shape)\n",
    "    loss = np.abs((y * np.log(y_hat) + (1 - y) * np.log(1 - y_hat)))  # 计算损失\n",
    "    #     cost = np.sum(loss) / X.shape[0]  # 返回整个数据集平均损失  \n",
    "    cost = np.mean(loss)  # 返回整个数据集平均损失\n",
    "    return cost"
   ],
   "metadata": {
    "collapsed": false,
    "ExecuteTime": {
     "end_time": "2023-09-02T12:10:37.863860Z",
     "start_time": "2023-09-02T12:10:37.855282Z"
    }
   },
   "id": "308cafa07c2af992"
  },
  {
   "cell_type": "code",
   "execution_count": 11,
   "outputs": [],
   "source": [
    "def gradient_descent(X, y, w, b, lr, iter):  #定义逻辑回归梯度下降函数\n",
    "    l_history = np.zeros(iter)  # 初始化记录梯度下降过程中误差值(损失)的数组\n",
    "    w_history = np.zeros((iter, w.shape[0], w.shape[1]))  # 初始化权重记录的数组\n",
    "    b_history = np.zeros(iter)  # 初始化记录梯度下降过程中偏置的数组  \n",
    "    for i in range(iter):  #进行机器训练的迭代\n",
    "        y_hat = sigmoid(np.dot(X, w) + b)  #Sigmoid逻辑函数+线性函数(wX+b)得到y'\n",
    "        loss = (y * np.log(y_hat) + (1 - y) * np.log(1 - y_hat))\n",
    "        derivative_w = np.dot(X.T, ((y_hat - y))) / X.shape[0]  # 给权重向量求导\n",
    "        derivative_b = np.sum(y_hat - y) / X.shape[0]  # 给偏置求导\n",
    "        w = w - lr * derivative_w  # 更新权重向量，lr即学习速率alpha\n",
    "        b = b - lr * derivative_b  # 更新偏置，lr即学习速率alpha\n",
    "        l_history[i] = cost_function(X, y, w, b)  # 梯度下降过程中的损失\n",
    "        print(\"轮次\", i + 1, \"当前轮训练集损失：\", l_history[i])\n",
    "        w_history[i] = w  # 梯度下降过程中权重的历史 请注意w_history和w的形状\n",
    "        b_history[i] = b  # 梯度下降过程中偏置的历史\n",
    "    return l_history, w_history, b_history"
   ],
   "metadata": {
    "collapsed": false,
    "ExecuteTime": {
     "end_time": "2023-09-02T12:12:26.404018Z",
     "start_time": "2023-09-02T12:12:26.395506Z"
    }
   },
   "id": "9590fe1edd4dd751"
  },
  {
   "cell_type": "code",
   "execution_count": 12,
   "outputs": [],
   "source": [
    "def predict(X, w, b):  # 定义预测函数\n",
    "    z = np.dot(X, w) + b  # 线性函数\n",
    "    y_hat = sigmoid(z)  # 逻辑函数转换\n",
    "    y_pred = np.zeros((y_hat.shape[0], 1))  # 初始化预测结果变量    \n",
    "    for i in range(y_hat.shape[0]):\n",
    "        if y_hat[i, 0] < 0.5:\n",
    "            y_pred[i, 0] = 0  # 如果预测概率小于0.5，输出分类0\n",
    "        else:\n",
    "            y_pred[i, 0] = 1  # 如果预测概率大于0.5，输出分类0\n",
    "    return y_pred  # 返回预测分类的结果"
   ],
   "metadata": {
    "collapsed": false,
    "ExecuteTime": {
     "end_time": "2023-09-02T12:13:06.049220Z",
     "start_time": "2023-09-02T12:13:06.029128Z"
    }
   },
   "id": "73613f4e48a0bd0b"
  },
  {
   "cell_type": "code",
   "execution_count": 13,
   "outputs": [],
   "source": [
    "def logistic_regression(X, y, w, b, lr, iter):  # 定义逻辑回归模型\n",
    "    l_history, w_history, b_history = gradient_descent(X, y, w, b, lr, iter)  #梯度下降\n",
    "    print(\"训练最终损失:\", l_history[-1])  # 打印最终损失\n",
    "    y_pred = predict(X, w_history[-1], b_history[-1])  # 进行预测\n",
    "    traning_acc = 100 - np.mean(np.abs(y_pred - y_train)) * 100  # 计算准确率\n",
    "    print(\"逻辑回归训练准确率: {:.2f}%\".format(traning_acc))  # 打印准确率\n",
    "    return l_history, w_history, b_history  # 返回训练历史记录"
   ],
   "metadata": {
    "collapsed": false,
    "ExecuteTime": {
     "end_time": "2023-09-02T12:13:12.853604Z",
     "start_time": "2023-09-02T12:13:12.835124Z"
    }
   },
   "id": "91b997ff0610f37c"
  },
  {
   "cell_type": "code",
   "execution_count": 18,
   "outputs": [],
   "source": [
    "#初始化参数\n",
    "dimension = X.shape[1]  # 这里的维度 len(X)是矩阵的行的数，维度是列的数目\n",
    "weight = np.full((dimension, 1), 0.1)  # 权重向量，向量一般是1D，但这里实际上创建了2D张量\n",
    "bias = 0  # 偏置值\n",
    "#初始化超参数\n",
    "alpha = 1  # 学习速率\n",
    "iterations = 50  # 迭代次数"
   ],
   "metadata": {
    "collapsed": false,
    "ExecuteTime": {
     "end_time": "2023-09-02T12:25:14.441408Z",
     "start_time": "2023-09-02T12:25:14.439445Z"
    }
   },
   "id": "6ef55cb9664076d6"
  },
  {
   "cell_type": "code",
   "execution_count": 19,
   "outputs": [
    {
     "name": "stdout",
     "output_type": "stream",
     "text": [
      "轮次 1 当前轮训练集损失： 0.5574358321488168\n",
      "轮次 2 当前轮训练集损失： 0.5153300237514687\n",
      "轮次 3 当前轮训练集损失： 0.49656597869016555\n",
      "轮次 4 当前轮训练集损失： 0.48616094381516595\n",
      "轮次 5 当前轮训练集损失： 0.4796115990301002\n",
      "轮次 6 当前轮训练集损失： 0.47515516771839134\n",
      "轮次 7 当前轮训练集损失： 0.47196611524735926\n",
      "轮次 8 当前轮训练集损失： 0.4696033618999216\n",
      "轮次 9 当前轮训练集损失： 0.46780740692718126\n",
      "轮次 10 当前轮训练集损失： 0.46641464870241794\n",
      "轮次 11 当前轮训练集损失： 0.46531668617986804\n",
      "轮次 12 当前轮训练集损失： 0.46443900750299455\n",
      "轮次 13 当前轮训练集损失： 0.4637289288837939\n",
      "轮次 14 当前轮训练集损失： 0.4631483466354237\n",
      "轮次 15 当前轮训练集损失： 0.46266917703477983\n",
      "轮次 16 当前轮训练集损失： 0.4622703833623684\n",
      "轮次 17 当前轮训练集损失： 0.4619359820199841\n",
      "轮次 18 当前轮训练集损失： 0.46165367381169137\n",
      "轮次 19 当前轮训练集损失： 0.46141388569371633\n",
      "轮次 20 当前轮训练集损失： 0.46120908834759045\n",
      "轮次 21 当前轮训练集损失： 0.4610333028017888\n",
      "轮次 22 当前轮训练集损失： 0.46088173888541983\n",
      "轮次 23 当前轮训练集损失： 0.4607505270381607\n",
      "轮次 24 当前轮训练集损失： 0.46063651715166265\n",
      "轮次 25 当前轮训练集损失： 0.46053712615019426\n",
      "轮次 26 当前轮训练集损失： 0.460450221419944\n",
      "轮次 27 当前轮训练集损失： 0.4603740308851917\n",
      "轮次 28 当前轮训练集损失： 0.46030707308432484\n",
      "轮次 29 当前轮训练集损失： 0.4602481023911409\n",
      "轮次 30 当前轮训练集损失： 0.4601960657997872\n",
      "轮次 31 当前轮训练集损失： 0.46015006860590213\n",
      "轮次 32 当前轮训练集损失： 0.4601093469800804\n",
      "轮次 33 当前轮训练集损失： 0.4600732459162005\n",
      "轮次 34 当前轮训练集损失： 0.4600412013970107\n",
      "轮次 35 当前轮训练集损失： 0.4600127258878937\n",
      "轮次 36 当前轮训练集损失： 0.45998739647169096\n",
      "轮次 37 当前轮训练集损失： 0.4599648450904772\n",
      "轮次 38 当前轮训练集损失： 0.45994475047688554\n",
      "轮次 39 当前轮训练集损失： 0.4599268314471382\n",
      "轮次 40 当前轮训练集损失： 0.4599108412970587\n",
      "轮次 41 当前轮训练集损失： 0.45989656309595095\n",
      "轮次 42 当前轮训练集损失： 0.4598838057150136\n",
      "轮次 43 当前轮训练集损失： 0.45987240045966665\n",
      "轮次 44 当前轮训练集损失： 0.4598621982008693\n",
      "轮次 45 当前轮训练集损失： 0.4598530669207941\n",
      "轮次 46 当前轮训练集损失： 0.4598448896042806\n",
      "轮次 47 当前轮训练集损失： 0.4598375624202632\n",
      "轮次 48 当前轮训练集损失： 0.45983099314754544\n",
      "轮次 49 当前轮训练集损失： 0.45982509980745057\n",
      "轮次 50 当前轮训练集损失： 0.4598198094724264\n",
      "训练最终损失: 0.4598198094724264\n",
      "逻辑回归训练准确率: 77.95%\n"
     ]
    }
   ],
   "source": [
    "# 用逻辑回归函数训练机器\n",
    "loss_history, weight_history, bias_history = logistic_regression(X_train, y_train,\n",
    "                                                                 weight, bias,\n",
    "                                                                 alpha, iterations)"
   ],
   "metadata": {
    "collapsed": false,
    "ExecuteTime": {
     "end_time": "2023-09-02T12:25:15.546100Z",
     "start_time": "2023-09-02T12:25:15.536770Z"
    }
   },
   "id": "2be84b4500532fc7"
  },
  {
   "cell_type": "code",
   "execution_count": 20,
   "outputs": [
    {
     "name": "stdout",
     "output_type": "stream",
     "text": [
      "逻辑回归测试准确率: 83.24%\n"
     ]
    }
   ],
   "source": [
    "y_pred = predict(X_test, weight_history[-1], bias_history[-1])  # 预测测试集\n",
    "testing_acc = 100 - np.mean(np.abs(y_pred - y_test)) * 100  # 计算准确率\n",
    "print(\"逻辑回归测试准确率: {:.2f}%\".format(testing_acc))"
   ],
   "metadata": {
    "collapsed": false,
    "ExecuteTime": {
     "end_time": "2023-09-02T12:25:23.215165Z",
     "start_time": "2023-09-02T12:25:23.204942Z"
    }
   },
   "id": "f8b3ca798e45d17b"
  },
  {
   "cell_type": "code",
   "execution_count": 21,
   "outputs": [
    {
     "data": {
      "text/plain": "<Figure size 640x480 with 1 Axes>",
      "image/png": "[encoded data removed]"
     },
     "metadata": {},
     "output_type": "display_data"
    }
   ],
   "source": [
    "import matplotlib.pyplot as plt  # 导入绘图工具\n",
    "\n",
    "loss_history_test = np.zeros(iterations)  # 初始化历史损失\n",
    "for i in range(iterations):  #求训练过程中不同参数带来的测试集损失\n",
    "    loss_history_test[i] = cost_function(X_test, y_test, weight_history[i], bias_history[i])\n",
    "index = np.arange(0, iterations, 1)\n",
    "plt.plot(index, loss_history, c='blue', linestyle='solid')\n",
    "plt.plot(index, loss_history_test, c='red', linestyle='dashed')\n",
    "plt.legend([\"Training Loss\", \"Test Loss\"])\n",
    "plt.xlabel(\"Number of Iteration\")\n",
    "plt.ylabel(\"Cost\")\n",
    "plt.show()  # 同时显示显示训练集和测试集损失曲线"
   ],
   "metadata": {
    "collapsed": false,
    "ExecuteTime": {
     "end_time": "2023-09-02T12:25:24.018798Z",
     "start_time": "2023-09-02T12:25:23.948235Z"
    }
   },
   "id": "b23d5c355a40df4c"
  },
  {
   "cell_type": "code",
   "execution_count": null,
   "outputs": [],
   "source": [],
   "metadata": {
    "collapsed": false
   },
   "id": "62917172084bee68"
  }
 ],
 "metadata": {
  "kernelspec": {
   "display_name": "Python 3",
   "language": "python",
   "name": "python3"
  },
  "language_info": {
   "codemirror_mode": {
    "name": "ipython",
    "version": 2
   },
   "file_extension": ".py",
   "mimetype": "text/x-python",
   "name": "python",
   "nbconvert_exporter": "python",
   "pygments_lexer": "ipython2",
   "version": "2.7.6"
  }
 },
 "nbformat": 4,
 "nbformat_minor": 5
}
